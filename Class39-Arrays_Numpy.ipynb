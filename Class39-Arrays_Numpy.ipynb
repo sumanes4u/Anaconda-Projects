{
 "cells": [
  {
   "cell_type": "code",
   "execution_count": 44,
   "metadata": {
    "collapsed": true
   },
   "outputs": [],
   "source": [
    "# Arrays - similar list but in this you can only store one type data. \n",
    "# numpy"
   ]
  },
  {
   "cell_type": "code",
   "execution_count": null,
   "metadata": {
    "collapsed": true
   },
   "outputs": [],
   "source": [
    "type code    size\n",
    "\n",
    "'b' - signed integer - 1 \n",
    "'B' - unsigned integer - 1\n",
    "'i' - signed integer - 2 \n",
    "'I' - unsigned integer - 2\n",
    "'l' - signed integer - 4\n",
    "'L' - unsigned integer - 4\n",
    "'f' - floating point - 4\n",
    "'d' - double precision floating point - 8\n",
    "'u' - unicode character  - 2"
   ]
  },
  {
   "cell_type": "code",
   "execution_count": 2,
   "metadata": {
    "collapsed": true
   },
   "outputs": [],
   "source": [
    "# arrayname = array(type code,[elements])"
   ]
  },
  {
   "cell_type": "code",
   "execution_count": null,
   "metadata": {
    "collapsed": true
   },
   "outputs": [],
   "source": [
    "tuple1 = (1,2,3,4)\n",
    "arrayname = array('i',[1,2,3,4])"
   ]
  },
  {
   "cell_type": "code",
   "execution_count": 46,
   "metadata": {
    "collapsed": true
   },
   "outputs": [],
   "source": [
    "list = [1,'a',20,'hi']"
   ]
  },
  {
   "cell_type": "code",
   "execution_count": 5,
   "metadata": {
    "collapsed": true
   },
   "outputs": [],
   "source": [
    "from array import *\n",
    "a = array('i',[4,6,2,9]) # type of integer array"
   ]
  },
  {
   "cell_type": "code",
   "execution_count": 6,
   "metadata": {},
   "outputs": [
    {
     "data": {
      "text/plain": [
       "array('i', [4, 6, 2, 9])"
      ]
     },
     "execution_count": 6,
     "metadata": {},
     "output_type": "execute_result"
    }
   ],
   "source": [
    "a"
   ]
  },
  {
   "cell_type": "code",
   "execution_count": 13,
   "metadata": {
    "collapsed": true
   },
   "outputs": [],
   "source": [
    "# float type array, f , d = double precision floating point\n",
    "\n",
    "arr = array('d',[1.5,-2.2,3,5.75])"
   ]
  },
  {
   "cell_type": "code",
   "execution_count": 8,
   "metadata": {},
   "outputs": [
    {
     "data": {
      "text/plain": [
       "array('d', [1.5, -2.2, 3.0, 5.75])"
      ]
     },
     "execution_count": 8,
     "metadata": {},
     "output_type": "execute_result"
    }
   ],
   "source": [
    "arr"
   ]
  },
  {
   "cell_type": "code",
   "execution_count": 9,
   "metadata": {
    "collapsed": true
   },
   "outputs": [],
   "source": [
    "# printing an array"
   ]
  },
  {
   "cell_type": "code",
   "execution_count": 45,
   "metadata": {},
   "outputs": [
    {
     "name": "stdout",
     "output_type": "stream",
     "text": [
      "4\n",
      "6\n",
      "2\n",
      "9\n"
     ]
    }
   ],
   "source": [
    "for el in a:\n",
    "    print (el)"
   ]
  },
  {
   "cell_type": "code",
   "execution_count": 12,
   "metadata": {},
   "outputs": [
    {
     "name": "stdout",
     "output_type": "stream",
     "text": [
      "1.5\n",
      "-2.2\n",
      "3.0\n",
      "5.75\n"
     ]
    }
   ],
   "source": [
    "for element in arr:\n",
    "    print (element)"
   ]
  },
  {
   "cell_type": "code",
   "execution_count": 14,
   "metadata": {},
   "outputs": [
    {
     "name": "stdout",
     "output_type": "stream",
     "text": [
      "The array element are : \n",
      "a\n",
      "b\n",
      "c\n",
      "d\n",
      "e\n"
     ]
    }
   ],
   "source": [
    "# character array\n",
    "\n",
    "from array import *\n",
    "arr = array('u',['a','b','c','d','e'])\n",
    "\n",
    "print ('The array element are : ')\n",
    "for ch in arr:\n",
    "    print (ch)"
   ]
  },
  {
   "cell_type": "code",
   "execution_count": 25,
   "metadata": {},
   "outputs": [
    {
     "name": "stdout",
     "output_type": "stream",
     "text": [
      "4.5\n",
      "7.5\n",
      "-10.5\n",
      "12.0\n"
     ]
    }
   ],
   "source": [
    "# creating array from another array\n",
    "from array import *\n",
    "\n",
    "arr3 = array('d',[1.5,2.5,-3.5,4])\n",
    "\n",
    "arr4 = array(arr3.typecode,(a*3 for a in arr3))\n",
    "\n",
    "for i in arr4:\n",
    "    print (i)"
   ]
  },
  {
   "cell_type": "code",
   "execution_count": 26,
   "metadata": {
    "collapsed": true
   },
   "outputs": [],
   "source": [
    "# Indexing and Slicing on Arrays"
   ]
  },
  {
   "cell_type": "code",
   "execution_count": null,
   "metadata": {
    "collapsed": true
   },
   "outputs": [],
   "source": [
    "10 20 30 40 50\n",
    "0   1  2  3  4"
   ]
  },
  {
   "cell_type": "code",
   "execution_count": 27,
   "metadata": {},
   "outputs": [
    {
     "name": "stdout",
     "output_type": "stream",
     "text": [
      "10 20 30 40 50 "
     ]
    }
   ],
   "source": [
    "# ex \n",
    "\n",
    "from array import *\n",
    "x = array('i', [10,20,30,40,50]) # type integer\n",
    "\n",
    "n = len(x)\n",
    "\n",
    "for i in range(n):\n",
    "    print (x[i], end=' ')"
   ]
  },
  {
   "cell_type": "code",
   "execution_count": 28,
   "metadata": {},
   "outputs": [
    {
     "name": "stdout",
     "output_type": "stream",
     "text": [
      "10 20 30 40 50 "
     ]
    }
   ],
   "source": [
    "# \n",
    "\n",
    "from array import *\n",
    "x = array('i', [10,20,30,40,50])\n",
    "\n",
    "n = len(x)\n",
    "\n",
    "i = 0\n",
    "while i < n:\n",
    "    print (x[i], end = ' ')\n",
    "    i += 1\n"
   ]
  },
  {
   "cell_type": "code",
   "execution_count": 30,
   "metadata": {},
   "outputs": [
    {
     "name": "stdout",
     "output_type": "stream",
     "text": [
      "array('i', [20, 30, 40])\n",
      "array('i', [10, 20, 30, 40, 50])\n",
      "array('i', [10, 20, 30, 40])\n"
     ]
    }
   ],
   "source": [
    "y = x[1:4]\n",
    "print (y)\n",
    "\n",
    "y = x[0:]\n",
    "print (y)\n",
    "\n",
    "y = x[:4]\n",
    "print (y)"
   ]
  },
  {
   "cell_type": "code",
   "execution_count": 32,
   "metadata": {},
   "outputs": [
    {
     "name": "stdout",
     "output_type": "stream",
     "text": [
      "30\n",
      "40\n",
      "50\n"
     ]
    }
   ],
   "source": [
    "# ex \n",
    "\n",
    "from array import *\n",
    "x = array('i',[10,20,30,40,50,60,70])\n",
    "\n",
    "for i in x[2:5]: # slicing a portion of the array \n",
    "    print (i)"
   ]
  },
  {
   "cell_type": "code",
   "execution_count": null,
   "metadata": {
    "collapsed": true
   },
   "outputs": [],
   "source": []
  },
  {
   "cell_type": "code",
   "execution_count": 33,
   "metadata": {
    "collapsed": true
   },
   "outputs": [],
   "source": [
    "# processing the arrays "
   ]
  },
  {
   "cell_type": "code",
   "execution_count": 36,
   "metadata": {},
   "outputs": [
    {
     "name": "stdout",
     "output_type": "stream",
     "text": [
      "orig array:  array('i', [10, 20, 30, 40, 50])\n",
      "modified array:  array('i', [10, 20, 30, 40, 50, 60, 70])\n",
      "modified array:  array('i', [10, 99, 20, 30, 40, 50, 60, 70])\n",
      "modified array:  array('i', [10, 99, 30, 40, 50, 60, 70])\n",
      "modified array:  array('i', [10, 99, 30, 40, 50, 60])\n",
      "List:  [10, 99, 30, 40, 50, 60]\n",
      "Array:  array('i', [10, 99, 30, 40, 50, 60])\n"
     ]
    }
   ],
   "source": [
    "# ex\n",
    "\n",
    "from array import *\n",
    "\n",
    "arr = array('i',[10,20,30,40,50])\n",
    "print ('orig array: ', arr)\n",
    "\n",
    "arr.append(60)\n",
    "arr.append(70)\n",
    "\n",
    "print ('modified array: ', arr)\n",
    "\n",
    "arr.insert(1,99)\n",
    "print ('modified array: ', arr)\n",
    "\n",
    "arr.remove(20)\n",
    "print ('modified array: ', arr)\n",
    "\n",
    "n = arr.pop()\n",
    "print ('modified array: ', arr)\n",
    "\n",
    "# convert an array into a list using tolist()\n",
    "lst = arr.tolist()\n",
    "print ('List: ', lst)\n",
    "print ('Array: ', arr)\n"
   ]
  },
  {
   "cell_type": "code",
   "execution_count": 1,
   "metadata": {},
   "outputs": [
    {
     "name": "stdout",
     "output_type": "stream",
     "text": [
      "Enter marks: 10 20 30\n",
      "10\n",
      "20\n",
      "30\n",
      "Total marks:  60\n",
      "Percentage:  20.0\n"
     ]
    }
   ],
   "source": [
    "# ex \n",
    "\n",
    "#from array import *\n",
    "str = input('Enter marks: ').split(' ')\n",
    "\n",
    "marks = [ int(num) for num in str] \n",
    "type(marks)\n",
    "\n",
    "sum = 0 \n",
    "for x in marks:\n",
    "    print (x)\n",
    "    sum += x\n",
    "print ('Total marks: ', sum)\n",
    "\n",
    "n = len(marks)\n",
    "percent = sum/n\n",
    "print ('Percentage: ', percent)"
   ]
  },
  {
   "cell_type": "code",
   "execution_count": 52,
   "metadata": {},
   "outputs": [
    {
     "name": "stdout",
     "output_type": "stream",
     "text": [
      "How many elements: 5\n",
      "Enter element: 20\n",
      "Enter element: 10\n",
      "Enter element: 50\n",
      "Enter element: 30\n",
      "Enter element: 40\n",
      "Original array:  array('i', [20, 10, 50, 30, 40])\n",
      "Sorted array=  array('i', [10, 20, 30, 40, 50])\n"
     ]
    }
   ],
   "source": [
    "# sorting an array using Bubble sort technique\n",
    "\n",
    "x = array('i',[]) # empty list\n",
    "\n",
    "print ('How many elements: ', end='')\n",
    "n = int(input()) # getting a user input\n",
    "\n",
    "for i in range(n): # how many elements\n",
    "    print ('Enter element: ', end='')\n",
    "    x.append(int(input())) # populating array\n",
    "    \n",
    "print ('Original array: ', x)\n",
    "\n",
    "# bubble sorting \n",
    "flag = False # when the swapping is done, flag becomes True\n",
    "for i in range(n-1): # i is from 0 to n-1\n",
    "    for j in range(n-1-i): # j is from 0 to one element lesser than i\n",
    "        if x[j] > x[j+1]: # if 1st element is bigger than the 2nd one\n",
    "            t = x[j] # swap j and j+1 elements\n",
    "            x[j] = x[j+1]\n",
    "            x[j+1] = t\n",
    "            flag = True # swapping done, hence flag is True. \n",
    "    if flag == False: # no swapping is done, array is in sorted order\n",
    "            break # come out of loop. \n",
    "    else:\n",
    "        flag = False # assing initial value to flag. \n",
    "print ('Sorted array= ', x)\n"
   ]
  },
  {
   "cell_type": "code",
   "execution_count": 56,
   "metadata": {},
   "outputs": [
    {
     "name": "stdout",
     "output_type": "stream",
     "text": [
      "How many elements? 5\n",
      "Enter element: 20\n",
      "Enter element: 40\n",
      "Enter element: 20\n",
      "Enter element: 55\n",
      "Enter element: 10\n",
      "Original array:  array('i', [20, 40, 20, 55, 10])\n",
      "20\n",
      "Found at Position=  1\n",
      "Found at Position=  3\n"
     ]
    }
   ],
   "source": [
    "# ex\n",
    "from array import *\n",
    "\n",
    "x = array('i', [])\n",
    "\n",
    "print ('How many elements? ', end='')\n",
    "n = int(input()) \n",
    "\n",
    "for i in range(n):\n",
    "    print ('Enter element: ', end='')\n",
    "    #x.append(int(input())) # add the element to the array x \n",
    "    x.append(int(input()))\n",
    "    \n",
    "print ('Original array: ', x)\n",
    "\n",
    "s = int(input()) # searching an element\n",
    "\n",
    "flag = False\n",
    "\n",
    "for i in range(len(x)):\n",
    "    if s == x[i]:\n",
    "        print ('Found at Position= ', i+1)\n",
    "        flag = True\n",
    "    if flag == False:\n",
    "        print ('Not found in the array')"
   ]
  },
  {
   "cell_type": "code",
   "execution_count": null,
   "metadata": {
    "collapsed": true
   },
   "outputs": [],
   "source": [
    "# Types of Arrays\n",
    "\n",
    "- Single Dimensional arrays\n",
    "- Multi-Dimensional array "
   ]
  },
  {
   "cell_type": "code",
   "execution_count": 58,
   "metadata": {
    "collapsed": true
   },
   "outputs": [],
   "source": [
    "marks = array('i',[50,60,70,80])"
   ]
  },
  {
   "cell_type": "code",
   "execution_count": 1,
   "metadata": {},
   "outputs": [
    {
     "ename": "NameError",
     "evalue": "name 'array' is not defined",
     "output_type": "error",
     "traceback": [
      "\u001b[1;31m---------------------------------------------------------------------------\u001b[0m",
      "\u001b[1;31mNameError\u001b[0m                                 Traceback (most recent call last)",
      "\u001b[1;32m<ipython-input-1-8fbdb2cf0a57>\u001b[0m in \u001b[0;36m<module>\u001b[1;34m()\u001b[0m\n\u001b[1;32m----> 1\u001b[1;33m marks = array([50,60,70,80], # first student\n\u001b[0m\u001b[0;32m      2\u001b[0m              \u001b[1;33m[\u001b[0m\u001b[1;36m40\u001b[0m\u001b[1;33m,\u001b[0m\u001b[1;36m70\u001b[0m\u001b[1;33m,\u001b[0m\u001b[1;36m70\u001b[0m\u001b[1;33m,\u001b[0m\u001b[1;36m80\u001b[0m\u001b[1;33m]\u001b[0m\u001b[1;33m,\u001b[0m \u001b[1;31m# second student\u001b[0m\u001b[1;33m\u001b[0m\u001b[0m\n\u001b[0;32m      3\u001b[0m              [30,60,70,80]) # third student\n",
      "\u001b[1;31mNameError\u001b[0m: name 'array' is not defined"
     ]
    }
   ],
   "source": [
    "marks = array([50,60,70,80], # first student\n",
    "             [40,70,70,80], # second student\n",
    "             [30,60,70,80]) # third student"
   ]
  },
  {
   "cell_type": "code",
   "execution_count": 59,
   "metadata": {
    "collapsed": true
   },
   "outputs": [],
   "source": [
    "# numpy "
   ]
  },
  {
   "cell_type": "code",
   "execution_count": 60,
   "metadata": {},
   "outputs": [
    {
     "name": "stdout",
     "output_type": "stream",
     "text": [
      "[10 20 30 40 50]\n"
     ]
    }
   ],
   "source": [
    "import numpy\n",
    "arr = numpy.array([10,20,30,40,50])\n",
    "print (arr)"
   ]
  },
  {
   "cell_type": "code",
   "execution_count": 61,
   "metadata": {},
   "outputs": [
    {
     "name": "stdout",
     "output_type": "stream",
     "text": [
      "[10 20 30 40 50]\n"
     ]
    }
   ],
   "source": [
    "import numpy as np\n",
    "arr = np.array([10,20,30,40,50])\n",
    "print (arr)"
   ]
  },
  {
   "cell_type": "code",
   "execution_count": 62,
   "metadata": {
    "collapsed": true
   },
   "outputs": [],
   "source": [
    "# functions\n",
    "# array()\n",
    "# linspace()\n",
    "# logspace()\n",
    "# arange()\n",
    "# zeros() and ones() functions"
   ]
  },
  {
   "cell_type": "code",
   "execution_count": null,
   "metadata": {
    "collapsed": true
   },
   "outputs": [],
   "source": []
  }
 ],
 "metadata": {
  "kernelspec": {
   "display_name": "Python 3",
   "language": "python",
   "name": "python3"
  },
  "language_info": {
   "codemirror_mode": {
    "name": "ipython",
    "version": 3
   },
   "file_extension": ".py",
   "mimetype": "text/x-python",
   "name": "python",
   "nbconvert_exporter": "python",
   "pygments_lexer": "ipython3",
   "version": "3.6.1"
  }
 },
 "nbformat": 4,
 "nbformat_minor": 2
}
