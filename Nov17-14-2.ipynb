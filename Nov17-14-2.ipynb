{
 "cells": [
  {
   "cell_type": "code",
   "execution_count": 1,
   "metadata": {},
   "outputs": [
    {
     "name": "stdout",
     "output_type": "stream",
     "text": [
      "enter the input of \"Q\" : A\n",
      "A\n",
      "enter the input of \"Q\" : A\n",
      "AA\n",
      "enter the input of \"Q\" : A\n",
      "AAA\n",
      "enter the input of \"Q\" : Q\n",
      "You have entered to quit\n"
     ]
    }
   ],
   "source": [
    "total = 0\n",
    "items = ''\n",
    "def adding_report(report='T'):\n",
    "    global total\n",
    "    global items\n",
    "    while True:\n",
    "        var1 = input('enter the input of \"Q\" : ')\n",
    "        if var1.isdigit() == True:\n",
    "            total = total + int(var1)\n",
    "            print (total)\n",
    "        elif var1 == 'A':\n",
    "            items += var1\n",
    "            print (items)\n",
    "        elif var1 == \"Q\":\n",
    "            print ('You have entered to quit')\n",
    "            break\n",
    "\n",
    "adding_report()"
   ]
  },
  {
   "cell_type": "code",
   "execution_count": 2,
   "metadata": {},
   "outputs": [
    {
     "name": "stdout",
     "output_type": "stream",
     "text": [
      "enter the input of \"Q\" : 10\n",
      "10\n",
      "enter the input of \"Q\" : 20\n",
      "30\n",
      "enter the input of \"Q\" : A\n",
      "AAAA\n",
      "enter the input of \"Q\" : A\n",
      "AAAAA\n",
      "enter the input of \"Q\" : Q\n",
      "You have entered to quit\n"
     ]
    }
   ],
   "source": [
    "adding_report()"
   ]
  },
  {
   "cell_type": "code",
   "execution_count": 3,
   "metadata": {
    "collapsed": true
   },
   "outputs": [],
   "source": [
    "# global vs local"
   ]
  },
  {
   "cell_type": "code",
   "execution_count": 4,
   "metadata": {
    "collapsed": true
   },
   "outputs": [],
   "source": [
    "a = 2"
   ]
  },
  {
   "cell_type": "code",
   "execution_count": 5,
   "metadata": {},
   "outputs": [
    {
     "data": {
      "text/plain": [
       "2"
      ]
     },
     "execution_count": 5,
     "metadata": {},
     "output_type": "execute_result"
    }
   ],
   "source": [
    "a"
   ]
  },
  {
   "cell_type": "code",
   "execution_count": 6,
   "metadata": {
    "collapsed": true
   },
   "outputs": [],
   "source": [
    "def func():\n",
    "    print (a)"
   ]
  },
  {
   "cell_type": "code",
   "execution_count": 7,
   "metadata": {},
   "outputs": [
    {
     "name": "stdout",
     "output_type": "stream",
     "text": [
      "2\n"
     ]
    }
   ],
   "source": [
    "func()"
   ]
  },
  {
   "cell_type": "code",
   "execution_count": 15,
   "metadata": {
    "collapsed": true
   },
   "outputs": [],
   "source": [
    "def func():\n",
    "    #print (a)\n",
    "    global a\n",
    "    a = 10 # a is not local\n",
    "    print (a)"
   ]
  },
  {
   "cell_type": "code",
   "execution_count": 16,
   "metadata": {},
   "outputs": [
    {
     "name": "stdout",
     "output_type": "stream",
     "text": [
      "10\n"
     ]
    }
   ],
   "source": [
    "func()"
   ]
  },
  {
   "cell_type": "code",
   "execution_count": 17,
   "metadata": {},
   "outputs": [
    {
     "data": {
      "text/plain": [
       "10"
      ]
     },
     "execution_count": 17,
     "metadata": {},
     "output_type": "execute_result"
    }
   ],
   "source": [
    "a"
   ]
  },
  {
   "cell_type": "code",
   "execution_count": null,
   "metadata": {
    "collapsed": true
   },
   "outputs": [],
   "source": []
  }
 ],
 "metadata": {
  "kernelspec": {
   "display_name": "Python 3",
   "language": "python",
   "name": "python3"
  },
  "language_info": {
   "codemirror_mode": {
    "name": "ipython",
    "version": 3
   },
   "file_extension": ".py",
   "mimetype": "text/x-python",
   "name": "python",
   "nbconvert_exporter": "python",
   "pygments_lexer": "ipython3",
   "version": "3.6.1"
  }
 },
 "nbformat": 4,
 "nbformat_minor": 2
}
