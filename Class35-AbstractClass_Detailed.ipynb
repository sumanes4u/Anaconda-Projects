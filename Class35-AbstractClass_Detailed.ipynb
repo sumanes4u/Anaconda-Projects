{
 "cells": [
  {
   "cell_type": "code",
   "execution_count": 2,
   "metadata": {
    "collapsed": true
   },
   "outputs": [],
   "source": [
    "# The following is an abstract class\n",
    "\n",
    "from abc import *\n",
    "class Car(ABC):\n",
    "    def __init__(self,regno):\n",
    "        self.regno = regno\n",
    "        \n",
    "    def openTank(self):\n",
    "        print ('Fill the fuel into the tank')\n",
    "        print ('for the car with regno', self.regno)\n",
    "        \n",
    "    @abstractmethod\n",
    "    def steering(self):\n",
    "        pass # dont do anything\n",
    "    \n",
    "    @abstractmethod\n",
    "    def braking(self):\n",
    "        pass"
   ]
  },
  {
   "cell_type": "code",
   "execution_count": 4,
   "metadata": {},
   "outputs": [],
   "source": [
    "# creating a sub class for abstract Car Class\n",
    "from abs import Car\n",
    "\n",
    "class Honda(Car):\n",
    "    def steering(self):\n",
    "        print ('Honda uses manual steering')\n",
    "        print ('Drive the car')\n",
    "        \n",
    "    def braking(self):\n",
    "        print ('Honda uses hydraulic brakes')\n",
    "        print ('Apply brakes and stop it')\n",
    "        "
   ]
  },
  {
   "cell_type": "code",
   "execution_count": 5,
   "metadata": {
    "collapsed": true
   },
   "outputs": [],
   "source": [
    "h = Honda(1001)"
   ]
  },
  {
   "cell_type": "code",
   "execution_count": 6,
   "metadata": {},
   "outputs": [
    {
     "name": "stdout",
     "output_type": "stream",
     "text": [
      "Fill the fuel into the tank\n",
      "for the car with regno 1001\n"
     ]
    }
   ],
   "source": [
    "h.openTank()"
   ]
  },
  {
   "cell_type": "code",
   "execution_count": 7,
   "metadata": {},
   "outputs": [
    {
     "name": "stdout",
     "output_type": "stream",
     "text": [
      "Honda uses manual steering\n",
      "Drive the car\n"
     ]
    }
   ],
   "source": [
    "h.steering()"
   ]
  },
  {
   "cell_type": "code",
   "execution_count": 8,
   "metadata": {},
   "outputs": [
    {
     "name": "stdout",
     "output_type": "stream",
     "text": [
      "Honda uses hydraulic brakes\n",
      "Apply brakes and stop it\n"
     ]
    }
   ],
   "source": [
    "h.braking()"
   ]
  },
  {
   "cell_type": "code",
   "execution_count": 19,
   "metadata": {},
   "outputs": [],
   "source": [
    "from abs import Car\n",
    "\n",
    "class Audi(Car):\n",
    "        def steering(self):\n",
    "            print ('Audi uses power steering')\n",
    "            print ('Drive the car')\n",
    "        \n",
    "        def braking(self):\n",
    "            print ('Honda uses hydraulic brakes')\n",
    "            print ('Apply brakes and stop it')"
   ]
  },
  {
   "cell_type": "code",
   "execution_count": 20,
   "metadata": {
    "collapsed": true
   },
   "outputs": [],
   "source": [
    "a = Audi(1002)"
   ]
  },
  {
   "cell_type": "code",
   "execution_count": 21,
   "metadata": {},
   "outputs": [
    {
     "name": "stdout",
     "output_type": "stream",
     "text": [
      "Honda uses hydraulic brakes\n",
      "Apply brakes and stop it\n"
     ]
    }
   ],
   "source": [
    "a.braking()"
   ]
  },
  {
   "cell_type": "code",
   "execution_count": 22,
   "metadata": {
    "collapsed": true
   },
   "outputs": [],
   "source": [
    "from abs import Car\n",
    "\n",
    "class Audi(Car):\n",
    "        def steering(self):\n",
    "            print ('Audi uses power steering')\n",
    "            print ('Drive the car')\n",
    "\n",
    "        def braking(self):\n",
    "            pass\n",
    "a = Audi(1001)\n",
    "a.braking()"
   ]
  },
  {
   "cell_type": "code",
   "execution_count": 23,
   "metadata": {
    "collapsed": true
   },
   "outputs": [],
   "source": [
    "# Interfaces "
   ]
  },
  {
   "cell_type": "code",
   "execution_count": null,
   "metadata": {
    "collapsed": true
   },
   "outputs": [],
   "source": [
    "# Methods \n",
    "1) abstract methods\n",
    "2) concrete methods"
   ]
  },
  {
   "cell_type": "code",
   "execution_count": 24,
   "metadata": {
    "collapsed": true
   },
   "outputs": [],
   "source": [
    "class Oracle:\n",
    "    def connect(self):\n",
    "        print ('Connecting to Oracle Database...')\n",
    "        \n",
    "    def disconnect(self):\n",
    "        print ('Diconnected from Oracle')"
   ]
  },
  {
   "cell_type": "code",
   "execution_count": 29,
   "metadata": {
    "collapsed": true
   },
   "outputs": [],
   "source": [
    "class Myclass(ABC): # interace \n",
    "    def connect(self):\n",
    "        pass\n",
    "    def disconnect(self):\n",
    "        pass"
   ]
  },
  {
   "cell_type": "code",
   "execution_count": 27,
   "metadata": {
    "collapsed": true
   },
   "outputs": [],
   "source": [
    "class Oracle(Myclass):\n",
    "    def connect(self):\n",
    "        print ('Connecting to Oracle database')\n",
    "    \n",
    "    def disconnect(self):\n",
    "        print ('Disconnected from Oracle Database')"
   ]
  },
  {
   "cell_type": "code",
   "execution_count": 30,
   "metadata": {
    "collapsed": true
   },
   "outputs": [],
   "source": [
    "class Sybase(Myclass):\n",
    "    def connect(self):\n",
    "        print ('Connecting to Sybase database ')\n",
    "        \n",
    "    def disconnect(self):\n",
    "        print ('Disconnected from Sybase database')"
   ]
  },
  {
   "cell_type": "code",
   "execution_count": 32,
   "metadata": {},
   "outputs": [
    {
     "name": "stdout",
     "output_type": "stream",
     "text": [
      "Enter database name: Sybase\n",
      "Connecting to Sybase database \n",
      "Disconnected from Sybase database\n"
     ]
    }
   ],
   "source": [
    "class Database:\n",
    "    str = input('Enter database name: ')\n",
    "    \n",
    "    classname = globals()[str]\n",
    "    \n",
    "    # create an object to that class\n",
    "    x = classname()\n",
    "    \n",
    "    x.connect()\n",
    "    x.disconnect()"
   ]
  },
  {
   "cell_type": "code",
   "execution_count": 33,
   "metadata": {
    "collapsed": true
   },
   "outputs": [],
   "source": [
    "from abc import ABCMeta,abstractmethod\n",
    "\n",
    "class Animal:\n",
    "    __metaclass__ = ABCMeta\n",
    "    \n",
    "    @abstractmethod    \n",
    "    def say_something(self):\n",
    "        pass\n",
    "    \n"
   ]
  },
  {
   "cell_type": "code",
   "execution_count": 38,
   "metadata": {
    "collapsed": true
   },
   "outputs": [],
   "source": [
    "class Cat(Animal):\n",
    "    def say_something(self):\n",
    "        #return 'Miauuuu...'\n",
    "        pass"
   ]
  },
  {
   "cell_type": "code",
   "execution_count": 39,
   "metadata": {
    "collapsed": true
   },
   "outputs": [],
   "source": [
    "a = Cat()"
   ]
  },
  {
   "cell_type": "code",
   "execution_count": 46,
   "metadata": {},
   "outputs": [
    {
     "name": "stdout",
     "output_type": "stream",
     "text": [
      "Hello, this is send to printer\n",
      "Printing completed on IBM printer\n"
     ]
    }
   ],
   "source": [
    "from abc import *\n",
    "\n",
    "# create an interface\n",
    "\n",
    "class Printer(ABC):\n",
    "    def printit(self,text):\n",
    "        pass\n",
    "    \n",
    "    def disconnect(self):\n",
    "        pass\n",
    "    \n",
    "class IBM(Printer):\n",
    "    def printit(self,text):\n",
    "        print (text)\n",
    "        \n",
    "    def disconnect(self):\n",
    "        print ('Printing completed on IBM printer')\n",
    "        \n",
    "# sub class\n",
    "\n",
    "class Epson(Printer):\n",
    "    def printit(self,text):\n",
    "        print (text)\n",
    "        \n",
    "    def disconnect(self):\n",
    "        print ('Printing completed on Epson printer')\n",
    "        \n",
    "class UsePrinter:\n",
    "    with open(\"config.txt\", \"r\") as f:\n",
    "        str = f.readline()\n",
    "        \n",
    "    classname = globals()[str]\n",
    "    \n",
    "    x = classname()\n",
    "    \n",
    "    x. printit('Hello, this is send to printer')\n",
    "    x.disconnect()"
   ]
  },
  {
   "cell_type": "code",
   "execution_count": 47,
   "metadata": {
    "collapsed": true
   },
   "outputs": [],
   "source": [
    "# Abstract clas vs Interface"
   ]
  },
  {
   "cell_type": "code",
   "execution_count": null,
   "metadata": {
    "collapsed": true
   },
   "outputs": [],
   "source": []
  }
 ],
 "metadata": {
  "kernelspec": {
   "display_name": "Python 3",
   "language": "python",
   "name": "python3"
  },
  "language_info": {
   "codemirror_mode": {
    "name": "ipython",
    "version": 3
   },
   "file_extension": ".py",
   "mimetype": "text/x-python",
   "name": "python",
   "nbconvert_exporter": "python",
   "pygments_lexer": "ipython3",
   "version": "3.6.1"
  }
 },
 "nbformat": 4,
 "nbformat_minor": 2
}
