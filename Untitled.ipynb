{
 "cells": [
  {
   "cell_type": "code",
   "execution_count": 199,
   "metadata": {},
   "outputs": [
    {
     "name": "stdout",
     "output_type": "stream",
     "text": [
      "suman,sanvith,archana\n",
      "suman,sanvith,archana <class 'str'>\n",
      "['suman', 'sanvith', 'archana'] <class 'list'>\n",
      "('suman', 'sanvith', 'archana') <class 'tuple'>\n"
     ]
    }
   ],
   "source": [
    "inp = input()\n",
    "lst = inp.split(',')\n",
    "tup = tuple(lst)\n",
    "print (inp,type(inp))\n",
    "print (lst,type(lst))\n",
    "print(tup,type(tup))"
   ]
  },
  {
   "cell_type": "code",
   "execution_count": 149,
   "metadata": {},
   "outputs": [
    {
     "name": "stdout",
     "output_type": "stream",
     "text": [
      "123456789\n",
      "987654321\n",
      "98765432\n",
      "123456789\n",
      "1,2,3,4,5,6,7,8,9\n"
     ]
    }
   ],
   "source": [
    "a = '123456789'\n",
    "a = a[0:len(a):1]\n",
    "print (a)\n",
    "c = a[::-1]\n",
    "print(c)\n",
    "b = a[len(a):0:-1]\n",
    "print (b)\n",
    "print (a)\n",
    "#a.split()\n",
    "a\n",
    "bb = ','.join(a)\n",
    "print (bb)"
   ]
  },
  {
   "cell_type": "code",
   "execution_count": 150,
   "metadata": {},
   "outputs": [
    {
     "name": "stdout",
     "output_type": "stream",
     "text": [
      "123456789 <class 'str'>\n",
      "['123456789'] <class 'list'>\n"
     ]
    }
   ],
   "source": [
    "print (a,type(a))\n",
    "aa = a.split()\n",
    "aa[0]  \n",
    "print(aa,type(aa))\n",
    "#','.join(aa)"
   ]
  },
  {
   "cell_type": "code",
   "execution_count": 151,
   "metadata": {},
   "outputs": [
    {
     "data": {
      "text/plain": [
       "'50'"
      ]
     },
     "execution_count": 151,
     "metadata": {},
     "output_type": "execute_result"
    }
   ],
   "source": [
    "#Method Chaining\n",
    "a = \"1:10,20,30,40,50\"\n",
    "a.split(':')[1].split(',')[-1]"
   ]
  },
  {
   "cell_type": "code",
   "execution_count": 152,
   "metadata": {},
   "outputs": [
    {
     "data": {
      "text/plain": [
       "'d'"
      ]
     },
     "execution_count": 152,
     "metadata": {},
     "output_type": "execute_result"
    }
   ],
   "source": [
    "a= \"a::b:c,d,e,F,G:H\"\n",
    "a.split(':')[-2].split(',')[1]"
   ]
  },
  {
   "cell_type": "code",
   "execution_count": 153,
   "metadata": {},
   "outputs": [
    {
     "name": "stdout",
     "output_type": "stream",
     "text": [
      "\n"
     ]
    }
   ],
   "source": [
    "#Bank Transcation\n",
    "netAmount = 0\n",
    "while True:\n",
    "    s = input()\n",
    "    if not s:\n",
    "        break\n",
    "    else:\n",
    "        val = s.split(\",\")\n",
    "        oper = val[0]\n",
    "        amount = int(val[1])\n",
    "    if oper == 'D':\n",
    "        netAmount += amount\n",
    "    elif oper == 'W':\n",
    "        netAmount -= amount\n",
    "    else:\n",
    "        pass\n",
    "    print (netAmount)"
   ]
  },
  {
   "cell_type": "code",
   "execution_count": 154,
   "metadata": {},
   "outputs": [
    {
     "name": "stdout",
     "output_type": "stream",
     "text": [
      "\n"
     ]
    }
   ],
   "source": [
    "import re\n",
    "passwd = []\n",
    "lst = [x for x in input().split(',')]\n",
    "for val in lst:\n",
    "    if len(val)<6 or len(val)>12:\n",
    "        continue\n",
    "    elif not re.search(r'[a-z]',val):    \n",
    "        continue\n",
    "    elif not re.search(r'[A-Z]',val):    \n",
    "        continue\n",
    "    elif not re.search(r'[0-9]',val):    \n",
    "        continue    \n",
    "    elif not re.search(r'[$#@]',val):    \n",
    "        continue\n",
    "    elif re.search(r'\\s',val):    \n",
    "        continue\n",
    "    else:\n",
    "        pass\n",
    "    passwd.append(val)\n",
    "    print (','.join(passwd))\n",
    "        "
   ]
  },
  {
   "cell_type": "code",
   "execution_count": 155,
   "metadata": {},
   "outputs": [
    {
     "name": "stdout",
     "output_type": "stream",
     "text": [
      "skks\n"
     ]
    }
   ],
   "source": [
    "pst = [x for x in input().split(',')]"
   ]
  },
  {
   "cell_type": "code",
   "execution_count": 156,
   "metadata": {},
   "outputs": [
    {
     "data": {
      "text/plain": [
       "['skks']"
      ]
     },
     "execution_count": 156,
     "metadata": {},
     "output_type": "execute_result"
    }
   ],
   "source": [
    "pst"
   ]
  },
  {
   "cell_type": "code",
   "execution_count": 157,
   "metadata": {},
   "outputs": [
    {
     "name": "stdout",
     "output_type": "stream",
     "text": [
      "\n"
     ]
    }
   ],
   "source": [
    "#Bank Transcation\n",
    "netAmount = 0\n",
    "while True:\n",
    "    s = input()\n",
    "    if not s:\n",
    "        break\n",
    "    else:\n",
    "        pass\n",
    "    values = s.split(' ')\n",
    "    oper = values[0]\n",
    "    value = int(values[1])\n",
    "    if oper == 'W':\n",
    "        netAmount -= value\n",
    "    elif oper == 'D':\n",
    "        netAmount += value\n",
    "    else:\n",
    "        pass\n",
    "    print (netAmount)\n",
    "    "
   ]
  },
  {
   "cell_type": "code",
   "execution_count": 158,
   "metadata": {},
   "outputs": [
    {
     "name": "stdout",
     "output_type": "stream",
     "text": [
      "<_sre.SRE_Match object; span=(0, 4), match='this'>\n"
     ]
    }
   ],
   "source": [
    "import re\n",
    "p = 'this'\n",
    "s = 'this is a good book in this era'\n",
    "match = re.search(p,s)\n",
    "print (match)"
   ]
  },
  {
   "cell_type": "code",
   "execution_count": 159,
   "metadata": {},
   "outputs": [
    {
     "data": {
      "text/plain": [
       "0"
      ]
     },
     "execution_count": 159,
     "metadata": {},
     "output_type": "execute_result"
    }
   ],
   "source": [
    "match.start()"
   ]
  },
  {
   "cell_type": "code",
   "execution_count": 160,
   "metadata": {},
   "outputs": [
    {
     "data": {
      "text/plain": [
       "4"
      ]
     },
     "execution_count": 160,
     "metadata": {},
     "output_type": "execute_result"
    }
   ],
   "source": [
    "match.end()"
   ]
  },
  {
   "cell_type": "code",
   "execution_count": 161,
   "metadata": {},
   "outputs": [
    {
     "name": "stdout",
     "output_type": "stream",
     "text": [
      "['this', 'this']\n"
     ]
    }
   ],
   "source": [
    "m1 = re.findall(p,s)\n",
    "print (m1)"
   ]
  },
  {
   "cell_type": "code",
   "execution_count": 162,
   "metadata": {},
   "outputs": [
    {
     "name": "stdout",
     "output_type": "stream",
     "text": [
      "Found at 0 4\n",
      "Found at 23 27\n"
     ]
    }
   ],
   "source": [
    "for m in re.finditer(p,s):\n",
    "    print ('Found at',m.start(),m.end())"
   ]
  },
  {
   "cell_type": "code",
   "execution_count": 163,
   "metadata": {},
   "outputs": [
    {
     "data": {
      "text/plain": [
       "list"
      ]
     },
     "execution_count": 163,
     "metadata": {},
     "output_type": "execute_result"
    }
   ],
   "source": [
    "type(m1)"
   ]
  },
  {
   "cell_type": "code",
   "execution_count": 164,
   "metadata": {},
   "outputs": [
    {
     "data": {
      "text/plain": [
       "'mama'"
      ]
     },
     "execution_count": 164,
     "metadata": {},
     "output_type": "execute_result"
    }
   ],
   "source": [
    "p = r'((ma){2})'\n",
    "s = 'mama'\n",
    "match = re.search(p,s)\n",
    "match.group()"
   ]
  },
  {
   "cell_type": "code",
   "execution_count": 202,
   "metadata": {},
   "outputs": [
    {
     "name": "stdout",
     "output_type": "stream",
     "text": [
      "['ab', 'ab', 'ab', 'ab', 'ab']\n"
     ]
    }
   ],
   "source": [
    "p = r'a[ab]+?'\n",
    "s = 'abbababababbbbb'\n",
    "print (re.findall(p,s))"
   ]
  },
  {
   "cell_type": "code",
   "execution_count": 166,
   "metadata": {
    "scrolled": true
   },
   "outputs": [
    {
     "name": "stdout",
     "output_type": "stream",
     "text": [
      "['a', 'a', 'a', 'a', 'a']\n"
     ]
    }
   ],
   "source": [
    "p = r'a[ab]*?'\n",
    "s = 'abbababababbbbb'\n",
    "print (re.findall(p,s))"
   ]
  },
  {
   "cell_type": "code",
   "execution_count": 201,
   "metadata": {},
   "outputs": [
    {
     "name": "stdout",
     "output_type": "stream",
     "text": [
      "['he']\n"
     ]
    }
   ],
   "source": [
    "p = r'he$'\n",
    "s = 'I AM he is a super man of he'\n",
    "print (re.findall(p,s))"
   ]
  },
  {
   "cell_type": "code",
   "execution_count": 168,
   "metadata": {},
   "outputs": [
    {
     "name": "stdout",
     "output_type": "stream",
     "text": [
      "[('mama', 'ma')]\n"
     ]
    }
   ],
   "source": [
    "p = r'((ma){2})'\n",
    "s = 'mama'\n",
    "print (re.findall(p,s))"
   ]
  },
  {
   "cell_type": "code",
   "execution_count": 169,
   "metadata": {},
   "outputs": [
    {
     "name": "stdout",
     "output_type": "stream",
     "text": [
      "\n"
     ]
    }
   ],
   "source": [
    "#Bank Trabnscation\n",
    "\n",
    "netAmount = 0\n",
    "while True:\n",
    "    s = input()\n",
    "    if not s:\n",
    "        break\n",
    "    else:\n",
    "        pass\n",
    "    values = s.split()\n",
    "    oper = values[0]\n",
    "    amount = int(values[1])\n",
    "    if oper == 'D':\n",
    "        netAmount += amount\n",
    "    elif oper == 'W':\n",
    "        netAmount -= amount\n",
    "    else:\n",
    "        pass\n",
    "    print (netAmount)\n",
    "    \n",
    "        \n",
    "    \n",
    "        "
   ]
  },
  {
   "cell_type": "code",
   "execution_count": 170,
   "metadata": {},
   "outputs": [
    {
     "data": {
      "text/plain": [
       "['suman', 'i', 'M']"
      ]
     },
     "execution_count": 170,
     "metadata": {},
     "output_type": "execute_result"
    }
   ],
   "source": [
    "s = 'suman i M'\n",
    "v = s.split()\n",
    "v"
   ]
  },
  {
   "cell_type": "code",
   "execution_count": 171,
   "metadata": {},
   "outputs": [
    {
     "name": "stdout",
     "output_type": "stream",
     "text": [
      "\n",
      "[]\n",
      "\n"
     ]
    }
   ],
   "source": [
    "#Password Complexity\n",
    "lst = []\n",
    "passwords = [x for x in input().split(',')]\n",
    "for val in passwords:\n",
    "    if len(val) < 6 or len(val) > 13:\n",
    "        continue\n",
    "    elif not re.search(r'[a-z]',val):\n",
    "        continue\n",
    "    elif not re.search(r'[A-Z]',val):\n",
    "        continue\n",
    "    elif not re.search(r'[0-9]',val):\n",
    "        continue\n",
    "    elif not re.search(r'[#@$]',val):\n",
    "        continue\n",
    "    elif re.search(r'\\s',val):\n",
    "        continue\n",
    "    else:\n",
    "        pass\n",
    "    lst.append(val)\n",
    "print (lst)  \n",
    "print (','.join(lst))     \n",
    "        "
   ]
  },
  {
   "cell_type": "code",
   "execution_count": 203,
   "metadata": {},
   "outputs": [
    {
     "name": "stdout",
     "output_type": "stream",
     "text": [
      "<_sre.SRE_Match object; span=(0, 9), match='suman123A'>\n"
     ]
    }
   ],
   "source": [
    "p = r'[a-zA-Z0-9]+'\n",
    "t = 'suman123A'\n",
    "print (re.search(p,t))"
   ]
  },
  {
   "cell_type": "code",
   "execution_count": 173,
   "metadata": {},
   "outputs": [
    {
     "name": "stdout",
     "output_type": "stream",
     "text": [
      "I am a \n",
      " new line\n",
      "I am a \\n newline\n"
     ]
    }
   ],
   "source": [
    "string ='I am a \\n new line'\n",
    "print (string)\n",
    "rawstring = r'I am a \\n newline'\n",
    "print (rawstring)"
   ]
  },
  {
   "cell_type": "code",
   "execution_count": 204,
   "metadata": {},
   "outputs": [],
   "source": [
    "import re\n",
    "re.match(r'b','abcdef')"
   ]
  },
  {
   "cell_type": "code",
   "execution_count": 205,
   "metadata": {},
   "outputs": [],
   "source": [
    "matc = re.match(r'dog','dog cat dog')"
   ]
  },
  {
   "cell_type": "code",
   "execution_count": 206,
   "metadata": {},
   "outputs": [
    {
     "data": {
      "text/plain": [
       "'dog'"
      ]
     },
     "execution_count": 206,
     "metadata": {},
     "output_type": "execute_result"
    }
   ],
   "source": [
    "matc.group(0)"
   ]
  },
  {
   "cell_type": "code",
   "execution_count": 188,
   "metadata": {
    "collapsed": true
   },
   "outputs": [],
   "source": [
    "grp = re.search(r'(\\w+,) (\\w+:) (\\S+)','Jong, Deo: 455-678')"
   ]
  },
  {
   "cell_type": "code",
   "execution_count": 189,
   "metadata": {},
   "outputs": [
    {
     "data": {
      "text/plain": [
       "'Jong, Deo: 455-678'"
      ]
     },
     "execution_count": 189,
     "metadata": {},
     "output_type": "execute_result"
    }
   ],
   "source": [
    "grp.group(0)"
   ]
  },
  {
   "cell_type": "code",
   "execution_count": 190,
   "metadata": {},
   "outputs": [
    {
     "data": {
      "text/plain": [
       "'Jong,'"
      ]
     },
     "execution_count": 190,
     "metadata": {},
     "output_type": "execute_result"
    }
   ],
   "source": [
    "grp.group(1)"
   ]
  },
  {
   "cell_type": "code",
   "execution_count": 191,
   "metadata": {
    "scrolled": true
   },
   "outputs": [
    {
     "data": {
      "text/plain": [
       "'Deo:'"
      ]
     },
     "execution_count": 191,
     "metadata": {},
     "output_type": "execute_result"
    }
   ],
   "source": [
    "grp.group(2)"
   ]
  },
  {
   "cell_type": "code",
   "execution_count": 192,
   "metadata": {},
   "outputs": [
    {
     "data": {
      "text/plain": [
       "'455-678'"
      ]
     },
     "execution_count": 192,
     "metadata": {},
     "output_type": "execute_result"
    }
   ],
   "source": [
    "grp.group(3)"
   ]
  },
  {
   "cell_type": "code",
   "execution_count": 198,
   "metadata": {},
   "outputs": [
    {
     "data": {
      "text/plain": [
       "<_sre.SRE_Match object; span=(0, 15), match='192.168.100.243'>"
      ]
     },
     "execution_count": 198,
     "metadata": {},
     "output_type": "execute_result"
    }
   ],
   "source": [
    "mystr = '192.168.100.243'\n",
    "matc1 = re.search(r'\\d{1,3}\\.\\d{1,3}\\.\\d{1,3}\\.\\d{1,3}\\b',mystr)\n",
    "matc1"
   ]
  },
  {
   "cell_type": "code",
   "execution_count": 207,
   "metadata": {},
   "outputs": [
    {
     "ename": "SyntaxError",
     "evalue": "EOL while scanning string literal (<ipython-input-207-9568ff034bad>, line 3)",
     "output_type": "error",
     "traceback": [
      "\u001b[1;36m  File \u001b[1;32m\"<ipython-input-207-9568ff034bad>\"\u001b[1;36m, line \u001b[1;32m3\u001b[0m\n\u001b[1;33m    p=r'^\\[(?P<day>[a-zA-z]{3}) (?P<month>[a-zA-z]{3}) (?P<date>[\\d]{1,2}) (?P<timestamp>\\b[\\d:\\.]+\\b)\u001b[0m\n\u001b[1;37m                                                                                                       ^\u001b[0m\n\u001b[1;31mSyntaxError\u001b[0m\u001b[1;31m:\u001b[0m EOL while scanning string literal\n"
     ]
    }
   ],
   "source": [
    "string = ''#[Fri Oct 28 05:43:38.294803 2016] [ssl:warn] [pid 4500:tid 304] AH01909: www.example.com:443:0 server certificate does NOT include an ID which matches the server name'\n",
    "\n",
    "p=r'^\\[(?P<day>[a-zA-z]{3}) (?P<month>[a-zA-z]{3}) (?P<date>[\\d]{1,2}) (?P<timestamp>\\b[\\d:\\.]+\\b) \n",
    "(?P<year>[\\d]{4})\\] \\[(?P<error>[\\w:]+)\\] \\[(?P<who>[\\w: ]+)\\] (?P<msg>.+)$'\n"
   ]
  },
  {
   "cell_type": "code",
   "execution_count": 215,
   "metadata": {},
   "outputs": [
    {
     "ename": "SystemExit",
     "evalue": "",
     "output_type": "error",
     "traceback": [
      "An exception has occurred, use %tb to see the full traceback.\n",
      "\u001b[1;31mSystemExit\u001b[0m\n"
     ]
    },
    {
     "name": "stderr",
     "output_type": "stream",
     "text": [
      "C:\\Users\\ssamarthi\\AppData\\Local\\Continuum\\Anaconda3\\lib\\site-packages\\IPython\\core\\interactiveshell.py:2889: UserWarning: To exit: use 'exit', 'quit', or Ctrl-D.\n",
      "  warn(\"To exit: use 'exit', 'quit', or Ctrl-D.\", stacklevel=1)\n"
     ]
    }
   ],
   "source": [
    "import sys\n",
    "if not len(sys.argv) < 2:\n",
    "    sys.exit()\n",
    "else:\n",
    "    pass\n"
   ]
  },
  {
   "cell_type": "code",
   "execution_count": 218,
   "metadata": {},
   "outputs": [
    {
     "name": "stdout",
     "output_type": "stream",
     "text": [
      "D 100\n",
      "100\n",
      "W 90\n",
      "10\n",
      "\n"
     ]
    }
   ],
   "source": [
    "#Bank Transcations\n",
    "netAmount = 0\n",
    "while True:\n",
    "    inp = input()\n",
    "    if not inp:\n",
    "        break\n",
    "    else:\n",
    "        pass\n",
    "    value = inp.split(' ')\n",
    "    oper = value[0]\n",
    "    amount = int(value[1])\n",
    "    if oper == 'W':\n",
    "        netAmount -= amount\n",
    "    elif oper == 'D':\n",
    "        netAmount += amount\n",
    "    else:\n",
    "        pass\n",
    "    print (netAmount)\n",
    "        "
   ]
  },
  {
   "cell_type": "code",
   "execution_count": 227,
   "metadata": {},
   "outputs": [
    {
     "name": "stdout",
     "output_type": "stream",
     "text": [
      "Enter a Number between 1 to 100\n",
      "Enter a Number:40\n",
      "You Got it\n"
     ]
    }
   ],
   "source": [
    "import random\n",
    "def main():\n",
    "    print ('Enter a Number between 1 to 100')\n",
    "    randomNum = random.randint(1,100)\n",
    "    #randomNum = 40\n",
    "    found = False\n",
    "    while not found:\n",
    "        userGuess = int(input('Enter a Number:'))\n",
    "        if userGuess == randomNum:\n",
    "            print ('You Got it')\n",
    "            break\n",
    "            #found = True\n",
    "        elif userGuess > randomNum:\n",
    "            print ('Guess Number is Greater')\n",
    "        else:\n",
    "            print ('Guess Number is Lower')\n",
    "if __name__ == \"__main__\":\n",
    "    main()"
   ]
  },
  {
   "cell_type": "code",
   "execution_count": 238,
   "metadata": {},
   "outputs": [
    {
     "name": "stdout",
     "output_type": "stream",
     "text": [
      "suman\n",
      "sanvith\n",
      "\n",
      "SUMAN\n",
      "SANVITH\n"
     ]
    }
   ],
   "source": [
    "#Enter lines and convert to CAPS\n",
    "list =[]\n",
    "while True:\n",
    "    s = input()\n",
    "    if s:\n",
    "        inp = s.upper()\n",
    "        list.append(inp)\n",
    "        #list.append(s.upper())\n",
    "    else:\n",
    "        break\n",
    "for lines in list:\n",
    "    print(lines)        \n",
    "        "
   ]
  },
  {
   "cell_type": "code",
   "execution_count": 232,
   "metadata": {},
   "outputs": [
    {
     "name": "stdout",
     "output_type": "stream",
     "text": [
      "ONE\n",
      "TWO\n",
      "THREE\n"
     ]
    }
   ],
   "source": [
    "# List comprehension\n",
    "list1 = ['one','two','three']\n",
    "for i in list1:\n",
    "    print(i.upper())"
   ]
  },
  {
   "cell_type": "code",
   "execution_count": 235,
   "metadata": {},
   "outputs": [
    {
     "data": {
      "text/plain": [
       "['ONE', 'TWO', 'THREE']"
      ]
     },
     "execution_count": 235,
     "metadata": {},
     "output_type": "execute_result"
    }
   ],
   "source": [
    "lstcom = [i.upper() for i in list1]\n",
    "lstcom"
   ]
  },
  {
   "cell_type": "code",
   "execution_count": 236,
   "metadata": {},
   "outputs": [
    {
     "name": "stdout",
     "output_type": "stream",
     "text": [
      "suman sanvith archana\n"
     ]
    }
   ],
   "source": [
    "lst = [x for x in input().split()]"
   ]
  },
  {
   "cell_type": "code",
   "execution_count": 237,
   "metadata": {},
   "outputs": [
    {
     "data": {
      "text/plain": [
       "['suman', 'sanvith', 'archana']"
      ]
     },
     "execution_count": 237,
     "metadata": {},
     "output_type": "execute_result"
    }
   ],
   "source": [
    "lst"
   ]
  },
  {
   "cell_type": "code",
   "execution_count": 239,
   "metadata": {},
   "outputs": [
    {
     "name": "stdout",
     "output_type": "stream",
     "text": [
      "2\n"
     ]
    }
   ],
   "source": [
    "def test():\n",
    "    print ('2')\n",
    "    \n",
    "a = test()    \n",
    "    "
   ]
  },
  {
   "cell_type": "code",
   "execution_count": 240,
   "metadata": {
    "collapsed": true
   },
   "outputs": [],
   "source": [
    "a"
   ]
  },
  {
   "cell_type": "code",
   "execution_count": 241,
   "metadata": {},
   "outputs": [
    {
     "name": "stdout",
     "output_type": "stream",
     "text": [
      "2\n"
     ]
    }
   ],
   "source": [
    "test()"
   ]
  },
  {
   "cell_type": "code",
   "execution_count": 249,
   "metadata": {
    "collapsed": true
   },
   "outputs": [],
   "source": [
    "class Hotel(object):\n",
    "    def pay(self):\n",
    "        print ('PAID')\n",
    "        return self\n",
    "TajHotel = Hotel()"
   ]
  },
  {
   "cell_type": "code",
   "execution_count": 250,
   "metadata": {},
   "outputs": [
    {
     "name": "stdout",
     "output_type": "stream",
     "text": [
      "PAID\n"
     ]
    }
   ],
   "source": [
    "a= TajHotel.pay()"
   ]
  },
  {
   "cell_type": "code",
   "execution_count": 251,
   "metadata": {},
   "outputs": [
    {
     "data": {
      "text/plain": [
       "<__main__.Hotel at 0xab5ef7da58>"
      ]
     },
     "execution_count": 251,
     "metadata": {},
     "output_type": "execute_result"
    }
   ],
   "source": [
    "a"
   ]
  },
  {
   "cell_type": "code",
   "execution_count": 278,
   "metadata": {
    "collapsed": true
   },
   "outputs": [],
   "source": [
    "class cup(object):\n",
    "    def __init__(self):\n",
    "        self.colour = None\n",
    "        self.content = None\n",
    "    def fill(self,beverage):\n",
    "        self.content = beverage\n",
    "    def empty(self):\n",
    "        self.content = None"
   ]
  },
  {
   "cell_type": "code",
   "execution_count": 279,
   "metadata": {},
   "outputs": [],
   "source": [
    "redcup = cup()"
   ]
  },
  {
   "cell_type": "raw",
   "metadata": {},
   "source": []
  },
  {
   "cell_type": "code",
   "execution_count": 280,
   "metadata": {},
   "outputs": [],
   "source": [
    "redcup.colour = 'red'"
   ]
  },
  {
   "cell_type": "code",
   "execution_count": 281,
   "metadata": {},
   "outputs": [],
   "source": [
    "redcup.content = 'tea' "
   ]
  },
  {
   "cell_type": "code",
   "execution_count": 282,
   "metadata": {},
   "outputs": [
    {
     "data": {
      "text/plain": [
       "'red'"
      ]
     },
     "execution_count": 282,
     "metadata": {},
     "output_type": "execute_result"
    }
   ],
   "source": [
    "redcup.colour"
   ]
  },
  {
   "cell_type": "code",
   "execution_count": 291,
   "metadata": {},
   "outputs": [
    {
     "data": {
      "text/plain": [
       "'coffee'"
      ]
     },
     "execution_count": 291,
     "metadata": {},
     "output_type": "execute_result"
    }
   ],
   "source": [
    "redcup.content"
   ]
  },
  {
   "cell_type": "code",
   "execution_count": 290,
   "metadata": {},
   "outputs": [],
   "source": [
    "redcup.fill('coffee')"
   ]
  },
  {
   "cell_type": "code",
   "execution_count": 292,
   "metadata": {},
   "outputs": [],
   "source": [
    "redcup.empty()"
   ]
  },
  {
   "cell_type": "code",
   "execution_count": 293,
   "metadata": {
    "collapsed": true
   },
   "outputs": [],
   "source": [
    "redcup.content"
   ]
  },
  {
   "cell_type": "code",
   "execution_count": 294,
   "metadata": {
    "collapsed": true
   },
   "outputs": [],
   "source": [
    "redcup.fill('Juice')"
   ]
  },
  {
   "cell_type": "code",
   "execution_count": 295,
   "metadata": {},
   "outputs": [
    {
     "data": {
      "text/plain": [
       "'Juice'"
      ]
     },
     "execution_count": 295,
     "metadata": {},
     "output_type": "execute_result"
    }
   ],
   "source": [
    "redcup.content"
   ]
  },
  {
   "cell_type": "code",
   "execution_count": 296,
   "metadata": {
    "collapsed": true
   },
   "outputs": [],
   "source": [
    "class CUP(object):\n",
    "    def __init__(self):\n",
    "        self._color = None\n",
    "        self.__content = None\n",
    "    def fill(self,beverage):\n",
    "        self.__content = beverage\n",
    "    def empty(self):\n",
    "        self.__content = None     "
   ]
  },
  {
   "cell_type": "code",
   "execution_count": 297,
   "metadata": {
    "collapsed": true
   },
   "outputs": [],
   "source": [
    "greencup = CUP()"
   ]
  },
  {
   "cell_type": "code",
   "execution_count": 298,
   "metadata": {
    "collapsed": true
   },
   "outputs": [],
   "source": [
    "greencup._color = 'Yellow'"
   ]
  },
  {
   "cell_type": "code",
   "execution_count": 299,
   "metadata": {},
   "outputs": [
    {
     "data": {
      "text/plain": [
       "'Yellow'"
      ]
     },
     "execution_count": 299,
     "metadata": {},
     "output_type": "execute_result"
    }
   ],
   "source": [
    "greencup._color"
   ]
  },
  {
   "cell_type": "code",
   "execution_count": 300,
   "metadata": {
    "collapsed": true
   },
   "outputs": [],
   "source": [
    "greencup._CUP__content = 'BRU'"
   ]
  },
  {
   "cell_type": "code",
   "execution_count": 301,
   "metadata": {},
   "outputs": [
    {
     "data": {
      "text/plain": [
       "'BRU'"
      ]
     },
     "execution_count": 301,
     "metadata": {},
     "output_type": "execute_result"
    }
   ],
   "source": [
    "greencup._CUP__content"
   ]
  },
  {
   "cell_type": "code",
   "execution_count": 302,
   "metadata": {},
   "outputs": [
    {
     "data": {
      "text/plain": [
       "'Yellow'"
      ]
     },
     "execution_count": 302,
     "metadata": {},
     "output_type": "execute_result"
    }
   ],
   "source": [
    "greencup._color"
   ]
  },
  {
   "cell_type": "code",
   "execution_count": 303,
   "metadata": {
    "collapsed": true
   },
   "outputs": [],
   "source": [
    "class yup():\n",
    "    variable = 5"
   ]
  },
  {
   "cell_type": "code",
   "execution_count": 304,
   "metadata": {},
   "outputs": [
    {
     "data": {
      "text/plain": [
       "5"
      ]
     },
     "execution_count": 304,
     "metadata": {},
     "output_type": "execute_result"
    }
   ],
   "source": [
    "yup.variable"
   ]
  },
  {
   "cell_type": "code",
   "execution_count": 305,
   "metadata": {
    "collapsed": true
   },
   "outputs": [],
   "source": [
    "can = yup()"
   ]
  },
  {
   "cell_type": "code",
   "execution_count": 306,
   "metadata": {},
   "outputs": [
    {
     "data": {
      "text/plain": [
       "5"
      ]
     },
     "execution_count": 306,
     "metadata": {},
     "output_type": "execute_result"
    }
   ],
   "source": [
    "can.variable"
   ]
  },
  {
   "cell_type": "code",
   "execution_count": 309,
   "metadata": {},
   "outputs": [
    {
     "ename": "NameError",
     "evalue": "name 'builtins' is not defined",
     "output_type": "error",
     "traceback": [
      "\u001b[1;31m---------------------------------------------------------------------------\u001b[0m",
      "\u001b[1;31mNameError\u001b[0m                                 Traceback (most recent call last)",
      "\u001b[1;32m<ipython-input-309-7f804b904482>\u001b[0m in \u001b[0;36m<module>\u001b[1;34m()\u001b[0m\n\u001b[1;32m----> 1\u001b[1;33m \u001b[0mbuiltins\u001b[0m\u001b[1;33m(\u001b[0m\u001b[1;33m)\u001b[0m\u001b[1;33m\u001b[0m\u001b[0m\n\u001b[0m",
      "\u001b[1;31mNameError\u001b[0m: name 'builtins' is not defined"
     ]
    }
   ],
   "source": [
    "builtins()"
   ]
  },
  {
   "cell_type": "code",
   "execution_count": 313,
   "metadata": {},
   "outputs": [
    {
     "name": "stdout",
     "output_type": "stream",
     "text": [
      "20 From global scope\n",
      "10 From local scope\n",
      "10 From global scope\n"
     ]
    }
   ],
   "source": [
    "def test():\n",
    "    def test1():\n",
    "        global a\n",
    "        a = 10\n",
    "        print (a,'From local scope')\n",
    "    test1()    \n",
    "a = 20\n",
    "print (a,'From global scope')\n",
    "test()\n",
    "print (a,'From global scope')"
   ]
  },
  {
   "cell_type": "code",
   "execution_count": 316,
   "metadata": {},
   "outputs": [
    {
     "name": "stdout",
     "output_type": "stream",
     "text": [
      "50 From Global\n",
      "100 From local\n",
      "100 From Global\n"
     ]
    }
   ],
   "source": [
    "def a():\n",
    "    def b():\n",
    "        global val\n",
    "        val = 100\n",
    "        print (val,'From local')\n",
    "    b()   \n",
    "val = 50\n",
    "print (val,'From Global')\n",
    "a()\n",
    "print (val,'From Global')"
   ]
  },
  {
   "cell_type": "code",
   "execution_count": 358,
   "metadata": {},
   "outputs": [],
   "source": [
    "class Example():\n",
    "    name = 'funtion1'\n",
    "    #@staticmethod\n",
    "    def static():\n",
    "        print ('%s static is called'%Example.name)\n",
    "\n",
    "class offspring1(Example):\n",
    "    name = 'offspring1'\n",
    "    \n",
    "class offspring2(Example):\n",
    "    name = 'offspring2'\n",
    "    @classmethod\n",
    "    def static(cls):\n",
    "        print ('%s static is called'%cls.name)"
   ]
  },
  {
   "cell_type": "code",
   "execution_count": 359,
   "metadata": {},
   "outputs": [
    {
     "name": "stdout",
     "output_type": "stream",
     "text": [
      "funtion1 static is called\n"
     ]
    }
   ],
   "source": [
    "Example.static()"
   ]
  },
  {
   "cell_type": "code",
   "execution_count": 360,
   "metadata": {
    "collapsed": true
   },
   "outputs": [],
   "source": [
    "fun = Example"
   ]
  },
  {
   "cell_type": "code",
   "execution_count": 361,
   "metadata": {},
   "outputs": [
    {
     "name": "stdout",
     "output_type": "stream",
     "text": [
      "funtion1 static is called\n"
     ]
    }
   ],
   "source": [
    "fun.static()"
   ]
  },
  {
   "cell_type": "code",
   "execution_count": 362,
   "metadata": {},
   "outputs": [
    {
     "name": "stdout",
     "output_type": "stream",
     "text": [
      "funtion1 static is called\n"
     ]
    }
   ],
   "source": [
    "offspring1.static()"
   ]
  },
  {
   "cell_type": "code",
   "execution_count": 364,
   "metadata": {},
   "outputs": [
    {
     "name": "stdout",
     "output_type": "stream",
     "text": [
      "offspring2 static is called\n"
     ]
    }
   ],
   "source": [
    "offspring2.static()"
   ]
  },
  {
   "cell_type": "code",
   "execution_count": 369,
   "metadata": {
    "collapsed": true
   },
   "outputs": [],
   "source": [
    "def multiply(n):\n",
    "    def multiplier(x):\n",
    "        return x * n\n",
    "    return multiplier"
   ]
  },
  {
   "cell_type": "code",
   "execution_count": 370,
   "metadata": {},
   "outputs": [],
   "source": [
    "test1 = multiply(3)"
   ]
  },
  {
   "cell_type": "code",
   "execution_count": 371,
   "metadata": {},
   "outputs": [
    {
     "data": {
      "text/plain": [
       "15"
      ]
     },
     "execution_count": 371,
     "metadata": {},
     "output_type": "execute_result"
    }
   ],
   "source": [
    "test1(5)"
   ]
  },
  {
   "cell_type": "code",
   "execution_count": 372,
   "metadata": {
    "collapsed": true
   },
   "outputs": [],
   "source": [
    "def a(x):\n",
    "    def b(y):\n",
    "        return x * y\n",
    "    return b"
   ]
  },
  {
   "cell_type": "code",
   "execution_count": 373,
   "metadata": {
    "collapsed": true
   },
   "outputs": [],
   "source": [
    "t1 = a(10)"
   ]
  },
  {
   "cell_type": "code",
   "execution_count": 374,
   "metadata": {},
   "outputs": [
    {
     "data": {
      "text/plain": [
       "200"
      ]
     },
     "execution_count": 374,
     "metadata": {},
     "output_type": "execute_result"
    }
   ],
   "source": [
    "t1(20)"
   ]
  },
  {
   "cell_type": "code",
   "execution_count": 376,
   "metadata": {},
   "outputs": [],
   "source": [
    "def a(x):\n",
    "    def b(y):\n",
    "        return x * y\n",
    "    return b\n",
    "val1 = a(10)"
   ]
  },
  {
   "cell_type": "code",
   "execution_count": 377,
   "metadata": {},
   "outputs": [
    {
     "data": {
      "text/plain": [
       "200"
      ]
     },
     "execution_count": 377,
     "metadata": {},
     "output_type": "execute_result"
    }
   ],
   "source": [
    "val1(20)"
   ]
  },
  {
   "cell_type": "code",
   "execution_count": 378,
   "metadata": {},
   "outputs": [
    {
     "data": {
      "text/plain": [
       "<function __main__.a.<locals>.b>"
      ]
     },
     "execution_count": 378,
     "metadata": {},
     "output_type": "execute_result"
    }
   ],
   "source": [
    "val1"
   ]
  },
  {
   "cell_type": "code",
   "execution_count": 379,
   "metadata": {
    "collapsed": true
   },
   "outputs": [],
   "source": [
    "def incr(x):\n",
    "    return x+1\n",
    "def decr(x):\n",
    "    return x-1\n",
    "def oper(func,x):\n",
    "    return func(x)"
   ]
  },
  {
   "cell_type": "code",
   "execution_count": 380,
   "metadata": {},
   "outputs": [
    {
     "data": {
      "text/plain": [
       "5"
      ]
     },
     "execution_count": 380,
     "metadata": {},
     "output_type": "execute_result"
    }
   ],
   "source": [
    "oper(incr,4)"
   ]
  },
  {
   "cell_type": "code",
   "execution_count": 381,
   "metadata": {},
   "outputs": [
    {
     "data": {
      "text/plain": [
       "6"
      ]
     },
     "execution_count": 381,
     "metadata": {},
     "output_type": "execute_result"
    }
   ],
   "source": [
    "incr(5)"
   ]
  },
  {
   "cell_type": "code",
   "execution_count": 383,
   "metadata": {},
   "outputs": [],
   "source": [
    "#Decorator\n",
    "def decorator(func):\n",
    "    def inner():\n",
    "        print('Got Decorated')\n",
    "        func()\n",
    "    return inner\n",
    "def ordinary():\n",
    "    print ('Am Ordinary')"
   ]
  },
  {
   "cell_type": "code",
   "execution_count": 386,
   "metadata": {},
   "outputs": [],
   "source": [
    "pt = decorator(ordinary)"
   ]
  },
  {
   "cell_type": "code",
   "execution_count": 388,
   "metadata": {},
   "outputs": [
    {
     "name": "stdout",
     "output_type": "stream",
     "text": [
      "Got Decorated\n",
      "Am Ordinary\n"
     ]
    }
   ],
   "source": [
    "pt()"
   ]
  },
  {
   "cell_type": "code",
   "execution_count": 395,
   "metadata": {
    "collapsed": true
   },
   "outputs": [],
   "source": [
    "#@decorator\n",
    "def normal():\n",
    "    print('AM Normal')"
   ]
  },
  {
   "cell_type": "code",
   "execution_count": null,
   "metadata": {
    "collapsed": true
   },
   "outputs": [],
   "source": []
  },
  {
   "cell_type": "markdown",
   "metadata": {},
   "source": [
    "normal()"
   ]
  },
  {
   "cell_type": "code",
   "execution_count": 396,
   "metadata": {},
   "outputs": [
    {
     "name": "stdout",
     "output_type": "stream",
     "text": [
      "AM Normal\n"
     ]
    }
   ],
   "source": [
    "normal()"
   ]
  },
  {
   "cell_type": "code",
   "execution_count": 436,
   "metadata": {},
   "outputs": [],
   "source": [
    "def decor(func):\n",
    "    def inner():\n",
    "        print ('Decor printing')\n",
    "        func()\n",
    "    return inner"
   ]
  },
  {
   "cell_type": "code",
   "execution_count": 437,
   "metadata": {},
   "outputs": [],
   "source": [
    "@decor\n",
    "def straight():\n",
    "    print ('Normal Printing')"
   ]
  },
  {
   "cell_type": "code",
   "execution_count": 438,
   "metadata": {},
   "outputs": [
    {
     "name": "stdout",
     "output_type": "stream",
     "text": [
      "Decor printing\n",
      "Normal Printing\n"
     ]
    }
   ],
   "source": [
    "straight()"
   ]
  },
  {
   "cell_type": "code",
   "execution_count": 401,
   "metadata": {
    "collapsed": true
   },
   "outputs": [],
   "source": [
    "pt2 = decor(straight)"
   ]
  },
  {
   "cell_type": "code",
   "execution_count": 402,
   "metadata": {},
   "outputs": [
    {
     "name": "stdout",
     "output_type": "stream",
     "text": [
      "Decor printing\n",
      "Decor printing\n",
      "Normal Printing\n"
     ]
    }
   ],
   "source": [
    "pt2()"
   ]
  },
  {
   "cell_type": "code",
   "execution_count": 439,
   "metadata": {},
   "outputs": [
    {
     "name": "stdout",
     "output_type": "stream",
     "text": [
      "10\n",
      "BISCUIT\n",
      "20\n",
      "BICKKIES\n"
     ]
    }
   ],
   "source": [
    "def TN(func):\n",
    "    print ('10')\n",
    "    #func()\n",
    "    return func()\n",
    "def KA(func):\n",
    "    print ('20')\n",
    "    func()\n",
    "    return func\n",
    "\n",
    "@TN\n",
    "def biscuit():\n",
    "    print (\"BISCUIT\")\n",
    "    \n",
    "@KA\n",
    "def bickkies():\n",
    "    print ('BICKKIES')"
   ]
  },
  {
   "cell_type": "code",
   "execution_count": 424,
   "metadata": {},
   "outputs": [
    {
     "name": "stdout",
     "output_type": "stream",
     "text": [
      "a b c\n"
     ]
    }
   ],
   "source": [
    "p =[x for x in input().split()]"
   ]
  },
  {
   "cell_type": "code",
   "execution_count": 425,
   "metadata": {},
   "outputs": [
    {
     "data": {
      "text/plain": [
       "['a', 'b', 'c']"
      ]
     },
     "execution_count": 425,
     "metadata": {},
     "output_type": "execute_result"
    }
   ],
   "source": [
    "p"
   ]
  },
  {
   "cell_type": "code",
   "execution_count": 443,
   "metadata": {},
   "outputs": [],
   "source": [
    "def TN(func):\n",
    "    def inner():\n",
    "        print ('10')\n",
    "        func()\n",
    "    return inner\n",
    "@TN\n",
    "def biscuit():\n",
    "    print ('Biscuit')"
   ]
  },
  {
   "cell_type": "code",
   "execution_count": 441,
   "metadata": {},
   "outputs": [
    {
     "name": "stdout",
     "output_type": "stream",
     "text": [
      "10\n",
      "Biscuit\n"
     ]
    }
   ],
   "source": [
    "biscuit()"
   ]
  },
  {
   "cell_type": "code",
   "execution_count": 446,
   "metadata": {},
   "outputs": [
    {
     "data": {
      "text/plain": [
       "[1, 2, 3, 4]"
      ]
     },
     "execution_count": 446,
     "metadata": {},
     "output_type": "execute_result"
    }
   ],
   "source": [
    "def abc(*args):\n",
    "    return args\n",
    "list= [1,2,3,4]\n",
    "a = abc(list)\n",
    "a[0]"
   ]
  },
  {
   "cell_type": "code",
   "execution_count": 448,
   "metadata": {},
   "outputs": [
    {
     "data": {
      "text/plain": [
       "[1, 2, 3, 4]"
      ]
     },
     "execution_count": 448,
     "metadata": {},
     "output_type": "execute_result"
    }
   ],
   "source": [
    "a[0]"
   ]
  },
  {
   "cell_type": "code",
   "execution_count": 480,
   "metadata": {},
   "outputs": [],
   "source": [
    "class pet(object):\n",
    "    def __init__(self,name,species):\n",
    "        self.name = name\n",
    "        self.species = species\n",
    "    def __str__(self):\n",
    "        print ('%s is a %s'%(self.name,self.species))\n",
    "class cat(pet):\n",
    "    def __init__(self,name,species,hate_dogs):\n",
    "        super().__init__(name,species)\n",
    "        self.hate_dogs = hate_dogs\n",
    "    def __str__(self):\n",
    "        print ('%s is an %s'%(self.name,self.species))\n",
    "        "
   ]
  },
  {
   "cell_type": "code",
   "execution_count": 481,
   "metadata": {
    "collapsed": true
   },
   "outputs": [],
   "source": [
    "poppy = pet('polly','DOG')"
   ]
  },
  {
   "cell_type": "code",
   "execution_count": 482,
   "metadata": {},
   "outputs": [
    {
     "name": "stdout",
     "output_type": "stream",
     "text": [
      "polly is a DOG\n"
     ]
    },
    {
     "ename": "TypeError",
     "evalue": "__str__ returned non-string (type NoneType)",
     "output_type": "error",
     "traceback": [
      "\u001b[1;31m---------------------------------------------------------------------------\u001b[0m",
      "\u001b[1;31mTypeError\u001b[0m                                 Traceback (most recent call last)",
      "\u001b[1;32m<ipython-input-482-137ba8b306a3>\u001b[0m in \u001b[0;36m<module>\u001b[1;34m()\u001b[0m\n\u001b[1;32m----> 1\u001b[1;33m \u001b[0mprint\u001b[0m\u001b[1;33m(\u001b[0m\u001b[0mpoppy\u001b[0m\u001b[1;33m)\u001b[0m\u001b[1;33m\u001b[0m\u001b[0m\n\u001b[0m",
      "\u001b[1;31mTypeError\u001b[0m: __str__ returned non-string (type NoneType)"
     ]
    }
   ],
   "source": [
    "print(poppy)"
   ]
  },
  {
   "cell_type": "code",
   "execution_count": 483,
   "metadata": {},
   "outputs": [],
   "source": [
    "pinky = cat('pette','cat','YES')"
   ]
  },
  {
   "cell_type": "code",
   "execution_count": 484,
   "metadata": {},
   "outputs": [
    {
     "name": "stdout",
     "output_type": "stream",
     "text": [
      "pette is an cat\n"
     ]
    },
    {
     "ename": "TypeError",
     "evalue": "__str__ returned non-string (type NoneType)",
     "output_type": "error",
     "traceback": [
      "\u001b[1;31m---------------------------------------------------------------------------\u001b[0m",
      "\u001b[1;31mTypeError\u001b[0m                                 Traceback (most recent call last)",
      "\u001b[1;32m<ipython-input-484-67a703a60d4d>\u001b[0m in \u001b[0;36m<module>\u001b[1;34m()\u001b[0m\n\u001b[1;32m----> 1\u001b[1;33m \u001b[0mprint\u001b[0m\u001b[1;33m(\u001b[0m\u001b[0mpinky\u001b[0m\u001b[1;33m)\u001b[0m\u001b[1;33m\u001b[0m\u001b[0m\n\u001b[0m",
      "\u001b[1;31mTypeError\u001b[0m: __str__ returned non-string (type NoneType)"
     ]
    }
   ],
   "source": [
    "print(pinky)"
   ]
  },
  {
   "cell_type": "code",
   "execution_count": 518,
   "metadata": {
    "collapsed": true
   },
   "outputs": [],
   "source": [
    "class pet(object):\n",
    "    def __init__(self,name,species):\n",
    "        self.name = name\n",
    "        self.species = species\n",
    "    def getName(self):\n",
    "        return self.name\n",
    "    def getSpecies(self):\n",
    "        return self.species\n",
    "    def __str__(self):\n",
    "        return '%s is a %s'%(self.name,self.species)\n",
    "class CAT(pet):\n",
    "    def __init__(self,name,species,Hate_cats):\n",
    "        pet.__init__(self,name,species)\n",
    "        self.hate_cats = Hate_cats\n",
    "    def __str__(self):\n",
    "        return '%s really hates DOGS %s'%(self.name,self.hate_cats)\n",
    "    \n",
    "class DOG(pet):\n",
    "    def __init__(self,name,Hate_cats):\n",
    "        super().__init__(name,'CATS')\n",
    "        self.hate_cats = Hate_cats\n",
    "        "
   ]
  },
  {
   "cell_type": "code",
   "execution_count": 519,
   "metadata": {},
   "outputs": [],
   "source": [
    "poppy = pet('baileys','DOG')"
   ]
  },
  {
   "cell_type": "code",
   "execution_count": 520,
   "metadata": {},
   "outputs": [
    {
     "data": {
      "text/plain": [
       "'baileys'"
      ]
     },
     "execution_count": 520,
     "metadata": {},
     "output_type": "execute_result"
    }
   ],
   "source": [
    "poppy.getName()"
   ]
  },
  {
   "cell_type": "code",
   "execution_count": 521,
   "metadata": {},
   "outputs": [],
   "source": [
    "cuttie = CAT('cuttie','CAT','YES')"
   ]
  },
  {
   "cell_type": "code",
   "execution_count": 522,
   "metadata": {},
   "outputs": [
    {
     "name": "stdout",
     "output_type": "stream",
     "text": [
      "cuttie really hates DOGS YES\n"
     ]
    }
   ],
   "source": [
    "print(cuttie)"
   ]
  },
  {
   "cell_type": "code",
   "execution_count": 523,
   "metadata": {
    "collapsed": true
   },
   "outputs": [],
   "source": [
    "brown = DOG('Brownie','YES')"
   ]
  },
  {
   "cell_type": "code",
   "execution_count": 524,
   "metadata": {},
   "outputs": [
    {
     "name": "stdout",
     "output_type": "stream",
     "text": [
      "Brownie is a CATS\n"
     ]
    }
   ],
   "source": [
    "print(brown)"
   ]
  },
  {
   "cell_type": "code",
   "execution_count": null,
   "metadata": {
    "collapsed": true
   },
   "outputs": [],
   "source": []
  }
 ],
 "metadata": {
  "kernelspec": {
   "display_name": "Python 3",
   "language": "python",
   "name": "python3"
  },
  "language_info": {
   "codemirror_mode": {
    "name": "ipython",
    "version": 3
   },
   "file_extension": ".py",
   "mimetype": "text/x-python",
   "name": "python",
   "nbconvert_exporter": "python",
   "pygments_lexer": "ipython3",
   "version": "3.6.1"
  }
 },
 "nbformat": 4,
 "nbformat_minor": 2
}
