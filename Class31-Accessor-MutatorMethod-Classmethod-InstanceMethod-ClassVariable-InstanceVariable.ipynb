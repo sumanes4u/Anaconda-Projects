{
 "cells": [
  {
   "cell_type": "markdown",
   "metadata": {},
   "source": [
    "# Class \n",
    " - Constructor ( init method )\n",
    " - Namespaces\n",
    " - types of methods \n",
    "    - Instance methods\n",
    "    - class methods\n",
    "    - static methods\n",
    "    - Inner Classes\n",
    "    - Inheritance\n",
    "    - Polymorphism\n",
    "    - Method overloading"
   ]
  },
  {
   "cell_type": "code",
   "execution_count": 3,
   "metadata": {},
   "outputs": [],
   "source": [
    "class Sample:\n",
    "    \n",
    "    # This is a constructor\n",
    "    def __init__(self):\n",
    "        self.x = 10\n",
    "        \n",
    "    # this is an instance method \n",
    "    def modify(self):\n",
    "        self.x += 1 # ( x = x + 1)"
   ]
  },
  {
   "cell_type": "code",
   "execution_count": 4,
   "metadata": {
    "collapsed": true
   },
   "outputs": [],
   "source": [
    "# create two instances\n",
    "s1 = Sample()\n",
    "s2 = Sample()"
   ]
  },
  {
   "cell_type": "code",
   "execution_count": 5,
   "metadata": {},
   "outputs": [
    {
     "name": "stdout",
     "output_type": "stream",
     "text": [
      "x in s1=  10\n",
      "x in s2=  10\n"
     ]
    }
   ],
   "source": [
    "print ('x in s1= ', s1.x)\n",
    "print ('x in s2= ', s2.x)"
   ]
  },
  {
   "cell_type": "code",
   "execution_count": 6,
   "metadata": {
    "collapsed": true
   },
   "outputs": [],
   "source": [
    "# modify x in s1\n",
    "s1.modify()"
   ]
  },
  {
   "cell_type": "code",
   "execution_count": 7,
   "metadata": {},
   "outputs": [
    {
     "name": "stdout",
     "output_type": "stream",
     "text": [
      "x in s1=  11\n",
      "x in s2=  10\n"
     ]
    }
   ],
   "source": [
    "print ('x in s1= ', s1.x)\n",
    "print ('x in s2= ', s2.x)"
   ]
  },
  {
   "cell_type": "code",
   "execution_count": 8,
   "metadata": {
    "collapsed": true
   },
   "outputs": [],
   "source": [
    "# class variable vs static variables"
   ]
  },
  {
   "cell_type": "code",
   "execution_count": 17,
   "metadata": {
    "collapsed": true
   },
   "outputs": [],
   "source": [
    "class Sample2:\n",
    "    \n",
    "    # This is a constructor\n",
    "    def __init__(self,var1,var2,var3,var4):\n",
    "        self.x = 10\n",
    "        self.var1 = var1\n",
    "        self.var2 = var2\n",
    "        self.var3 = var3\n",
    "        self.var4 = var4\n",
    "        \n",
    "    # this is an instance method \n",
    "    def modify(self):\n",
    "        self.x += 1 # ( x = x + 1)\n",
    "        \n",
    "    def method1(self):\n",
    "        print (self.var1)\n",
    "        \n",
    "    def method2(self):\n",
    "        print (self.var2)\n",
    "        \n",
    "    def method3(self):\n",
    "        print (self.var3)\n",
    "        \n",
    "    def method4(self):\n",
    "        print (self.var4)"
   ]
  },
  {
   "cell_type": "code",
   "execution_count": 20,
   "metadata": {},
   "outputs": [],
   "source": [
    "s3 = Sample2('a','b','c','d') # instance/object creation "
   ]
  },
  {
   "cell_type": "code",
   "execution_count": 19,
   "metadata": {},
   "outputs": [
    {
     "name": "stdout",
     "output_type": "stream",
     "text": [
      "d\n"
     ]
    }
   ],
   "source": [
    "s3.method4()"
   ]
  },
  {
   "cell_type": "code",
   "execution_count": 21,
   "metadata": {
    "collapsed": true
   },
   "outputs": [],
   "source": [
    "# instance method or instance variable "
   ]
  },
  {
   "cell_type": "code",
   "execution_count": 22,
   "metadata": {
    "collapsed": true
   },
   "outputs": [],
   "source": [
    "# class variables or static variables "
   ]
  },
  {
   "cell_type": "code",
   "execution_count": 27,
   "metadata": {},
   "outputs": [
    {
     "name": "stdout",
     "output_type": "stream",
     "text": [
      "x in s1 =  10\n",
      "x in s2 =  10\n",
      "x in s1 =  11\n",
      "x in s2 =  11\n"
     ]
    }
   ],
   "source": [
    "class Sample3:\n",
    "    # this is a class var\n",
    "    x = 10\n",
    "    \n",
    "    # this is a class method\n",
    "    @classmethod # decorator\n",
    "    def modify(cls):\n",
    "        cls.x += 1\n",
    "        \n",
    "# create 2 instaances \n",
    "    \n",
    "s1 = Sample3()\n",
    "s2 = Sample3()\n",
    "    \n",
    "print ('x in s1 = ', s1.x)\n",
    "print ('x in s2 = ', s2.x)\n",
    "    \n",
    "# modify x in s1 \n",
    "    \n",
    "s1.modify()\n",
    "print ('x in s1 = ', s1.x)\n",
    "print ('x in s2 = ', s2.x)\n",
    "    \n",
    "    "
   ]
  },
  {
   "cell_type": "code",
   "execution_count": 28,
   "metadata": {
    "collapsed": true
   },
   "outputs": [],
   "source": [
    "# Namespace\n",
    "\n",
    "class Student():\n",
    "    n = 10\n"
   ]
  },
  {
   "cell_type": "code",
   "execution_count": 29,
   "metadata": {},
   "outputs": [
    {
     "name": "stdout",
     "output_type": "stream",
     "text": [
      "10\n"
     ]
    }
   ],
   "source": [
    "print (Student.n)"
   ]
  },
  {
   "cell_type": "code",
   "execution_count": 30,
   "metadata": {
    "collapsed": true
   },
   "outputs": [],
   "source": [
    "Student.n += 1"
   ]
  },
  {
   "cell_type": "code",
   "execution_count": 31,
   "metadata": {},
   "outputs": [
    {
     "name": "stdout",
     "output_type": "stream",
     "text": [
      "11\n"
     ]
    }
   ],
   "source": [
    "print (Student.n)"
   ]
  },
  {
   "cell_type": "code",
   "execution_count": 32,
   "metadata": {
    "collapsed": true
   },
   "outputs": [],
   "source": [
    "s1 = Student()"
   ]
  },
  {
   "cell_type": "code",
   "execution_count": 33,
   "metadata": {},
   "outputs": [
    {
     "data": {
      "text/plain": [
       "11"
      ]
     },
     "execution_count": 33,
     "metadata": {},
     "output_type": "execute_result"
    }
   ],
   "source": [
    "s1.n"
   ]
  },
  {
   "cell_type": "code",
   "execution_count": 34,
   "metadata": {
    "collapsed": true
   },
   "outputs": [],
   "source": [
    "s2 = Student()"
   ]
  },
  {
   "cell_type": "code",
   "execution_count": 35,
   "metadata": {},
   "outputs": [
    {
     "data": {
      "text/plain": [
       "11"
      ]
     },
     "execution_count": 35,
     "metadata": {},
     "output_type": "execute_result"
    }
   ],
   "source": [
    "s2.n"
   ]
  },
  {
   "cell_type": "code",
   "execution_count": 36,
   "metadata": {
    "collapsed": true
   },
   "outputs": [],
   "source": [
    "s1.n = 20"
   ]
  },
  {
   "cell_type": "code",
   "execution_count": 37,
   "metadata": {},
   "outputs": [
    {
     "data": {
      "text/plain": [
       "11"
      ]
     },
     "execution_count": 37,
     "metadata": {},
     "output_type": "execute_result"
    }
   ],
   "source": [
    "s2.n"
   ]
  },
  {
   "cell_type": "code",
   "execution_count": 38,
   "metadata": {},
   "outputs": [
    {
     "data": {
      "text/plain": [
       "20"
      ]
     },
     "execution_count": 38,
     "metadata": {},
     "output_type": "execute_result"
    }
   ],
   "source": [
    "s1.n"
   ]
  },
  {
   "cell_type": "code",
   "execution_count": 42,
   "metadata": {},
   "outputs": [
    {
     "name": "stdout",
     "output_type": "stream",
     "text": [
      "How many students? 3\n",
      "Enter name: John Smith\n",
      "Enter marks: 800\n",
      "HI John Smith\n",
      "Your marks 800\n",
      "First Grade\n",
      "...................\n",
      "Enter name: Ashir  M\n",
      "Enter marks: 550\n",
      "HI Ashir  M\n",
      "Your marks 550\n",
      "Second Grade\n",
      "...................\n",
      "Enter name: Arumugam\n",
      "Enter marks: 350\n",
      "HI Arumugam\n",
      "Your marks 350\n",
      "Third Grade\n",
      "...................\n"
     ]
    }
   ],
   "source": [
    "class Student:\n",
    "    # This is a constructor\n",
    "    \n",
    "    def __init__(self,n='',m=0):\n",
    "        self.name = n\n",
    "        self.marks = m\n",
    "        \n",
    "    # instance method\n",
    "    \n",
    "    def display(self):\n",
    "        print ('HI',self.name)\n",
    "        print ('Your marks', self.marks)\n",
    "        \n",
    "    # to calculate grades\n",
    "    \n",
    "    def calculate(self):\n",
    "        if (self.marks >= 600):\n",
    "            print ('First Grade')\n",
    "        elif (self.marks >= 500):\n",
    "            print ('Second Grade')\n",
    "        elif (self.marks >= 350):\n",
    "            print ('Third Grade')\n",
    "        else:\n",
    "            print ('You got failed')\n",
    "            \n",
    "n = int(input('How many students? '))\n",
    "\n",
    "i = 0\n",
    "\n",
    "while(i < n):\n",
    "    name = input('Enter name: ')\n",
    "    marks = int(input(\"Enter marks: \"))\n",
    "    \n",
    "    # create Student class instance and store data\n",
    "    s = Student(name,marks)\n",
    "    s.display()\n",
    "    s.calculate()\n",
    "    i += 1\n",
    "    print ('...................')"
   ]
  },
  {
   "cell_type": "code",
   "execution_count": null,
   "metadata": {
    "collapsed": true
   },
   "outputs": [],
   "source": [
    "# Instance method : \n",
    " Two types : 1) accessor method 2) mutator method \n",
    "        \n",
    "Accessor method - simple access or read data of the variable. getABC() # getter methods\n",
    "\n",
    "            "
   ]
  },
  {
   "cell_type": "code",
   "execution_count": 56,
   "metadata": {
    "collapsed": true
   },
   "outputs": [],
   "source": [
    "# getter # Accessor method\n",
    "def getName(self):\n",
    "    return self.name"
   ]
  },
  {
   "cell_type": "code",
   "execution_count": null,
   "metadata": {
    "collapsed": true
   },
   "outputs": [],
   "source": [
    "# setter setABC() # Mutator method\n",
    "def setname(self,name):\n",
    "    self.name = name # setting some value"
   ]
  },
  {
   "cell_type": "code",
   "execution_count": 60,
   "metadata": {},
   "outputs": [
    {
     "name": "stdout",
     "output_type": "stream",
     "text": [
      "How many students? 2\n",
      "Enter name: Krishna\n",
      "Enter marks: 700\n",
      "Hi  Krishna\n",
      "Your marks 700\n",
      "...................\n",
      "Enter name: Raj\n",
      "Enter marks: 800\n",
      "Hi  Raj\n",
      "Your marks 800\n",
      "...................\n"
     ]
    }
   ],
   "source": [
    "class Student:\n",
    "    \n",
    "    # mutator method \n",
    "    def setName(self,name):\n",
    "        self.name = name\n",
    "          \n",
    "    # Accessro method\n",
    "    \n",
    "    def getName(self):\n",
    "        return self.name\n",
    "    \n",
    "    # mutator method\n",
    "    \n",
    "    def setMarks(self,marks):\n",
    "        self.marks = marks\n",
    "        \n",
    "    # accessor method\n",
    "    \n",
    "    def getMarks(self):\n",
    "        return self.marks\n",
    "    \n",
    "n = int(input('How many students? '))\n",
    "\n",
    "i = 0\n",
    "\n",
    "while(i < n):\n",
    "    s = Student()\n",
    "    name = input('Enter name: ')\n",
    "    s.setName(name)\n",
    "    \n",
    "    marks = int(input(\"Enter marks: \"))\n",
    "    s.setMarks(marks)\n",
    "    \n",
    "    # retrieve the data\n",
    "    print ('Hi ', s.getName())\n",
    "    print ('Your marks', s.getMarks())\n",
    "\n",
    "    i += 1\n",
    "    print ('...................')"
   ]
  },
  {
   "cell_type": "code",
   "execution_count": 61,
   "metadata": {
    "collapsed": true
   },
   "outputs": [],
   "source": [
    "# class methods\n",
    "# static methods"
   ]
  },
  {
   "cell_type": "code",
   "execution_count": 64,
   "metadata": {},
   "outputs": [
    {
     "name": "stdout",
     "output_type": "stream",
     "text": [
      "Sparrow flies with 2 wings\n",
      "Pigeon flies with 2 wings\n"
     ]
    }
   ],
   "source": [
    "class Bird():\n",
    "    wings = 2\n",
    "    \n",
    "    @classmethod\n",
    "    def fly(cls,name):\n",
    "        print('{} flies with {} wings'.format(name,cls.wings))\n",
    "        \n",
    "Bird.fly('Sparrow')\n",
    "Bird.fly('Pigeon')"
   ]
  },
  {
   "cell_type": "code",
   "execution_count": 65,
   "metadata": {
    "collapsed": true
   },
   "outputs": [],
   "source": [
    "# static method"
   ]
  },
  {
   "cell_type": "code",
   "execution_count": 69,
   "metadata": {},
   "outputs": [
    {
     "name": "stdout",
     "output_type": "stream",
     "text": [
      "No. of instance created:  4\n"
     ]
    }
   ],
   "source": [
    "class Myclass:\n",
    "    n = 0 # class variable or static var\n",
    "    \n",
    "    def __init__(self):\n",
    "        Myclass.n = Myclass.n+1\n",
    "        \n",
    "    @staticmethod\n",
    "    def noObject():\n",
    "        print ('No. of instance created: ', Myclass.n)\n",
    "        \n",
    "obj1 = Myclass()\n",
    "obj2 = Myclass()\n",
    "obj3 = Myclass()\n",
    "obj3 = Myclass()\n",
    "\n",
    "\n",
    "\n",
    "Myclass.noObject()"
   ]
  },
  {
   "cell_type": "code",
   "execution_count": null,
   "metadata": {
    "collapsed": true
   },
   "outputs": [],
   "source": []
  }
 ],
 "metadata": {
  "kernelspec": {
   "display_name": "Python 3",
   "language": "python",
   "name": "python3"
  },
  "language_info": {
   "codemirror_mode": {
    "name": "ipython",
    "version": 3
   },
   "file_extension": ".py",
   "mimetype": "text/x-python",
   "name": "python",
   "nbconvert_exporter": "python",
   "pygments_lexer": "ipython3",
   "version": "3.6.1"
  }
 },
 "nbformat": 4,
 "nbformat_minor": 2
}
