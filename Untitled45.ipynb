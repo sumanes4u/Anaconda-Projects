{
 "cells": [
  {
   "cell_type": "code",
   "execution_count": 1,
   "metadata": {},
   "outputs": [],
   "source": [
    "import re"
   ]
  },
  {
   "cell_type": "code",
   "execution_count": 8,
   "metadata": {},
   "outputs": [
    {
     "data": {
      "text/plain": [
       "'home'"
      ]
     },
     "execution_count": 8,
     "metadata": {},
     "output_type": "execute_result"
    }
   ],
   "source": [
    "match = re.search(r'home','I am at home and home1')\n",
    "match.group()"
   ]
  },
  {
   "cell_type": "code",
   "execution_count": 30,
   "metadata": {},
   "outputs": [],
   "source": [
    "def find(pat,text):\n",
    "    match = re.search(pat,text)\n",
    "    if (match.group()):print ('Matched %s in Text: %s'%(match.group(),text))\n",
    "    else:print ('Not matched')    "
   ]
  },
  {
   "cell_type": "code",
   "execution_count": 31,
   "metadata": {},
   "outputs": [
    {
     "name": "stdout",
     "output_type": "stream",
     "text": [
      "Matched test in Text: I have test today\n"
     ]
    }
   ],
   "source": [
    "find(r'test','I have test today')"
   ]
  },
  {
   "cell_type": "code",
   "execution_count": 20,
   "metadata": {},
   "outputs": [
    {
     "name": "stdout",
     "output_type": "stream",
     "text": [
      "Matched test in Text: I have test today\n"
     ]
    }
   ],
   "source": [
    "find(r't..t','I have test today')"
   ]
  },
  {
   "cell_type": "code",
   "execution_count": 32,
   "metadata": {},
   "outputs": [],
   "source": [
    "def found(pat,text):\n",
    "    matchy = re.search(pat,text)\n",
    "    if matchy:\n",
    "        print('Found')\n",
    "    else:\n",
    "        print('Not Found')"
   ]
  },
  {
   "cell_type": "code",
   "execution_count": 33,
   "metadata": {},
   "outputs": [
    {
     "name": "stdout",
     "output_type": "stream",
     "text": [
      "Found\n"
     ]
    }
   ],
   "source": [
    "found(r'devops','trying to learn devops')"
   ]
  },
  {
   "cell_type": "code",
   "execution_count": 35,
   "metadata": {},
   "outputs": [
    {
     "name": "stdout",
     "output_type": "stream",
     "text": [
      "Checking for this in I have this and that also\n",
      "Found\n",
      "Checking for that in I have this and that also\n",
      "Found\n"
     ]
    }
   ],
   "source": [
    "patterns = [ 'this', 'that']\n",
    "text = 'I have this and that also'\n",
    "\n",
    "for pattern in patterns:\n",
    "    print('Checking for %s in %s'%(pattern,text))\n",
    "    if re.search(pattern,text):\n",
    "        print ('Found')\n",
    "    else:\n",
    "        print ('Not FOund')"
   ]
  },
  {
   "cell_type": "code",
   "execution_count": 40,
   "metadata": {},
   "outputs": [
    {
     "name": "stdout",
     "output_type": "stream",
     "text": [
      "The devops is found at we have started devops training form today form:16 till 22:(\"devops\")\n"
     ]
    }
   ],
   "source": [
    "pattern1 = 'devops'\n",
    "text = 'we have started devops training form today'\n",
    "match = re.search(pattern1,text)\n",
    "s = match.start()\n",
    "e = match.end()\n",
    "print ('The %s is found at %s form:%d till %d:(\"%s\")'%(match.re.pattern,match.string,s,e,match.string[s:e]))"
   ]
  },
  {
   "cell_type": "code",
   "execution_count": 50,
   "metadata": {},
   "outputs": [
    {
     "data": {
      "text/plain": [
       "'we have started devops training form today'"
      ]
     },
     "execution_count": 50,
     "metadata": {},
     "output_type": "execute_result"
    }
   ],
   "source": [
    "match.string"
   ]
  },
  {
   "cell_type": "code",
   "execution_count": 66,
   "metadata": {},
   "outputs": [
    {
     "name": "stdout",
     "output_type": "stream",
     "text": [
      "match:ab\n",
      "match:ab\n",
      "match:ab\n",
      "match:ab\n",
      "match:ab\n",
      "match:ab\n",
      "match:ab\n",
      "match:ab\n"
     ]
    }
   ],
   "source": [
    "import re\n",
    "text = 'ababababbabbabbabbbabba'\n",
    "pattern = r'ab'\n",
    "\n",
    "mat = re.findall(pattern,text)\n",
    "mat\n",
    "\n",
    "for match in re.findall(pattern,text):\n",
    "    #print ('%s is found at %d:%d'%(match,match.start,match.end))\n",
    "    print ('match:%s'%match)\n"
   ]
  },
  {
   "cell_type": "code",
   "execution_count": 62,
   "metadata": {},
   "outputs": [
    {
     "data": {
      "text/plain": [
       "['ab', 'ab', 'ab', 'ab', 'ab', 'ab', 'ab', 'ab']"
      ]
     },
     "execution_count": 62,
     "metadata": {},
     "output_type": "execute_result"
    }
   ],
   "source": [
    "mat"
   ]
  },
  {
   "cell_type": "code",
   "execution_count": 71,
   "metadata": {},
   "outputs": [
    {
     "name": "stdout",
     "output_type": "stream",
     "text": [
      "Found ab start:2 and end:4\n",
      "Found ab start:2 and end:4\n",
      "Found ab start:2 and end:4\n",
      "Found ab start:2 and end:4\n",
      "Found ab start:2 and end:4\n",
      "Found ab start:2 and end:4\n",
      "Found ab start:2 and end:4\n"
     ]
    }
   ],
   "source": [
    "text = 'abababbababbbbabbabbaaa'\n",
    "pattern = r'ab'\n",
    "\n",
    "occur = len(re.findall(pattern,text))\n",
    "e = 0\n",
    "while(occur>0):\n",
    "    match = re.search(pattern,text[e:])\n",
    "    s = match.start()\n",
    "    e = match.end()\n",
    "    print ('Found %s start:%d and end:%d'%(match.re.pattern,s+e,e+e))\n",
    "    occur -= 1"
   ]
  },
  {
   "cell_type": "code",
   "execution_count": 72,
   "metadata": {},
   "outputs": [
    {
     "name": "stdout",
     "output_type": "stream",
     "text": [
      "Found annn from:0 till 4\n",
      "Found ann from:11 till 14\n",
      "Found annnn from:14 till 19\n",
      "Found annn from:25 till 29\n",
      "Found annn from:29 till 33\n"
     ]
    }
   ],
   "source": [
    "pattern = r'an+'\n",
    "text = 'annnaaaaaaaannannnnajhjnnannnannn'\n",
    "\n",
    "for match in re.finditer(pattern,text):\n",
    "    s = match.start()\n",
    "    e = match.end()\n",
    "    print ('Found %s from:%d till %d'%(text[s:e],s,e))"
   ]
  },
  {
   "cell_type": "code",
   "execution_count": 74,
   "metadata": {},
   "outputs": [
    {
     "name": "stdout",
     "output_type": "stream",
     "text": [
      "Found an+ from : 0:2 as text:an\n",
      "Found an+ from : 2:6 as text:annn\n",
      "Found an+ from : 6:10 as text:annn\n",
      "Found an+ from : 16:20 as text:annn\n",
      "Found an+ from : 20:23 as text:ann\n",
      "Found an+ from : 24:26 as text:an\n",
      "Found an+ from : 26:28 as text:an\n",
      "Found an+ from : 28:30 as text:an\n"
     ]
    }
   ],
   "source": [
    "text = 'anannnannnaaaaaaannnannaananan'\n",
    "pattern = r'an+'\n",
    "\n",
    "for match in re.finditer(pattern,text):\n",
    "    s = match.start()\n",
    "    e = match.end()\n",
    "    print ('Found %s from : %d:%d as text:%s'%(match.re.pattern,s,e,text[s:e]))"
   ]
  },
  {
   "cell_type": "code",
   "execution_count": 78,
   "metadata": {},
   "outputs": [
    {
     "name": "stdout",
     "output_type": "stream",
     "text": [
      "Found devops between:7:13 matching devops\n",
      "Found devops between:20:26 matching devops\n",
      "Found devops between:33:39 matching devops\n",
      "Found devops between:46:52 matching devops\n",
      "Found devops between:59:65 matching devops\n",
      "Found string 5 times:\n"
     ]
    }
   ],
   "source": [
    "text = 'krishnadevopskrishnadevopskrishnadevopskrishnadevopskrishnadevops'\n",
    "pattern = r'devops'\n",
    "\n",
    "i = 0\n",
    "for match in re.finditer(pattern,text):\n",
    "    s = match.start()\n",
    "    e = match.end()\n",
    "    i += 1\n",
    "    print ('Found %s between:%d:%d matching %s'%(text[s:e],s,e,match.re.pattern))\n",
    "print ('Found string %d times:'%i)"
   ]
  },
  {
   "cell_type": "code",
   "execution_count": 80,
   "metadata": {},
   "outputs": [
    {
     "data": {
      "text/plain": [
       "5"
      ]
     },
     "execution_count": 80,
     "metadata": {},
     "output_type": "execute_result"
    }
   ],
   "source": [
    "len(re.findall(pattern,text))"
   ]
  },
  {
   "cell_type": "code",
   "execution_count": 84,
   "metadata": {},
   "outputs": [
    {
     "name": "stdout",
     "output_type": "stream",
     "text": [
      "Looking for string term1 in \"I this term1 I need to score 70 to get into next term\"\n",
      "Found string:term1 in \"I this term1 I need to score 70 to get into next term\"\n",
      "Looking for string term2 in \"I this term1 I need to score 70 to get into next term\"\n",
      "String term2 not found in \"I this term1 I need to score 70 to get into next term\"\n"
     ]
    }
   ],
   "source": [
    "pattern = ['term1','term2']\n",
    "text = 'I this term1 I need to score 70 to get into next term'\n",
    "\n",
    "for pattern in pattern:\n",
    "    print ('Looking for string %s in \"%s\"'%(pattern,text))\n",
    "    if re.search(pattern,text):\n",
    "        print ('Found string:%s in \"%s\"'%(pattern,text))\n",
    "    else:\n",
    "        print ('String %s not found in \"%s\"'%(pattern,text))"
   ]
  },
  {
   "cell_type": "code",
   "execution_count": 85,
   "metadata": {},
   "outputs": [
    {
     "data": {
      "text/plain": [
       "_sre.SRE_Match"
      ]
     },
     "execution_count": 85,
     "metadata": {},
     "output_type": "execute_result"
    }
   ],
   "source": [
    "pattern = 'text'\n",
    "text = 'Text books has some text'\n",
    "\n",
    "match = re.search(pattern,text)\n",
    "match\n",
    "type(match)"
   ]
  },
  {
   "cell_type": "code",
   "execution_count": 92,
   "metadata": {},
   "outputs": [
    {
     "data": {
      "text/plain": [
       "'text'"
      ]
     },
     "execution_count": 92,
     "metadata": {},
     "output_type": "execute_result"
    }
   ],
   "source": [
    "match.re.pattern"
   ]
  },
  {
   "cell_type": "code",
   "execution_count": 93,
   "metadata": {},
   "outputs": [
    {
     "data": {
      "text/plain": [
       "'Text books has some text'"
      ]
     },
     "execution_count": 93,
     "metadata": {},
     "output_type": "execute_result"
    }
   ],
   "source": [
    "match.string"
   ]
  },
  {
   "cell_type": "code",
   "execution_count": 122,
   "metadata": {},
   "outputs": [
    {
     "data": {
      "text/plain": [
       "'Best effort for best result'"
      ]
     },
     "execution_count": 122,
     "metadata": {},
     "output_type": "execute_result"
    }
   ],
   "source": [
    "string = 'best effort for best result'\n",
    "pattern = r'best'\n",
    "match = re.search(pattern,string)\n",
    "match.group()\n",
    "match.start()\n",
    "match.end()\n",
    "match.re.pattern\n",
    "match.re.pattern.capitalize()\n",
    "match.string\n",
    "match.string.capitalize()"
   ]
  },
  {
   "cell_type": "code",
   "execution_count": 111,
   "metadata": {},
   "outputs": [
    {
     "data": {
      "text/plain": [
       "['best', 'best']"
      ]
     },
     "execution_count": 111,
     "metadata": {},
     "output_type": "execute_result"
    }
   ],
   "source": [
    "string = 'best effort for best result'\n",
    "pattern = r'best'\n",
    "match = re.findall(pattern,string)\n",
    "match"
   ]
  },
  {
   "cell_type": "code",
   "execution_count": 110,
   "metadata": {},
   "outputs": [
    {
     "name": "stdout",
     "output_type": "stream",
     "text": [
      "0 4\n",
      "16 20\n"
     ]
    }
   ],
   "source": [
    "string = 'best effort for best result'\n",
    "pattern = r'best'\n",
    "\n",
    "for match in re.finditer(pattern,string):\n",
    "    s = match.start()\n",
    "    e = match.end()\n",
    "    print (s,e)"
   ]
  },
  {
   "cell_type": "code",
   "execution_count": 127,
   "metadata": {},
   "outputs": [
    {
     "name": "stdout",
     "output_type": "stream",
     "text": [
      "'a'\n",
      "'b'\n",
      "'c'\n"
     ]
    }
   ],
   "source": [
    "pattern = ['a','b','c']\n",
    "for i in pattern:\n",
    "    print ('%r'%i)"
   ]
  },
  {
   "cell_type": "code",
   "execution_count": 129,
   "metadata": {},
   "outputs": [
    {
     "data": {
      "text/plain": [
       "['sumanteam', 'gmail.com']"
      ]
     },
     "execution_count": 129,
     "metadata": {},
     "output_type": "execute_result"
    }
   ],
   "source": [
    "text = 'sumanteam@gmail.com'\n",
    "match = re.split('@',text)\n",
    "match"
   ]
  },
  {
   "cell_type": "code",
   "execution_count": 140,
   "metadata": {},
   "outputs": [],
   "source": [
    "def multi_find(patterns,phrase):\n",
    "    for pattern1 in patterns:\n",
    "        print ('Searching for %r in %s'%(pattern1,phrase))\n",
    "        print (re.findall(pattern1,phrase))\n",
    "        "
   ]
  },
  {
   "cell_type": "code",
   "execution_count": 141,
   "metadata": {},
   "outputs": [
    {
     "name": "stdout",
     "output_type": "stream",
     "text": [
      "Searching for 'sd.' in sd...sdddd.s....sddddds.d...sdsdsdsd.....sssssddddddd\n",
      "['sd.', 'sdd', 'sdd', 'sds', 'sds', 'sdd']\n",
      "Searching for 'sd+' in sd...sdddd.s....sddddds.d...sdsdsdsd.....sssssddddddd\n",
      "['sd', 'sdddd', 'sddddd', 'sd', 'sd', 'sd', 'sd', 'sddddddd']\n",
      "Searching for 'sd*' in sd...sdddd.s....sddddds.d...sdsdsdsd.....sssssddddddd\n",
      "['sd', 'sdddd', 's', 'sddddd', 's', 'sd', 'sd', 'sd', 'sd', 's', 's', 's', 's', 'sddddddd']\n",
      "Searching for 'sd?' in sd...sdddd.s....sddddds.d...sdsdsdsd.....sssssddddddd\n",
      "['sd', 'sd', 's', 'sd', 's', 'sd', 'sd', 'sd', 'sd', 's', 's', 's', 's', 'sd']\n",
      "Searching for 'sd{3}' in sd...sdddd.s....sddddds.d...sdsdsdsd.....sssssddddddd\n",
      "['sddd', 'sddd', 'sddd']\n",
      "Searching for 'sd{2,4}' in sd...sdddd.s....sddddds.d...sdsdsdsd.....sssssddddddd\n",
      "['sdddd', 'sdddd', 'sdddd']\n"
     ]
    }
   ],
   "source": [
    "phrase = 'sd...sdddd.s....sddddds.d...sdsdsdsd.....sssssddddddd'\n",
    "pattern = ['sd.','sd+','sd*','sd?','sd{3}','sd{2,4}']\n",
    "multi_find(pattern,phrase)"
   ]
  },
  {
   "cell_type": "code",
   "execution_count": 142,
   "metadata": {},
   "outputs": [],
   "source": [
    "l1 = list(range(1,10))"
   ]
  },
  {
   "cell_type": "code",
   "execution_count": 143,
   "metadata": {},
   "outputs": [
    {
     "data": {
      "text/plain": [
       "[1, 2, 3, 4, 5, 6, 7, 8, 9]"
      ]
     },
     "execution_count": 143,
     "metadata": {},
     "output_type": "execute_result"
    }
   ],
   "source": [
    "l1"
   ]
  },
  {
   "cell_type": "code",
   "execution_count": 149,
   "metadata": {},
   "outputs": [
    {
     "data": {
      "text/plain": [
       "'school'"
      ]
     },
     "execution_count": 149,
     "metadata": {},
     "output_type": "execute_result"
    }
   ],
   "source": [
    "import re\n",
    "text = 'I am a school going school kid'\n",
    "match = re.search(r'school',text)\n",
    "match.group(0)"
   ]
  },
  {
   "cell_type": "code",
   "execution_count": 174,
   "metadata": {},
   "outputs": [],
   "source": [
    "def matching(pattern,text):\n",
    "    for pattern in pattern:\n",
    "        print ('Searching for %r in %s'%(pattern,text))\n",
    "        print (re.findall(pattern,text))\n",
    "        "
   ]
  },
  {
   "cell_type": "code",
   "execution_count": 175,
   "metadata": {},
   "outputs": [
    {
     "name": "stdout",
     "output_type": "stream",
     "text": [
      "Searching for 'ad+' in adddd...ddd.a.a.a.aaaaaaadddddd...addd.a.d.a.d.adadad..adddd....ad\n",
      "['adddd', 'adddddd', 'addd', 'ad', 'ad', 'ad', 'adddd', 'ad']\n",
      "Searching for 'ad*' in adddd...ddd.a.a.a.aaaaaaadddddd...addd.a.d.a.d.adadad..adddd....ad\n",
      "['adddd', 'a', 'a', 'a', 'a', 'a', 'a', 'a', 'a', 'a', 'adddddd', 'addd', 'a', 'a', 'ad', 'ad', 'ad', 'adddd', 'ad']\n",
      "Searching for 'ad?' in adddd...ddd.a.a.a.aaaaaaadddddd...addd.a.d.a.d.adadad..adddd....ad\n",
      "['ad', 'a', 'a', 'a', 'a', 'a', 'a', 'a', 'a', 'a', 'ad', 'ad', 'a', 'a', 'ad', 'ad', 'ad', 'ad', 'ad']\n",
      "Searching for 'ad{2}' in adddd...ddd.a.a.a.aaaaaaadddddd...addd.a.d.a.d.adadad..adddd....ad\n",
      "['add', 'add', 'add', 'add']\n",
      "Searching for 'ad{2,3}' in adddd...ddd.a.a.a.aaaaaaadddddd...addd.a.d.a.d.adadad..adddd....ad\n",
      "['addd', 'addd', 'addd', 'addd']\n"
     ]
    }
   ],
   "source": [
    "pattern = ['ad+','ad*','ad?','ad{2}','ad{2,3}']\n",
    "text = 'adddd...ddd.a.a.a.aaaaaaadddddd...addd.a.d.a.d.adadad..adddd....ad'\n",
    "matching(pattern,text)"
   ]
  },
  {
   "cell_type": "code",
   "execution_count": 160,
   "metadata": {},
   "outputs": [
    {
     "name": "stdout",
     "output_type": "stream",
     "text": [
      "String suman is matched 1 time between 0:5\n",
      "String suman is matched 2 time between 12:17\n",
      "String suman is matched 3 time between 24:29\n",
      "String suman is matched 4 time between 36:41\n",
      "String suman is matched 5 time between 48:53\n",
      "String suman is matched 6 time between 60:65\n",
      "String suman is matched 7 time between 72:77\n",
      "String suman is matched 8 time between 84:89\n",
      "'suman' is found:8 times\n"
     ]
    }
   ],
   "source": [
    "text = 'sumansanvithsumansanvithsumansanvithsumansanvithsumansanvithsumansanvithsumansanvithsumansanvith'\n",
    "pattern = r'suman'\n",
    "count = 0\n",
    "for i in re.finditer(pattern,text):\n",
    "    count += 1\n",
    "    s = i.start()\n",
    "    e = i.end()\n",
    "    print ('String %s is matched %d time between %d:%d'%(i.re.pattern,count,s,e))\n",
    "print ('%r is found:%d times'%(pattern,count))    "
   ]
  },
  {
   "cell_type": "code",
   "execution_count": 161,
   "metadata": {},
   "outputs": [],
   "source": [
    "def palindrome(x):\n",
    "    y = []\n",
    "    for i in x:\n",
    "        if (i == i[::-1]):\n",
    "            y.append(i)\n",
    "    return y        \n",
    "        "
   ]
  },
  {
   "cell_type": "code",
   "execution_count": 162,
   "metadata": {},
   "outputs": [],
   "source": [
    "op = palindrome(['liril','rinir','margo','biscuit'])"
   ]
  },
  {
   "cell_type": "code",
   "execution_count": 163,
   "metadata": {},
   "outputs": [
    {
     "data": {
      "text/plain": [
       "['liril', 'rinir']"
      ]
     },
     "execution_count": 163,
     "metadata": {},
     "output_type": "execute_result"
    }
   ],
   "source": [
    "op"
   ]
  },
  {
   "cell_type": "code",
   "execution_count": 164,
   "metadata": {},
   "outputs": [],
   "source": [
    "l1 = [1,2,3,4,45,55,65]"
   ]
  },
  {
   "cell_type": "code",
   "execution_count": 173,
   "metadata": {},
   "outputs": [
    {
     "data": {
      "text/plain": [
       "65"
      ]
     },
     "execution_count": 173,
     "metadata": {},
     "output_type": "execute_result"
    }
   ],
   "source": [
    "l1[len(l1)-1]"
   ]
  },
  {
   "cell_type": "code",
   "execution_count": 179,
   "metadata": {},
   "outputs": [
    {
     "name": "stdout",
     "output_type": "stream",
     "text": [
      "Searching for 'ad+' in: adadaddddd......ada.d...adddd..adad...aaadddd.....adadada...adddddd..ada.d...adadddd.adddd\n",
      "['ad', 'ad', 'addddd', 'ad', 'adddd', 'ad', 'ad', 'adddd', 'ad', 'ad', 'ad', 'adddddd', 'ad', 'ad', 'adddd', 'adddd']\n",
      "Searching for 'ad*' in: adadaddddd......ada.d...adddd..adad...aaadddd.....adadada...adddddd..ada.d...adadddd.adddd\n",
      "['ad', 'ad', 'addddd', 'ad', 'a', 'adddd', 'ad', 'ad', 'a', 'a', 'adddd', 'ad', 'ad', 'ad', 'a', 'adddddd', 'ad', 'a', 'ad', 'adddd', 'adddd']\n",
      "Searching for 'ad?' in: adadaddddd......ada.d...adddd..adad...aaadddd.....adadada...adddddd..ada.d...adadddd.adddd\n",
      "['ad', 'ad', 'ad', 'ad', 'a', 'ad', 'ad', 'ad', 'a', 'a', 'ad', 'ad', 'ad', 'ad', 'a', 'ad', 'ad', 'a', 'ad', 'ad', 'ad']\n",
      "Searching for 'ad{2}' in: adadaddddd......ada.d...adddd..adad...aaadddd.....adadada...adddddd..ada.d...adadddd.adddd\n",
      "['add', 'add', 'add', 'add', 'add', 'add']\n",
      "Searching for 'ad{2,3}' in: adadaddddd......ada.d...adddd..adad...aaadddd.....adadada...adddddd..ada.d...adadddd.adddd\n",
      "['addd', 'addd', 'addd', 'addd', 'addd', 'addd']\n"
     ]
    }
   ],
   "source": [
    "#Reglular Expression\n",
    "import re\n",
    "pattern = ['ad+','ad*','ad?','ad{2}','ad{2,3}']\n",
    "phrase = 'adadaddddd......ada.d...adddd..adad...aaadddd.....adadada...adddddd..ada.d...adadddd.adddd'\n",
    "for match in pattern:\n",
    "    print ('Searching for %r in: %s'%(match,phrase))\n",
    "    print (re.findall(match,phrase))"
   ]
  },
  {
   "cell_type": "code",
   "execution_count": 187,
   "metadata": {},
   "outputs": [
    {
     "data": {
      "text/plain": [
       "'morning'"
      ]
     },
     "execution_count": 187,
     "metadata": {},
     "output_type": "execute_result"
    }
   ],
   "source": [
    "patten = 'morning'\n",
    "text = 'very good morning'\n",
    "match = re.search(patten,text)\n",
    "match.group()"
   ]
  },
  {
   "cell_type": "code",
   "execution_count": 192,
   "metadata": {},
   "outputs": [
    {
     "data": {
      "text/plain": [
       "'Morning'"
      ]
     },
     "execution_count": 192,
     "metadata": {},
     "output_type": "execute_result"
    }
   ],
   "source": [
    "match.re.pattern.capitalize()"
   ]
  },
  {
   "cell_type": "code",
   "execution_count": 193,
   "metadata": {},
   "outputs": [
    {
     "data": {
      "text/plain": [
       "'Very good morning'"
      ]
     },
     "execution_count": 193,
     "metadata": {},
     "output_type": "execute_result"
    }
   ],
   "source": [
    "match.string.capitalize()"
   ]
  },
  {
   "cell_type": "code",
   "execution_count": 194,
   "metadata": {},
   "outputs": [
    {
     "data": {
      "text/plain": [
       "'good evening'"
      ]
     },
     "execution_count": 194,
     "metadata": {},
     "output_type": "execute_result"
    }
   ],
   "source": [
    "a = 'good morning'\n",
    "re.sub(r'morning','evening',a)"
   ]
  },
  {
   "cell_type": "code",
   "execution_count": 195,
   "metadata": {},
   "outputs": [],
   "source": [
    "text = '    1. apple'"
   ]
  },
  {
   "cell_type": "code",
   "execution_count": 201,
   "metadata": {},
   "outputs": [
    {
     "data": {
      "text/plain": [
       "<_sre.SRE_Match object; span=(3, 6), match=' 1.'>"
      ]
     },
     "execution_count": 201,
     "metadata": {},
     "output_type": "execute_result"
    }
   ],
   "source": [
    "match = re.search(r'\\s?\\d+\\.',text)\n",
    "match"
   ]
  },
  {
   "cell_type": "code",
   "execution_count": 202,
   "metadata": {},
   "outputs": [],
   "source": [
    "class pet:\n",
    "    Number_of_legs = 0\n",
    "    def legs(self):\n",
    "        print ('I have %d legs'%self.Number_of_legs)\n",
    "            "
   ]
  },
  {
   "cell_type": "code",
   "execution_count": 203,
   "metadata": {},
   "outputs": [],
   "source": [
    "dough = pet()"
   ]
  },
  {
   "cell_type": "code",
   "execution_count": 207,
   "metadata": {},
   "outputs": [
    {
     "name": "stdout",
     "output_type": "stream",
     "text": [
      "I have 10 legs\n"
     ]
    }
   ],
   "source": [
    "dough.legs()"
   ]
  },
  {
   "cell_type": "code",
   "execution_count": 206,
   "metadata": {},
   "outputs": [],
   "source": [
    "dough.Number_of_legs = 10"
   ]
  },
  {
   "cell_type": "code",
   "execution_count": 208,
   "metadata": {},
   "outputs": [],
   "source": [
    "tommy = pet()"
   ]
  },
  {
   "cell_type": "code",
   "execution_count": 211,
   "metadata": {},
   "outputs": [
    {
     "data": {
      "text/plain": [
       "0"
      ]
     },
     "execution_count": 211,
     "metadata": {},
     "output_type": "execute_result"
    }
   ],
   "source": [
    "tommy.Number_of_legs"
   ]
  },
  {
   "cell_type": "code",
   "execution_count": 212,
   "metadata": {},
   "outputs": [
    {
     "name": "stdout",
     "output_type": "stream",
     "text": [
      "I have 0 legs\n"
     ]
    }
   ],
   "source": [
    "tommy.legs()"
   ]
  },
  {
   "cell_type": "code",
   "execution_count": 219,
   "metadata": {},
   "outputs": [],
   "source": [
    "class pet_class():\n",
    "    no_of_legs = 0\n",
    "    def sleep(self):\n",
    "        print ('ZZZZZZ')\n",
    "    def display_legs(self):\n",
    "        print ('I have %d legs'%self.no_of_legs)"
   ]
  },
  {
   "cell_type": "code",
   "execution_count": 220,
   "metadata": {},
   "outputs": [],
   "source": [
    "puppy = pet_class()"
   ]
  },
  {
   "cell_type": "code",
   "execution_count": 221,
   "metadata": {},
   "outputs": [],
   "source": [
    "puppy.no_of_legs = 4"
   ]
  },
  {
   "cell_type": "code",
   "execution_count": 226,
   "metadata": {},
   "outputs": [
    {
     "name": "stdout",
     "output_type": "stream",
     "text": [
      "I have 4 legs\n"
     ]
    }
   ],
   "source": [
    "puppy.display_legs()"
   ]
  },
  {
   "cell_type": "code",
   "execution_count": 223,
   "metadata": {},
   "outputs": [],
   "source": [
    "tommy = pet_class()"
   ]
  },
  {
   "cell_type": "code",
   "execution_count": 224,
   "metadata": {},
   "outputs": [],
   "source": [
    "tommy.no_of_legs = 5"
   ]
  },
  {
   "cell_type": "code",
   "execution_count": 227,
   "metadata": {},
   "outputs": [
    {
     "name": "stdout",
     "output_type": "stream",
     "text": [
      "I have 5 legs\n"
     ]
    }
   ],
   "source": [
    "tommy.display_legs()"
   ]
  },
  {
   "cell_type": "code",
   "execution_count": 228,
   "metadata": {},
   "outputs": [
    {
     "name": "stdout",
     "output_type": "stream",
     "text": [
      "ZZZZZZ\n"
     ]
    }
   ],
   "source": [
    "puppy.sleep()"
   ]
  },
  {
   "cell_type": "code",
   "execution_count": 229,
   "metadata": {},
   "outputs": [
    {
     "name": "stdout",
     "output_type": "stream",
     "text": [
      "ZZZZZZ\n"
     ]
    }
   ],
   "source": [
    "tommy.sleep()"
   ]
  },
  {
   "cell_type": "code",
   "execution_count": 242,
   "metadata": {},
   "outputs": [],
   "source": [
    "class pet1():\n",
    "    numberoflegs = 0\n",
    "    def count(suman):\n",
    "        print ('I have %s legs'%suman.numberoflegs)"
   ]
  },
  {
   "cell_type": "code",
   "execution_count": 243,
   "metadata": {},
   "outputs": [],
   "source": [
    "tommy = pet1()"
   ]
  },
  {
   "cell_type": "code",
   "execution_count": 244,
   "metadata": {},
   "outputs": [],
   "source": [
    "tommy.numberoflegs = 4"
   ]
  },
  {
   "cell_type": "code",
   "execution_count": 245,
   "metadata": {},
   "outputs": [
    {
     "name": "stdout",
     "output_type": "stream",
     "text": [
      "I have 4 legs\n"
     ]
    }
   ],
   "source": [
    "tommy.count()"
   ]
  },
  {
   "cell_type": "code",
   "execution_count": 267,
   "metadata": {},
   "outputs": [],
   "source": [
    "class pet3():\n",
    "    def __init__(self,species,name):\n",
    "        self.species = species\n",
    "        self.name = name\n",
    "        \n",
    "    def getName(self):\n",
    "        return self.name\n",
    "    \n",
    "    def getSpecies(self):\n",
    "        return self.species\n",
    "    \n",
    "    def __str__(self):\n",
    "        return '%s is a %s'%(self.name,self.species)\n",
    "        "
   ]
  },
  {
   "cell_type": "code",
   "execution_count": 268,
   "metadata": {},
   "outputs": [],
   "source": [
    "pittie = pet3('parrot','polly')"
   ]
  },
  {
   "cell_type": "code",
   "execution_count": 269,
   "metadata": {},
   "outputs": [
    {
     "data": {
      "text/plain": [
       "'polly'"
      ]
     },
     "execution_count": 269,
     "metadata": {},
     "output_type": "execute_result"
    }
   ],
   "source": [
    "pittie.getName()"
   ]
  },
  {
   "cell_type": "code",
   "execution_count": 270,
   "metadata": {},
   "outputs": [
    {
     "data": {
      "text/plain": [
       "'parrot'"
      ]
     },
     "execution_count": 270,
     "metadata": {},
     "output_type": "execute_result"
    }
   ],
   "source": [
    "pittie.getSpecies()"
   ]
  },
  {
   "cell_type": "code",
   "execution_count": 271,
   "metadata": {},
   "outputs": [
    {
     "data": {
      "text/plain": [
       "<__main__.pet3 at 0x6d81190>"
      ]
     },
     "execution_count": 271,
     "metadata": {},
     "output_type": "execute_result"
    }
   ],
   "source": [
    "pittie"
   ]
  },
  {
   "cell_type": "code",
   "execution_count": 272,
   "metadata": {},
   "outputs": [
    {
     "name": "stdout",
     "output_type": "stream",
     "text": [
      "polly is a parrot\n"
     ]
    }
   ],
   "source": [
    "print(pittie)"
   ]
  },
  {
   "cell_type": "code",
   "execution_count": 278,
   "metadata": {},
   "outputs": [],
   "source": [
    "class amitab():\n",
    "    superstar = 'YES'\n",
    "    money = 'billions'\n",
    "class abhisekh(amitab):\n",
    "    superstar =  'no'\n",
    "    money = 'million'"
   ]
  },
  {
   "cell_type": "code",
   "execution_count": 279,
   "metadata": {},
   "outputs": [],
   "source": [
    "aradya = abhisekh()"
   ]
  },
  {
   "cell_type": "code",
   "execution_count": 280,
   "metadata": {},
   "outputs": [
    {
     "data": {
      "text/plain": [
       "'million'"
      ]
     },
     "execution_count": 280,
     "metadata": {},
     "output_type": "execute_result"
    }
   ],
   "source": [
    "aradya.money"
   ]
  },
  {
   "cell_type": "code",
   "execution_count": 281,
   "metadata": {},
   "outputs": [
    {
     "data": {
      "text/plain": [
       "'no'"
      ]
     },
     "execution_count": 281,
     "metadata": {},
     "output_type": "execute_result"
    }
   ],
   "source": [
    "aradya.superstar"
   ]
  },
  {
   "cell_type": "code",
   "execution_count": 325,
   "metadata": {},
   "outputs": [
    {
     "name": "stdout",
     "output_type": "stream",
     "text": [
      "0\n",
      "1\n",
      "2\n",
      "3\n",
      "4\n",
      "Done\n"
     ]
    }
   ],
   "source": [
    "i = 0\n",
    "while (i <= 4):\n",
    "    print (i)\n",
    "    i += 1\n",
    "print ('Done')    "
   ]
  },
  {
   "cell_type": "code",
   "execution_count": null,
   "metadata": {},
   "outputs": [],
   "source": [
    "fh = open('new_file.txt','w')\n",
    "print(\"ENter text ('@' to end the text)\")\n",
    "\n",
    "while(str1 != '@'):\n",
    "    str1 = input()\n",
    "    if (str1 != '@'):\n",
    "        fh.write(str1 + \"/n\")\n",
    "fh.close()\n"
   ]
  },
  {
   "cell_type": "code",
   "execution_count": null,
   "metadata": {},
   "outputs": [],
   "source": [
    "fh1 = open('new_file',\"r\")\n",
    "#fh1.seek(5,0)\n",
    "str1 = fh1.read().splitlines()\n",
    "print (str1)\n",
    "fh1.close()"
   ]
  },
  {
   "cell_type": "code",
   "execution_count": 321,
   "metadata": {},
   "outputs": [],
   "source": [
    "fh.close()"
   ]
  },
  {
   "cell_type": "code",
   "execution_count": 322,
   "metadata": {},
   "outputs": [],
   "source": [
    "fh1.close()"
   ]
  },
  {
   "cell_type": "code",
   "execution_count": null,
   "metadata": {},
   "outputs": [],
   "source": []
  }
 ],
 "metadata": {
  "kernelspec": {
   "display_name": "Python 3",
   "language": "python",
   "name": "python3"
  },
  "language_info": {
   "codemirror_mode": {
    "name": "ipython",
    "version": 3
   },
   "file_extension": ".py",
   "mimetype": "text/x-python",
   "name": "python",
   "nbconvert_exporter": "python",
   "pygments_lexer": "ipython3",
   "version": "3.6.4"
  }
 },
 "nbformat": 4,
 "nbformat_minor": 2
}
