{
 "cells": [
  {
   "cell_type": "code",
   "execution_count": 6,
   "metadata": {
    "collapsed": true
   },
   "outputs": [],
   "source": [
    "#polymorphism\n",
    "#operator overriding\n",
    "class scienceBook():\n",
    "    def __init__(self,pages):\n",
    "        self.pages = pages\n",
    "    def __add__(self,other):\n",
    "        return self.pages + other.pages\n",
    "class mathsbook():\n",
    "    def __init__(self,pages):\n",
    "        self.pages = pages"
   ]
  },
  {
   "cell_type": "code",
   "execution_count": 7,
   "metadata": {},
   "outputs": [],
   "source": [
    "s1 = scienceBook(170)"
   ]
  },
  {
   "cell_type": "code",
   "execution_count": 8,
   "metadata": {
    "collapsed": true
   },
   "outputs": [],
   "source": [
    "s2 = mathsbook(195)"
   ]
  },
  {
   "cell_type": "code",
   "execution_count": 9,
   "metadata": {},
   "outputs": [
    {
     "data": {
      "text/plain": [
       "365"
      ]
     },
     "execution_count": 9,
     "metadata": {},
     "output_type": "execute_result"
    }
   ],
   "source": [
    "s1 + s2"
   ]
  },
  {
   "cell_type": "code",
   "execution_count": 12,
   "metadata": {},
   "outputs": [],
   "source": [
    "class duck():\n",
    "    def talk(self):\n",
    "        print ('Quack..Quack....')\n",
    "class tiger():\n",
    "    def talk(self):\n",
    "        print('Brav...brav...')\n",
    "class dog():\n",
    "    def bark(self):\n",
    "        print('Bow..bow...')\n",
    "def method(obj):\n",
    "    if hasattr(obj,'talk'):\n",
    "        obj.talk()\n",
    "    elif hasattr(obj,'bark'):\n",
    "        obj.bark()\n",
    "    else:\n",
    "        print('Wrong class object passwd')   "
   ]
  },
  {
   "cell_type": "code",
   "execution_count": 13,
   "metadata": {
    "collapsed": true
   },
   "outputs": [],
   "source": [
    "x = duck()"
   ]
  },
  {
   "cell_type": "code",
   "execution_count": 14,
   "metadata": {},
   "outputs": [
    {
     "name": "stdout",
     "output_type": "stream",
     "text": [
      "Quack..Quack....\n"
     ]
    }
   ],
   "source": [
    "method(x)"
   ]
  },
  {
   "cell_type": "code",
   "execution_count": 15,
   "metadata": {
    "collapsed": true
   },
   "outputs": [],
   "source": [
    "x = tiger()"
   ]
  },
  {
   "cell_type": "code",
   "execution_count": 16,
   "metadata": {},
   "outputs": [
    {
     "name": "stdout",
     "output_type": "stream",
     "text": [
      "Brav...brav...\n"
     ]
    }
   ],
   "source": [
    "method(x)"
   ]
  },
  {
   "cell_type": "code",
   "execution_count": 17,
   "metadata": {
    "collapsed": true
   },
   "outputs": [],
   "source": [
    "x = dog()"
   ]
  },
  {
   "cell_type": "code",
   "execution_count": 18,
   "metadata": {},
   "outputs": [
    {
     "name": "stdout",
     "output_type": "stream",
     "text": [
      "Bow..bow...\n"
     ]
    }
   ],
   "source": [
    "method(x)"
   ]
  },
  {
   "cell_type": "code",
   "execution_count": 22,
   "metadata": {},
   "outputs": [
    {
     "name": "stdout",
     "output_type": "stream",
     "text": [
      "10.000010.000010.000010.000010.000010.000010.000010.000010.000010.0000\n"
     ]
    }
   ],
   "source": [
    "x = 10\n",
    "print('%.4f'%x*x)"
   ]
  },
  {
   "cell_type": "code",
   "execution_count": 24,
   "metadata": {},
   "outputs": [
    {
     "data": {
      "text/plain": [
       "3"
      ]
     },
     "execution_count": 24,
     "metadata": {},
     "output_type": "execute_result"
    }
   ],
   "source": [
    "sum(range(0,3))"
   ]
  },
  {
   "cell_type": "code",
   "execution_count": 26,
   "metadata": {},
   "outputs": [
    {
     "data": {
      "text/plain": [
       "[0, 1, 2]"
      ]
     },
     "execution_count": 26,
     "metadata": {},
     "output_type": "execute_result"
    }
   ],
   "source": [
    "list(range(0,3))"
   ]
  },
  {
   "cell_type": "code",
   "execution_count": 30,
   "metadata": {},
   "outputs": [
    {
     "name": "stdout",
     "output_type": "stream",
     "text": [
      "Input values1 2 3\n"
     ]
    }
   ],
   "source": [
    "x = [int(x) for x in input('Input values').split()]"
   ]
  },
  {
   "cell_type": "code",
   "execution_count": 31,
   "metadata": {},
   "outputs": [
    {
     "data": {
      "text/plain": [
       "list"
      ]
     },
     "execution_count": 31,
     "metadata": {},
     "output_type": "execute_result"
    }
   ],
   "source": [
    "type(x)"
   ]
  },
  {
   "cell_type": "code",
   "execution_count": 32,
   "metadata": {
    "collapsed": true
   },
   "outputs": [],
   "source": [
    "x = [[1,2,3],[4,5,6],[7,8,9]]"
   ]
  },
  {
   "cell_type": "code",
   "execution_count": 33,
   "metadata": {},
   "outputs": [
    {
     "data": {
      "text/plain": [
       "[[1, 2, 3], [4, 5, 6], [7, 8, 9]]"
      ]
     },
     "execution_count": 33,
     "metadata": {},
     "output_type": "execute_result"
    }
   ],
   "source": [
    "x"
   ]
  },
  {
   "cell_type": "code",
   "execution_count": 34,
   "metadata": {},
   "outputs": [
    {
     "data": {
      "text/plain": [
       "3"
      ]
     },
     "execution_count": 34,
     "metadata": {},
     "output_type": "execute_result"
    }
   ],
   "source": [
    "len(x)"
   ]
  },
  {
   "cell_type": "code",
   "execution_count": 35,
   "metadata": {},
   "outputs": [
    {
     "data": {
      "text/plain": [
       "3"
      ]
     },
     "execution_count": 35,
     "metadata": {},
     "output_type": "execute_result"
    }
   ],
   "source": [
    "len(x[1])"
   ]
  },
  {
   "cell_type": "code",
   "execution_count": 36,
   "metadata": {},
   "outputs": [
    {
     "data": {
      "text/plain": [
       "[1, 2, 3]"
      ]
     },
     "execution_count": 36,
     "metadata": {},
     "output_type": "execute_result"
    }
   ],
   "source": [
    "x[0]"
   ]
  },
  {
   "cell_type": "code",
   "execution_count": 38,
   "metadata": {},
   "outputs": [
    {
     "data": {
      "text/plain": [
       "[4, 5, 6]"
      ]
     },
     "execution_count": 38,
     "metadata": {},
     "output_type": "execute_result"
    }
   ],
   "source": [
    "x[1]"
   ]
  },
  {
   "cell_type": "code",
   "execution_count": 52,
   "metadata": {},
   "outputs": [
    {
     "name": "stdout",
     "output_type": "stream",
     "text": [
      "[[1, 4, 7], [2, 5, 8], [3, 6, 9]]\n"
     ]
    }
   ],
   "source": [
    "#Transpose a matrix\n",
    "x = [[1, 2, 3], [4, 5, 6], [7, 8, 9]]\n",
    "y = [[0,0,0],[0,0,0],[0,0,0]]\n",
    "for i in range(len(x)):\n",
    "    for j in range(len(x[0])):\n",
    "        y[i][j] = x[j][i]\n",
    "        \n",
    "print(y)    "
   ]
  },
  {
   "cell_type": "code",
   "execution_count": 73,
   "metadata": {},
   "outputs": [
    {
     "data": {
      "text/plain": [
       "b'show version\\r\\nAruba Operating System Software.\\r\\nArubaOS (MODEL: 275), Version 6.5.5.0\\r\\nWebsite: http://www.arubanetworks.com\\r\\n(c) Copyright 2017 Hewlett Packard Enterprise Development LP.\\r\\nCompiled on 2017-11-10 at 16:42:21 PST (build 62248) by p4build\\r\\nFIPS Mode :disabled\\r\\n\\r\\nAP uptime is 23 hours 29 minutes 59 seconds\\r\\nReboot Time and Cause: AP rebooted Fri Dec 1 07:32:33 UTC 2017; CLI cmd at uptime 0D 2H 13M 46S: reload\\r\\n6c:f3:7f:cf:c6:9c# '"
      ]
     },
     "execution_count": 73,
     "metadata": {},
     "output_type": "execute_result"
    }
   ],
   "source": [
    "import paramiko\n",
    "import re\n",
    "import time\n",
    "class accessfunctions(object):\n",
    "    def __init__(self,ip,username,password):\n",
    "        self.ip = ip\n",
    "        self.username = username\n",
    "        self.password = password\n",
    "        self.prehandle = ''\n",
    "        self.handle = ''\n",
    "    def ssh_connect(self):\n",
    "        self.prehandle = paramiko.SSHClient()\n",
    "        self.prehandle.set_missing_host_key_policy(paramiko.AutoAddPolicy())\n",
    "        self.prehandle.connect(self.ip,username = self.username,password = self.password)\n",
    "        self.handle = self.prehandle.invoke_shell()\n",
    "        self.handle.recv(1000)\n",
    "    def sendcmd(self,cmd):\n",
    "        cmd += '\\n'\n",
    "        self.handle.send(cmd)\n",
    "        time.sleep(2)\n",
    "        output = self.handle.recv(65500)\n",
    "        return output\n",
    "\n",
    "    def ssh_close(self):\n",
    "        self.prehandle.close()\n",
    "iap = accessfunctions('10.17.179.56','admin','admin')\n",
    "iap.ssh_connect()\n",
    "iap.sendcmd('show version')\n"
   ]
  },
  {
   "cell_type": "code",
   "execution_count": 74,
   "metadata": {},
   "outputs": [],
   "source": [
    "s = accessfunctions('10.17.179.56','admin','admin')"
   ]
  },
  {
   "cell_type": "code",
   "execution_count": 75,
   "metadata": {},
   "outputs": [],
   "source": [
    "s.ssh_connect()"
   ]
  },
  {
   "cell_type": "code",
   "execution_count": 76,
   "metadata": {},
   "outputs": [
    {
     "data": {
      "text/plain": [
       "b'show aps\\r\\n\\r\\r\\n2 Access Points\\r\\n---------------\\r\\nName               IP Address     Mode    Spectrum  Clients  Type          IPv6 Address  Mesh Role  Zone  Serial #    2.4 Channel  2.4 Power (dB)  2.4 Utilization (%)  2.4 Noise Floor (dBm)  5.0 Channel  5.0 Power (dB)  5.0 Utilization (%)  5.0 Noise Floor (dBm)  Need Antenna Config  From Port  Config Id  Config Csum  Ext SSID Active  Age          Link Local IP Address  \\r\\n----               ----------     ----    --------  -------  ----          ------------  ---------  ----  --------    -----------  --------------  -------------------  ---------------------  -----------  --------------  -------------------  ---------------------  -------------------  ---------  ---------  -----------  ---------------  ---          ---------------------  \\r\\n6c:f3:7f:cf:c6:9c  10.17.179.56*  access  disable   0        275(outdoor)  --            N/A        -     CL0000068   -            -               -                    -                      -            -               -                    -                      No                   none       360        35797        enable           23h:26m:58s  --                     \\r\\nb4:5d:50:c5:65:e4  10.17.179.58   access  disable   1        325(indoor)   --            N/A        -     CNBVHN75QY  6            12              51(ok)               -65(poor)              40           18              18(good)             -92(good)              No                   none       360        35797        enable           19h:49m:2s   --                     \\r\\n6c:f3:7f:cf:c6:9c# '"
      ]
     },
     "execution_count": 76,
     "metadata": {},
     "output_type": "execute_result"
    },
    {
     "name": "stderr",
     "output_type": "stream",
     "text": [
      "Socket exception: An existing connection was forcibly closed by the remote host (10054)\n",
      "Socket exception: An existing connection was forcibly closed by the remote host (10054)\n",
      "Socket exception: An existing connection was forcibly closed by the remote host (10054)\n"
     ]
    }
   ],
   "source": [
    "s.sendcmd('show aps')"
   ]
  },
  {
   "cell_type": "code",
   "execution_count": null,
   "metadata": {
    "collapsed": true
   },
   "outputs": [],
   "source": []
  }
 ],
 "metadata": {
  "kernelspec": {
   "display_name": "Python 3",
   "language": "python",
   "name": "python3"
  },
  "language_info": {
   "codemirror_mode": {
    "name": "ipython",
    "version": 3
   },
   "file_extension": ".py",
   "mimetype": "text/x-python",
   "name": "python",
   "nbconvert_exporter": "python",
   "pygments_lexer": "ipython3",
   "version": "3.6.1"
  }
 },
 "nbformat": 4,
 "nbformat_minor": 2
}
