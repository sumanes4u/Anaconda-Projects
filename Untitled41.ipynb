{
 "cells": [
  {
   "cell_type": "code",
   "execution_count": 1,
   "metadata": {},
   "outputs": [],
   "source": [
    "#datatypes\n",
    "#1. Int/Float/String/List/Dictionary/Tuple/sets\n",
    "#2. Arithematic Operations\n",
    "#3. Conditional operations(If/else)\n",
    "#4. Loops(While/for)\n",
    "#5. Try except Blocks\n",
    "#6. Boolean operations\n",
    "#7. File handling methods\n",
    "#8. Functions or modules\n",
    "#9. Classes(OOPS)\n",
    "#10. Regular Expressions\n",
    "#11. Decorators\n",
    "#12. Some realtime programs\n"
   ]
  },
  {
   "cell_type": "code",
   "execution_count": 2,
   "metadata": {},
   "outputs": [],
   "source": [
    "a= 10"
   ]
  },
  {
   "cell_type": "code",
   "execution_count": 3,
   "metadata": {},
   "outputs": [
    {
     "data": {
      "text/plain": [
       "10"
      ]
     },
     "execution_count": 3,
     "metadata": {},
     "output_type": "execute_result"
    }
   ],
   "source": [
    "a"
   ]
  },
  {
   "cell_type": "code",
   "execution_count": 9,
   "metadata": {},
   "outputs": [
    {
     "data": {
      "text/plain": [
       "[5]"
      ]
     },
     "execution_count": 9,
     "metadata": {},
     "output_type": "execute_result"
    }
   ],
   "source": [
    "l1 = [1,2,3,4]\n",
    "l2 = [1,2,3,4,5]\n",
    "x = [i for i in l2 if i not in l1]\n",
    "x"
   ]
  },
  {
   "cell_type": "code",
   "execution_count": 23,
   "metadata": {},
   "outputs": [
    {
     "data": {
      "text/plain": [
       "['c8:b5:ad:c3:af:f8',\n",
       " 'a8:bd:27:c9:84:60',\n",
       " '18:64:72:cf:ec:26',\n",
       " 'c8:b5:ad:c3:ac:ae',\n",
       " '6c:f3:7f:cf:c6:a8',\n",
       " '40:e3:d6:cf:f5:2e',\n",
       " 'c8:b5:ad:c3:b0:de',\n",
       " 'f0:5c:19:c9:c6:14',\n",
       " 'f0:5c:19:c9:c5:7c',\n",
       " 'a8:bd:27:ca:2b:a4',\n",
       " 'b4:5d:50:c5:5a:fc',\n",
       " 'b4:5d:50:c5:5b:6e',\n",
       " '84:d4:7e:c5:1d:a6',\n",
       " '18:64:72:c6:3e:a4',\n",
       " '40:e3:d6:c3:e0:da',\n",
       " 'a8:bd:27:c7:a8:4c',\n",
       " '34:fc:b9:c7:fa:aa',\n",
       " '20:4c:03:0e:c5:40',\n",
       " '20:4c:03:0a:0e:8c',\n",
       " 'b4:5d:50:c6:7e:84',\n",
       " 'a8:bd:27:cf:ed:b4',\n",
       " 'b4:5d:50:c5:5b:06',\n",
       " '40:e3:d6:cf:f5:46',\n",
       " 'ac:a3:1e:c7:e2:3a',\n",
       " '20:4c:03:0e:c5:d9',\n",
       " '38:17:c3:c8:01:fc',\n",
       " '94:b4:0f:cb:14:66',\n",
       " 'a8:bd:27:cf:ec:48',\n",
       " '38:17:c3:c7:ff:54',\n",
       " 'a8:bd:27:cf:f1:40']"
      ]
     },
     "execution_count": 23,
     "metadata": {},
     "output_type": "execute_result"
    }
   ],
   "source": [
    "import re\n",
    "iapswarm1 = '''30 Access Points\n",
    "----------------\n",
    "Name               IP Address        Mode    Spectrum  Clients  Type          IPv6 Address  Mesh Role  Zone           Serial #    radio0 Channel  radio0 Power (dB)  radio0 Utilization (%)  radio0 Noise Floor (dBm)  radio1 Channel  radio1 Power (dB)  radio1 Utilization (%)  radio1 Noise Floor (dBm)  Need Antenna Config  From Port  Config Id  Config Csum  Ext SSID Active  Age             Link Local IP Address\n",
    "----               ----------        ----    --------  -------  ----          ------------  ---------  ----           --------    --------------  -----------------  ----------------------  ------------------------  --------------  -----------------  ----------------------  ------------------------  -------------------  ---------  ---------  -----------  ---------------  ---             ---------------------\n",
    "c8:b5:ad:c3:af:f8  192.168.175.243*  access  disable   0        345(indoor)   --            N/A        -              CNDSK5102Q  64              18                 59(ok)                  -87(ok)                   -               -                  -                       -                         No                   none       2          33317        enable           1d:18h:41m:4s   --\n",
    "a8:bd:27:c9:84:60  192.168.175.224   access  disable   0        207(indoor)   --            Portal     -              CNCHJST0BC  52              18                 60(ok)                  -98(good)                 -               -                  -                       -                         No                   none       2          33317        disable          1d:18h:40m:52s  --\n",
    "18:64:72:cf:ec:26  192.168.175.229   access  disable   0        335(indoor)   --            Portal     -              CNBHJ0Y07Y  60              25                 21(good)                -86(ok)                   -               -                  -                       -                         No                   none       2          33317        disable          1d:18h:40m:52s  --\n",
    "c8:b5:ad:c3:ac:ae  192.168.175.244   access  disable   0        345(indoor)   --            N/A        -              CNDBK51082  64              18                 56(ok)                  -90(good)                 -               -                  -                       -                         No                   none       2          33317        enable           1d:18h:40m:51s  --\n",
    "6c:f3:7f:cf:c6:a8  192.168.175.238   access  disable   0        275(outdoor)  --            Portal     -              CL0000074   64              18                 58(ok)                  -96(good)                 -               -                  -                       -                         No                   none       2          33317        disable          1d:18h:40m:51s  --\n",
    "40:e3:d6:cf:f5:2e  192.168.175.234   access  disable   0        305(indoor)   --            Portal     -              CNBYJSS084  56              18                 69(ok)                  -96(good)                 -               -                  -                       -                         No                   none       2          33317        disable          1d:18h:40m:50s  --\n",
    "c8:b5:ad:c3:b0:de  192.168.175.206   access  disable   0        344(indoor)   --            N/A        -              CNDZK5006J  128             15                 8(good)                 -92(good)                 -               -                  -                       -                         Yes                  none       2          33317        enable           1d:18h:40m:50s  --\n",
    "f0:5c:19:c9:c6:14  192.168.175.212   access  disable   0        207(indoor)   --            Portal     -              DX0000267   56              18                 50(ok)                  -90(good)                 -               -                  -                       -                         No                   none       2          33317        disable          1d:18h:40m:49s  --\n",
    "f0:5c:19:c9:c5:7c  192.168.175.213   access  disable   0        207(indoor)   --            Portal     -              DX0000191   64              18                 54(ok)                  -98(good)                 -               -                  -                       -                         No                   none       2          33317        disable          1d:18h:40m:49s  --\n",
    "a8:bd:27:ca:2b:a4  192.168.175.218   access  disable   0        203H(indoor)  --            Portal     -              CNCRK2S039  100             18                 17(good)                -94(good)                 -               -                  -                       -                         No                   none       2          33317        disable          1d:18h:40m:49s  --\n",
    "b4:5d:50:c5:5a:fc  192.168.175.228   access  disable   0        325(indoor)   --            Portal     -              CNBVHN748X  60              27                 17(good)                -95(good)                 -               -                  -                       -                         No                   none       2          33317        disable          1d:18h:40m:49s  --\n",
    "b4:5d:50:c5:5b:6e  192.168.175.250   access  disable   0        325(indoor)   --            Portal     -              CNBVHN74BR  100             18                 18(good)                -94(good)                 -               -                  -                       -                         No                   none       2          33317        disable          1d:18h:40m:48s  --\n",
    "84:d4:7e:c5:1d:a6  192.168.175.226   access  disable   0        315(indoor)   --            Portal     veriwave_test  DW0000136   120             27                 4(good)                 -85(ok)                   -               -                  -                       -                         No                   none       2          33317        disable          1d:18h:40m:47s  --\n",
    "18:64:72:c6:3e:a4  192.168.175.204   access  disable   0        224(indoor)   --            Portal     veriwave_test  BX0104779   120             18                 6(good)                 -96(good)                 -               -                  -                       -                         Yes                  none       2          33317        disable          1d:18h:40m:47s  --\n",
    "40:e3:d6:c3:e0:da  192.168.175.232   access  disable   0        225(indoor)   --            Portal     -              CT0638712   52              18                 56(ok)                  -96(good)                 -               -                  -                       -                         No                   none       2          33317        disable          1d:18h:40m:47s  --\n",
    "a8:bd:27:c7:a8:4c  192.168.175.208   access  disable   0        365(outdoor)  --            Portal     -              CNCRJSW09D  60              26                 20(good)                -96(good)                 -               -                  -                       -                         No                   none       2          33317        disable          1d:18h:40m:47s  --\n",
    "34:fc:b9:c7:fa:aa  192.168.175.242   access  disable   0        315(indoor)   --            Portal     -              CNCSJ0T58Q  56              18                 66(ok)                  -95(good)                 -               -                  -                       -                         No                   none       2          33317        disable          1d:18h:40m:46s  --\n",
    "20:4c:03:0e:c5:40  192.168.175.216   access  disable   0        203R(indoor)  --            Portal     -              CNCQK2T0NF  52              17                 33(good)                -98(good)                 -               -                  -                       -                         No                   none       2          33317        disable          1d:18h:40m:46s  --\n",
    "20:4c:03:0a:0e:8c  192.168.175.221   access  disable   0        303H(indoor)  --            Portal     -              CNC7K2R03Y  60              26                 17(good)                -96(good)                 -               -                  -                       -                         No                   none       2          33317        disable          1d:18h:40m:45s  --\n",
    "b4:5d:50:c6:7e:84  192.168.175.205   access  disable   1        324(indoor)   --            Portal     veriwave_test  CNC0HN50F3  120             21                 5(good)                 -95(good)                 -               -                  -                       -                         Yes                  none       2          33317        disable          1d:18h:40m:44s  --\n",
    "a8:bd:27:cf:ed:b4  192.168.175.247   access  disable   0        374(outdoor)  --            N/A        -              CNDVK7Z025  100             18                 13(good)                -96(good)                 -               -                  -                       -                         Yes                  none       2          33317        enable           1d:18h:40m:44s  --\n",
    "b4:5d:50:c5:5b:06  192.168.175.249   access  disable   0        325(indoor)   --            Portal     -              CNBVHN7492  60              27                 19(good)                -94(good)                 -               -                  -                       -                         No                   none       2          33317        disable          1d:18h:40m:44s  --\n",
    "40:e3:d6:cf:f5:46  192.168.175.233   access  disable   0        305(indoor)   --            Portal     -              CNBYJSS08J  60              27                 18(good)                -96(good)                 -               -                  -                       -                         No                   none       2          33317        disable          1d:18h:40m:44s  --\n",
    "ac:a3:1e:c7:e2:3a  192.168.175.241   access  disable   0        214(indoor)   --            Portal     -              CK0103368   100             18                 18(good)                -96(good)                 -               -                  -                       -                         Yes                  none       2          33317        disable          1d:18h:40m:43s  --\n",
    "20:4c:03:0e:c5:d9  192.168.175.209   access  disable   0        203R(indoor)  --            Portal     -              CNCQK2T0Q2  100             17                 18(good)                -98(good)                 -               -                  -                       -                         No                   none       2          33317        disable          1d:18h:40m:42s  --\n",
    "38:17:c3:c8:01:fc  192.168.175.199   access  disable   0        303(indoor)   --            N/A        -              CNF4K9T058  -               -                  -                       -                         -               -                  -                       -                         No                   none       2          33317        enable           1d:18h:39m:50s  --\n",
    "94:b4:0f:cb:14:66  192.168.175.203   access  disable   0        228(indoor)   --            N/A        veriwave_test  DM0002585   120             0                  5(good)                 -96(good)                 -               -                  -                       -                         Yes                  none       2          33317        enable           1d:18h:39m:47s  --\n",
    "a8:bd:27:cf:ec:48  192.168.175.239   access  disable   0        375(outdoor)  --            N/A        -              CNDVK8000R  64              18                 52(ok)                  -96(good)                 -               -                  -                       -                         No                   none       2          33317        enable           1d:18h:38m:33s  --\n",
    "38:17:c3:c7:ff:54  192.168.175.198   access  disable   0        303(indoor)   --            N/A        -              CNF0K9T01X  -               -                  -                       -                         -               -                  -                       -                         No                   none       2          33317        enable           1d:17h:3m:34s   --\n",
    "a8:bd:27:cf:f1:40  192.168.175.197   access  disable   0        318(outdoor)  --            N/A        -              CNFCK7Y012  -               -                  -                       -                         -               -                  -                       -                         Yes                  none       2          33317        enable           22m:13s         --\n",
    "\n",
    "\n",
    "''' \n",
    "l1 = re.findall(r'\\w\\w:\\w\\w:\\w\\w:\\w\\w:\\w\\w:\\w\\w',iapswarm1)\n",
    "l1"
   ]
  },
  {
   "cell_type": "code",
   "execution_count": 25,
   "metadata": {},
   "outputs": [
    {
     "data": {
      "text/plain": [
       "['c8:b5:ad:c3:af:f8',\n",
       " 'c8:b5:ad:c3:af:f8',\n",
       " 'b4:5d:50:c6:7e:84',\n",
       " '84:d4:7e:c5:1d:a6',\n",
       " 'b4:5d:50:c5:5b:6e',\n",
       " 'a8:bd:27:cf:f1:40',\n",
       " '34:fc:b9:c7:fa:aa',\n",
       " 'a8:bd:27:cf:ed:b4',\n",
       " '18:64:72:cf:ec:26',\n",
       " '38:17:c3:c8:01:fc',\n",
       " 'b4:5d:50:c5:5b:06',\n",
       " 'c8:b5:ad:c3:ac:ae',\n",
       " '94:b4:0f:cb:14:66',\n",
       " 'f0:5c:19:c9:c5:7c',\n",
       " 'f0:5c:19:c9:c6:14',\n",
       " 'a8:bd:27:c9:84:60',\n",
       " '20:4c:03:0e:c5:40',\n",
       " 'a8:bd:27:ca:2b:a4',\n",
       " 'b4:5d:50:c5:5a:fc',\n",
       " 'c8:b5:ad:c3:b0:de',\n",
       " 'a8:bd:27:c7:a8:4c',\n",
       " '40:e3:d6:c3:e0:da',\n",
       " '18:64:72:c6:3e:a4',\n",
       " '40:e3:d6:cf:f5:46',\n",
       " '40:e3:d6:cf:f5:2e',\n",
       " '20:4c:03:0a:0e:8c',\n",
       " 'a8:bd:27:cf:ec:48',\n",
       " '6c:f3:7f:cf:c6:a8',\n",
       " '20:4c:03:0e:c5:d9',\n",
       " 'ac:a3:1e:c7:e2:3a',\n",
       " '38:17:c3:c7:ff:54',\n",
       " '38:17:c3:c8:01:dc']"
      ]
     },
     "execution_count": 25,
     "metadata": {},
     "output_type": "execute_result"
    }
   ],
   "source": [
    "iapswarm2 = '''c8:b5:ad:c3:af:f8# sh aps\n",
    "\n",
    "31 Access Points\n",
    "----------------\n",
    "Name               IP Address        Mode    Spectrum  Clients  Type          IPv6 Address  Mesh Role  Zone  Serial #    radio0 Channel  radio0 Power (dB)  radio0 Utilization (%)  radio0 Noise Floor (dBm)  radio1 Channel  radio1 Power (dB)  radio1 Utilization (%)  radio1 Noise Floor (dBm)  Need Antenna Config  From Port  Config Id  Config Csum  Ext SSID Active  Age              Link Local IP Address\n",
    "----               ----------        ----    --------  -------  ----          ------------  ---------  ----  --------    --------------  -----------------  ----------------------  ------------------------  --------------  -----------------  ----------------------  ------------------------  -------------------  ---------  ---------  -----------  ---------------  ---              ---------------------\n",
    "c8:b5:ad:c3:af:f8  192.168.175.243*  access  disable   0        345(indoor)   --            Portal     -     CNDSK5102Q  52E             18                 67(ok)                  -80(poor)                 -               -                  -                       -                         No                   none       65         18810        disable          63d:22h:42m:51s  --\n",
    "b4:5d:50:c6:7e:84  192.168.175.205   access  disable   0        324(indoor)   --            Portal     -     CNC0HN50F3  52E             27                 62(ok)                  -92(good)                 -               -                  -                       -                         Yes                  none       65         18810        disable          63d:22h:42m:2s   --\n",
    "84:d4:7e:c5:1d:a6  192.168.175.226   access  disable   0        315(indoor)   --            Portal     -     DW0000136   52E             27                 55(ok)                  -92(good)                 -               -                  -                       -                         No                   none       65         18810        disable          63d:22h:42m:0s   --\n",
    "b4:5d:50:c5:5b:6e  192.168.175.250   access  disable   0        325(indoor)   --            Portal     -     CNBVHN74BR  52E             27                 62(ok)                  -80(poor)                 -               -                  -                       -                         No                   none       65         18810        disable          63d:22h:41m:59s  --\n",
    "a8:bd:27:cf:f1:40  192.168.175.197   access  disable   0        318(outdoor)  --            Portal     -     CNFCK7Y012  149E            27                 36(good)                -92(good)                 -               -                  -                       -                         Yes                  none       65         18810        disable          63d:22h:41m:57s  --\n",
    "34:fc:b9:c7:fa:aa  192.168.175.242   access  disable   0        315(indoor)   --            Portal     -     CNCSJ0T58Q  52E             27                 64(ok)                  -74(poor)                 -               -                  -                       -                         No                   none       65         18810        disable          63d:22h:41m:57s  --\n",
    "a8:bd:27:cf:ed:b4  192.168.175.247   access  disable   0        374(outdoor)  --            Portal     -     CNDVK7Z025  52E             27                 59(ok)                  -92(good)                 -               -                  -                       -                         Yes                  none       65         18810        disable          63d:22h:41m:56s  --\n",
    "18:64:72:cf:ec:26  192.168.175.229   access  disable   0        335(indoor)   --            Portal     -     CNBHJ0Y07Y  52E             27                 60(ok)                  -81(ok)                   -               -                  -                       -                         No                   none       65         18810        disable          63d:22h:41m:55s  --\n",
    "38:17:c3:c8:01:fc  192.168.175.199   access  disable   0        303(indoor)   --            Portal     -     CNF4K9T058  52E             25                 61(ok)                  -92(good)                 -               -                  -                       -                         No                   none       65         18810        disable          63d:22h:41m:54s  --\n",
    "b4:5d:50:c5:5b:06  192.168.175.249   access  disable   0        325(indoor)   --            Portal     -     CNBVHN7492  52E             27                 65(ok)                  -91(good)                 -               -                  -                       -                         No                   none       65         18810        disable          63d:22h:41m:50s  --\n",
    "c8:b5:ad:c3:ac:ae  192.168.175.244   access  disable   0        345(indoor)   --            Portal     -     CNDBK51082  52E             18                 67(ok)                  -80(poor)                 -               -                  -                       -                         No                   none       65         18810        disable          63d:22h:41m:50s  --\n",
    "94:b4:0f:cb:14:66  192.168.175.203   access  disable   0        228(indoor)   --            Portal     -     DM0002585   52E             18                 100(poor)               -92(good)                 -               -                  -                       -                         Yes                  none       65         18810        disable          63d:22h:41m:34s  --\n",
    "f0:5c:19:c9:c5:7c  192.168.175.213   access  disable   0        207(indoor)   --            Portal     -     DX0000191   52E             27                 62(ok)                  -98(good)                 -               -                  -                       -                         No                   none       65         18810        disable          63d:22h:40m:54s  --\n",
    "f0:5c:19:c9:c6:14  192.168.175.212   access  disable   0        207(indoor)   --            Portal     -     DX0000267   52E             18                 27(good)                -98(good)                 -               -                  -                       -                         No                   none       65         18810        disable          63d:22h:40m:53s  --\n",
    "a8:bd:27:c9:84:60  192.168.175.224   access  disable   1        207(indoor)   --            Portal     -     CNCHJST0BC  52E             18                 30(good)                -88(good)                 -               -                  -                       -                         No                   none       65         18810        disable          63d:22h:40m:53s  --\n",
    "20:4c:03:0e:c5:40  192.168.175.216   access  disable   0        203R(indoor)  --            Portal     -     CNCQK2T0NF  52E             18                 33(good)                -85(ok)                   -               -                  -                       -                         No                   none       65         18810        disable          63d:22h:40m:52s  --\n",
    "a8:bd:27:ca:2b:a4  192.168.175.218   access  disable   0        203H(indoor)  --            Portal     -     CNCRK2S039  52E             19                 15(good)                -88(good)                 -               -                  -                       -                         No                   none       65         18810        disable          63d:22h:40m:34s  --\n",
    "b4:5d:50:c5:5a:fc  192.168.175.228   access  disable   0        325(indoor)   --            Portal     -     CNBVHN748X  52E             27                 61(ok)                  -86(ok)                   -               -                  -                       -                         No                   none       65         18810        disable          63d:22h:40m:8s   --\n",
    "c8:b5:ad:c3:b0:de  192.168.175.206   access  disable   0        344(indoor)   --            Portal     -     CNDZK5006J  52E             18                 67(ok)                  -95(good)                 -               -                  -                       -                         Yes                  none       65         18810        disable          63d:22h:40m:5s   --\n",
    "a8:bd:27:c7:a8:4c  192.168.175.208   access  disable   0        365(outdoor)  --            Portal     -     CNCRJSW09D  52E             18                 65(ok)                  -92(good)                 -               -                  -                       -                         No                   none       65         18810        disable          63d:22h:39m:58s  --\n",
    "40:e3:d6:c3:e0:da  192.168.175.232   access  disable   0        225(indoor)   --            Portal     -     CT0638712   52E             18                 100(poor)               -92(good)                 -               -                  -                       -                         No                   none       65         18810        disable          63d:22h:39m:52s  --\n",
    "18:64:72:c6:3e:a4  192.168.175.204   access  disable   0        224(indoor)   --            Portal     -     BX0104779   140E            4                  44(good)                -92(good)                 -               -                  -                       -                         Yes                  none       65         18810        disable          63d:22h:39m:51s  --\n",
    "40:e3:d6:cf:f5:46  192.168.175.233   access  disable   1        305(indoor)   --            Portal     -     CNBYJSS08J  52E             27                 63(ok)                  -91(good)                 -               -                  -                       -                         No                   none       65         18810        disable          63d:22h:39m:49s  --\n",
    "40:e3:d6:cf:f5:2e  192.168.175.234   access  disable   0        305(indoor)   --            Portal     -     CNBYJSS084  52E             18                 64(ok)                  -92(good)                 -               -                  -                       -                         No                   none       65         18810        disable          63d:22h:39m:47s  --\n",
    "20:4c:03:0a:0e:8c  192.168.175.221   access  disable   0        303H(indoor)  --            Portal     -     CNC7K2R03Y  52E             27                 62(ok)                  -92(good)                 -               -                  -                       -                         No                   none       65         18810        disable          63d:22h:39m:32s  --\n",
    "a8:bd:27:cf:ec:48  192.168.175.239   access  disable   0        375(outdoor)  --            Portal     -     CNDVK8000R  52E             27                 62(ok)                  -92(good)                 -               -                  -                       -                         No                   none       65         18810        disable          63d:22h:37m:30s  --\n",
    "6c:f3:7f:cf:c6:a8  192.168.175.238   access  disable   0        275(outdoor)  --            N/A        -     CL0000074   153E            23                 99(poor)                -92(good)                 -               -                  -                       -                         No                   none       65         18810        enable           52d:20h:36m:8s   --\n",
    "20:4c:03:0e:c5:d9  192.168.175.209   access  disable   0        203R(indoor)  --            Portal     -     CNCQK2T0Q2  52E             18                 59(ok)                  -86(ok)                   -               -                  -                       -                         No                   none       65         18810        disable          18d:19h:15m:1s   --\n",
    "ac:a3:1e:c7:e2:3a  192.168.175.241   access  disable   0        214(indoor)   --            Portal     -     CK0103368   52E             18                 100(poor)               -92(good)                 -               -                  -                       -                         Yes                  none       65         18810        disable          4d:20h:42m:37s   --\n",
    "38:17:c3:c7:ff:54  192.168.175.198   access  disable   0        303(indoor)   --            Portal     -     CNF0K9T01X  52E             18                 64(ok)                  -92(good)                 -               -                  -                       -                         No                   none       65         18810        disable          8h:31m:56s       --\n",
    "38:17:c3:c8:01:dc  192.168.175.202   access  disable   0        303(indoor)   --            Point      -     CNF4K9T04R  52E             25                 61(ok)                  -92(good)                 -               -                  -                       -                         No                   none       65         18810        disable          6h:3m:5s         --\n",
    "'''\n",
    "l2 = re.findall(r'\\w\\w:\\w\\w:\\w\\w:\\w\\w:\\w\\w:\\w\\w',iapswarm2)\n",
    "l2"
   ]
  },
  {
   "cell_type": "code",
   "execution_count": 28,
   "metadata": {},
   "outputs": [
    {
     "data": {
      "text/plain": [
       "['38:17:c3:c8:01:dc']"
      ]
     },
     "execution_count": 28,
     "metadata": {},
     "output_type": "execute_result"
    }
   ],
   "source": [
    "x = [i for i in l2 if i not in l1]\n",
    "x"
   ]
  },
  {
   "cell_type": "code",
   "execution_count": 29,
   "metadata": {},
   "outputs": [],
   "source": [
    "a = 10"
   ]
  },
  {
   "cell_type": "code",
   "execution_count": 30,
   "metadata": {},
   "outputs": [
    {
     "data": {
      "text/plain": [
       "489630032"
      ]
     },
     "execution_count": 30,
     "metadata": {},
     "output_type": "execute_result"
    }
   ],
   "source": [
    "id(a)"
   ]
  },
  {
   "cell_type": "code",
   "execution_count": 32,
   "metadata": {},
   "outputs": [],
   "source": [
    "b = a"
   ]
  },
  {
   "cell_type": "code",
   "execution_count": 33,
   "metadata": {},
   "outputs": [
    {
     "data": {
      "text/plain": [
       "489630032"
      ]
     },
     "execution_count": 33,
     "metadata": {},
     "output_type": "execute_result"
    }
   ],
   "source": [
    "id(b)"
   ]
  },
  {
   "cell_type": "code",
   "execution_count": 34,
   "metadata": {},
   "outputs": [],
   "source": [
    "a = float(a)"
   ]
  },
  {
   "cell_type": "code",
   "execution_count": 35,
   "metadata": {},
   "outputs": [
    {
     "data": {
      "text/plain": [
       "10.0"
      ]
     },
     "execution_count": 35,
     "metadata": {},
     "output_type": "execute_result"
    }
   ],
   "source": [
    "a"
   ]
  },
  {
   "cell_type": "code",
   "execution_count": 36,
   "metadata": {},
   "outputs": [],
   "source": [
    "a = int(a)"
   ]
  },
  {
   "cell_type": "code",
   "execution_count": 37,
   "metadata": {},
   "outputs": [
    {
     "data": {
      "text/plain": [
       "10"
      ]
     },
     "execution_count": 37,
     "metadata": {},
     "output_type": "execute_result"
    }
   ],
   "source": [
    "a"
   ]
  },
  {
   "cell_type": "code",
   "execution_count": null,
   "metadata": {},
   "outputs": [],
   "source": []
  }
 ],
 "metadata": {
  "kernelspec": {
   "display_name": "Python 3",
   "language": "python",
   "name": "python3"
  },
  "language_info": {
   "codemirror_mode": {
    "name": "ipython",
    "version": 3
   },
   "file_extension": ".py",
   "mimetype": "text/x-python",
   "name": "python",
   "nbconvert_exporter": "python",
   "pygments_lexer": "ipython3",
   "version": "3.6.4"
  }
 },
 "nbformat": 4,
 "nbformat_minor": 2
}
