{
 "cells": [
  {
   "cell_type": "code",
   "execution_count": 1,
   "metadata": {
    "collapsed": true
   },
   "outputs": [],
   "source": [
    "# Restaurant "
   ]
  },
  {
   "cell_type": "code",
   "execution_count": 5,
   "metadata": {},
   "outputs": [
    {
     "name": "stdout",
     "output_type": "stream",
     "text": [
      "The Mean Queen\n",
      "Pizza\n",
      "\n",
      "The Mean Queen serves wonderful Pizza.\n",
      "\n",
      "The Mean Queen is open. Come on in!\n"
     ]
    }
   ],
   "source": [
    "class Restaurant():\n",
    "    \n",
    "    def __init__(self,name,cuisine_type):\n",
    "        # Initialize\n",
    "        self.name = name.title()\n",
    "        self.cuisine_type = cuisine_type\n",
    "        \n",
    "    def describe_restaurant(self):\n",
    "        \"\"\" Describe a summary of the restaurant\"\"\"\n",
    "        msg = self.name + \" serves wonderful \" + self.cuisine_type + \".\"\n",
    "        print (\"\\n\" + msg)\n",
    "    \n",
    "    def open_restaurant(self):\n",
    "        \"\"\" Display a message that restaurant is open\"\"\"\n",
    "        msg = self.name + \" is open. Come on in!\"\n",
    "        print (\"\\n\" + msg)\n",
    "        \n",
    "restaurant = Restaurant('The Mean Queen', 'Pizza')\n",
    "print (restaurant.name)\n",
    "print (restaurant.cuisine_type)        \n",
    "        \n",
    "restaurant.describe_restaurant()\n",
    "restaurant.open_restaurant()"
   ]
  },
  {
   "cell_type": "code",
   "execution_count": 6,
   "metadata": {},
   "outputs": [
    {
     "name": "stdout",
     "output_type": "stream",
     "text": [
      "\n",
      "The Mean Queen serves wonderful Pizza.\n",
      "\n",
      "Ludvig'S Bistro serves wonderful seafood.\n",
      "\n",
      "Mango Thai serves wonderful thai food.\n"
     ]
    }
   ],
   "source": [
    "restaurant = Restaurant('The Mean Queen', 'Pizza')\n",
    "restaurant.describe_restaurant()\n",
    "\n",
    "\n",
    "restaurant = Restaurant(\"Ludvig's Bistro\", 'seafood')\n",
    "restaurant.describe_restaurant()\n",
    "\n",
    "\n",
    "restaurant = Restaurant('mango thai', 'thai food')\n",
    "restaurant.describe_restaurant()\n",
    "\n"
   ]
  },
  {
   "cell_type": "code",
   "execution_count": 10,
   "metadata": {
    "collapsed": true
   },
   "outputs": [],
   "source": [
    "# Users\n",
    "\n",
    "class User():\n",
    "    def __init__(self,first_name,last_name,username, email, location):\n",
    "        # Initialize\n",
    "        self.first_name = first_name.title()\n",
    "        self.last_name = last_name.title()\n",
    "        self.username = username\n",
    "        self.email = email\n",
    "        self.location = location.title()\n",
    "        \n",
    "    def describe_user(self):\n",
    "        print (\"\\n\" + self.first_name + \" \" + self.last_name)\n",
    "        print (\" Username: \" + self.username)\n",
    "        print (\" Email: \" + self.email)\n",
    "        print (\" Location: \" + self.location)\n",
    "        \n",
    "    def greet_user(self):\n",
    "        print (\"\\n Welcome back, \" + self.username + \"!\")"
   ]
  },
  {
   "cell_type": "code",
   "execution_count": 15,
   "metadata": {},
   "outputs": [
    {
     "name": "stdout",
     "output_type": "stream",
     "text": [
      "\n",
      "Eric Matthes\n",
      " Username: e_matthes\n",
      " Email: e_matthes@example.com\n",
      " Location: Alaska\n",
      "\n",
      " Welcome back, e_matthes!\n"
     ]
    }
   ],
   "source": [
    "eric = User('eric', 'matthes', 'e_matthes', 'e_matthes@example.com', 'alaska')\n",
    "eric.describe_user()\n",
    "eric.greet_user()"
   ]
  },
  {
   "cell_type": "code",
   "execution_count": 21,
   "metadata": {},
   "outputs": [
    {
     "name": "stdout",
     "output_type": "stream",
     "text": [
      "\n",
      "Willie Burger\n",
      " Username: willieburger\n",
      " Email: wb@example.com\n",
      " Location: Alaska\n",
      "\n",
      " Welcome back, willieburger!\n"
     ]
    }
   ],
   "source": [
    "willie = User('willie', 'burger', 'willieburger', 'wb@example.com', 'alaska')\n",
    "willie.describe_user()\n",
    "willie.greet_user()"
   ]
  },
  {
   "cell_type": "code",
   "execution_count": 17,
   "metadata": {
    "collapsed": true
   },
   "outputs": [],
   "source": [
    "class Restaurant():\n",
    "    \n",
    "    def __init__(self,name,cuisine_type):\n",
    "        # Initialize\n",
    "        self.name = name.title()\n",
    "        self.cuisine_type = cuisine_type\n",
    "        self.number_served = 0\n",
    "        \n",
    "    def describe_restaurant(self):\n",
    "        \"\"\" Describe a summary of the restaurant\"\"\"\n",
    "        msg = self.name + \" serves wonderful \" + self.cuisine_type + \".\"\n",
    "        print (\"\\n\" + msg)\n",
    "    \n",
    "    def open_restaurant(self):\n",
    "        \"\"\" Display a message that restaurant is open\"\"\"\n",
    "        msg = self.name + \" is open. Come on in!\"\n",
    "        print (\"\\n\" + msg)\n",
    "        \n",
    "    def set_number_served(self,number_served):\n",
    "        self.number_served = number_served\n",
    "        \n",
    "    def increment_number_served(self,additional_served):\n",
    "        self.number_served += additional_served\n",
    "        "
   ]
  },
  {
   "cell_type": "code",
   "execution_count": 19,
   "metadata": {},
   "outputs": [
    {
     "name": "stdout",
     "output_type": "stream",
     "text": [
      "\n",
      "The Mean Queen serves wonderful pizza.\n",
      "\n",
      " Number served: 0\n",
      "\n",
      " Number served: 430\n",
      "\n",
      " Number served: 1257\n",
      "\n",
      " Number served: 1496\n"
     ]
    }
   ],
   "source": [
    "restaurant = Restaurant('the mean queen', 'pizza')\n",
    "restaurant.describe_restaurant()\n",
    "\n",
    "print (\"\\n Number served: \" + str(restaurant.number_served))\n",
    "restaurant.number_served = 430\n",
    "print (\"\\n Number served: \" + str(restaurant.number_served))\n",
    "\n",
    "restaurant.set_number_served(1257)\n",
    "print (\"\\n Number served: \" + str(restaurant.number_served))\n",
    "\n",
    "restaurant.increment_number_served(239)\n",
    "print (\"\\n Number served: \" + str(restaurant.number_served))\n"
   ]
  },
  {
   "cell_type": "code",
   "execution_count": 20,
   "metadata": {
    "collapsed": true
   },
   "outputs": [],
   "source": [
    "class User():\n",
    "    def __init__(self,first_name,last_name,username, email, location):\n",
    "        # Initialize\n",
    "        self.first_name = first_name.title()\n",
    "        self.last_name = last_name.title()\n",
    "        self.username = username\n",
    "        self.email = email\n",
    "        self.location = location.title()\n",
    "        self.login_attempts = 0\n",
    "        \n",
    "    def describe_user(self):\n",
    "        print (\"\\n\" + self.first_name + \" \" + self.last_name)\n",
    "        print (\" Username: \" + self.username)\n",
    "        print (\" Email: \" + self.email)\n",
    "        print (\" Location: \" + self.location)\n",
    "        \n",
    "    def greet_user(self):\n",
    "        print (\"\\n Welcome back, \" + self.username + \"!\")\n",
    "        \n",
    "    def increment_login_attempts(self):\n",
    "        self.login_attempts += 1\n",
    "        \n",
    "    def reset_login_attempts(self):\n",
    "        self.login_attempts = 0"
   ]
  },
  {
   "cell_type": "code",
   "execution_count": 23,
   "metadata": {},
   "outputs": [
    {
     "name": "stdout",
     "output_type": "stream",
     "text": [
      "\n",
      "Eric Matthes\n",
      " Username: e_matthes\n",
      " Email: e_matthes@example.com\n",
      " Location: Alaska\n",
      "\n",
      " Welcome back, e_matthes!\n",
      "\n",
      "Making 3 login attempts......\n",
      " Login attempts: 3\n",
      "Resetting login attempts....\n",
      " Login attempts: 0\n"
     ]
    }
   ],
   "source": [
    "eric = User('eric', 'matthes', 'e_matthes', 'e_matthes@example.com', 'alaska')\n",
    "eric.describe_user()\n",
    "eric.greet_user()\n",
    "\n",
    "print (\"\\nMaking 3 login attempts......\")\n",
    "eric.increment_login_attempts()\n",
    "eric.increment_login_attempts()\n",
    "eric.increment_login_attempts()\n",
    "print (\" Login attempts: \" + str(eric.login_attempts))\n",
    "\n",
    "print (\"Resetting login attempts....\")\n",
    "eric.reset_login_attempts()\n",
    "print (\" Login attempts: \" + str(eric.login_attempts))"
   ]
  },
  {
   "cell_type": "code",
   "execution_count": 24,
   "metadata": {
    "collapsed": true
   },
   "outputs": [],
   "source": [
    "# Ice Cream Stand\n",
    "\n",
    "class IceCreamStand(Restaurant):\n",
    "    \n",
    "    def __init__(self,name,cuisine_type='ice_cream'):\n",
    "        super().__init__(name,cuisine_type)\n",
    "        self.flavors = []\n",
    "        \n",
    "    def show_flavors(self):\n",
    "        print (\"\\n We have the following flavors available: \")\n",
    "        for flavor in self.flavors:\n",
    "            print (\"- \" + flavor.title())"
   ]
  },
  {
   "cell_type": "code",
   "execution_count": 26,
   "metadata": {},
   "outputs": [
    {
     "name": "stdout",
     "output_type": "stream",
     "text": [
      "\n",
      "The Big One serves wonderful ice_cream.\n",
      "\n",
      " We have the following flavors available: \n",
      "- Vanilla\n",
      "- Chocolate\n",
      "- Black Cherry\n"
     ]
    }
   ],
   "source": [
    "big_one = IceCreamStand('The Big One')\n",
    "big_one.flavors = [\"vanilla\", \"chocolate\", 'black cherry']\n",
    "\n",
    "big_one.describe_restaurant()\n",
    "big_one.show_flavors()"
   ]
  },
  {
   "cell_type": "code",
   "execution_count": 32,
   "metadata": {
    "collapsed": true
   },
   "outputs": [],
   "source": [
    "# Admin User\n",
    "\n",
    "class Admin(User):\n",
    "    def __init__(self,first_name,last_name,username,email,location):\n",
    "        # Initialize\n",
    "        super().__init__(first_name,last_name,username,email,location)\n",
    "        self.privileges = []\n",
    "        \n",
    "    def show_privileges(self):\n",
    "        print(\"\\nPrivileges\")\n",
    "        for privilege in self.privileges:\n",
    "            print (\"- \" + privilege)"
   ]
  },
  {
   "cell_type": "code",
   "execution_count": 33,
   "metadata": {},
   "outputs": [
    {
     "name": "stdout",
     "output_type": "stream",
     "text": [
      "\n",
      "Eric Matthes\n",
      " Username: e_matthes\n",
      " Email: e_matthes@example.com\n",
      " Location: Alaska\n"
     ]
    }
   ],
   "source": [
    "eric = Admin('eric', 'matthes', 'e_matthes', 'e_matthes@example.com', 'alaska')\n",
    "eric.describe_user()"
   ]
  },
  {
   "cell_type": "code",
   "execution_count": 34,
   "metadata": {
    "collapsed": true
   },
   "outputs": [],
   "source": [
    "eric.privileges = [\n",
    "    'can reset passwords',\n",
    "    'can moderate discussions',\n",
    "    'can suspend accounts'\n",
    "]"
   ]
  },
  {
   "cell_type": "code",
   "execution_count": 35,
   "metadata": {},
   "outputs": [
    {
     "name": "stdout",
     "output_type": "stream",
     "text": [
      "\n",
      "Privileges\n",
      "- can reset passwords\n",
      "- can moderate discussions\n",
      "- can suspend accounts\n"
     ]
    }
   ],
   "source": [
    "eric.show_privileges()"
   ]
  },
  {
   "cell_type": "code",
   "execution_count": 51,
   "metadata": {
    "collapsed": true
   },
   "outputs": [],
   "source": [
    "class Privileges():\n",
    "    \n",
    "    def __init__(self,privileges=[]):\n",
    "        # attribute       # list\n",
    "        self.privileges = privileges\n",
    "        \n",
    "    def show_privileges(self):\n",
    "        print (\"\\nPrivileges:\")\n",
    "        if self.privileges:\n",
    "            for privilege in self.privileges:\n",
    "                print (\"- \" + privilege)\n",
    "        else:\n",
    "            print (\"- This user has no privileges\")"
   ]
  },
  {
   "cell_type": "code",
   "execution_count": 38,
   "metadata": {},
   "outputs": [
    {
     "name": "stdout",
     "output_type": "stream",
     "text": [
      "\n",
      "Eric Matthes\n",
      " Username: e_matthes\n",
      " Email: e_matthes@example.com\n",
      " Location: Alaska\n"
     ]
    }
   ],
   "source": [
    "eric = Admin('eric', 'matthes', 'e_matthes', 'e_matthes@example.com', 'alaska')\n",
    "eric.describe_user()"
   ]
  },
  {
   "cell_type": "code",
   "execution_count": 41,
   "metadata": {
    "collapsed": true
   },
   "outputs": [],
   "source": [
    "# Admin User\n",
    "\n",
    "class Admin(User):\n",
    "    def __init__(self,first_name,last_name,username,email,location):\n",
    "        # Initialize\n",
    "        super().__init__(first_name,last_name,username,email,location)\n",
    "        # object\n",
    "        self.privileges = Privileges()\n",
    "        \n",
    "    def show_privileges(self):\n",
    "        print(\"\\nPrivileges\")\n",
    "        for privilege in self.privileges:\n",
    "            print (\"- \" + privilege)"
   ]
  },
  {
   "cell_type": "code",
   "execution_count": 48,
   "metadata": {},
   "outputs": [
    {
     "name": "stdout",
     "output_type": "stream",
     "text": [
      "\n",
      "Eric Matthes\n",
      " Username: e_matthes\n",
      " Email: e_matthes@example.com\n",
      " Location: Alaska\n"
     ]
    }
   ],
   "source": [
    "eric = Admin('eric', 'matthes', 'e_matthes', 'e_matthes@example.com', 'alaska')\n",
    "eric.describe_user()"
   ]
  },
  {
   "cell_type": "code",
   "execution_count": 50,
   "metadata": {},
   "outputs": [
    {
     "name": "stdout",
     "output_type": "stream",
     "text": [
      "\n",
      "Privileges:\n",
      "- can reset passwords\n",
      "- can moderate discussions\n",
      "- can suspend accounts\n",
      "\n",
      " Adding Privileges...\n",
      "\n",
      "Privileges:\n",
      "- can reset passwords\n",
      "- can moderate discussions\n",
      "- can suspend accounts\n"
     ]
    }
   ],
   "source": [
    "eric.privileges.show_privileges()\n",
    "print (\"\\n Adding Privileges...\")\n",
    "eric_privileges = [\n",
    "    'can reset passwords',\n",
    "    'can moderate discussions',\n",
    "    'can suspend accounts'\n",
    "]\n",
    "     # object   # list\n",
    "eric.privileges.privileges = eric_privileges\n",
    "eric.privileges.show_privileges()"
   ]
  },
  {
   "cell_type": "code",
   "execution_count": 52,
   "metadata": {
    "collapsed": true
   },
   "outputs": [],
   "source": [
    "# class > class2 > class3 > class4 (+ from this class.)"
   ]
  },
  {
   "cell_type": "code",
   "execution_count": 53,
   "metadata": {
    "collapsed": true
   },
   "outputs": [],
   "source": [
    "# Battery Upgrade"
   ]
  },
  {
   "cell_type": "code",
   "execution_count": 54,
   "metadata": {
    "collapsed": true
   },
   "outputs": [],
   "source": [
    "class Car():\n",
    "    \n",
    "    def __init__(self,manufacturer, model, year):\n",
    "        self.manufacturer = manufacturer\n",
    "        self.model = model\n",
    "        self.year = year\n",
    "        self.odometer_reading = 0\n",
    "        \n",
    "    def get_descriptive_name(self):\n",
    "        long_name = str(self.year) + '' + self.manufacturer + ' ' + self.model\n",
    "        return long_name.title()\n",
    "    \n",
    "    def read_odometer(self):\n",
    "        print ('This car has ' + str(self.odometer_reading) + \" miles on it.\")\n",
    "        \n",
    "    def update_odometer(self, mileage):\n",
    "        if mileage >= self.odometer_reading:\n",
    "            self.odometer_reading = mileage\n",
    "        else:\n",
    "            print (\"YOu can't roll back an odometer\")\n",
    "            \n",
    "    def increment_odometer(self,miles):\n",
    "        self.odometer_reading += miles\n",
    "        \n",
    "class Battery():\n",
    "    def __init__(self,battery_size = 60):\n",
    "        self.battery_size = battery_size\n",
    "        \n",
    "    def describe_battery(self):\n",
    "        print (\"this car has a \" + str(self.battery_size) + \"-kw battery\")\n",
    "        \n",
    "    def get_range(self):\n",
    "        \n",
    "        if self.battery_size == 60:\n",
    "            range = 140\n",
    "        elif self.battery_size == 85:\n",
    "            range = 185\n",
    "            \n",
    "        message = \"This car can go approximately \" + str(range)\n",
    "        message += \" miles on a full charge\"\n",
    "        print (message)\n",
    "        \n",
    "    def upgrade_battery(self):\n",
    "        if self.battery_size == 60:\n",
    "            self.battery_size = 85\n",
    "            print (\"Upgrade the battery to 85 KWH\")\n",
    "        else:\n",
    "            print (\"The battery is already upgrade\")\n",
    "            \n",
    "\n",
    "class ElectricCar(Car):\n",
    "    \n",
    "    def __init__(self,manufacturer, model, year):\n",
    "        \n",
    "        super().__init__(manufacturer,model,year)\n",
    "        self.battery = Battery()"
   ]
  },
  {
   "cell_type": "code",
   "execution_count": 55,
   "metadata": {
    "collapsed": true
   },
   "outputs": [],
   "source": [
    "my_tesla = ElectricCar('tesla', 'model s', 2016)"
   ]
  },
  {
   "cell_type": "code",
   "execution_count": 56,
   "metadata": {},
   "outputs": [
    {
     "name": "stdout",
     "output_type": "stream",
     "text": [
      "this car has a 60-kw battery\n"
     ]
    }
   ],
   "source": [
    "my_tesla.battery.describe_battery()"
   ]
  },
  {
   "cell_type": "code",
   "execution_count": 57,
   "metadata": {},
   "outputs": [
    {
     "name": "stdout",
     "output_type": "stream",
     "text": [
      "Upgrade the battery to 85 KWH\n"
     ]
    }
   ],
   "source": [
    "my_tesla.battery.upgrade_battery()"
   ]
  },
  {
   "cell_type": "code",
   "execution_count": 58,
   "metadata": {},
   "outputs": [
    {
     "name": "stdout",
     "output_type": "stream",
     "text": [
      "this car has a 85-kw battery\n"
     ]
    }
   ],
   "source": [
    "my_tesla.battery.describe_battery()"
   ]
  },
  {
   "cell_type": "code",
   "execution_count": 59,
   "metadata": {},
   "outputs": [
    {
     "name": "stdout",
     "output_type": "stream",
     "text": [
      "The battery is already upgrade\n"
     ]
    }
   ],
   "source": [
    "my_tesla.battery.upgrade_battery()"
   ]
  },
  {
   "cell_type": "code",
   "execution_count": 60,
   "metadata": {},
   "outputs": [
    {
     "name": "stdout",
     "output_type": "stream",
     "text": [
      "this car has a 85-kw battery\n"
     ]
    }
   ],
   "source": [
    "my_tesla.battery.describe_battery()"
   ]
  },
  {
   "cell_type": "code",
   "execution_count": 61,
   "metadata": {},
   "outputs": [
    {
     "name": "stdout",
     "output_type": "stream",
     "text": [
      "This car can go approximately 185 miles on a full charge\n"
     ]
    }
   ],
   "source": [
    "my_tesla.battery.get_range()"
   ]
  },
  {
   "cell_type": "code",
   "execution_count": null,
   "metadata": {
    "collapsed": true
   },
   "outputs": [],
   "source": [
    "admin.py\n",
    "\n",
    "main.py\n",
    "\n",
    "from admin import Admin\n",
    "\n",
    "eric = Admin('eric',)"
   ]
  }
 ],
 "metadata": {
  "kernelspec": {
   "display_name": "Python 3",
   "language": "python",
   "name": "python3"
  },
  "language_info": {
   "codemirror_mode": {
    "name": "ipython",
    "version": 3
   },
   "file_extension": ".py",
   "mimetype": "text/x-python",
   "name": "python",
   "nbconvert_exporter": "python",
   "pygments_lexer": "ipython3",
   "version": "3.6.1"
  }
 },
 "nbformat": 4,
 "nbformat_minor": 2
}
