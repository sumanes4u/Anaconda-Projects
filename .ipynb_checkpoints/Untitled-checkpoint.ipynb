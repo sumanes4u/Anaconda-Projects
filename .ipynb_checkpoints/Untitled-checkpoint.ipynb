{
 "cells": [
  {
   "cell_type": "code",
   "execution_count": 199,
   "metadata": {},
   "outputs": [
    {
     "name": "stdout",
     "output_type": "stream",
     "text": [
      "suman,sanvith,archana\n",
      "suman,sanvith,archana <class 'str'>\n",
      "['suman', 'sanvith', 'archana'] <class 'list'>\n",
      "('suman', 'sanvith', 'archana') <class 'tuple'>\n"
     ]
    }
   ],
   "source": [
    "inp = input()\n",
    "lst = inp.split(',')\n",
    "tup = tuple(lst)\n",
    "print (inp,type(inp))\n",
    "print (lst,type(lst))\n",
    "print(tup,type(tup))"
   ]
  },
  {
   "cell_type": "code",
   "execution_count": 149,
   "metadata": {},
   "outputs": [
    {
     "name": "stdout",
     "output_type": "stream",
     "text": [
      "123456789\n",
      "987654321\n",
      "98765432\n",
      "123456789\n",
      "1,2,3,4,5,6,7,8,9\n"
     ]
    }
   ],
   "source": [
    "a = '123456789'\n",
    "a = a[0:len(a):1]\n",
    "print (a)\n",
    "c = a[::-1]\n",
    "print(c)\n",
    "b = a[len(a):0:-1]\n",
    "print (b)\n",
    "print (a)\n",
    "#a.split()\n",
    "a\n",
    "bb = ','.join(a)\n",
    "print (bb)"
   ]
  },
  {
   "cell_type": "code",
   "execution_count": 150,
   "metadata": {},
   "outputs": [
    {
     "name": "stdout",
     "output_type": "stream",
     "text": [
      "123456789 <class 'str'>\n",
      "['123456789'] <class 'list'>\n"
     ]
    }
   ],
   "source": [
    "print (a,type(a))\n",
    "aa = a.split()\n",
    "aa[0]  \n",
    "print(aa,type(aa))\n",
    "#','.join(aa)"
   ]
  },
  {
   "cell_type": "code",
   "execution_count": 151,
   "metadata": {},
   "outputs": [
    {
     "data": {
      "text/plain": [
       "'50'"
      ]
     },
     "execution_count": 151,
     "metadata": {},
     "output_type": "execute_result"
    }
   ],
   "source": [
    "#Method Chaining\n",
    "a = \"1:10,20,30,40,50\"\n",
    "a.split(':')[1].split(',')[-1]"
   ]
  },
  {
   "cell_type": "code",
   "execution_count": 152,
   "metadata": {},
   "outputs": [
    {
     "data": {
      "text/plain": [
       "'d'"
      ]
     },
     "execution_count": 152,
     "metadata": {},
     "output_type": "execute_result"
    }
   ],
   "source": [
    "a= \"a::b:c,d,e,F,G:H\"\n",
    "a.split(':')[-2].split(',')[1]"
   ]
  },
  {
   "cell_type": "code",
   "execution_count": 153,
   "metadata": {},
   "outputs": [
    {
     "name": "stdout",
     "output_type": "stream",
     "text": [
      "\n"
     ]
    }
   ],
   "source": [
    "#Bank Transcation\n",
    "netAmount = 0\n",
    "while True:\n",
    "    s = input()\n",
    "    if not s:\n",
    "        break\n",
    "    else:\n",
    "        val = s.split(\",\")\n",
    "        oper = val[0]\n",
    "        amount = int(val[1])\n",
    "    if oper == 'D':\n",
    "        netAmount += amount\n",
    "    elif oper == 'W':\n",
    "        netAmount -= amount\n",
    "    else:\n",
    "        pass\n",
    "    print (netAmount)"
   ]
  },
  {
   "cell_type": "code",
   "execution_count": 154,
   "metadata": {},
   "outputs": [
    {
     "name": "stdout",
     "output_type": "stream",
     "text": [
      "\n"
     ]
    }
   ],
   "source": [
    "import re\n",
    "passwd = []\n",
    "lst = [x for x in input().split(',')]\n",
    "for val in lst:\n",
    "    if len(val)<6 or len(val)>12:\n",
    "        continue\n",
    "    elif not re.search(r'[a-z]',val):    \n",
    "        continue\n",
    "    elif not re.search(r'[A-Z]',val):    \n",
    "        continue\n",
    "    elif not re.search(r'[0-9]',val):    \n",
    "        continue    \n",
    "    elif not re.search(r'[$#@]',val):    \n",
    "        continue\n",
    "    elif re.search(r'\\s',val):    \n",
    "        continue\n",
    "    else:\n",
    "        pass\n",
    "    passwd.append(val)\n",
    "    print (','.join(passwd))\n",
    "        "
   ]
  },
  {
   "cell_type": "code",
   "execution_count": 155,
   "metadata": {},
   "outputs": [
    {
     "name": "stdout",
     "output_type": "stream",
     "text": [
      "skks\n"
     ]
    }
   ],
   "source": [
    "pst = [x for x in input().split(',')]"
   ]
  },
  {
   "cell_type": "code",
   "execution_count": 156,
   "metadata": {},
   "outputs": [
    {
     "data": {
      "text/plain": [
       "['skks']"
      ]
     },
     "execution_count": 156,
     "metadata": {},
     "output_type": "execute_result"
    }
   ],
   "source": [
    "pst"
   ]
  },
  {
   "cell_type": "code",
   "execution_count": 157,
   "metadata": {},
   "outputs": [
    {
     "name": "stdout",
     "output_type": "stream",
     "text": [
      "\n"
     ]
    }
   ],
   "source": [
    "#Bank Transcation\n",
    "netAmount = 0\n",
    "while True:\n",
    "    s = input()\n",
    "    if not s:\n",
    "        break\n",
    "    else:\n",
    "        pass\n",
    "    values = s.split(' ')\n",
    "    oper = values[0]\n",
    "    value = int(values[1])\n",
    "    if oper == 'W':\n",
    "        netAmount -= value\n",
    "    elif oper == 'D':\n",
    "        netAmount += value\n",
    "    else:\n",
    "        pass\n",
    "    print (netAmount)\n",
    "    "
   ]
  },
  {
   "cell_type": "code",
   "execution_count": 158,
   "metadata": {},
   "outputs": [
    {
     "name": "stdout",
     "output_type": "stream",
     "text": [
      "<_sre.SRE_Match object; span=(0, 4), match='this'>\n"
     ]
    }
   ],
   "source": [
    "import re\n",
    "p = 'this'\n",
    "s = 'this is a good book in this era'\n",
    "match = re.search(p,s)\n",
    "print (match)"
   ]
  },
  {
   "cell_type": "code",
   "execution_count": 159,
   "metadata": {},
   "outputs": [
    {
     "data": {
      "text/plain": [
       "0"
      ]
     },
     "execution_count": 159,
     "metadata": {},
     "output_type": "execute_result"
    }
   ],
   "source": [
    "match.start()"
   ]
  },
  {
   "cell_type": "code",
   "execution_count": 160,
   "metadata": {},
   "outputs": [
    {
     "data": {
      "text/plain": [
       "4"
      ]
     },
     "execution_count": 160,
     "metadata": {},
     "output_type": "execute_result"
    }
   ],
   "source": [
    "match.end()"
   ]
  },
  {
   "cell_type": "code",
   "execution_count": 161,
   "metadata": {},
   "outputs": [
    {
     "name": "stdout",
     "output_type": "stream",
     "text": [
      "['this', 'this']\n"
     ]
    }
   ],
   "source": [
    "m1 = re.findall(p,s)\n",
    "print (m1)"
   ]
  },
  {
   "cell_type": "code",
   "execution_count": 162,
   "metadata": {},
   "outputs": [
    {
     "name": "stdout",
     "output_type": "stream",
     "text": [
      "Found at 0 4\n",
      "Found at 23 27\n"
     ]
    }
   ],
   "source": [
    "for m in re.finditer(p,s):\n",
    "    print ('Found at',m.start(),m.end())"
   ]
  },
  {
   "cell_type": "code",
   "execution_count": 163,
   "metadata": {},
   "outputs": [
    {
     "data": {
      "text/plain": [
       "list"
      ]
     },
     "execution_count": 163,
     "metadata": {},
     "output_type": "execute_result"
    }
   ],
   "source": [
    "type(m1)"
   ]
  },
  {
   "cell_type": "code",
   "execution_count": 164,
   "metadata": {},
   "outputs": [
    {
     "data": {
      "text/plain": [
       "'mama'"
      ]
     },
     "execution_count": 164,
     "metadata": {},
     "output_type": "execute_result"
    }
   ],
   "source": [
    "p = r'((ma){2})'\n",
    "s = 'mama'\n",
    "match = re.search(p,s)\n",
    "match.group()"
   ]
  },
  {
   "cell_type": "code",
   "execution_count": 202,
   "metadata": {},
   "outputs": [
    {
     "name": "stdout",
     "output_type": "stream",
     "text": [
      "['ab', 'ab', 'ab', 'ab', 'ab']\n"
     ]
    }
   ],
   "source": [
    "p = r'a[ab]+?'\n",
    "s = 'abbababababbbbb'\n",
    "print (re.findall(p,s))"
   ]
  },
  {
   "cell_type": "code",
   "execution_count": 166,
   "metadata": {
    "scrolled": true
   },
   "outputs": [
    {
     "name": "stdout",
     "output_type": "stream",
     "text": [
      "['a', 'a', 'a', 'a', 'a']\n"
     ]
    }
   ],
   "source": [
    "p = r'a[ab]*?'\n",
    "s = 'abbababababbbbb'\n",
    "print (re.findall(p,s))"
   ]
  },
  {
   "cell_type": "code",
   "execution_count": 201,
   "metadata": {},
   "outputs": [
    {
     "name": "stdout",
     "output_type": "stream",
     "text": [
      "['he']\n"
     ]
    }
   ],
   "source": [
    "p = r'he$'\n",
    "s = 'I AM he is a super man of he'\n",
    "print (re.findall(p,s))"
   ]
  },
  {
   "cell_type": "code",
   "execution_count": 168,
   "metadata": {},
   "outputs": [
    {
     "name": "stdout",
     "output_type": "stream",
     "text": [
      "[('mama', 'ma')]\n"
     ]
    }
   ],
   "source": [
    "p = r'((ma){2})'\n",
    "s = 'mama'\n",
    "print (re.findall(p,s))"
   ]
  },
  {
   "cell_type": "code",
   "execution_count": 169,
   "metadata": {},
   "outputs": [
    {
     "name": "stdout",
     "output_type": "stream",
     "text": [
      "\n"
     ]
    }
   ],
   "source": [
    "#Bank Trabnscation\n",
    "\n",
    "netAmount = 0\n",
    "while True:\n",
    "    s = input()\n",
    "    if not s:\n",
    "        break\n",
    "    else:\n",
    "        pass\n",
    "    values = s.split()\n",
    "    oper = values[0]\n",
    "    amount = int(values[1])\n",
    "    if oper == 'D':\n",
    "        netAmount += amount\n",
    "    elif oper == 'W':\n",
    "        netAmount -= amount\n",
    "    else:\n",
    "        pass\n",
    "    print (netAmount)\n",
    "    \n",
    "        \n",
    "    \n",
    "        "
   ]
  },
  {
   "cell_type": "code",
   "execution_count": 170,
   "metadata": {},
   "outputs": [
    {
     "data": {
      "text/plain": [
       "['suman', 'i', 'M']"
      ]
     },
     "execution_count": 170,
     "metadata": {},
     "output_type": "execute_result"
    }
   ],
   "source": [
    "s = 'suman i M'\n",
    "v = s.split()\n",
    "v"
   ]
  },
  {
   "cell_type": "code",
   "execution_count": 171,
   "metadata": {},
   "outputs": [
    {
     "name": "stdout",
     "output_type": "stream",
     "text": [
      "\n",
      "[]\n",
      "\n"
     ]
    }
   ],
   "source": [
    "#Password Complexity\n",
    "lst = []\n",
    "passwords = [x for x in input().split(',')]\n",
    "for val in passwords:\n",
    "    if len(val) < 6 or len(val) > 13:\n",
    "        continue\n",
    "    elif not re.search(r'[a-z]',val):\n",
    "        continue\n",
    "    elif not re.search(r'[A-Z]',val):\n",
    "        continue\n",
    "    elif not re.search(r'[0-9]',val):\n",
    "        continue\n",
    "    elif not re.search(r'[#@$]',val):\n",
    "        continue\n",
    "    elif re.search(r'\\s',val):\n",
    "        continue\n",
    "    else:\n",
    "        pass\n",
    "    lst.append(val)\n",
    "print (lst)  \n",
    "print (','.join(lst))     \n",
    "        "
   ]
  },
  {
   "cell_type": "code",
   "execution_count": 203,
   "metadata": {},
   "outputs": [
    {
     "name": "stdout",
     "output_type": "stream",
     "text": [
      "<_sre.SRE_Match object; span=(0, 9), match='suman123A'>\n"
     ]
    }
   ],
   "source": [
    "p = r'[a-zA-Z0-9]+'\n",
    "t = 'suman123A'\n",
    "print (re.search(p,t))"
   ]
  },
  {
   "cell_type": "code",
   "execution_count": 173,
   "metadata": {},
   "outputs": [
    {
     "name": "stdout",
     "output_type": "stream",
     "text": [
      "I am a \n",
      " new line\n",
      "I am a \\n newline\n"
     ]
    }
   ],
   "source": [
    "string ='I am a \\n new line'\n",
    "print (string)\n",
    "rawstring = r'I am a \\n newline'\n",
    "print (rawstring)"
   ]
  },
  {
   "cell_type": "code",
   "execution_count": 204,
   "metadata": {},
   "outputs": [],
   "source": [
    "import re\n",
    "re.match(r'b','abcdef')"
   ]
  },
  {
   "cell_type": "code",
   "execution_count": 205,
   "metadata": {},
   "outputs": [],
   "source": [
    "matc = re.match(r'dog','dog cat dog')"
   ]
  },
  {
   "cell_type": "code",
   "execution_count": 206,
   "metadata": {},
   "outputs": [
    {
     "data": {
      "text/plain": [
       "'dog'"
      ]
     },
     "execution_count": 206,
     "metadata": {},
     "output_type": "execute_result"
    }
   ],
   "source": [
    "matc.group(0)"
   ]
  },
  {
   "cell_type": "code",
   "execution_count": 188,
   "metadata": {
    "collapsed": true
   },
   "outputs": [],
   "source": [
    "grp = re.search(r'(\\w+,) (\\w+:) (\\S+)','Jong, Deo: 455-678')"
   ]
  },
  {
   "cell_type": "code",
   "execution_count": 189,
   "metadata": {},
   "outputs": [
    {
     "data": {
      "text/plain": [
       "'Jong, Deo: 455-678'"
      ]
     },
     "execution_count": 189,
     "metadata": {},
     "output_type": "execute_result"
    }
   ],
   "source": [
    "grp.group(0)"
   ]
  },
  {
   "cell_type": "code",
   "execution_count": 190,
   "metadata": {},
   "outputs": [
    {
     "data": {
      "text/plain": [
       "'Jong,'"
      ]
     },
     "execution_count": 190,
     "metadata": {},
     "output_type": "execute_result"
    }
   ],
   "source": [
    "grp.group(1)"
   ]
  },
  {
   "cell_type": "code",
   "execution_count": 191,
   "metadata": {
    "scrolled": true
   },
   "outputs": [
    {
     "data": {
      "text/plain": [
       "'Deo:'"
      ]
     },
     "execution_count": 191,
     "metadata": {},
     "output_type": "execute_result"
    }
   ],
   "source": [
    "grp.group(2)"
   ]
  },
  {
   "cell_type": "code",
   "execution_count": 192,
   "metadata": {},
   "outputs": [
    {
     "data": {
      "text/plain": [
       "'455-678'"
      ]
     },
     "execution_count": 192,
     "metadata": {},
     "output_type": "execute_result"
    }
   ],
   "source": [
    "grp.group(3)"
   ]
  },
  {
   "cell_type": "code",
   "execution_count": 198,
   "metadata": {},
   "outputs": [
    {
     "data": {
      "text/plain": [
       "<_sre.SRE_Match object; span=(0, 15), match='192.168.100.243'>"
      ]
     },
     "execution_count": 198,
     "metadata": {},
     "output_type": "execute_result"
    }
   ],
   "source": [
    "mystr = '192.168.100.243'\n",
    "matc1 = re.search(r'\\d{1,3}\\.\\d{1,3}\\.\\d{1,3}\\.\\d{1,3}\\b',mystr)\n",
    "matc1"
   ]
  },
  {
   "cell_type": "code",
   "execution_count": 207,
   "metadata": {},
   "outputs": [
    {
     "ename": "SyntaxError",
     "evalue": "EOL while scanning string literal (<ipython-input-207-9568ff034bad>, line 3)",
     "output_type": "error",
     "traceback": [
      "\u001b[1;36m  File \u001b[1;32m\"<ipython-input-207-9568ff034bad>\"\u001b[1;36m, line \u001b[1;32m3\u001b[0m\n\u001b[1;33m    p=r'^\\[(?P<day>[a-zA-z]{3}) (?P<month>[a-zA-z]{3}) (?P<date>[\\d]{1,2}) (?P<timestamp>\\b[\\d:\\.]+\\b)\u001b[0m\n\u001b[1;37m                                                                                                       ^\u001b[0m\n\u001b[1;31mSyntaxError\u001b[0m\u001b[1;31m:\u001b[0m EOL while scanning string literal\n"
     ]
    }
   ],
   "source": [
    "string = ''#[Fri Oct 28 05:43:38.294803 2016] [ssl:warn] [pid 4500:tid 304] AH01909: www.example.com:443:0 server certificate does NOT include an ID which matches the server name'\n",
    "\n",
    "p=r'^\\[(?P<day>[a-zA-z]{3}) (?P<month>[a-zA-z]{3}) (?P<date>[\\d]{1,2}) (?P<timestamp>\\b[\\d:\\.]+\\b) \n",
    "(?P<year>[\\d]{4})\\] \\[(?P<error>[\\w:]+)\\] \\[(?P<who>[\\w: ]+)\\] (?P<msg>.+)$'\n"
   ]
  },
  {
   "cell_type": "code",
   "execution_count": 215,
   "metadata": {},
   "outputs": [
    {
     "ename": "SystemExit",
     "evalue": "",
     "output_type": "error",
     "traceback": [
      "An exception has occurred, use %tb to see the full traceback.\n",
      "\u001b[1;31mSystemExit\u001b[0m\n"
     ]
    },
    {
     "name": "stderr",
     "output_type": "stream",
     "text": [
      "C:\\Users\\ssamarthi\\AppData\\Local\\Continuum\\Anaconda3\\lib\\site-packages\\IPython\\core\\interactiveshell.py:2889: UserWarning: To exit: use 'exit', 'quit', or Ctrl-D.\n",
      "  warn(\"To exit: use 'exit', 'quit', or Ctrl-D.\", stacklevel=1)\n"
     ]
    }
   ],
   "source": [
    "import sys\n",
    "if not len(sys.argv) < 2:\n",
    "    sys.exit()\n",
    "else:\n",
    "    pass\n"
   ]
  },
  {
   "cell_type": "code",
   "execution_count": 216,
   "metadata": {},
   "outputs": [
    {
     "name": "stdout",
     "output_type": "stream",
     "text": [
      "D 100\n"
     ]
    },
    {
     "ename": "TypeError",
     "evalue": "unsupported operand type(s) for +=: 'int' and 'str'",
     "output_type": "error",
     "traceback": [
      "\u001b[1;31m---------------------------------------------------------------------------\u001b[0m",
      "\u001b[1;31mTypeError\u001b[0m                                 Traceback (most recent call last)",
      "\u001b[1;32m<ipython-input-216-3c2fe8e5bc46>\u001b[0m in \u001b[0;36m<module>\u001b[1;34m()\u001b[0m\n\u001b[0;32m     13\u001b[0m         \u001b[0mnetAmount\u001b[0m \u001b[1;33m-=\u001b[0m \u001b[0mamount\u001b[0m\u001b[1;33m\u001b[0m\u001b[0m\n\u001b[0;32m     14\u001b[0m     \u001b[1;32melif\u001b[0m \u001b[0moper\u001b[0m \u001b[1;33m==\u001b[0m \u001b[1;34m'D'\u001b[0m\u001b[1;33m:\u001b[0m\u001b[1;33m\u001b[0m\u001b[0m\n\u001b[1;32m---> 15\u001b[1;33m         \u001b[0mnetAmount\u001b[0m \u001b[1;33m+=\u001b[0m \u001b[0mamount\u001b[0m\u001b[1;33m\u001b[0m\u001b[0m\n\u001b[0m\u001b[0;32m     16\u001b[0m     \u001b[1;32melse\u001b[0m\u001b[1;33m:\u001b[0m\u001b[1;33m\u001b[0m\u001b[0m\n\u001b[0;32m     17\u001b[0m         \u001b[1;32mpass\u001b[0m\u001b[1;33m\u001b[0m\u001b[0m\n",
      "\u001b[1;31mTypeError\u001b[0m: unsupported operand type(s) for +=: 'int' and 'str'"
     ]
    }
   ],
   "source": [
    "#Bank Transcations\n",
    "netAmount = 0\n",
    "while True:\n",
    "    inp = input()\n",
    "    if not inp:\n",
    "        break\n",
    "    else:\n",
    "        pass\n",
    "    value = inp.split(' ')\n",
    "    oper = value[0]\n",
    "    amount = value[1]\n",
    "    if oper == 'W':\n",
    "        netAmount -= amount\n",
    "    elif oper == 'D':\n",
    "        netAmount += amount\n",
    "    else:\n",
    "        pass\n",
    "    print (netAmount)\n",
    "        "
   ]
  },
  {
   "cell_type": "code",
   "execution_count": null,
   "metadata": {
    "collapsed": true
   },
   "outputs": [],
   "source": []
  }
 ],
 "metadata": {
  "kernelspec": {
   "display_name": "Python 3",
   "language": "python",
   "name": "python3"
  },
  "language_info": {
   "codemirror_mode": {
    "name": "ipython",
    "version": 3
   },
   "file_extension": ".py",
   "mimetype": "text/x-python",
   "name": "python",
   "nbconvert_exporter": "python",
   "pygments_lexer": "ipython3",
   "version": "3.6.1"
  }
 },
 "nbformat": 4,
 "nbformat_minor": 2
}
