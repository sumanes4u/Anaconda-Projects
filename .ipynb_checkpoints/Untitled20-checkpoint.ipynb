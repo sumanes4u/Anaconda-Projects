{
 "cells": [
  {
   "cell_type": "code",
   "execution_count": null,
   "metadata": {},
   "outputs": [],
   "source": [
    "class NameNotFound(Exception): # NameNotFound is a class which inherits from the Exception\n",
    "    def __init__(self,msg='Name not found in the List!'):\n",
    "        super().__init__(msg)\n",
    "        \n",
    "while True: \n",
    "    try:\n",
    "        names = ['Vivek','Suman','Sahil']\n",
    "        name = input('Enter name: ')\n",
    "        \n",
    "        if name in names:\n",
    "            print('Welcome ' + name + '!!!')\n",
    "            break;\n",
    "        else:\n",
    "            raise NameNotFound\n",
    "    except NameNotFound as e:\n",
    "        print(e)\n",
    "    except Exception as e:\n",
    "        print('Some unknown exception: ', e)\n"
   ]
  },
  {
   "cell_type": "code",
   "execution_count": null,
   "metadata": {
    "collapsed": true
   },
   "outputs": [],
   "source": [
    "try:\n",
    "    inp = input('Enter a +ve Number')\n",
    "    if inp <=0:\n",
    "        raise ValueError('Its not a positive Number')\n",
    "    else:\n",
    "        print ('Its a +ve Number')\n",
    "except Exception as e:\n",
    "    print (e)"
   ]
  },
  {
   "cell_type": "code",
   "execution_count": null,
   "metadata": {
    "collapsed": true
   },
   "outputs": [],
   "source": []
  }
 ],
 "metadata": {
  "kernelspec": {
   "display_name": "Python 3",
   "language": "python",
   "name": "python3"
  },
  "language_info": {
   "codemirror_mode": {
    "name": "ipython",
    "version": 3
   },
   "file_extension": ".py",
   "mimetype": "text/x-python",
   "name": "python",
   "nbconvert_exporter": "python",
   "pygments_lexer": "ipython3",
   "version": "3.6.1"
  }
 },
 "nbformat": 4,
 "nbformat_minor": 2
}
