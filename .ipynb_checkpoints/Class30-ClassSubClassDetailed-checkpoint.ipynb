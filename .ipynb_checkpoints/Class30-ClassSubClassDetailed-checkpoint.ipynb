{
 "cells": [
  {
   "cell_type": "code",
   "execution_count": 7,
   "metadata": {
    "collapsed": true
   },
   "outputs": [],
   "source": [
    "# general format class\n",
    "\n",
    "class Classname(object):\n",
    "    \"\"\" This is my custom class\"\"\"\n",
    "    \n",
    "    #attributes \n",
    "    name = 'raj'\n",
    "    age = 15\n",
    "    \n",
    "    # methods\n",
    "    def __init__(self):\n",
    "        pass\n",
    "    \n",
    "    def method1():\n",
    "        pass\n",
    "    \n",
    "    def method2():\n",
    "        pass\n",
    "    "
   ]
  },
  {
   "cell_type": "code",
   "execution_count": 14,
   "metadata": {
    "collapsed": true
   },
   "outputs": [],
   "source": [
    "class Student:\n",
    "    def __init__(self):\n",
    "        self.name = 'Raj'\n",
    "        self.age = 20\n",
    "        self.marks = 90\n",
    "        \n",
    "    def talk(self):\n",
    "        print (\"hi, My name is \" + self.name)\n",
    "        print ('My age is ', self.age)\n",
    "        print ('My marks is ', self.marks)\n",
    "        \n",
    "    "
   ]
  },
  {
   "cell_type": "code",
   "execution_count": 15,
   "metadata": {
    "collapsed": true
   },
   "outputs": [],
   "source": [
    "s1 = Student()\n",
    "s2 = Student()\n",
    "s3 = Student()"
   ]
  },
  {
   "cell_type": "code",
   "execution_count": 18,
   "metadata": {},
   "outputs": [
    {
     "name": "stdout",
     "output_type": "stream",
     "text": [
      "hi, My name is Suman\n",
      "My age is  25\n",
      "My marks is  90\n"
     ]
    }
   ],
   "source": [
    "s1.talk()"
   ]
  },
  {
   "cell_type": "code",
   "execution_count": 17,
   "metadata": {
    "collapsed": true
   },
   "outputs": [],
   "source": [
    "s1.name = 'Suman'\n",
    "s1.age = 25\n",
    "s1.marks = 90"
   ]
  },
  {
   "cell_type": "code",
   "execution_count": 28,
   "metadata": {
    "collapsed": true
   },
   "outputs": [],
   "source": [
    "class Bank:\n",
    "    def __init__(self,name,age):\n",
    "        self.balance = 100 # Business use case \n",
    "        self.name = name\n",
    "        self.age = age\n",
    "        \n",
    "        \n",
    "    def check_balance(self):\n",
    "        print ('Your balance is', self.balance)\n",
    "    \n",
    "    def my_profile(self):\n",
    "        print ('name is', self.name)\n",
    "        print ('age is ', self.age)"
   ]
  },
  {
   "cell_type": "code",
   "execution_count": 29,
   "metadata": {
    "collapsed": true
   },
   "outputs": [],
   "source": [
    "ac1 = Bank('Suman',25)"
   ]
  },
  {
   "cell_type": "code",
   "execution_count": 30,
   "metadata": {},
   "outputs": [
    {
     "data": {
      "text/plain": [
       "25"
      ]
     },
     "execution_count": 30,
     "metadata": {},
     "output_type": "execute_result"
    }
   ],
   "source": [
    "ac1.age"
   ]
  },
  {
   "cell_type": "code",
   "execution_count": 31,
   "metadata": {
    "collapsed": true
   },
   "outputs": [],
   "source": [
    "ac2 = Bank('Ashir',26)"
   ]
  },
  {
   "cell_type": "code",
   "execution_count": 32,
   "metadata": {},
   "outputs": [
    {
     "data": {
      "text/plain": [
       "26"
      ]
     },
     "execution_count": 32,
     "metadata": {},
     "output_type": "execute_result"
    }
   ],
   "source": [
    "ac2.age"
   ]
  },
  {
   "cell_type": "code",
   "execution_count": 59,
   "metadata": {},
   "outputs": [
    {
     "name": "stdout",
     "output_type": "stream",
     "text": [
      "My balance is  60\n",
      "My balance is  20\n",
      "You dont enough balance to take out cash\n"
     ]
    }
   ],
   "source": [
    "class Bank:\n",
    "    \n",
    "    balance = 50 # class variable \n",
    "    \n",
    "    def __init__(self,name,age,amount):\n",
    "        self.balance = 100 # Business use case # instance variable\n",
    "        self.name = name\n",
    "        self.age = age\n",
    "        self.amount = amount\n",
    "        \n",
    "    def check_balance(self):\n",
    "        print ('Your balance is', self.balance)\n",
    "        \n",
    "    def deposit(self):\n",
    "        self.balance += self.amount\n",
    "        print ('My balance is ', self.balance)\n",
    "        \n",
    "    def withdrawal(self):\n",
    "        if self.balance <= self.amount:\n",
    "        # if self.balance <= 0:\n",
    "            print ('You dont enough balance to take out cash')\n",
    "        else:\n",
    "            self.balance -= self.amount\n",
    "            print ('My balance is ', self.balance)\n",
    "    \n",
    "    def my_profile(self):\n",
    "        print ('name is', self.name)\n",
    "        print ('age is ', self.age)\n",
    "ac1 = Bank('Raj',22,50)\n",
    "ac2 = Bank('Anuj',26,40)\n",
    "\n",
    "ac2.age = 27\n",
    "\n",
    "ac2.withdrawal()\n",
    "ac2.withdrawal()\n",
    "ac2.withdrawal()\n"
   ]
  },
  {
   "cell_type": "code",
   "execution_count": 55,
   "metadata": {
    "collapsed": true
   },
   "outputs": [],
   "source": [
    "ac3 = Bank('Anuj',22,50)"
   ]
  },
  {
   "cell_type": "code",
   "execution_count": 37,
   "metadata": {},
   "outputs": [
    {
     "name": "stdout",
     "output_type": "stream",
     "text": [
      "Your balance is 100\n"
     ]
    }
   ],
   "source": [
    "ac3.check_balance()"
   ]
  },
  {
   "cell_type": "code",
   "execution_count": 38,
   "metadata": {},
   "outputs": [
    {
     "name": "stdout",
     "output_type": "stream",
     "text": [
      "My balance is  150\n"
     ]
    }
   ],
   "source": [
    "ac3.deposit() # method you're performing a trasaction"
   ]
  },
  {
   "cell_type": "code",
   "execution_count": 39,
   "metadata": {},
   "outputs": [
    {
     "name": "stdout",
     "output_type": "stream",
     "text": [
      "My balance is  200\n"
     ]
    }
   ],
   "source": [
    "ac3.deposit()"
   ]
  },
  {
   "cell_type": "code",
   "execution_count": 40,
   "metadata": {
    "collapsed": true
   },
   "outputs": [],
   "source": [
    "ac3.amount = 400"
   ]
  },
  {
   "cell_type": "code",
   "execution_count": 41,
   "metadata": {},
   "outputs": [
    {
     "name": "stdout",
     "output_type": "stream",
     "text": [
      "My balance is  600\n"
     ]
    }
   ],
   "source": [
    "ac3.deposit()"
   ]
  },
  {
   "cell_type": "code",
   "execution_count": 43,
   "metadata": {
    "collapsed": true
   },
   "outputs": [],
   "source": [
    "ac3.amount = 100"
   ]
  },
  {
   "cell_type": "code",
   "execution_count": 46,
   "metadata": {},
   "outputs": [
    {
     "name": "stdout",
     "output_type": "stream",
     "text": [
      "My balance is  50\n"
     ]
    }
   ],
   "source": [
    "ac3.withdrawal()"
   ]
  },
  {
   "cell_type": "code",
   "execution_count": 47,
   "metadata": {},
   "outputs": [
    {
     "name": "stdout",
     "output_type": "stream",
     "text": [
      "My balance is  0\n"
     ]
    }
   ],
   "source": [
    "ac3.withdrawal()"
   ]
  },
  {
   "cell_type": "code",
   "execution_count": 51,
   "metadata": {},
   "outputs": [
    {
     "name": "stdout",
     "output_type": "stream",
     "text": [
      "My balance is  50\n"
     ]
    }
   ],
   "source": [
    "ac3.withdrawal()"
   ]
  },
  {
   "cell_type": "code",
   "execution_count": 52,
   "metadata": {},
   "outputs": [
    {
     "name": "stdout",
     "output_type": "stream",
     "text": [
      "My balance is  0\n"
     ]
    }
   ],
   "source": [
    "ac3.withdrawal()"
   ]
  },
  {
   "cell_type": "code",
   "execution_count": 58,
   "metadata": {},
   "outputs": [
    {
     "name": "stdout",
     "output_type": "stream",
     "text": [
      "You dont enough balance to take out cash\n"
     ]
    }
   ],
   "source": [
    "ac3.withdrawal()"
   ]
  },
  {
   "cell_type": "code",
   "execution_count": 68,
   "metadata": {
    "collapsed": true
   },
   "outputs": [],
   "source": [
    "class student:\n",
    "    age = 50\n",
    "    # This is a constructor \n",
    "    def __init__(self,n='',m=0):\n",
    "        self.name = n\n",
    "        self.marks = m\n",
    "        \n",
    "        \n",
    "    # this is an instance method\n",
    "    \n",
    "    def display(self):\n",
    "        print ('Hi',self.name)\n",
    "        print ('You marks',self.marks)\n",
    "        print ('My age is ', student.age)"
   ]
  },
  {
   "cell_type": "code",
   "execution_count": 69,
   "metadata": {
    "collapsed": true
   },
   "outputs": [],
   "source": [
    "s = student()"
   ]
  },
  {
   "cell_type": "code",
   "execution_count": 70,
   "metadata": {},
   "outputs": [
    {
     "name": "stdout",
     "output_type": "stream",
     "text": [
      "Hi \n",
      "You marks 0\n",
      "My age is  50\n"
     ]
    }
   ],
   "source": [
    "s.display()"
   ]
  },
  {
   "cell_type": "code",
   "execution_count": 63,
   "metadata": {
    "collapsed": true
   },
   "outputs": [],
   "source": [
    "s1 = student('Krishna Reddy',500)"
   ]
  },
  {
   "cell_type": "code",
   "execution_count": 71,
   "metadata": {},
   "outputs": [
    {
     "name": "stdout",
     "output_type": "stream",
     "text": [
      "Hi Krishna Reddy\n",
      "You marks 500\n"
     ]
    }
   ],
   "source": [
    "s1.display()"
   ]
  },
  {
   "cell_type": "code",
   "execution_count": 1,
   "metadata": {
    "collapsed": true
   },
   "outputs": [],
   "source": [
    "class Sample:\n",
    "    x = 10 # class variable\n",
    "    def __init__(self):\n",
    "        self.x = 10\n",
    "        \n",
    "    # instance method\n",
    "    def modify(self):\n",
    "        #self.x += 1\n",
    "        Sample.x +=1\n",
    "        "
   ]
  },
  {
   "cell_type": "code",
   "execution_count": 2,
   "metadata": {
    "collapsed": true
   },
   "outputs": [],
   "source": [
    "s1 = Sample()"
   ]
  },
  {
   "cell_type": "code",
   "execution_count": 3,
   "metadata": {
    "collapsed": true
   },
   "outputs": [],
   "source": [
    "s2 = Sample()"
   ]
  },
  {
   "cell_type": "code",
   "execution_count": 4,
   "metadata": {},
   "outputs": [
    {
     "name": "stdout",
     "output_type": "stream",
     "text": [
      "x in s1 =  10\n",
      "x in s2 =  10\n"
     ]
    }
   ],
   "source": [
    "print ('x in s1 = ',s1.x)\n",
    "print ('x in s2 = ',s2.x)"
   ]
  },
  {
   "cell_type": "code",
   "execution_count": 5,
   "metadata": {},
   "outputs": [
    {
     "name": "stdout",
     "output_type": "stream",
     "text": [
      "x in s1 =  10\n",
      "x in s2 =  10\n"
     ]
    }
   ],
   "source": [
    "s1.modify()\n",
    "print ('x in s1 = ',s1.x)\n",
    "print ('x in s2 = ',s2.x)"
   ]
  },
  {
   "cell_type": "code",
   "execution_count": 6,
   "metadata": {},
   "outputs": [
    {
     "name": "stdout",
     "output_type": "stream",
     "text": [
      "x in s1 =  12\n",
      "x in s2 =  12\n"
     ]
    }
   ],
   "source": [
    "s1.modify()\n",
    "print ('x in s1 = ',Sample.x)\n",
    "print ('x in s2 = ',Sample.x)"
   ]
  },
  {
   "cell_type": "code",
   "execution_count": null,
   "metadata": {
    "collapsed": true
   },
   "outputs": [],
   "source": []
  },
  {
   "cell_type": "code",
   "execution_count": null,
   "metadata": {
    "collapsed": true
   },
   "outputs": [],
   "source": []
  }
 ],
 "metadata": {
  "kernelspec": {
   "display_name": "Python 3",
   "language": "python",
   "name": "python3"
  },
  "language_info": {
   "codemirror_mode": {
    "name": "ipython",
    "version": 3
   },
   "file_extension": ".py",
   "mimetype": "text/x-python",
   "name": "python",
   "nbconvert_exporter": "python",
   "pygments_lexer": "ipython3",
   "version": "3.6.1"
  }
 },
 "nbformat": 4,
 "nbformat_minor": 2
}
