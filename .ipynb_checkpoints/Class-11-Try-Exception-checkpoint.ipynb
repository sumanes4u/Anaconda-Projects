{
 "cells": [
  {
   "cell_type": "code",
   "execution_count": 1,
   "metadata": {
    "collapsed": true
   },
   "outputs": [],
   "source": [
    "# try ( exception may occur)  > raise ( Raise an exception ) \n",
    "#                                                          > except ( catch if exception occurs)"
   ]
  },
  {
   "cell_type": "code",
   "execution_count": 2,
   "metadata": {},
   "outputs": [
    {
     "name": "stdout",
     "output_type": "stream",
     "text": [
      "The entry is a\n",
      "Oops! <class 'ValueError'> occured\n",
      "Next Entry\n",
      "\n",
      "The entry is 0\n",
      "Oops! <class 'ZeroDivisionError'> occured\n",
      "Next Entry\n",
      "\n",
      "The entry is 2\n",
      "The reciprocal of 2 is 0.5\n"
     ]
    }
   ],
   "source": [
    "import sys\n",
    "\n",
    "randomList = ['a',0,2]\n",
    "\n",
    "for entry in randomList:\n",
    "    try:\n",
    "        print(\"The entry is\", entry)\n",
    "        r = 1/int(entry)\n",
    "        break\n",
    "    except:\n",
    "        print ('Oops!',sys.exc_info()[0],\"occured\")\n",
    "        print(\"Next Entry\")\n",
    "        print()\n",
    "print(\"The reciprocal of\",entry,\"is\",r)"
   ]
  },
  {
   "cell_type": "code",
   "execution_count": 9,
   "metadata": {},
   "outputs": [
    {
     "name": "stdout",
     "output_type": "stream",
     "text": [
      "Enter number 2\n",
      "Enter another number 0\n",
      "Some exceptional situation occurred! division by zero ZeroDivisionError\n",
      "some other task continues here\n"
     ]
    }
   ],
   "source": [
    "try:\n",
    "    a = int(input('Enter number '))\n",
    "    b = int(input('Enter another number '))\n",
    "    \n",
    "    c = a/b \n",
    "    print(c)\n",
    "except ZeroDivisionError as e:\n",
    "    print('Some exceptional situation occurred!',e,e.__class__.__name__)\n",
    "    \n",
    "print('some other task continues here')"
   ]
  },
  {
   "cell_type": "markdown",
   "metadata": {},
   "source": [
    "# A try clause can have any number of except clause to handle them differently but only one will \n",
    "# executed in case of an exception occurs. \n",
    "try:\n",
    "    # do something\n",
    "    pass\n",
    "except ValueError:\n",
    "    # handle ValueError exception\n",
    "    pass\n",
    "except (TypeError, ZeroDivisionError):\n",
    "    # handle multiple exceptions\n",
    "    # TypeError and ZeroDivisionError\n",
    "    pass\n",
    "except:\n",
    "    # handle all other exceptions\n",
    "    pass\n",
    "\n"
   ]
  },
  {
   "cell_type": "code",
   "execution_count": 10,
   "metadata": {
    "collapsed": true
   },
   "outputs": [],
   "source": [
    "# Raising Exceptions"
   ]
  },
  {
   "cell_type": "code",
   "execution_count": 11,
   "metadata": {},
   "outputs": [
    {
     "ename": "KeyboardInterrupt",
     "evalue": "",
     "output_type": "error",
     "traceback": [
      "\u001b[0;31m---------------------------------------------------------------------------\u001b[0m",
      "\u001b[0;31mKeyboardInterrupt\u001b[0m                         Traceback (most recent call last)",
      "\u001b[0;32m<ipython-input-11-7d145351408f>\u001b[0m in \u001b[0;36m<module>\u001b[0;34m()\u001b[0m\n\u001b[0;32m----> 1\u001b[0;31m \u001b[0;32mraise\u001b[0m \u001b[0mKeyboardInterrupt\u001b[0m\u001b[0;34m\u001b[0m\u001b[0m\n\u001b[0m",
      "\u001b[0;31mKeyboardInterrupt\u001b[0m: "
     ]
    }
   ],
   "source": [
    "raise KeyboardInterrupt"
   ]
  },
  {
   "cell_type": "code",
   "execution_count": 13,
   "metadata": {},
   "outputs": [
    {
     "ename": "MemoryError",
     "evalue": "this is an argument",
     "output_type": "error",
     "traceback": [
      "\u001b[0;31m---------------------------------------------------------------------------\u001b[0m",
      "\u001b[0;31mMemoryError\u001b[0m                               Traceback (most recent call last)",
      "\u001b[0;32m<ipython-input-13-b336eda020df>\u001b[0m in \u001b[0;36m<module>\u001b[0;34m()\u001b[0m\n\u001b[0;32m----> 1\u001b[0;31m \u001b[0;32mraise\u001b[0m \u001b[0mMemoryError\u001b[0m\u001b[0;34m(\u001b[0m\u001b[0;34m\"this is an argument\"\u001b[0m\u001b[0;34m)\u001b[0m\u001b[0;34m\u001b[0m\u001b[0m\n\u001b[0m",
      "\u001b[0;31mMemoryError\u001b[0m: this is an argument"
     ]
    }
   ],
   "source": [
    "raise MemoryError(\"this is an argument\")"
   ]
  },
  {
   "cell_type": "code",
   "execution_count": 16,
   "metadata": {},
   "outputs": [
    {
     "name": "stdout",
     "output_type": "stream",
     "text": [
      "Enter a positive interger: 2\n"
     ]
    }
   ],
   "source": [
    "try:\n",
    "    a = int(input(\"Enter a positive interger: \"))\n",
    "    if a <= 0: \n",
    "        raise ValueError(\"That is not a positive number!\")\n",
    "except ValueError as ve:\n",
    "    print(ve)"
   ]
  },
  {
   "cell_type": "code",
   "execution_count": 18,
   "metadata": {
    "collapsed": true
   },
   "outputs": [],
   "source": [
    "# try..finally , if, elif, elif, else\n",
    "try: \n",
    "    f = open(\"test.txt\", encoding = 'utf-8')\n",
    "    # perform file operation\n",
    "except: \n",
    "    pass\n",
    "finally:\n",
    "    f.close()"
   ]
  },
  {
   "cell_type": "code",
   "execution_count": 25,
   "metadata": {},
   "outputs": [
    {
     "name": "stdout",
     "output_type": "stream",
     "text": [
      "Enter name: Raj\n",
      "some unknown exception occured name not found in list Exception\n",
      "some unknown exception occured\n",
      "finally block always executes\n",
      "Enter name: Vivek\n",
      "Welcome Vivek!!!\n",
      "finally block always executes\n"
     ]
    }
   ],
   "source": [
    "while True:\n",
    "    try:\n",
    "        names = ['Vivek','Suman','Sahil']\n",
    "        name = input('Enter name: ')\n",
    "        \n",
    "        if name in names:\n",
    "            print('Welcome ' + name + '!!!')\n",
    "            break;\n",
    "        else:\n",
    "            raise Exception('name not found in list')\n",
    "    except Exception as e:\n",
    "        print ('some unknown exception occured',e,e.__class__.__name__)\n",
    "        print ('some unknown exception occured')\n",
    "    finally:\n",
    "        print ('finally block always executes')\n",
    "            \n",
    "            "
   ]
  },
  {
   "cell_type": "code",
   "execution_count": 27,
   "metadata": {},
   "outputs": [
    {
     "data": {
      "text/plain": [
       "<module 'builtins' (built-in)>"
      ]
     },
     "execution_count": 27,
     "metadata": {},
     "output_type": "execute_result"
    }
   ],
   "source": [
    "locals()['__builtins__']"
   ]
  },
  {
   "cell_type": "code",
   "execution_count": 30,
   "metadata": {},
   "outputs": [
    {
     "name": "stdout",
     "output_type": "stream",
     "text": [
      "Enter number 2\n",
      "Enter another number a\n",
      "some exception occurred invalid literal for int() with base 10: 'a' ValueError\n",
      "some other task continues here\n"
     ]
    }
   ],
   "source": [
    "try:\n",
    "    a = int(input('Enter number '))\n",
    "    b = int(input('Enter another number '))\n",
    "    \n",
    "    c = a/b \n",
    "    print(c)\n",
    "\n",
    "except ZeroDivisionError as e:\n",
    "    print('Some exceptional situation occurred!',e,e.__class__.__name__)\n",
    "except Exception as e: # parent class handler can handle any child error.\n",
    "    print ('some exception occurred',e,e.__class__.__name__)\n",
    "    \n",
    "print('some other task continues here')"
   ]
  },
  {
   "cell_type": "code",
   "execution_count": 32,
   "metadata": {
    "collapsed": true
   },
   "outputs": [],
   "source": [
    "#*args vs **args\n",
    "def func(input1,input2):\n",
    "    print (input1)\n",
    "    print (input2)"
   ]
  },
  {
   "cell_type": "code",
   "execution_count": 34,
   "metadata": {},
   "outputs": [
    {
     "ename": "TypeError",
     "evalue": "func() takes 2 positional arguments but 3 were given",
     "output_type": "error",
     "traceback": [
      "\u001b[0;31m---------------------------------------------------------------------------\u001b[0m",
      "\u001b[0;31mTypeError\u001b[0m                                 Traceback (most recent call last)",
      "\u001b[0;32m<ipython-input-34-a88401e5fb1a>\u001b[0m in \u001b[0;36m<module>\u001b[0;34m()\u001b[0m\n\u001b[0;32m----> 1\u001b[0;31m \u001b[0mfunc\u001b[0m\u001b[0;34m(\u001b[0m\u001b[0;34m'a'\u001b[0m\u001b[0;34m,\u001b[0m\u001b[0;34m'b'\u001b[0m\u001b[0;34m,\u001b[0m\u001b[0;34m'c'\u001b[0m\u001b[0;34m)\u001b[0m\u001b[0;34m\u001b[0m\u001b[0m\n\u001b[0m",
      "\u001b[0;31mTypeError\u001b[0m: func() takes 2 positional arguments but 3 were given"
     ]
    }
   ],
   "source": [
    "func('a','b','c')"
   ]
  },
  {
   "cell_type": "code",
   "execution_count": 44,
   "metadata": {
    "collapsed": true
   },
   "outputs": [],
   "source": [
    "#*args vs **args\n",
    "def func(*args):\n",
    "    for a in args:\n",
    "        print (a)\n",
    "    "
   ]
  },
  {
   "cell_type": "code",
   "execution_count": 45,
   "metadata": {},
   "outputs": [
    {
     "name": "stdout",
     "output_type": "stream",
     "text": [
      "a\n",
      "b\n",
      "c\n"
     ]
    }
   ],
   "source": [
    "func('a','b','c')"
   ]
  },
  {
   "cell_type": "code",
   "execution_count": 46,
   "metadata": {
    "collapsed": true
   },
   "outputs": [],
   "source": [
    "def func_dict(**kwargs):\n",
    "    for a in kwargs:\n",
    "        print ( a, kwargs[a])"
   ]
  },
  {
   "cell_type": "code",
   "execution_count": 47,
   "metadata": {},
   "outputs": [
    {
     "name": "stdout",
     "output_type": "stream",
     "text": [
      "name one\n",
      "age 27\n"
     ]
    }
   ],
   "source": [
    "func_dict(name='one',age=27)"
   ]
  },
  {
   "cell_type": "code",
   "execution_count": 48,
   "metadata": {},
   "outputs": [
    {
     "ename": "TypeError",
     "evalue": "func() got an unexpected keyword argument 'name'",
     "output_type": "error",
     "traceback": [
      "\u001b[0;31m---------------------------------------------------------------------------\u001b[0m",
      "\u001b[0;31mTypeError\u001b[0m                                 Traceback (most recent call last)",
      "\u001b[0;32m<ipython-input-48-1e48e27c2c94>\u001b[0m in \u001b[0;36m<module>\u001b[0;34m()\u001b[0m\n\u001b[0;32m----> 1\u001b[0;31m \u001b[0mfunc\u001b[0m\u001b[0;34m(\u001b[0m\u001b[0mname\u001b[0m\u001b[0;34m=\u001b[0m\u001b[0;34m'one'\u001b[0m\u001b[0;34m,\u001b[0m\u001b[0mage\u001b[0m\u001b[0;34m=\u001b[0m\u001b[0;36m27\u001b[0m\u001b[0;34m)\u001b[0m\u001b[0;34m\u001b[0m\u001b[0m\n\u001b[0m",
      "\u001b[0;31mTypeError\u001b[0m: func() got an unexpected keyword argument 'name'"
     ]
    }
   ],
   "source": [
    "func(name='one',age=27)"
   ]
  },
  {
   "cell_type": "code",
   "execution_count": 49,
   "metadata": {
    "collapsed": true
   },
   "outputs": [],
   "source": [
    "class CustomError(Exception):\n",
    "    pass"
   ]
  },
  {
   "cell_type": "code",
   "execution_count": 51,
   "metadata": {},
   "outputs": [
    {
     "ename": "CustomError",
     "evalue": "This is my custom error",
     "output_type": "error",
     "traceback": [
      "\u001b[0;31m---------------------------------------------------------------------------\u001b[0m",
      "\u001b[0;31mCustomError\u001b[0m                               Traceback (most recent call last)",
      "\u001b[0;32m<ipython-input-51-b7a49a0eb6f6>\u001b[0m in \u001b[0;36m<module>\u001b[0;34m()\u001b[0m\n\u001b[0;32m----> 1\u001b[0;31m \u001b[0;32mraise\u001b[0m \u001b[0mCustomError\u001b[0m\u001b[0;34m(\u001b[0m\u001b[0;34m\"This is my custom error\"\u001b[0m\u001b[0;34m)\u001b[0m\u001b[0;34m\u001b[0m\u001b[0m\n\u001b[0m",
      "\u001b[0;31mCustomError\u001b[0m: This is my custom error"
     ]
    }
   ],
   "source": [
    "raise CustomError(\"This is my custom error\")"
   ]
  },
  {
   "cell_type": "code",
   "execution_count": 54,
   "metadata": {},
   "outputs": [
    {
     "name": "stdout",
     "output_type": "stream",
     "text": [
      "Enter name: Raj\n",
      "Name not found in the List!\n",
      "Enter name: Vivek\n",
      "Welcome Vivek!!!\n"
     ]
    }
   ],
   "source": [
    "class NameNotFound(Exception): # NameNotFound is a class which inherits from the Exception\n",
    "    def __init__(self,msg='Name not found in the List!'):\n",
    "        super().__init__(msg)\n",
    "        \n",
    "while True: \n",
    "    try:\n",
    "        names = ['Vivek','Suman','Sahil']\n",
    "        name = input('Enter name: ')\n",
    "        \n",
    "        if name in names:\n",
    "            print('Welcome ' + name + '!!!')\n",
    "            break;\n",
    "        else:\n",
    "            raise NameNotFound\n",
    "    except NameNotFound as e:\n",
    "        print(e)\n",
    "    except Exception as e:\n",
    "        print('Some unknown exception: ', e)\n"
   ]
  },
  {
   "cell_type": "code",
   "execution_count": 57,
   "metadata": {},
   "outputs": [
    {
     "name": "stdout",
     "output_type": "stream",
     "text": [
      "Enter a number: 9\n",
      "This value is too small, try again!\n",
      "\n",
      "Enter a number: 10\n",
      "Congratulations! You guessed it correctly\n"
     ]
    }
   ],
   "source": [
    "class ValueTooSmallError(Exception):\n",
    "    \"\"\" Raised when the input value is too small\"\"\"\n",
    "    pass\n",
    "\n",
    "class ValueTooLargeError(Exception):\n",
    "    \"\"\"Raised when the input value is too large\"\"\"\n",
    "    pass\n",
    "\n",
    "number = 10\n",
    "\n",
    "while True:\n",
    "    try: \n",
    "        \n",
    "        num = int(input('Enter a number: '))\n",
    "        if num < number:\n",
    "            raise ValueTooSmallError\n",
    "        elif num > number:\n",
    "            raise ValueTooLargeError\n",
    "        break\n",
    "    except ValueTooSmallError:\n",
    "        print ('This value is too small, try again!')\n",
    "        print()\n",
    "    except ValueTooLargeError:\n",
    "        print ('This value is too large,try again!')\n",
    "        print()\n",
    "print(\"Congratulations! You guessed it correctly\")"
   ]
  },
  {
   "cell_type": "code",
   "execution_count": null,
   "metadata": {
    "collapsed": true
   },
   "outputs": [],
   "source": []
  }
 ],
 "metadata": {
  "kernelspec": {
   "display_name": "Python 3",
   "language": "python",
   "name": "python3"
  },
  "language_info": {
   "codemirror_mode": {
    "name": "ipython",
    "version": 3
   },
   "file_extension": ".py",
   "mimetype": "text/x-python",
   "name": "python",
   "nbconvert_exporter": "python",
   "pygments_lexer": "ipython3",
   "version": "3.6.1"
  }
 },
 "nbformat": 4,
 "nbformat_minor": 2
}
