{
 "cells": [
  {
   "cell_type": "code",
   "execution_count": 1,
   "metadata": {},
   "outputs": [
    {
     "ename": "SyntaxError",
     "evalue": "invalid syntax (<ipython-input-1-1fed2d4080ba>, line 1)",
     "output_type": "error",
     "traceback": [
      "\u001b[0;36m  File \u001b[0;32m\"<ipython-input-1-1fed2d4080ba>\"\u001b[0;36m, line \u001b[0;32m1\u001b[0m\n\u001b[0;31m    - operator overloading\u001b[0m\n\u001b[0m                         ^\u001b[0m\n\u001b[0;31mSyntaxError\u001b[0m\u001b[0;31m:\u001b[0m invalid syntax\n"
     ]
    }
   ],
   "source": [
    "- operator overloading\n",
    "- Method overloading \n",
    "- Method overriding\n",
    "- Duck typing philosophy\n",
    "\n",
    "# in Java\n",
    "\n",
    "int age \n",
    "age = 15\n",
    "\n"
   ]
  },
  {
   "cell_type": "code",
   "execution_count": 2,
   "metadata": {},
   "outputs": [
    {
     "name": "stdout",
     "output_type": "stream",
     "text": [
      "<class 'int'>\n"
     ]
    }
   ],
   "source": [
    "x = 5 \n",
    "\n",
    "print (type(x))"
   ]
  },
  {
   "cell_type": "code",
   "execution_count": 3,
   "metadata": {},
   "outputs": [
    {
     "name": "stdout",
     "output_type": "stream",
     "text": [
      "<class 'str'>\n"
     ]
    }
   ],
   "source": [
    "x = 'Hello'\n",
    "print (type(x))"
   ]
  },
  {
   "cell_type": "code",
   "execution_count": null,
   "metadata": {
    "collapsed": true
   },
   "outputs": [],
   "source": [
    "def call_talk(obj): # this function is recieving an 'obj' from outside, and using this object, and invoking obj.talk().\n",
    "    obj.talk()"
   ]
  },
  {
   "cell_type": "code",
   "execution_count": 8,
   "metadata": {
    "collapsed": true
   },
   "outputs": [],
   "source": [
    "#1\n",
    "class Duck:\n",
    "    def talk(self):\n",
    "        print ('Quack, quack!')\n",
    "#2        \n",
    "class Human:\n",
    "    def talk(self):\n",
    "        print ('Hello,Hi!')\n",
    "#3        \n",
    "def call_talk(obj):\n",
    "    obj.talk()"
   ]
  },
  {
   "cell_type": "code",
   "execution_count": 5,
   "metadata": {
    "collapsed": true
   },
   "outputs": [],
   "source": [
    "x = Duck()"
   ]
  },
  {
   "cell_type": "code",
   "execution_count": 6,
   "metadata": {},
   "outputs": [
    {
     "name": "stdout",
     "output_type": "stream",
     "text": [
      "Quack, quack!\n"
     ]
    }
   ],
   "source": [
    "call_talk(x)"
   ]
  },
  {
   "cell_type": "code",
   "execution_count": 7,
   "metadata": {},
   "outputs": [
    {
     "name": "stdout",
     "output_type": "stream",
     "text": [
      "Hello,Hi!\n"
     ]
    }
   ],
   "source": [
    "x = Human()\n",
    "call_talk(x)"
   ]
  },
  {
   "cell_type": "code",
   "execution_count": 9,
   "metadata": {},
   "outputs": [
    {
     "name": "stdout",
     "output_type": "stream",
     "text": [
      "Quack, quack!\n"
     ]
    }
   ],
   "source": [
    "x = Duck()\n",
    "call_talk(x)"
   ]
  },
  {
   "cell_type": "code",
   "execution_count": 10,
   "metadata": {
    "collapsed": true
   },
   "outputs": [],
   "source": [
    "class Dog:\n",
    "    def bark(self):\n",
    "        print ('Bow,wow!')\n",
    "        \n",
    "class Duck:\n",
    "    def talk(self):\n",
    "        print ('Quack, quack')\n",
    "        \n",
    "class Human:\n",
    "    def talk(self):\n",
    "        print ('Hello, hi')\n",
    "        \n",
    "def call_talk(obj):\n",
    "    obj.talk()"
   ]
  },
  {
   "cell_type": "code",
   "execution_count": 11,
   "metadata": {
    "collapsed": true
   },
   "outputs": [],
   "source": [
    "# call call_talk() method and pass an object depending on type of object, talk() method is executed."
   ]
  },
  {
   "cell_type": "code",
   "execution_count": 12,
   "metadata": {
    "collapsed": true
   },
   "outputs": [],
   "source": [
    "x = Duck()"
   ]
  },
  {
   "cell_type": "code",
   "execution_count": 13,
   "metadata": {},
   "outputs": [
    {
     "name": "stdout",
     "output_type": "stream",
     "text": [
      "Quack, quack\n"
     ]
    }
   ],
   "source": [
    "call_talk(x)"
   ]
  },
  {
   "cell_type": "code",
   "execution_count": 14,
   "metadata": {
    "collapsed": true
   },
   "outputs": [],
   "source": [
    "x = Human()"
   ]
  },
  {
   "cell_type": "code",
   "execution_count": 15,
   "metadata": {},
   "outputs": [
    {
     "name": "stdout",
     "output_type": "stream",
     "text": [
      "Hello, hi\n"
     ]
    }
   ],
   "source": [
    "call_talk(x)"
   ]
  },
  {
   "cell_type": "code",
   "execution_count": 16,
   "metadata": {
    "collapsed": true
   },
   "outputs": [],
   "source": [
    "x = Dog()"
   ]
  },
  {
   "cell_type": "code",
   "execution_count": 17,
   "metadata": {},
   "outputs": [
    {
     "ename": "AttributeError",
     "evalue": "'Dog' object has no attribute 'talk'",
     "output_type": "error",
     "traceback": [
      "\u001b[0;31m---------------------------------------------------------------------------\u001b[0m",
      "\u001b[0;31mAttributeError\u001b[0m                            Traceback (most recent call last)",
      "\u001b[0;32m<ipython-input-17-a00086aa4fba>\u001b[0m in \u001b[0;36m<module>\u001b[0;34m()\u001b[0m\n\u001b[0;32m----> 1\u001b[0;31m \u001b[0mcall_talk\u001b[0m\u001b[0;34m(\u001b[0m\u001b[0mx\u001b[0m\u001b[0;34m)\u001b[0m\u001b[0;34m\u001b[0m\u001b[0m\n\u001b[0m",
      "\u001b[0;32m<ipython-input-10-e7a2a9e589de>\u001b[0m in \u001b[0;36mcall_talk\u001b[0;34m(obj)\u001b[0m\n\u001b[1;32m     12\u001b[0m \u001b[0;34m\u001b[0m\u001b[0m\n\u001b[1;32m     13\u001b[0m \u001b[0;32mdef\u001b[0m \u001b[0mcall_talk\u001b[0m\u001b[0;34m(\u001b[0m\u001b[0mobj\u001b[0m\u001b[0;34m)\u001b[0m\u001b[0;34m:\u001b[0m\u001b[0;34m\u001b[0m\u001b[0m\n\u001b[0;32m---> 14\u001b[0;31m     \u001b[0mobj\u001b[0m\u001b[0;34m.\u001b[0m\u001b[0mtalk\u001b[0m\u001b[0;34m(\u001b[0m\u001b[0;34m)\u001b[0m\u001b[0;34m\u001b[0m\u001b[0m\n\u001b[0m",
      "\u001b[0;31mAttributeError\u001b[0m: 'Dog' object has no attribute 'talk'"
     ]
    }
   ],
   "source": [
    "call_talk(x)"
   ]
  },
  {
   "cell_type": "code",
   "execution_count": 19,
   "metadata": {
    "collapsed": true
   },
   "outputs": [],
   "source": [
    "def call_talk(obj):\n",
    "    if hasattr(obj,'talk'):\n",
    "        obj.talk()\n",
    "    elif hasattr(obj,'bark'):\n",
    "        obj.bark()"
   ]
  },
  {
   "cell_type": "code",
   "execution_count": 22,
   "metadata": {
    "collapsed": true
   },
   "outputs": [],
   "source": [
    "x = Dog() # create a object"
   ]
  },
  {
   "cell_type": "code",
   "execution_count": 21,
   "metadata": {},
   "outputs": [
    {
     "name": "stdout",
     "output_type": "stream",
     "text": [
      "Bow,wow!\n"
     ]
    }
   ],
   "source": [
    "call_talk(x)"
   ]
  },
  {
   "cell_type": "code",
   "execution_count": 27,
   "metadata": {
    "collapsed": true
   },
   "outputs": [],
   "source": [
    "class Pet():\n",
    "    # attribute\n",
    "    legs = 4\n",
    "    # method\n",
    "    def sound():\n",
    "        print ('sound...')"
   ]
  },
  {
   "cell_type": "code",
   "execution_count": 34,
   "metadata": {
    "collapsed": true
   },
   "outputs": [],
   "source": [
    "# hasattr(object,attribute), it will look for attributes and methods"
   ]
  },
  {
   "cell_type": "code",
   "execution_count": 29,
   "metadata": {
    "collapsed": true
   },
   "outputs": [],
   "source": [
    "z = Pet()"
   ]
  },
  {
   "cell_type": "code",
   "execution_count": 37,
   "metadata": {},
   "outputs": [
    {
     "data": {
      "text/plain": [
       "True"
      ]
     },
     "execution_count": 37,
     "metadata": {},
     "output_type": "execute_result"
    }
   ],
   "source": [
    "hasattr(z,'sound')"
   ]
  },
  {
   "cell_type": "code",
   "execution_count": 38,
   "metadata": {
    "collapsed": true
   },
   "outputs": [],
   "source": [
    "class Dog:\n",
    "    def bark(self):\n",
    "        print ('Bow,wow!')\n",
    "        \n",
    "class Duck:\n",
    "    def talk(self):\n",
    "        print ('Quack, quack')\n",
    "        \n",
    "class Human:\n",
    "    def talk(self):\n",
    "        print ('Hello, hi')\n",
    "        \n",
    "def call_talk(obj):\n",
    "    if hasattr(obj,'talk'):\n",
    "        obj.talk()\n",
    "    elif hasattr(obj,'bark'):\n",
    "        obj.bark()\n",
    "    else:\n",
    "        print ('Wrong object passed...')"
   ]
  },
  {
   "cell_type": "code",
   "execution_count": 39,
   "metadata": {
    "collapsed": true
   },
   "outputs": [],
   "source": [
    "x = Duck()"
   ]
  },
  {
   "cell_type": "code",
   "execution_count": 40,
   "metadata": {},
   "outputs": [
    {
     "name": "stdout",
     "output_type": "stream",
     "text": [
      "Quack, quack\n"
     ]
    }
   ],
   "source": [
    "call_talk(x)"
   ]
  },
  {
   "cell_type": "code",
   "execution_count": 41,
   "metadata": {
    "collapsed": true
   },
   "outputs": [],
   "source": [
    "x = Human()"
   ]
  },
  {
   "cell_type": "code",
   "execution_count": 42,
   "metadata": {},
   "outputs": [
    {
     "name": "stdout",
     "output_type": "stream",
     "text": [
      "Hello, hi\n"
     ]
    }
   ],
   "source": [
    "call_talk(x)"
   ]
  },
  {
   "cell_type": "code",
   "execution_count": 43,
   "metadata": {
    "collapsed": true
   },
   "outputs": [],
   "source": [
    "x = Dog()"
   ]
  },
  {
   "cell_type": "code",
   "execution_count": 44,
   "metadata": {},
   "outputs": [
    {
     "name": "stdout",
     "output_type": "stream",
     "text": [
      "Bow,wow!\n"
     ]
    }
   ],
   "source": [
    "call_talk(x)"
   ]
  },
  {
   "cell_type": "code",
   "execution_count": 45,
   "metadata": {
    "collapsed": true
   },
   "outputs": [],
   "source": [
    "x = Pet()"
   ]
  },
  {
   "cell_type": "code",
   "execution_count": 46,
   "metadata": {},
   "outputs": [
    {
     "name": "stdout",
     "output_type": "stream",
     "text": [
      "Wrong object passed...\n"
     ]
    }
   ],
   "source": [
    "call_talk(x)"
   ]
  },
  {
   "cell_type": "code",
   "execution_count": 47,
   "metadata": {
    "collapsed": true
   },
   "outputs": [],
   "source": [
    "# Operator Overloading "
   ]
  },
  {
   "cell_type": "code",
   "execution_count": 48,
   "metadata": {},
   "outputs": [
    {
     "data": {
      "text/plain": [
       "4"
      ]
     },
     "execution_count": 48,
     "metadata": {},
     "output_type": "execute_result"
    }
   ],
   "source": [
    "2 + 2"
   ]
  },
  {
   "cell_type": "code",
   "execution_count": 49,
   "metadata": {},
   "outputs": [
    {
     "data": {
      "text/plain": [
       "12"
      ]
     },
     "execution_count": 49,
     "metadata": {},
     "output_type": "execute_result"
    }
   ],
   "source": [
    "3 * 4"
   ]
  },
  {
   "cell_type": "code",
   "execution_count": 50,
   "metadata": {},
   "outputs": [
    {
     "name": "stdout",
     "output_type": "stream",
     "text": [
      "25\n"
     ]
    }
   ],
   "source": [
    "print (10+15)"
   ]
  },
  {
   "cell_type": "code",
   "execution_count": 51,
   "metadata": {
    "collapsed": true
   },
   "outputs": [],
   "source": [
    "# use the same + to concatenate them"
   ]
  },
  {
   "cell_type": "code",
   "execution_count": 52,
   "metadata": {
    "collapsed": true
   },
   "outputs": [],
   "source": [
    "s1 = \"Red\"\n",
    "s2 = \"Fort\""
   ]
  },
  {
   "cell_type": "code",
   "execution_count": 53,
   "metadata": {},
   "outputs": [
    {
     "name": "stdout",
     "output_type": "stream",
     "text": [
      "RedFort\n"
     ]
    }
   ],
   "source": [
    "print (s1 + s2)"
   ]
  },
  {
   "cell_type": "code",
   "execution_count": 54,
   "metadata": {
    "collapsed": true
   },
   "outputs": [],
   "source": [
    "a = [10,20,30]\n",
    "b = [5,15,-10]"
   ]
  },
  {
   "cell_type": "code",
   "execution_count": 55,
   "metadata": {},
   "outputs": [
    {
     "name": "stdout",
     "output_type": "stream",
     "text": [
      "[10, 20, 30, 5, 15, -10]\n"
     ]
    }
   ],
   "source": [
    "print ( a + b)"
   ]
  },
  {
   "cell_type": "code",
   "execution_count": null,
   "metadata": {
    "collapsed": true
   },
   "outputs": [],
   "source": [
    "+ \n",
    " - adding two integers\n",
    " - adding two strings\n",
    " - adding two lists\n",
    "    \n",
    "Any operator performs additional actions other than what it is meants for, it is called operator overloading. \n",
    "This operator overloading is an example for polymorphism. "
   ]
  },
  {
   "cell_type": "code",
   "execution_count": null,
   "metadata": {
    "collapsed": true
   },
   "outputs": [],
   "source": [
    "two objects , obj1 + obj2 \n",
    "\n",
    "b1 = BookX(100)\n",
    "b2 = BookY(150)\n",
    "\n",
    "b1 + b2 = 250 "
   ]
  },
  {
   "cell_type": "code",
   "execution_count": 57,
   "metadata": {
    "collapsed": true
   },
   "outputs": [],
   "source": [
    "class BookX:\n",
    "    def __init__(self,pages):\n",
    "        self.pages = pages\n",
    "        \n",
    "class BookY:\n",
    "    def __init__(self,pages):\n",
    "        self.pages = pages"
   ]
  },
  {
   "cell_type": "code",
   "execution_count": 58,
   "metadata": {
    "collapsed": true
   },
   "outputs": [],
   "source": [
    "b1 = BookX(100)"
   ]
  },
  {
   "cell_type": "code",
   "execution_count": 59,
   "metadata": {
    "collapsed": true
   },
   "outputs": [],
   "source": [
    "b2 = BookY(150)"
   ]
  },
  {
   "cell_type": "code",
   "execution_count": 60,
   "metadata": {},
   "outputs": [
    {
     "ename": "TypeError",
     "evalue": "unsupported operand type(s) for +: 'BookX' and 'BookY'",
     "output_type": "error",
     "traceback": [
      "\u001b[0;31m---------------------------------------------------------------------------\u001b[0m",
      "\u001b[0;31mTypeError\u001b[0m                                 Traceback (most recent call last)",
      "\u001b[0;32m<ipython-input-60-c332f6dbcfa3>\u001b[0m in \u001b[0;36m<module>\u001b[0;34m()\u001b[0m\n\u001b[0;32m----> 1\u001b[0;31m \u001b[0mprint\u001b[0m \u001b[0;34m(\u001b[0m\u001b[0;34m'Total pages= '\u001b[0m\u001b[0;34m,\u001b[0m \u001b[0mb1\u001b[0m \u001b[0;34m+\u001b[0m \u001b[0mb2\u001b[0m \u001b[0;34m)\u001b[0m\u001b[0;34m\u001b[0m\u001b[0m\n\u001b[0m",
      "\u001b[0;31mTypeError\u001b[0m: unsupported operand type(s) for +: 'BookX' and 'BookY'"
     ]
    }
   ],
   "source": [
    "print ('Total pages= ', b1 + b2 )"
   ]
  },
  {
   "cell_type": "code",
   "execution_count": null,
   "metadata": {
    "collapsed": true
   },
   "outputs": [],
   "source": [
    "+ = __add__()\n",
    "a + b = a.__add__(b)"
   ]
  },
  {
   "cell_type": "code",
   "execution_count": 61,
   "metadata": {
    "collapsed": true
   },
   "outputs": [],
   "source": [
    "a = 2\n",
    "b = 3\n"
   ]
  },
  {
   "cell_type": "code",
   "execution_count": 62,
   "metadata": {},
   "outputs": [
    {
     "data": {
      "text/plain": [
       "5"
      ]
     },
     "execution_count": 62,
     "metadata": {},
     "output_type": "execute_result"
    }
   ],
   "source": [
    "a + b # simple"
   ]
  },
  {
   "cell_type": "code",
   "execution_count": 63,
   "metadata": {},
   "outputs": [
    {
     "data": {
      "text/plain": [
       "5"
      ]
     },
     "execution_count": 63,
     "metadata": {},
     "output_type": "execute_result"
    }
   ],
   "source": [
    "a.__add__(b) # complicated."
   ]
  },
  {
   "cell_type": "code",
   "execution_count": null,
   "metadata": {
    "collapsed": true
   },
   "outputs": [],
   "source": [
    "# Override \n",
    "def __add__(self,other):\n",
    "    return self.a+other.b"
   ]
  },
  {
   "cell_type": "code",
   "execution_count": null,
   "metadata": {
    "collapsed": true
   },
   "outputs": [],
   "source": [
    "def __add__(self,other):\n",
    "    return self.pages + other.pages"
   ]
  },
  {
   "cell_type": "code",
   "execution_count": 64,
   "metadata": {
    "collapsed": true
   },
   "outputs": [],
   "source": [
    "# overloading + operator\n",
    "\n",
    "class BookX:\n",
    "    def __init__(self,pages):\n",
    "        self.pages = pages\n",
    "        \n",
    "    def __add__(self,other):\n",
    "        return self.pages + other.pages\n",
    "    \n",
    "class BookY:\n",
    "    def __init__(self,pages):\n",
    "        self.pages = pages"
   ]
  },
  {
   "cell_type": "code",
   "execution_count": 65,
   "metadata": {},
   "outputs": [
    {
     "name": "stdout",
     "output_type": "stream",
     "text": [
      "Total pages=  250\n"
     ]
    }
   ],
   "source": [
    "b1 = BookX(100)\n",
    "b2 = BookY(150)\n",
    "print ('Total pages= ', b1+b2)"
   ]
  },
  {
   "cell_type": "code",
   "execution_count": 66,
   "metadata": {
    "collapsed": true
   },
   "outputs": [],
   "source": [
    "# pythom operator and corrsponding Magic Methods"
   ]
  },
  {
   "cell_type": "code",
   "execution_count": null,
   "metadata": {
    "collapsed": true
   },
   "outputs": [],
   "source": [
    "+  object.__add__(self,other)\n",
    "\n",
    "-  object.__sub__(self,other)\n",
    "\n",
    "> object.__gt__(self,other)"
   ]
  },
  {
   "cell_type": "code",
   "execution_count": 67,
   "metadata": {
    "collapsed": true
   },
   "outputs": [],
   "source": [
    "class ScienceBook:\n",
    "    def __init__(self,pages):\n",
    "        self.pages = pages\n",
    "        \n",
    "    def __gt__(self,other):\n",
    "        return self.pages > other.pages\n",
    "    \n",
    "class ArtsBook:\n",
    "    def __init__(self,pages):\n",
    "        self.pages = pages"
   ]
  },
  {
   "cell_type": "code",
   "execution_count": 68,
   "metadata": {
    "collapsed": true
   },
   "outputs": [],
   "source": [
    "b1 = ScienceBook(1000)"
   ]
  },
  {
   "cell_type": "code",
   "execution_count": 69,
   "metadata": {
    "collapsed": true
   },
   "outputs": [],
   "source": [
    "b2 = ArtsBook(1500)"
   ]
  },
  {
   "cell_type": "code",
   "execution_count": 70,
   "metadata": {},
   "outputs": [
    {
     "name": "stdout",
     "output_type": "stream",
     "text": [
      "Arts has more pages\n"
     ]
    }
   ],
   "source": [
    "if (b1 > b2):\n",
    "    print ('ScienceBook has more pages')\n",
    "else:\n",
    "    print ('Arts has more pages')"
   ]
  },
  {
   "cell_type": "code",
   "execution_count": null,
   "metadata": {
    "collapsed": true
   },
   "outputs": [],
   "source": [
    "def __mul__(self,other):\n",
    "    return self.salary * other.days"
   ]
  },
  {
   "cell_type": "code",
   "execution_count": 71,
   "metadata": {
    "collapsed": true
   },
   "outputs": [],
   "source": [
    "# Method Overloading "
   ]
  },
  {
   "cell_type": "code",
   "execution_count": 73,
   "metadata": {},
   "outputs": [
    {
     "ename": "TypeError",
     "evalue": "sum() can't sum strings [use ''.join(seq) instead]",
     "output_type": "error",
     "traceback": [
      "\u001b[0;31m---------------------------------------------------------------------------\u001b[0m",
      "\u001b[0;31mTypeError\u001b[0m                                 Traceback (most recent call last)",
      "\u001b[0;32m<ipython-input-73-571ba127dd3d>\u001b[0m in \u001b[0;36m<module>\u001b[0;34m()\u001b[0m\n\u001b[0;32m----> 1\u001b[0;31m \u001b[0msum\u001b[0m\u001b[0;34m(\u001b[0m\u001b[0;34m'10'\u001b[0m\u001b[0;34m,\u001b[0m\u001b[0;34m'15'\u001b[0m\u001b[0;34m)\u001b[0m\u001b[0;34m\u001b[0m\u001b[0m\n\u001b[0m",
      "\u001b[0;31mTypeError\u001b[0m: sum() can't sum strings [use ''.join(seq) instead]"
     ]
    }
   ],
   "source": [
    "sum('10','15')"
   ]
  },
  {
   "cell_type": "code",
   "execution_count": 74,
   "metadata": {},
   "outputs": [
    {
     "name": "stdout",
     "output_type": "stream",
     "text": [
      "Help on built-in function sum in module builtins:\n",
      "\n",
      "sum(iterable, start=0, /)\n",
      "    Return the sum of a 'start' value (default: 0) plus an iterable of numbers\n",
      "    \n",
      "    When the iterable is empty, return the start value.\n",
      "    This function is intended specifically for use with numeric values and may\n",
      "    reject non-numeric types.\n",
      "\n"
     ]
    }
   ],
   "source": [
    "help(sum)"
   ]
  },
  {
   "cell_type": "code",
   "execution_count": 75,
   "metadata": {},
   "outputs": [
    {
     "ename": "NameError",
     "evalue": "name 'doc' is not defined",
     "output_type": "error",
     "traceback": [
      "\u001b[0;31m---------------------------------------------------------------------------\u001b[0m",
      "\u001b[0;31mNameError\u001b[0m                                 Traceback (most recent call last)",
      "\u001b[0;32m<ipython-input-75-984c3282f9a8>\u001b[0m in \u001b[0;36m<module>\u001b[0;34m()\u001b[0m\n\u001b[0;32m----> 1\u001b[0;31m \u001b[0mdoc\u001b[0m\u001b[0;34m(\u001b[0m\u001b[0msum\u001b[0m\u001b[0;34m)\u001b[0m\u001b[0;34m\u001b[0m\u001b[0m\n\u001b[0m",
      "\u001b[0;31mNameError\u001b[0m: name 'doc' is not defined"
     ]
    }
   ],
   "source": [
    "doc(sum)"
   ]
  },
  {
   "cell_type": "code",
   "execution_count": 76,
   "metadata": {
    "collapsed": true
   },
   "outputs": [],
   "source": [
    "list = [2,3,4]"
   ]
  },
  {
   "cell_type": "code",
   "execution_count": 3,
   "metadata": {},
   "outputs": [
    {
     "ename": "TypeError",
     "evalue": "'type' object is not iterable",
     "output_type": "error",
     "traceback": [
      "\u001b[1;31m---------------------------------------------------------------------------\u001b[0m",
      "\u001b[1;31mTypeError\u001b[0m                                 Traceback (most recent call last)",
      "\u001b[1;32m<ipython-input-3-4aa9411971e4>\u001b[0m in \u001b[0;36m<module>\u001b[1;34m()\u001b[0m\n\u001b[1;32m----> 1\u001b[1;33m \u001b[0msum\u001b[0m\u001b[1;33m(\u001b[0m\u001b[0mlist\u001b[0m\u001b[1;33m)\u001b[0m\u001b[1;33m\u001b[0m\u001b[0m\n\u001b[0m",
      "\u001b[1;31mTypeError\u001b[0m: 'type' object is not iterable"
     ]
    }
   ],
   "source": [
    "sum(list)"
   ]
  },
  {
   "cell_type": "code",
   "execution_count": 2,
   "metadata": {},
   "outputs": [
    {
     "ename": "TypeError",
     "evalue": "'type' object is not iterable",
     "output_type": "error",
     "traceback": [
      "\u001b[1;31m---------------------------------------------------------------------------\u001b[0m",
      "\u001b[1;31mTypeError\u001b[0m                                 Traceback (most recent call last)",
      "\u001b[1;32m<ipython-input-2-3129775d7287>\u001b[0m in \u001b[0;36m<module>\u001b[1;34m()\u001b[0m\n\u001b[1;32m----> 1\u001b[1;33m \u001b[0msum\u001b[0m\u001b[1;33m(\u001b[0m\u001b[0mlist\u001b[0m\u001b[1;33m,\u001b[0m\u001b[1;36m5\u001b[0m\u001b[1;33m)\u001b[0m\u001b[1;33m\u001b[0m\u001b[0m\n\u001b[0m",
      "\u001b[1;31mTypeError\u001b[0m: 'type' object is not iterable"
     ]
    }
   ],
   "source": [
    "sum(list,5)"
   ]
  },
  {
   "cell_type": "code",
   "execution_count": 80,
   "metadata": {
    "collapsed": true
   },
   "outputs": [],
   "source": [
    "# method overloading\n",
    "\n",
    "class Myclass:\n",
    "    def sum(self,a=None, b=None, c=None):\n",
    "        if a != None and b != None and c != None:\n",
    "            print ('Sum of three= ', a+b+c)\n",
    "        elif a != None and b != None:\n",
    "            print ('Sum of two= ', a+b)\n",
    "        else:\n",
    "            print ('Please enter two or three arguments instead')"
   ]
  },
  {
   "cell_type": "code",
   "execution_count": 81,
   "metadata": {
    "collapsed": true
   },
   "outputs": [],
   "source": [
    "m = Myclass()"
   ]
  },
  {
   "cell_type": "code",
   "execution_count": 82,
   "metadata": {},
   "outputs": [
    {
     "name": "stdout",
     "output_type": "stream",
     "text": [
      "Sum of three=  45\n"
     ]
    }
   ],
   "source": [
    "m.sum(10,15,20)"
   ]
  },
  {
   "cell_type": "code",
   "execution_count": 83,
   "metadata": {},
   "outputs": [
    {
     "name": "stdout",
     "output_type": "stream",
     "text": [
      "Sum of two=  25\n"
     ]
    }
   ],
   "source": [
    "m.sum(10,15)"
   ]
  },
  {
   "cell_type": "code",
   "execution_count": 84,
   "metadata": {},
   "outputs": [
    {
     "name": "stdout",
     "output_type": "stream",
     "text": [
      "Please enter two or three arguments instead\n"
     ]
    }
   ],
   "source": [
    "m.sum(10)"
   ]
  },
  {
   "cell_type": "code",
   "execution_count": 85,
   "metadata": {
    "collapsed": true
   },
   "outputs": [],
   "source": [
    "# method overloading"
   ]
  },
  {
   "cell_type": "code",
   "execution_count": null,
   "metadata": {
    "collapsed": true
   },
   "outputs": [],
   "source": [
    "def func()\n",
    "    print (a)\n",
    "    print (a+b)\n",
    "    print (a+b+c)\n",
    "    print (a+b+c+d)"
   ]
  },
  {
   "cell_type": "code",
   "execution_count": 86,
   "metadata": {
    "collapsed": true
   },
   "outputs": [],
   "source": [
    "# Method overriding"
   ]
  },
  {
   "cell_type": "code",
   "execution_count": 92,
   "metadata": {
    "collapsed": true
   },
   "outputs": [],
   "source": [
    "import math\n",
    "class Square:\n",
    "    def area(self,x):\n",
    "        print ('Square area = %.4f' % x*x)\n",
    "\n",
    "class Circle(Square):\n",
    "    def area(self,x): # Overriding the area method with something enhanced or extra\n",
    "        print ('Square area = %.4f' % math.pi*x*x)    "
   ]
  },
  {
   "cell_type": "code",
   "execution_count": 88,
   "metadata": {
    "collapsed": true
   },
   "outputs": [],
   "source": [
    "c = Circle()"
   ]
  },
  {
   "cell_type": "code",
   "execution_count": 90,
   "metadata": {
    "collapsed": true
   },
   "outputs": [],
   "source": [
    "s = Square()"
   ]
  },
  {
   "cell_type": "code",
   "execution_count": 91,
   "metadata": {},
   "outputs": [
    {
     "name": "stdout",
     "output_type": "stream",
     "text": [
      "Square area = 15.0000Square area = 15.0000Square area = 15.0000Square area = 15.0000Square area = 15.0000Square area = 15.0000Square area = 15.0000Square area = 15.0000Square area = 15.0000Square area = 15.0000Square area = 15.0000Square area = 15.0000Square area = 15.0000Square area = 15.0000Square area = 15.0000\n"
     ]
    }
   ],
   "source": [
    "s.area(15)"
   ]
  },
  {
   "cell_type": "code",
   "execution_count": 89,
   "metadata": {},
   "outputs": [
    {
     "name": "stdout",
     "output_type": "stream",
     "text": [
      "Square area = 3.1416Square area = 3.1416Square area = 3.1416Square area = 3.1416Square area = 3.1416Square area = 3.1416Square area = 3.1416Square area = 3.1416Square area = 3.1416Square area = 3.1416Square area = 3.1416Square area = 3.1416Square area = 3.1416Square area = 3.1416Square area = 3.1416Square area = 3.1416Square area = 3.1416Square area = 3.1416Square area = 3.1416Square area = 3.1416Square area = 3.1416Square area = 3.1416Square area = 3.1416Square area = 3.1416Square area = 3.1416Square area = 3.1416Square area = 3.1416Square area = 3.1416Square area = 3.1416Square area = 3.1416Square area = 3.1416Square area = 3.1416Square area = 3.1416Square area = 3.1416Square area = 3.1416Square area = 3.1416Square area = 3.1416Square area = 3.1416Square area = 3.1416Square area = 3.1416Square area = 3.1416Square area = 3.1416Square area = 3.1416Square area = 3.1416Square area = 3.1416Square area = 3.1416Square area = 3.1416Square area = 3.1416Square area = 3.1416Square area = 3.1416Square area = 3.1416Square area = 3.1416Square area = 3.1416Square area = 3.1416Square area = 3.1416Square area = 3.1416Square area = 3.1416Square area = 3.1416Square area = 3.1416Square area = 3.1416Square area = 3.1416Square area = 3.1416Square area = 3.1416Square area = 3.1416Square area = 3.1416Square area = 3.1416Square area = 3.1416Square area = 3.1416Square area = 3.1416Square area = 3.1416Square area = 3.1416Square area = 3.1416Square area = 3.1416Square area = 3.1416Square area = 3.1416Square area = 3.1416Square area = 3.1416Square area = 3.1416Square area = 3.1416Square area = 3.1416Square area = 3.1416Square area = 3.1416Square area = 3.1416Square area = 3.1416Square area = 3.1416Square area = 3.1416Square area = 3.1416Square area = 3.1416Square area = 3.1416Square area = 3.1416Square area = 3.1416Square area = 3.1416Square area = 3.1416Square area = 3.1416Square area = 3.1416Square area = 3.1416Square area = 3.1416Square area = 3.1416Square area = 3.1416Square area = 3.1416Square area = 3.1416Square area = 3.1416Square area = 3.1416Square area = 3.1416Square area = 3.1416Square area = 3.1416Square area = 3.1416Square area = 3.1416Square area = 3.1416Square area = 3.1416Square area = 3.1416Square area = 3.1416Square area = 3.1416Square area = 3.1416Square area = 3.1416Square area = 3.1416Square area = 3.1416Square area = 3.1416Square area = 3.1416Square area = 3.1416Square area = 3.1416Square area = 3.1416Square area = 3.1416Square area = 3.1416Square area = 3.1416Square area = 3.1416Square area = 3.1416Square area = 3.1416Square area = 3.1416Square area = 3.1416Square area = 3.1416Square area = 3.1416Square area = 3.1416Square area = 3.1416Square area = 3.1416Square area = 3.1416Square area = 3.1416Square area = 3.1416Square area = 3.1416Square area = 3.1416Square area = 3.1416Square area = 3.1416Square area = 3.1416Square area = 3.1416Square area = 3.1416Square area = 3.1416Square area = 3.1416Square area = 3.1416Square area = 3.1416Square area = 3.1416Square area = 3.1416Square area = 3.1416Square area = 3.1416Square area = 3.1416Square area = 3.1416Square area = 3.1416Square area = 3.1416Square area = 3.1416Square area = 3.1416Square area = 3.1416Square area = 3.1416Square area = 3.1416Square area = 3.1416Square area = 3.1416Square area = 3.1416Square area = 3.1416Square area = 3.1416Square area = 3.1416Square area = 3.1416Square area = 3.1416Square area = 3.1416Square area = 3.1416Square area = 3.1416Square area = 3.1416Square area = 3.1416Square area = 3.1416Square area = 3.1416Square area = 3.1416Square area = 3.1416Square area = 3.1416Square area = 3.1416Square area = 3.1416Square area = 3.1416Square area = 3.1416Square area = 3.1416Square area = 3.1416Square area = 3.1416Square area = 3.1416Square area = 3.1416Square area = 3.1416Square area = 3.1416Square area = 3.1416Square area = 3.1416Square area = 3.1416Square area = 3.1416Square area = 3.1416Square area = 3.1416Square area = 3.1416Square area = 3.1416Square area = 3.1416Square area = 3.1416Square area = 3.1416Square area = 3.1416Square area = 3.1416Square area = 3.1416Square area = 3.1416Square area = 3.1416Square area = 3.1416Square area = 3.1416Square area = 3.1416Square area = 3.1416Square area = 3.1416Square area = 3.1416Square area = 3.1416Square area = 3.1416Square area = 3.1416Square area = 3.1416Square area = 3.1416Square area = 3.1416Square area = 3.1416Square area = 3.1416Square area = 3.1416Square area = 3.1416Square area = 3.1416Square area = 3.1416\n"
     ]
    }
   ],
   "source": [
    "c.area(15)"
   ]
  },
  {
   "cell_type": "code",
   "execution_count": 93,
   "metadata": {
    "collapsed": true
   },
   "outputs": [],
   "source": [
    "# Abstract classes and interfaces"
   ]
  },
  {
   "cell_type": "code",
   "execution_count": 94,
   "metadata": {
    "collapsed": true
   },
   "outputs": [],
   "source": [
    "class Myclass:\n",
    "    def calculate(self,x):\n",
    "        print ('Square value =', x*x)"
   ]
  },
  {
   "cell_type": "code",
   "execution_count": 95,
   "metadata": {
    "collapsed": true
   },
   "outputs": [],
   "source": [
    "obj1 = Myclass()"
   ]
  },
  {
   "cell_type": "code",
   "execution_count": 96,
   "metadata": {},
   "outputs": [
    {
     "name": "stdout",
     "output_type": "stream",
     "text": [
      "Square value = 4\n"
     ]
    }
   ],
   "source": [
    "obj1.calculate(2)"
   ]
  },
  {
   "cell_type": "code",
   "execution_count": 97,
   "metadata": {
    "collapsed": true
   },
   "outputs": [],
   "source": [
    "obj2 = Myclass()"
   ]
  },
  {
   "cell_type": "code",
   "execution_count": 98,
   "metadata": {},
   "outputs": [
    {
     "name": "stdout",
     "output_type": "stream",
     "text": [
      "Square value = 9\n"
     ]
    }
   ],
   "source": [
    "obj2.calculate(3)"
   ]
  },
  {
   "cell_type": "code",
   "execution_count": 99,
   "metadata": {
    "collapsed": true
   },
   "outputs": [],
   "source": [
    "# abstract method "
   ]
  },
  {
   "cell_type": "code",
   "execution_count": 100,
   "metadata": {
    "collapsed": true
   },
   "outputs": [],
   "source": [
    "from abc import ABC, abstractmethod"
   ]
  },
  {
   "cell_type": "code",
   "execution_count": 113,
   "metadata": {
    "collapsed": true
   },
   "outputs": [],
   "source": [
    "from abc import ABC, abstractmethod\n",
    "class Myclass(ABC): # Myclass is an abstract class because it is derived from ABC meta class. \n",
    "    \n",
    "    @abstractmethod\n",
    "    def calculate(self,x): # abstract method \n",
    "        pass # empty body , no code\n",
    "    \n",
    "import math\n",
    "\n",
    "class Sub1(Myclass):\n",
    "    def calculate(self,x):\n",
    "        print ('Square value=', x*x)\n",
    "        \n",
    "\n",
    "class Sub2(Myclass):\n",
    "    def calculate(self,x):\n",
    "        print ('Square root=', math.sqrt(x))\n",
    "        \n",
    "\n",
    "class Sub3(Myclass):\n",
    "    def calculate(self,x):\n",
    "        print ('Cube value=', x**3)"
   ]
  },
  {
   "cell_type": "code",
   "execution_count": 107,
   "metadata": {
    "collapsed": true
   },
   "outputs": [],
   "source": [
    "obj1 = Sub1()"
   ]
  },
  {
   "cell_type": "code",
   "execution_count": 108,
   "metadata": {},
   "outputs": [
    {
     "name": "stdout",
     "output_type": "stream",
     "text": [
      "Cube value= 4096\n"
     ]
    }
   ],
   "source": [
    "obj1.calculate(16)"
   ]
  },
  {
   "cell_type": "code",
   "execution_count": 111,
   "metadata": {
    "collapsed": true
   },
   "outputs": [],
   "source": [
    "obj2 = Sub2()"
   ]
  },
  {
   "cell_type": "code",
   "execution_count": 112,
   "metadata": {},
   "outputs": [
    {
     "name": "stdout",
     "output_type": "stream",
     "text": [
      "Square root= 4.0\n"
     ]
    }
   ],
   "source": [
    "obj2.calculate(16)"
   ]
  },
  {
   "cell_type": "code",
   "execution_count": 118,
   "metadata": {
    "collapsed": true
   },
   "outputs": [],
   "source": [
    "from abc import ABC, abstractmethod\n",
    "class Father(ABC): # Myclass is an abstract class because it is derived from ABC meta class. \n",
    "    @abstractmethod\n",
    "    \n",
    "    def give_money(self,x): # abstract method \n",
    "        pass # empty body , no code\n",
    "    \n",
    "import math\n",
    "\n",
    "class Son1(Father):   # Implemention\n",
    "    def give_money(self,x):\n",
    "        print ('Buys a Car=',x )\n",
    "        \n",
    "\n",
    "class Son2(Father):\n",
    "    def give_money(self,x):\n",
    "        print ('Buys a Home=', x)\n",
    "        \n",
    "\n",
    "class Son3(Father):\n",
    "    def give_money(self,x):\n",
    "        print ('Invest in stock', x)\n",
    "        \n",
    "class Son4(Father):\n",
    "    def give_money(self,x):\n",
    "        print ('Invest in stock', x)\n",
    "    "
   ]
  },
  {
   "cell_type": "code",
   "execution_count": 119,
   "metadata": {
    "collapsed": true
   },
   "outputs": [],
   "source": [
    "son4 = Son4()"
   ]
  },
  {
   "cell_type": "code",
   "execution_count": 120,
   "metadata": {
    "collapsed": true
   },
   "outputs": [],
   "source": [
    "# interface "
   ]
  },
  {
   "cell_type": "code",
   "execution_count": null,
   "metadata": {
    "collapsed": true
   },
   "outputs": [],
   "source": []
  }
 ],
 "metadata": {
  "kernelspec": {
   "display_name": "Python 3",
   "language": "python",
   "name": "python3"
  },
  "language_info": {
   "codemirror_mode": {
    "name": "ipython",
    "version": 3
   },
   "file_extension": ".py",
   "mimetype": "text/x-python",
   "name": "python",
   "nbconvert_exporter": "python",
   "pygments_lexer": "ipython3",
   "version": "3.6.1"
  }
 },
 "nbformat": 4,
 "nbformat_minor": 2
}
