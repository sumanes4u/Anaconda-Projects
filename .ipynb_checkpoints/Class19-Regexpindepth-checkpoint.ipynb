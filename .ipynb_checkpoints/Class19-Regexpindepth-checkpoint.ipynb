{
 "cells": [
  {
   "cell_type": "code",
   "execution_count": 6,
   "metadata": {},
   "outputs": [
    {
     "name": "stdout",
     "output_type": "stream",
     "text": [
      "<_sre.SRE_Match object; span=(0, 4), match='this'>\n",
      "0\n",
      "4\n",
      "['this', 'this']\n",
      "found at 0 4\n",
      "found at 27 31\n"
     ]
    },
    {
     "data": {
      "text/plain": [
       "_sre.SRE_Match"
      ]
     },
     "execution_count": 6,
     "metadata": {},
     "output_type": "execute_result"
    }
   ],
   "source": [
    "# Regex - regular expression. \n",
    "import re\n",
    "p = 'this' # match this \n",
    "s = 'this does not contain text this' # from this. \n",
    "#1\n",
    "m = re.search(p,s)\n",
    "print (m)\n",
    "\n",
    "#2\n",
    "print (m.start())\n",
    "print (m.end())\n",
    "\n",
    "#3\n",
    "m1 = re.findall(p,s)\n",
    "print(m1)\n",
    "\n",
    "#4.\n",
    "# # get matched object, which gives more information.\n",
    "for m in re.finditer(p,s):\n",
    "    print (\"found at\", m.start(), m.end())\n"
   ]
  },
  {
   "cell_type": "code",
   "execution_count": 7,
   "metadata": {},
   "outputs": [
    {
     "name": "stdout",
     "output_type": "stream",
     "text": [
      "1\n",
      "3\n",
      "['xy', 'xy', 'xy', 'xy', 'xy']\n",
      "found at 1\n",
      "found at 4\n",
      "found at 6\n",
      "found at 8\n",
      "found at 10\n"
     ]
    }
   ],
   "source": [
    "pattern = 'xy'\n",
    "string = 'xxyyxyxyxyxy'\n",
    "#1\n",
    "result = re.search(pattern,string)\n",
    "print(result.start())\n",
    "print(result.end())\n",
    "\n",
    "#2\n",
    "m2 = re.findall(pattern,string)\n",
    "\n",
    "print(m2)\n",
    "\n",
    "#3\n",
    "for m in re.finditer(pattern,string):\n",
    "    print (\"found at\", m.start())"
   ]
  },
  {
   "cell_type": "code",
   "execution_count": 8,
   "metadata": {},
   "outputs": [
    {
     "name": "stdout",
     "output_type": "stream",
     "text": [
      "['sas', 'sas']\n"
     ]
    }
   ],
   "source": [
    "# pattern matches never overlaps.\n",
    "\n",
    "p = 'sas'\n",
    "t = 'sasasas'\n",
    "\n",
    "print (re.findall(p,t))"
   ]
  },
  {
   "cell_type": "code",
   "execution_count": 10,
   "metadata": {},
   "outputs": [
    {
     "name": "stdout",
     "output_type": "stream",
     "text": [
      "['abbb', 'ab', 'abbbbbbbb', 'ab', 'ab', 'ab', 'a']\n"
     ]
    }
   ],
   "source": [
    "# search are always greedy.\n",
    "\n",
    "p = 'ab*' # * means it will match zero or more occurence. (a)\n",
    "t = 'abbbababbbbbbbbabababa'\n",
    "\n",
    "print (re.findall(p,t))"
   ]
  },
  {
   "cell_type": "code",
   "execution_count": 11,
   "metadata": {},
   "outputs": [
    {
     "name": "stdout",
     "output_type": "stream",
     "text": [
      "['abbb', 'ab', 'abbbbbbbb', 'ab', 'ab', 'ab']\n"
     ]
    }
   ],
   "source": [
    "p = 'ab+' # + means it will match atlease one occcurence\n",
    "t = 'abbbababbbbbbbbabababa'\n",
    "\n",
    "print (re.findall(p,t))"
   ]
  },
  {
   "cell_type": "code",
   "execution_count": 12,
   "metadata": {},
   "outputs": [
    {
     "name": "stdout",
     "output_type": "stream",
     "text": [
      "['ab', 'ab', 'ab', 'ab', 'ab', 'ab', 'a']\n"
     ]
    }
   ],
   "source": [
    "p = 'ab?' # question represt,optional and only character. \n",
    "t = 'abbbababbbbbbbbabababa'\n",
    "\n",
    "print (re.findall(p,t))"
   ]
  },
  {
   "cell_type": "code",
   "execution_count": 18,
   "metadata": {},
   "outputs": [
    {
     "name": "stdout",
     "output_type": "stream",
     "text": [
      "['abbb', 'abbb']\n"
     ]
    }
   ],
   "source": [
    "p = 'ab{3}' # 3 repeatation of b. \n",
    "t = 'abbbababbbbbbbbabababa'\n",
    "\n",
    "print (re.findall(p,t))"
   ]
  },
  {
   "cell_type": "code",
   "execution_count": 20,
   "metadata": {},
   "outputs": [
    {
     "name": "stdout",
     "output_type": "stream",
     "text": [
      "['abbb', 'abbbbb']\n"
     ]
    }
   ],
   "source": [
    "p = 'ab{2,5}'\n",
    "t = 'abbbababbbbbbbbabababa'\n",
    "print (re.findall(p,t))"
   ]
  },
  {
   "cell_type": "code",
   "execution_count": 26,
   "metadata": {},
   "outputs": [
    {
     "name": "stdout",
     "output_type": "stream",
     "text": [
      "[('mama', 'ma')]\n"
     ]
    }
   ],
   "source": [
    "p = '((ma){2})'\n",
    "s = 'mama'\n",
    "print (re.findall(p,s))"
   ]
  },
  {
   "cell_type": "code",
   "execution_count": 30,
   "metadata": {},
   "outputs": [
    {
     "name": "stdout",
     "output_type": "stream",
     "text": [
      "['abbbababbbbbbbbabababa']\n"
     ]
    }
   ],
   "source": [
    "p = 'a[ab]+'\n",
    "t = 'abbbababbbbbbbbabababa'\n",
    "\n",
    "print (re.findall(p,t))"
   ]
  },
  {
   "cell_type": "code",
   "execution_count": 28,
   "metadata": {},
   "outputs": [
    {
     "name": "stdout",
     "output_type": "stream",
     "text": [
      "['abbbababbbb', 'abababaaaa']\n"
     ]
    }
   ],
   "source": [
    "p = 'a[ab]+'\n",
    "t = 'abbbababbbbsbbbbabababaaaa'\n",
    "\n",
    "print (re.findall(p,t))"
   ]
  },
  {
   "cell_type": "code",
   "execution_count": 33,
   "metadata": {},
   "outputs": [
    {
     "name": "stdout",
     "output_type": "stream",
     "text": [
      "['ab', 'ab', 'ab', 'ab', 'ab', 'ab', 'aa', 'aa']\n"
     ]
    }
   ],
   "source": [
    "p = 'a[ab]+?' # makes + works in non-greedy way. 0/1\n",
    "t = 'abbbababbbbsbbbbabababaaaa'\n",
    "\n",
    "print (re.findall(p,t))"
   ]
  },
  {
   "cell_type": "code",
   "execution_count": 35,
   "metadata": {},
   "outputs": [
    {
     "name": "stdout",
     "output_type": "stream",
     "text": [
      "['http']\n"
     ]
    }
   ],
   "source": [
    "t = 'http://www.google.com'\n",
    "p = 'http'\n",
    "\n",
    "print (re.findall(p,t))"
   ]
  },
  {
   "cell_type": "code",
   "execution_count": 37,
   "metadata": {},
   "outputs": [
    {
     "name": "stdout",
     "output_type": "stream",
     "text": [
      "[]\n"
     ]
    }
   ],
   "source": [
    "t = '://www.google.com'\n",
    "p = 'http'\n",
    "\n",
    "print (re.findall(p,t))"
   ]
  },
  {
   "cell_type": "code",
   "execution_count": 38,
   "metadata": {},
   "outputs": [
    {
     "name": "stdout",
     "output_type": "stream",
     "text": [
      "['http']\n"
     ]
    }
   ],
   "source": [
    "p = '^http' # ^ stands for starting \n",
    "t = 'http://www.google.com'\n",
    "print (re.findall(p,t))"
   ]
  },
  {
   "cell_type": "code",
   "execution_count": 39,
   "metadata": {},
   "outputs": [
    {
     "name": "stdout",
     "output_type": "stream",
     "text": [
      "['com']\n"
     ]
    }
   ],
   "source": [
    "t = 'http://www.google.com'\n",
    "p = 'com$' # $ stands for ending \n",
    "print (re.findall(p,t))"
   ]
  },
  {
   "cell_type": "code",
   "execution_count": 43,
   "metadata": {},
   "outputs": [
    {
     "name": "stdout",
     "output_type": "stream",
     "text": [
      "<_sre.SRE_Match object; span=(20, 22), match='He'>\n"
     ]
    }
   ],
   "source": [
    "t = 'He is a superman of He'\n",
    "p = 'He$'\n",
    "m = re.search(p,t)\n",
    "print (m)"
   ]
  },
  {
   "cell_type": "code",
   "execution_count": 44,
   "metadata": {},
   "outputs": [
    {
     "name": "stdout",
     "output_type": "stream",
     "text": [
      "['', '', '', '', '', '', '', '', 'ab']\n"
     ]
    }
   ],
   "source": [
    "p = 'a(ab)*'\n",
    "t = 'abbbababbbbsbbbbabababaaaabababab'\n",
    "print (re.findall(p,t))"
   ]
  },
  {
   "cell_type": "code",
   "execution_count": 53,
   "metadata": {},
   "outputs": [
    {
     "name": "stdout",
     "output_type": "stream",
     "text": [
      "['ab']\n"
     ]
    }
   ],
   "source": [
    "import re\n",
    "p = 'a(ab)*'\n",
    "t = 'aab'\n",
    "print (re.findall(p,t))"
   ]
  },
  {
   "cell_type": "code",
   "execution_count": 54,
   "metadata": {},
   "outputs": [
    {
     "name": "stdout",
     "output_type": "stream",
     "text": [
      "[]\n"
     ]
    }
   ],
   "source": [
    "p = '^[a-z0-9_-]{3,16}$'\n",
    "\n",
    "t = 'om'\n",
    "\n",
    "print (re.findall(p,t))"
   ]
  },
  {
   "cell_type": "code",
   "execution_count": 59,
   "metadata": {},
   "outputs": [
    {
     "name": "stdout",
     "output_type": "stream",
     "text": [
      "['omioim_-']\n"
     ]
    }
   ],
   "source": [
    "p = '^[a-z0-9_-]{3,16}$'\n",
    "\n",
    "t = 'omioim_-'\n",
    "\n",
    "print (re.findall(p,t))"
   ]
  },
  {
   "cell_type": "code",
   "execution_count": 60,
   "metadata": {},
   "outputs": [
    {
     "name": "stdout",
     "output_type": "stream",
     "text": [
      "[]\n"
     ]
    }
   ],
   "source": [
    "p = '^[a-z0-9_-]{3,16}$'\n",
    "\n",
    "t = 'omi+'\n",
    "\n",
    "print (re.findall(p,t))"
   ]
  },
  {
   "cell_type": "code",
   "execution_count": 7,
   "metadata": {},
   "outputs": [
    {
     "name": "stdout",
     "output_type": "stream",
     "text": [
      "['oidasddaASFD_a-1']\n"
     ]
    }
   ],
   "source": [
    "t = 'oidasddaASFD_a-1'\n",
    "\n",
    "p = '^[a-z0-9_-]{3,16}$'\n",
    "\n",
    "#print (re.findall(p,t))\n",
    "print (re.findall(p,t,re.IGNORECASE))\n"
   ]
  },
  {
   "cell_type": "code",
   "execution_count": 67,
   "metadata": {},
   "outputs": [
    {
     "data": {
      "text/plain": [
       "['TeSt']"
      ]
     },
     "execution_count": 67,
     "metadata": {},
     "output_type": "execute_result"
    }
   ],
   "source": [
    "re.findall('test', 'TeSt', re.IGNORECASE)"
   ]
  },
  {
   "cell_type": "code",
   "execution_count": 4,
   "metadata": {},
   "outputs": [
    {
     "name": "stdout",
     "output_type": "stream",
     "text": [
      "[('mango', 'man', 'go')]\n",
      "mango\n"
     ]
    }
   ],
   "source": [
    "import re\n",
    "t = 'man eats mango'\n",
    "\n",
    "p = '((man)(go))'\n",
    "\n",
    "print (re.findall(p,t))\n",
    "\n",
    "for m in re.finditer(p,t):\n",
    "    print (m.group()) # group. \n",
    "    #print (m)  "
   ]
  },
  {
   "cell_type": "code",
   "execution_count": null,
   "metadata": {
    "collapsed": true
   },
   "outputs": [],
   "source": []
  }
 ],
 "metadata": {
  "kernelspec": {
   "display_name": "Python 3",
   "language": "python",
   "name": "python3"
  },
  "language_info": {
   "codemirror_mode": {
    "name": "ipython",
    "version": 3
   },
   "file_extension": ".py",
   "mimetype": "text/x-python",
   "name": "python",
   "nbconvert_exporter": "python",
   "pygments_lexer": "ipython3",
   "version": "3.6.1"
  }
 },
 "nbformat": 4,
 "nbformat_minor": 2
}
