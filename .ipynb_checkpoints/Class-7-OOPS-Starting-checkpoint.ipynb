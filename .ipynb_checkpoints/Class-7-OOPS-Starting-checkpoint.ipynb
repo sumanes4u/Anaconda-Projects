{
 "cells": [
  {
   "cell_type": "code",
   "execution_count": 1,
   "metadata": {},
   "outputs": [
    {
     "name": "stdout",
     "output_type": "stream",
     "text": [
      "Usage:-> strip_lnum filename.py\n"
     ]
    }
   ],
   "source": [
    "import sys\n",
    "import re\n",
    "\n",
    "if len(sys.argv) == 2:\n",
    "    print(sys.argv[0], sys.argv[1])\n",
    "    with open(sys.argv[1], 'r') as fp:\n",
    "        linelist = fp.readlines()\n",
    "        print(linelist)\n",
    "        for line in linelist:\n",
    "            i = linelist.index(line)\n",
    "            if re.search('\\s?\\d+\\.\\s+\\w+', line):\n",
    "                linelist[i] = re.sub('\\s?\\d+\\.\\s', '', line)\n",
    "            else:\n",
    "                linelist[i] = re.sub('\\s?\\d+\\.\\s', '\\n', line)\n",
    "                \n",
    "    print(linelist)\n",
    "    with open('newdragon.py', 'w') as fp1:\n",
    "        fp1.writelines(linelist)\n",
    "    \n",
    "else :\n",
    "    print(\"Usage:-> strip_lnum filename.py\")"
   ]
  },
  {
   "cell_type": "code",
   "execution_count": 2,
   "metadata": {
    "collapsed": true
   },
   "outputs": [],
   "source": [
    "# Object Oriented Programming - OOPs puts objects at the center of the process. "
   ]
  },
  {
   "cell_type": "code",
   "execution_count": 3,
   "metadata": {
    "collapsed": true
   },
   "outputs": [],
   "source": [
    "# An object is sometimes referred to as an 'instance' of a class. "
   ]
  },
  {
   "cell_type": "code",
   "execution_count": 4,
   "metadata": {
    "collapsed": true
   },
   "outputs": [],
   "source": [
    "class pet: \n",
    "    number_of_legs = 0 # attribute of the class\n",
    "    def eat(self): # method of the class\n",
    "        print ('chop..chop...')\n"
   ]
  },
  {
   "cell_type": "code",
   "execution_count": 5,
   "metadata": {
    "collapsed": true
   },
   "outputs": [],
   "source": [
    "doug = pet()"
   ]
  },
  {
   "cell_type": "code",
   "execution_count": 6,
   "metadata": {
    "collapsed": true
   },
   "outputs": [],
   "source": [
    "doug.number_of_legs = 4"
   ]
  },
  {
   "cell_type": "code",
   "execution_count": 7,
   "metadata": {},
   "outputs": [
    {
     "data": {
      "text/plain": [
       "4"
      ]
     },
     "execution_count": 7,
     "metadata": {},
     "output_type": "execute_result"
    }
   ],
   "source": [
    "doug.number_of_legs"
   ]
  },
  {
   "cell_type": "code",
   "execution_count": 20,
   "metadata": {
    "collapsed": true
   },
   "outputs": [],
   "source": [
    "tommy = pet()"
   ]
  },
  {
   "cell_type": "code",
   "execution_count": 21,
   "metadata": {},
   "outputs": [
    {
     "data": {
      "text/plain": [
       "0"
      ]
     },
     "execution_count": 21,
     "metadata": {},
     "output_type": "execute_result"
    }
   ],
   "source": [
    "tommy.number_of_legs"
   ]
  },
  {
   "cell_type": "code",
   "execution_count": 22,
   "metadata": {},
   "outputs": [
    {
     "name": "stdout",
     "output_type": "stream",
     "text": [
      "chop..chop...\n"
     ]
    }
   ],
   "source": [
    "doug.eat()"
   ]
  },
  {
   "cell_type": "code",
   "execution_count": 30,
   "metadata": {
    "collapsed": true
   },
   "outputs": [],
   "source": [
    "# 2\n",
    "\n",
    "class pet():\n",
    "    number_of_legs = 4 # Initial value. \n",
    "    \n",
    "    def sleep(self):\n",
    "        print (\"zzz\")\n",
    "        \n",
    "    def count_legs(self):\n",
    "        print (\"I have %s legs\" % self.number_of_legs)"
   ]
  },
  {
   "cell_type": "code",
   "execution_count": 31,
   "metadata": {},
   "outputs": [
    {
     "name": "stdout",
     "output_type": "stream",
     "text": [
      "I have 10 legs\n"
     ]
    }
   ],
   "source": [
    "#1. \n",
    "\n",
    "doug = pet()\n",
    "doug.number_of_legs = 10\n",
    "doug.count_legs()"
   ]
  },
  {
   "cell_type": "code",
   "execution_count": 32,
   "metadata": {},
   "outputs": [
    {
     "name": "stdout",
     "output_type": "stream",
     "text": [
      "I have 4 legs\n"
     ]
    }
   ],
   "source": [
    "#2. \n",
    "\n",
    "nemo = pet()\n",
    "#nemo.number_of_legs = 2\n",
    "nemo.count_legs()"
   ]
  },
  {
   "cell_type": "code",
   "execution_count": null,
   "metadata": {
    "collapsed": true
   },
   "outputs": [],
   "source": [
    "# What this means is that wherever you write 'self' in your method, when you run the method \n",
    "# that self is replaced by the name of the object, so when you call 'doug.count_legs()' the \n",
    "# 'self' is replaced by 'doug'. \n"
   ]
  },
  {
   "cell_type": "code",
   "execution_count": 37,
   "metadata": {
    "collapsed": true
   },
   "outputs": [],
   "source": [
    "# 2\n",
    "\n",
    "class pet():\n",
    "    number_of_legs = 4 # Initial value. \n",
    "    \n",
    "    def sleep(suman):\n",
    "        print (\"zzz\")\n",
    "        \n",
    "    def count_legs(suman):\n",
    "        print (\"I have %s legs\" % number_of_legs)"
   ]
  },
  {
   "cell_type": "code",
   "execution_count": 38,
   "metadata": {},
   "outputs": [
    {
     "name": "stdout",
     "output_type": "stream",
     "text": [
      "I have 10 legs\n"
     ]
    }
   ],
   "source": [
    "doug = pet()\n",
    "doug.number_of_legs = 10\n",
    "doug.count_legs()"
   ]
  },
  {
   "cell_type": "code",
   "execution_count": 39,
   "metadata": {
    "collapsed": true
   },
   "outputs": [],
   "source": [
    "# Java constructor.\n",
    "\n",
    "class pet():\n",
    "    def __init__(self,name,species): # initializer\n",
    "        self.name = name\n",
    "        self.species = species\n",
    "        \n",
    "    def getName(self):\n",
    "        return self.name\n",
    "    \n",
    "    def getSpecies(self):\n",
    "        return self.species\n",
    "    \n",
    "    def __str__(self):\n",
    "        return \"%s is a %s\" % (self.name,self.species)\n",
    "    "
   ]
  },
  {
   "cell_type": "code",
   "execution_count": 40,
   "metadata": {
    "collapsed": true
   },
   "outputs": [],
   "source": [
    "polly = pet(\"Polly\",\"Parrot\")"
   ]
  },
  {
   "cell_type": "code",
   "execution_count": 42,
   "metadata": {},
   "outputs": [
    {
     "data": {
      "text/plain": [
       "'Polly'"
      ]
     },
     "execution_count": 42,
     "metadata": {},
     "output_type": "execute_result"
    }
   ],
   "source": [
    "polly.getName()"
   ]
  },
  {
   "cell_type": "code",
   "execution_count": 44,
   "metadata": {},
   "outputs": [
    {
     "data": {
      "text/plain": [
       "'Polly'"
      ]
     },
     "execution_count": 44,
     "metadata": {},
     "output_type": "execute_result"
    }
   ],
   "source": [
    "polly.name"
   ]
  },
  {
   "cell_type": "code",
   "execution_count": 45,
   "metadata": {},
   "outputs": [
    {
     "data": {
      "text/plain": [
       "'Parrot'"
      ]
     },
     "execution_count": 45,
     "metadata": {},
     "output_type": "execute_result"
    }
   ],
   "source": [
    "polly.species"
   ]
  },
  {
   "cell_type": "code",
   "execution_count": 46,
   "metadata": {},
   "outputs": [
    {
     "data": {
      "text/plain": [
       "<__main__.pet at 0x10bef14e0>"
      ]
     },
     "execution_count": 46,
     "metadata": {},
     "output_type": "execute_result"
    }
   ],
   "source": [
    "polly"
   ]
  },
  {
   "cell_type": "code",
   "execution_count": 47,
   "metadata": {},
   "outputs": [
    {
     "name": "stdout",
     "output_type": "stream",
     "text": [
      "Polly is a Parrot\n"
     ]
    }
   ],
   "source": [
    "print(polly)"
   ]
  },
  {
   "cell_type": "code",
   "execution_count": 54,
   "metadata": {
    "collapsed": true
   },
   "outputs": [],
   "source": [
    "# \n",
    "class Amitabh():\n",
    "    superstar = 'yes'\n",
    "    money = 'one billion'\n",
    "    \n",
    "class Abhishek(Amitabh):\n",
    "    superstar = 'no'"
   ]
  },
  {
   "cell_type": "code",
   "execution_count": 55,
   "metadata": {
    "collapsed": true
   },
   "outputs": [],
   "source": [
    "aradhya = Abhishek()"
   ]
  },
  {
   "cell_type": "code",
   "execution_count": 56,
   "metadata": {},
   "outputs": [
    {
     "data": {
      "text/plain": [
       "'one billion'"
      ]
     },
     "execution_count": 56,
     "metadata": {},
     "output_type": "execute_result"
    }
   ],
   "source": [
    "aradhya.money"
   ]
  },
  {
   "cell_type": "code",
   "execution_count": 52,
   "metadata": {
    "collapsed": true
   },
   "outputs": [],
   "source": [
    "d1 = Amitabh()"
   ]
  },
  {
   "cell_type": "code",
   "execution_count": 53,
   "metadata": {},
   "outputs": [
    {
     "data": {
      "text/plain": [
       "'yes'"
      ]
     },
     "execution_count": 53,
     "metadata": {},
     "output_type": "execute_result"
    }
   ],
   "source": [
    "d1.superstar"
   ]
  },
  {
   "cell_type": "code",
   "execution_count": null,
   "metadata": {
    "collapsed": true
   },
   "outputs": [],
   "source": []
  }
 ],
 "metadata": {
  "kernelspec": {
   "display_name": "Python 3",
   "language": "python",
   "name": "python3"
  },
  "language_info": {
   "codemirror_mode": {
    "name": "ipython",
    "version": 3
   },
   "file_extension": ".py",
   "mimetype": "text/x-python",
   "name": "python",
   "nbconvert_exporter": "python",
   "pygments_lexer": "ipython3",
   "version": "3.6.1"
  }
 },
 "nbformat": 4,
 "nbformat_minor": 2
}
