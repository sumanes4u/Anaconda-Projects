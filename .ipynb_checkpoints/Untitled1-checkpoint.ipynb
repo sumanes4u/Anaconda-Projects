{
 "cells": [
  {
   "cell_type": "code",
   "execution_count": 40,
   "metadata": {},
   "outputs": [
    {
     "name": "stdout",
     "output_type": "stream",
     "text": [
      "The Values to Extract is 3\n",
      "The val to ext is:3\n"
     ]
    },
    {
     "data": {
      "text/plain": [
       "str"
      ]
     },
     "execution_count": 40,
     "metadata": {},
     "output_type": "execute_result"
    }
   ],
   "source": [
    "import re\n",
    "a= 'a:3:4,5:1,2,3,4'\n",
    "b = a.split(':')[3].split(',')[2]#Method Chaining\n",
    "print('The Values to Extract is {one}'.format(one=b))\n",
    "print('The val to ext is:%s'%b)\n",
    "type(b)"
   ]
  },
  {
   "cell_type": "code",
   "execution_count": 63,
   "metadata": {},
   "outputs": [
    {
     "name": "stdout",
     "output_type": "stream",
     "text": [
      "['dbcbdljcfVGVVS_-']\n"
     ]
    }
   ],
   "source": [
    "#IGNORECASE\n",
    "text = 'abwoudwlnlnllknsncdwbcjdcbjdbcbdljcfVGVVS_-'\n",
    "pattern = r'[a-z0-9-_]{3,16}$'\n",
    "print (re.findall(pattern,text,re.IGNORECASE))"
   ]
  },
  {
   "cell_type": "code",
   "execution_count": 94,
   "metadata": {},
   "outputs": [
    {
     "data": {
      "text/plain": [
       "'254'"
      ]
     },
     "execution_count": 94,
     "metadata": {},
     "output_type": "execute_result"
    }
   ],
   "source": [
    "t = '192.168.4.254'\n",
    "p = r'(?P<one>\\d{1,3})\\.(?P<two>\\d{1,3})\\.(?P<three>\\d{1,3})\\.(?P<four>\\d{1,3})'\n",
    "m = re.search(p,t)\n",
    "m.group('four')"
   ]
  },
  {
   "cell_type": "code",
   "execution_count": 118,
   "metadata": {},
   "outputs": [
    {
     "data": {
      "text/plain": [
       "'251'"
      ]
     },
     "execution_count": 118,
     "metadata": {},
     "output_type": "execute_result"
    }
   ],
   "source": [
    "#Grouping by NAME using match.group()\n",
    "txt = '251.252.224.255'\n",
    "pat = r'(?P<one>\\d{1,3})\\.(?P<two>\\d{1,3})\\.(?P<three>\\d{1,3})\\.(?P<four>\\d{1,3})'\n",
    "reo = re.compile(pat)\n",
    "match = reo.search(txt)\n",
    "match.group(1)"
   ]
  },
  {
   "cell_type": "code",
   "execution_count": 148,
   "metadata": {},
   "outputs": [
    {
     "data": {
      "text/plain": [
       "'44'"
      ]
     },
     "execution_count": 148,
     "metadata": {},
     "output_type": "execute_result"
    }
   ],
   "source": [
    "t = '1.22.33.44'\n",
    "p = r'(?P<on>\\d{1,3})\\.(?P<tw>\\d{1,3})\\.(?P<th>\\d{1,3})\\.(?P<fo>\\d{1,3})'\n",
    "rc = re.compile(p)\n",
    "mt = rc.search(t)\n",
    "mt.group('on')\n",
    "mt.group('fo')"
   ]
  },
  {
   "cell_type": "code",
   "execution_count": 149,
   "metadata": {},
   "outputs": [
    {
     "data": {
      "text/plain": [
       "<_sre.SRE_Match object; span=(0, 3), match='dog'>"
      ]
     },
     "execution_count": 149,
     "metadata": {},
     "output_type": "execute_result"
    }
   ],
   "source": [
    "st = 'dog cat dog'\n",
    "pt = r'dog'\n",
    "re.match(pt,st)"
   ]
  },
  {
   "cell_type": "code",
   "execution_count": 183,
   "metadata": {},
   "outputs": [],
   "source": [
    "for m in re.finditer(r'dog','dog cat dog'):\n",
    "    m.start()\n"
   ]
  },
  {
   "cell_type": "code",
   "execution_count": 189,
   "metadata": {},
   "outputs": [
    {
     "name": "stdout",
     "output_type": "stream",
     "text": [
      "suman suman FOUND: 5 TIMES\n"
     ]
    }
   ],
   "source": [
    "string = 'sumansanvithsumansanvithsumansanvithsumansanvithsumansanvith'\n",
    "pattern = r'(?P<name>suman)'\n",
    "found = 0\n",
    "for m in re.finditer(pattern,string):\n",
    "    a = m.start()\n",
    "    b = m.end()\n",
    "    found += 1\n",
    "    m.group('name')\n",
    "print (m.group(),string[a:b],'FOUND:',found,'TIMES')    \n",
    "    \n",
    "    "
   ]
  },
  {
   "cell_type": "code",
   "execution_count": 187,
   "metadata": {},
   "outputs": [
    {
     "data": {
      "text/plain": [
       "'suman'"
      ]
     },
     "execution_count": 187,
     "metadata": {},
     "output_type": "execute_result"
    }
   ],
   "source": [
    "m.group('name')"
   ]
  },
  {
   "cell_type": "code",
   "execution_count": 198,
   "metadata": {},
   "outputs": [
    {
     "data": {
      "text/plain": [
       "'554-675'"
      ]
     },
     "execution_count": 198,
     "metadata": {},
     "output_type": "execute_result"
    }
   ],
   "source": [
    "contactinfo = 'John, Deo: 554-675'\n",
    "pattern = r'(?P<first>\\w+), (?P<last>\\w+): (?P<id>\\S+)'\n",
    "match = re.search(pattern,contactinfo)\n",
    "match.group('id')\n"
   ]
  },
  {
   "cell_type": "code",
   "execution_count": 199,
   "metadata": {},
   "outputs": [
    {
     "data": {
      "text/plain": [
       "['John, Deo: 554-675']"
      ]
     },
     "execution_count": 199,
     "metadata": {},
     "output_type": "execute_result"
    }
   ],
   "source": [
    "re.findall(r'\\w+, \\w+: \\S+',contactinfo)"
   ]
  },
  {
   "cell_type": "code",
   "execution_count": 234,
   "metadata": {},
   "outputs": [
    {
     "data": {
      "text/plain": [
       "[('John,', 'Deo:')]"
      ]
     },
     "execution_count": 234,
     "metadata": {},
     "output_type": "execute_result"
    }
   ],
   "source": [
    "m = re.findall(r'(\\w+,) (\\w+:) \\S+',contactinfo)\n",
    "m"
   ]
  },
  {
   "cell_type": "code",
   "execution_count": 259,
   "metadata": {},
   "outputs": [
    {
     "data": {
      "text/plain": [
       "<_sre.SRE_Match object; span=(0, 15), match='192.168.254.234'>"
      ]
     },
     "execution_count": 259,
     "metadata": {},
     "output_type": "execute_result"
    }
   ],
   "source": [
    "string = '192.168.254.234 abcd'\n",
    "match = re.search(r'\\b\\w{1,3}\\.\\w{1,3}\\.\\w{1,3}\\.\\w{1,6}\\b',string)\n",
    "match"
   ]
  },
  {
   "cell_type": "code",
   "execution_count": 265,
   "metadata": {},
   "outputs": [
    {
     "data": {
      "text/plain": [
       "'1 pages'"
      ]
     },
     "execution_count": 265,
     "metadata": {},
     "output_type": "execute_result"
    }
   ],
   "source": [
    "t = 'Showing 13 to 300 of 3000 (1 pages)'\n",
    "p = r'Showing ([0-9]+) to ([0-9]+) of ([0-9]+) \\(([0-9]+ pages)\\)'\n",
    "mat = re.search(p,t)\n",
    "mat.group(4)"
   ]
  },
  {
   "cell_type": "code",
   "execution_count": 275,
   "metadata": {},
   "outputs": [
    {
     "data": {
      "text/plain": [
       "'2017'"
      ]
     },
     "execution_count": 275,
     "metadata": {},
     "output_type": "execute_result"
    }
   ],
   "source": [
    "date = '28-11-2017'\n",
    "match = re.search(r'(?P<day>\\d{1,2})-(?P<month>\\d{1,2})-(?P<year>\\d{1,4})',date)\n",
    "match[0]\n",
    "match.group('year')"
   ]
  },
  {
   "cell_type": "code",
   "execution_count": 277,
   "metadata": {},
   "outputs": [
    {
     "data": {
      "text/plain": [
       "'2017'"
      ]
     },
     "execution_count": 277,
     "metadata": {},
     "output_type": "execute_result"
    }
   ],
   "source": [
    "date = '28-11-2017'\n",
    "pattern = r'(?P<date>\\d{1,2})-(?P<month>\\d{1,2})-(?P<year>\\d{1,4})'\n",
    "comp = re.compile(pattern)\n",
    "match = comp.search(date)\n",
    "match.group('year')"
   ]
  },
  {
   "cell_type": "code",
   "execution_count": 285,
   "metadata": {},
   "outputs": [
    {
     "name": "stdout",
     "output_type": "stream",
     "text": [
      "28 11 2017\n"
     ]
    }
   ],
   "source": [
    "for m in re.finditer(pattern,date):\n",
    "    print (m.group('date'),m.group('month'),m.group('year'))"
   ]
  },
  {
   "cell_type": "code",
   "execution_count": 289,
   "metadata": {},
   "outputs": [
    {
     "data": {
      "text/plain": [
       "'suman'"
      ]
     },
     "execution_count": 289,
     "metadata": {},
     "output_type": "execute_result"
    }
   ],
   "source": [
    "user_id = {\n",
    "    382:'suman',\n",
    "    392:'sanvith'    \n",
    "}\n",
    "user_id.get(382,None)"
   ]
  },
  {
   "cell_type": "code",
   "execution_count": 291,
   "metadata": {},
   "outputs": [
    {
     "data": {
      "text/plain": [
       "'suman'"
      ]
     },
     "execution_count": 291,
     "metadata": {},
     "output_type": "execute_result"
    }
   ],
   "source": [
    "user_id.get(382)"
   ]
  },
  {
   "cell_type": "code",
   "execution_count": 292,
   "metadata": {},
   "outputs": [
    {
     "name": "stdout",
     "output_type": "stream",
     "text": [
      "Hi:suman\n"
     ]
    }
   ],
   "source": [
    "def greetings(userid):\n",
    "    print('Hi:%s'%user_id.get(userid))\n",
    "greetings(382)    "
   ]
  },
  {
   "cell_type": "code",
   "execution_count": 294,
   "metadata": {},
   "outputs": [
    {
     "data": {
      "text/plain": [
       "'suman'"
      ]
     },
     "execution_count": 294,
     "metadata": {},
     "output_type": "execute_result"
    }
   ],
   "source": [
    "user_id[382]"
   ]
  },
  {
   "cell_type": "code",
   "execution_count": 305,
   "metadata": {},
   "outputs": [],
   "source": [
    "user_id[412]='archana'"
   ]
  },
  {
   "cell_type": "code",
   "execution_count": 306,
   "metadata": {},
   "outputs": [
    {
     "data": {
      "text/plain": [
       "{382: 'suman', 392: 'sanvith', '412': 'archana', 412: 'archana'}"
      ]
     },
     "execution_count": 306,
     "metadata": {},
     "output_type": "execute_result"
    }
   ],
   "source": [
    "user_id"
   ]
  },
  {
   "cell_type": "code",
   "execution_count": 310,
   "metadata": {},
   "outputs": [
    {
     "data": {
      "text/plain": [
       "{382: 'suman', 392: 'sanvith', '412': None, 412: 'archana'}"
      ]
     },
     "execution_count": 310,
     "metadata": {},
     "output_type": "execute_result"
    }
   ],
   "source": [
    "user_id"
   ]
  },
  {
   "cell_type": "code",
   "execution_count": 314,
   "metadata": {},
   "outputs": [],
   "source": [
    "user_id['412']='archana'"
   ]
  },
  {
   "cell_type": "code",
   "execution_count": 315,
   "metadata": {},
   "outputs": [
    {
     "data": {
      "text/plain": [
       "{382: 'suman', 392: 'sanvith', 412: 'archana', '412': 'archana'}"
      ]
     },
     "execution_count": 315,
     "metadata": {},
     "output_type": "execute_result"
    }
   ],
   "source": [
    "user_id"
   ]
  },
  {
   "cell_type": "code",
   "execution_count": 316,
   "metadata": {
    "collapsed": true
   },
   "outputs": [],
   "source": [
    "del user_id['412']"
   ]
  },
  {
   "cell_type": "code",
   "execution_count": 317,
   "metadata": {},
   "outputs": [
    {
     "data": {
      "text/plain": [
       "{382: 'suman', 392: 'sanvith', 412: 'archana'}"
      ]
     },
     "execution_count": 317,
     "metadata": {},
     "output_type": "execute_result"
    }
   ],
   "source": [
    "user_id"
   ]
  },
  {
   "cell_type": "code",
   "execution_count": 319,
   "metadata": {},
   "outputs": [
    {
     "data": {
      "text/plain": [
       "'archana'"
      ]
     },
     "execution_count": 319,
     "metadata": {},
     "output_type": "execute_result"
    }
   ],
   "source": [
    "user_id.get(412)"
   ]
  },
  {
   "cell_type": "code",
   "execution_count": 323,
   "metadata": {},
   "outputs": [
    {
     "name": "stdout",
     "output_type": "stream",
     "text": [
      "HI:sanvith\n"
     ]
    }
   ],
   "source": [
    "def greetings(userid):\n",
    "    print ('HI:%s'%user_id.get(userid,None))\n",
    "greetings(392)    "
   ]
  },
  {
   "cell_type": "code",
   "execution_count": 354,
   "metadata": {},
   "outputs": [
    {
     "data": {
      "text/plain": [
       "<_sre.SRE_Match object; span=(0, 15), match='05:43:38.294803'>"
      ]
     },
     "execution_count": 354,
     "metadata": {},
     "output_type": "execute_result"
    }
   ],
   "source": [
    "date = '05:43:38.294803'\n",
    "#pat = r'[\\d]{1,2}:[\\d]{1,2}:[\\d]{1,2}\\.\\d+'\n",
    "pat = r'\\b[\\d:\\.$#]+\\b'\n",
    "re.search(pat,date)"
   ]
  },
  {
   "cell_type": "code",
   "execution_count": 367,
   "metadata": {},
   "outputs": [
    {
     "data": {
      "text/plain": [
       "'pid 4500:tid 304'"
      ]
     },
     "execution_count": 367,
     "metadata": {},
     "output_type": "execute_result"
    }
   ],
   "source": [
    "text = '[Fri Oct 28 05:43:38.294803 2016] [ssl:warn] [pid 4500:tid 304] AH01909: www.example.com:443:0 server certificate does NOT include an ID which matches the server name'\n",
    "pattern = r'^\\[(?P<day>[a-zA-Z]{3}) (?P<month>[a-zA-Z]{3}) (?P<date>[\\d]{1,2}) (?P<timestamp>\\b[\\d:\\.]+\\b) (?P<year>[\\d]{4}\\]) \\[(?P<error>[a-zA-Z:]+)\\] \\[(?P<who>[\\w: ]+)\\] (?P<message>.+)'\n",
    "match = re.search(pattern,text)\n",
    "match.group('who')"
   ]
  },
  {
   "cell_type": "code",
   "execution_count": 378,
   "metadata": {},
   "outputs": [
    {
     "ename": "AttributeError",
     "evalue": "'str' object has no attribute 'append'",
     "output_type": "error",
     "traceback": [
      "\u001b[1;31m---------------------------------------------------------------------------\u001b[0m",
      "\u001b[1;31mAttributeError\u001b[0m                            Traceback (most recent call last)",
      "\u001b[1;32m<ipython-input-378-e17fa2d98bdc>\u001b[0m in \u001b[0;36m<module>\u001b[1;34m()\u001b[0m\n\u001b[1;32m----> 1\u001b[1;33m \u001b[0muser_id\u001b[0m\u001b[1;33m[\u001b[0m\u001b[1;36m382\u001b[0m\u001b[1;33m]\u001b[0m\u001b[1;33m.\u001b[0m\u001b[0mappend\u001b[0m\u001b[1;33m(\u001b[0m\u001b[1;34m'sarika'\u001b[0m\u001b[1;33m)\u001b[0m\u001b[1;33m\u001b[0m\u001b[0m\n\u001b[0m",
      "\u001b[1;31mAttributeError\u001b[0m: 'str' object has no attribute 'append'"
     ]
    }
   ],
   "source": [
    "user_id[382].append('sarika')"
   ]
  },
  {
   "cell_type": "code",
   "execution_count": 376,
   "metadata": {},
   "outputs": [
    {
     "data": {
      "text/plain": [
       "{382: 'sarika', 392: 'sanvith', 412: 'archana'}"
      ]
     },
     "execution_count": 376,
     "metadata": {},
     "output_type": "execute_result"
    }
   ],
   "source": [
    "user_id"
   ]
  },
  {
   "cell_type": "code",
   "execution_count": 411,
   "metadata": {},
   "outputs": [
    {
     "data": {
      "text/plain": [
       "'<WARN> |AP suman-hardening@1.2.3.5 cli|  Set amp discover allowed: code: fail-prov-no-shipped.'"
      ]
     },
     "execution_count": 411,
     "metadata": {},
     "output_type": "execute_result"
    }
   ],
   "source": [
    "text = 'Oct 28 12:20:44  cli[4141]: <341004> <WARN> |AP suman-hardening@1.2.3.5 cli|  Set amp discover allowed: code: fail-prov-no-shipped.'\n",
    "pattern = r'(?P<month>\\b[a-zA-Z]{3}\\b) (?P<date>\\b[\\d]{1,2}\\b) (?P<timestamp>\\b[\\d:]+\\b)  (?P<error>[a-zA-Z]+\\[[\\d]+\\]:) (?P<msgtype>\\<[\\d]+\\>) (?P<msg>.+)'\n",
    "match = re.search(pattern,text)\n",
    "match.group('msg')"
   ]
  },
  {
   "cell_type": "code",
   "execution_count": 412,
   "metadata": {},
   "outputs": [
    {
     "data": {
      "text/plain": [
       "{382: 'sarika', 392: 'sanvith', 412: 'archana'}"
      ]
     },
     "execution_count": 412,
     "metadata": {},
     "output_type": "execute_result"
    }
   ],
   "source": [
    "user_id"
   ]
  },
  {
   "cell_type": "code",
   "execution_count": 415,
   "metadata": {},
   "outputs": [
    {
     "data": {
      "text/plain": [
       "'sarika'"
      ]
     },
     "execution_count": 415,
     "metadata": {},
     "output_type": "execute_result"
    }
   ],
   "source": [
    "a = user_id.get(382)\n",
    "a"
   ]
  },
  {
   "cell_type": "code",
   "execution_count": 420,
   "metadata": {},
   "outputs": [
    {
     "name": "stdout",
     "output_type": "stream",
     "text": [
      "Hi :None\n"
     ]
    }
   ],
   "source": [
    "def greetings(userid):\n",
    "    print ('Hi :%s'%(user_id.get(userid,None)))\n",
    "greetings(386)    "
   ]
  },
  {
   "cell_type": "code",
   "execution_count": 426,
   "metadata": {},
   "outputs": [],
   "source": [
    "user_id[422]='suman'"
   ]
  },
  {
   "cell_type": "code",
   "execution_count": 427,
   "metadata": {},
   "outputs": [
    {
     "data": {
      "text/plain": [
       "{382: 'sarika', 392: 'sanvith', 412: 'archana', 422: 'suman'}"
      ]
     },
     "execution_count": 427,
     "metadata": {},
     "output_type": "execute_result"
    }
   ],
   "source": [
    "user_id"
   ]
  },
  {
   "cell_type": "code",
   "execution_count": 428,
   "metadata": {},
   "outputs": [
    {
     "data": {
      "text/plain": [
       "6"
      ]
     },
     "execution_count": 428,
     "metadata": {},
     "output_type": "execute_result"
    }
   ],
   "source": [
    "len(user_id[382])"
   ]
  },
  {
   "cell_type": "code",
   "execution_count": 440,
   "metadata": {},
   "outputs": [
    {
     "name": "stdout",
     "output_type": "stream",
     "text": [
      "ssl:warn 1\n"
     ]
    }
   ],
   "source": [
    "data = {'ssl:warn':['AH01909: www.example.com:443:0 server certificate does NOT include an ID which matches the server name']}\n",
    "#len(data['ssl:warn'])\n",
    "for i in data.keys():\n",
    "    print(i, len(data[i]))"
   ]
  },
  {
   "cell_type": "code",
   "execution_count": 445,
   "metadata": {},
   "outputs": [],
   "source": [
    "data['ssl:warn'].append('suman')"
   ]
  },
  {
   "cell_type": "code",
   "execution_count": 446,
   "metadata": {},
   "outputs": [
    {
     "data": {
      "text/plain": [
       "['AH01909: www.example.com:443:0 server certificate does NOT include an ID which matches the server name',\n",
       " 'suman']"
      ]
     },
     "execution_count": 446,
     "metadata": {},
     "output_type": "execute_result"
    }
   ],
   "source": [
    "data['ssl:warn']"
   ]
  },
  {
   "cell_type": "code",
   "execution_count": 447,
   "metadata": {},
   "outputs": [
    {
     "data": {
      "text/plain": [
       "2"
      ]
     },
     "execution_count": 447,
     "metadata": {},
     "output_type": "execute_result"
    }
   ],
   "source": [
    "len(data['ssl:warn'])"
   ]
  },
  {
   "cell_type": "code",
   "execution_count": null,
   "metadata": {
    "collapsed": true
   },
   "outputs": [],
   "source": []
  }
 ],
 "metadata": {
  "kernelspec": {
   "display_name": "Python 3",
   "language": "python",
   "name": "python3"
  },
  "language_info": {
   "codemirror_mode": {
    "name": "ipython",
    "version": 3
   },
   "file_extension": ".py",
   "mimetype": "text/x-python",
   "name": "python",
   "nbconvert_exporter": "python",
   "pygments_lexer": "ipython3",
   "version": "3.6.1"
  }
 },
 "nbformat": 4,
 "nbformat_minor": 2
}
