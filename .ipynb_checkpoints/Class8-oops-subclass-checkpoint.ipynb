{
 "cells": [
  {
   "cell_type": "code",
   "execution_count": 6,
   "metadata": {},
   "outputs": [
    {
     "name": "stdout",
     "output_type": "stream",
     "text": [
      "All employees are eligible to get 5 percentHIKE:\n",
      "1000\n",
      "5000\n"
     ]
    }
   ],
   "source": [
    "class emp_raise(object):\n",
    "    hike = 5  #variable of a class\n",
    "    \n",
    "    def __init__(self,first_name,last_name,pay):\n",
    "        self.first = first_name\n",
    "        self.last = last_name\n",
    "        self.pay = pay\n",
    "        self.email = first_name + last_name + '@' + 'cisco.com'\n",
    "        \n",
    "    def raise1(self):\n",
    "        self.pay = int(self.pay * emp_raise.hike)\n",
    "        return(self.pay)\n",
    "        \n",
    "print (\"All employees are eligible to get %d percentHIKE:\"%(emp_raise.hike))\n",
    "    \n",
    "emp1 = emp_raise('suman','samarthi',1000)\n",
    "print (emp1.pay)\n",
    "emp1.raise1()\n",
    "print (emp1.pay)\n",
    "  \n",
    "    \n"
   ]
  },
  {
   "cell_type": "code",
   "execution_count": 7,
   "metadata": {
    "collapsed": true
   },
   "outputs": [],
   "source": [
    "class pet(object):\n",
    "    def __init__(self, name, species):\n",
    "        self.name = name\n",
    "        self.species = species\n",
    "\n",
    "    def getName(self):\n",
    "        return self.name\n",
    "\n",
    "    def getSpecies(self):\n",
    "        return self.species\n",
    "\n",
    "    def __str__(self):\n",
    "        return \"%s is a %s\" % (self.name, self.species)\n",
    "    \n",
    "dough = pet(\"nimmy\",\"dog\")\n",
    "\n",
    "class cat(pet):\n",
    "    def __init__(self,name,hate_dogs):\n",
    "        pet.__init__(self,name,\"cat\")\n",
    "        self.hate_dogs = hate_dogs\n",
    "    def cuts(self):\n",
    "        return \"%s really HATE DOGS:%s\"%(self.name,self.hate_dogs)\n",
    "t1 = cat(\"cuttie\",\"Yes\")"
   ]
  },
  {
   "cell_type": "code",
   "execution_count": 3,
   "metadata": {},
   "outputs": [
    {
     "data": {
      "text/plain": [
       "'Yes'"
      ]
     },
     "execution_count": 3,
     "metadata": {},
     "output_type": "execute_result"
    }
   ],
   "source": [
    "t1.hate_dogs"
   ]
  },
  {
   "cell_type": "code",
   "execution_count": 4,
   "metadata": {},
   "outputs": [
    {
     "data": {
      "text/plain": [
       "'cuttie really HATE DOGS:Yes'"
      ]
     },
     "execution_count": 4,
     "metadata": {},
     "output_type": "execute_result"
    }
   ],
   "source": [
    "t1.cuts()"
   ]
  },
  {
   "cell_type": "code",
   "execution_count": 8,
   "metadata": {},
   "outputs": [
    {
     "name": "stdout",
     "output_type": "stream",
     "text": [
      "The minimun Hike is 5\n",
      "The current Sal for suman is:10000\n",
      "The increment sal for suman is 50000\n",
      "The current Sal for pranav is:20000\n",
      "The incremented salf for pranav is 100000\n"
     ]
    }
   ],
   "source": [
    "class salHike(object):\n",
    "    Hike = 5  #varilable or attribute \n",
    "    \n",
    "    def __init__(self,first,last,salary):\n",
    "        self.first = first\n",
    "        self.last = last\n",
    "        self.salary = salary\n",
    "        self.email = first + \".\" + last + \"@\" + \"hp.com\"\n",
    "        \n",
    "    def email(self):\n",
    "        return first + \".\" + last + \"@\" + \"hp.com\"\n",
    "        \n",
    "    def increase(self):\n",
    "        self.salary = int(self.salary * salHike.Hike)\n",
    "        return (self.salary)\n",
    "        \n",
    "Suman = salHike(\"suman\",\"samarthi\",10000)        \n",
    "print (\"The minimun Hike is %d\"%Suman.Hike)\n",
    "print (\"The current Sal for %s is:%d\"%(Suman.first,Suman.salary))\n",
    "Suman.increase()\n",
    "print (\"The increment sal for %s is %d\"%(Suman.first,Suman.salary))\n",
    "\n",
    "\n",
    "Pranav = salHike(\"pranav\",\"damala\",20000)\n",
    "print (\"The current Sal for %s is:%d\"%(Pranav.first,Pranav.salary))\n",
    "Pranav.increase()\n",
    "print (\"The incremented salf for %s is %d\"%(Pranav.first,Pranav.salary))\n"
   ]
  },
  {
   "cell_type": "code",
   "execution_count": null,
   "metadata": {
    "collapsed": true
   },
   "outputs": [],
   "source": []
  }
 ],
 "metadata": {
  "kernelspec": {
   "display_name": "Python 3",
   "language": "python",
   "name": "python3"
  },
  "language_info": {
   "codemirror_mode": {
    "name": "ipython",
    "version": 3
   },
   "file_extension": ".py",
   "mimetype": "text/x-python",
   "name": "python",
   "nbconvert_exporter": "python",
   "pygments_lexer": "ipython3",
   "version": "3.6.1"
  }
 },
 "nbformat": 4,
 "nbformat_minor": 2
}
