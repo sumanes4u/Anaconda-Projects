{
 "cells": [
  {
   "cell_type": "code",
   "execution_count": 25,
   "metadata": {},
   "outputs": [
    {
     "name": "stdout",
     "output_type": "stream",
     "text": [
      "Enter a list of integers\n",
      "10 20 30\n",
      "[10, 20, 30]\n",
      "10 3.3333333333333335\n",
      "30 10.0\n",
      "60 20.0\n",
      "SUMM 60\n",
      "AVERAGE 20.0\n"
     ]
    }
   ],
   "source": [
    "def calculate(lst):\n",
    "    sum= 0\n",
    "    ln = len(lst)\n",
    "    for i in lst:\n",
    "        sum+=i\n",
    "        avg=sum/ln\n",
    "        print (sum,avg)\n",
    "    return sum,avg\n",
    "print ('Enter a list of integers')\n",
    "lst = [int(x) for x in input().split()]\n",
    "print (lst)\n",
    "x,y=calculate(lst)\n",
    "print ('SUMM',x)\n",
    "print ('AVERAGE',y)"
   ]
  },
  {
   "cell_type": "code",
   "execution_count": 22,
   "metadata": {},
   "outputs": [
    {
     "name": "stdout",
     "output_type": "stream",
     "text": [
      "HIII\n",
      "prniting [10, 20, 30]\n",
      "10 3.3333333333333335\n",
      "30 10.0\n",
      "60 20.0\n"
     ]
    }
   ],
   "source": [
    "x,y=calculate(lst)"
   ]
  },
  {
   "cell_type": "code",
   "execution_count": 13,
   "metadata": {},
   "outputs": [
    {
     "data": {
      "text/plain": [
       "[10, 20, 30]"
      ]
     },
     "execution_count": 13,
     "metadata": {},
     "output_type": "execute_result"
    }
   ],
   "source": [
    "lst"
   ]
  },
  {
   "cell_type": "code",
   "execution_count": 12,
   "metadata": {
    "collapsed": true
   },
   "outputs": [],
   "source": [
    "x,y = calculate(lst)"
   ]
  },
  {
   "cell_type": "code",
   "execution_count": 140,
   "metadata": {},
   "outputs": [
    {
     "name": "stdout",
     "output_type": "stream",
     "text": [
      "Version: 8.3.0.0 Build: 62262\n"
     ]
    }
   ],
   "source": [
    "import re\n",
    "text = ''' show version\n",
    "Aruba Operating System Software.\n",
    "ArubaOS (MODEL: 225), Version 8.3.0.0\n",
    "Website: http://www.arubanetworks.com\n",
    "(c) Copyright 2017 Hewlett Packard Enterprise Development LP.\n",
    "Compiled on 2017-11-12 at 09:42:46 PST (build 62262) by p4build\n",
    "FIPS Mode :disabled\n",
    "\n",
    "AP uptime is 19 hours 22 minutes 23 seconds\n",
    "'''\n",
    "pattern = r'((Version ([\\d.]+)\\n.*\\n.*\\n.*\\(build ([\\d]+)))'\n",
    "#pattern = r'build ([\\d]+)'\n",
    "match = re.search(pattern,text)\n",
    "print ('Version: '+match.group(3)+' Build: '+match.group(4))\n"
   ]
  },
  {
   "cell_type": "code",
   "execution_count": null,
   "metadata": {
    "collapsed": true
   },
   "outputs": [],
   "source": []
  }
 ],
 "metadata": {
  "kernelspec": {
   "display_name": "Python 3",
   "language": "python",
   "name": "python3"
  },
  "language_info": {
   "codemirror_mode": {
    "name": "ipython",
    "version": 3
   },
   "file_extension": ".py",
   "mimetype": "text/x-python",
   "name": "python",
   "nbconvert_exporter": "python",
   "pygments_lexer": "ipython3",
   "version": "3.6.1"
  }
 },
 "nbformat": 4,
 "nbformat_minor": 2
}
