{
 "cells": [
  {
   "cell_type": "code",
   "execution_count": 20,
   "metadata": {},
   "outputs": [],
   "source": [
    "import paramiko\n",
    "import time\n",
    "def Connect(ip,usrnm,passwd):\n",
    "    prehandle = paramiko.SSHClient()\n",
    "    prehandle.set_missing_host_key_policy(paramiko.AutoAddPolicy())\n",
    "    prehandle.connect(ip,username = usrnm,password = passwd)\n",
    "    handle = prehandle.invoke_shell()\n",
    "    handle.recv(100)\n",
    "    return handle\n",
    "def send_cmd(handle,cmd):\n",
    "    cmd +='\\n'\n",
    "    handle.send(cmd)\n",
    "    time.sleep(2)\n",
    "    output = handle.recv(10000)\n",
    "    return output"
   ]
  },
  {
   "cell_type": "code",
   "execution_count": 22,
   "metadata": {},
   "outputs": [],
   "source": [
    "conn = Connect('10.17.179.56','admin','admin')"
   ]
  },
  {
   "cell_type": "code",
   "execution_count": 23,
   "metadata": {},
   "outputs": [
    {
     "data": {
      "text/plain": [
       "b'r any kind of troubleshooting session.\\r\\n\\r\\n6c:f3:7f:cf:c6:9c# show aps\\r\\n\\r\\r\\n2 Access Points\\r\\n---------------\\r\\nName               IP Address     Mode    Spectrum  Clients  Type          IPv6 Address  Mesh Role  Zone  Serial #    2.4 Channel  2.4 Power (dB)  2.4 Utilization (%)  2.4 Noise Floor (dBm)  5.0 Channel  5.0 Power (dB)  5.0 Utilization (%)  5.0 Noise Floor (dBm)  Need Antenna Config  From Port  Config Id  Config Csum  Ext SSID Active  Age          Link Local IP Address  \\r\\n----               ----------     ----    --------  -------  ----          ------------  ---------  ----  --------    -----------  --------------  -------------------  ---------------------  -----------  --------------  -------------------  ---------------------  -------------------  ---------  ---------  -----------  ---------------  ---          ---------------------  \\r\\n6c:f3:7f:cf:c6:9c  10.17.179.56*  access  disable   0        275(outdoor)  --            N/A        -     CL0000068   -            -               -                    -                      -            -               -                    -                      No                   none       356        35797        enable           23h:10m:47s  --                     \\r\\nb4:5d:50:c5:65:e4  10.17.179.58   access  disable   1        325(indoor)   --            N/A        -     CNBVHN75QY  11           12              87(poor)             -90(good)              40           18              19(good)             -92(good)              No                   none       356        35797        enable           19h:32m:51s  --                     \\r\\n6c:f3:7f:cf:c6:9c# '"
      ]
     },
     "execution_count": 23,
     "metadata": {},
     "output_type": "execute_result"
    },
    {
     "name": "stderr",
     "output_type": "stream",
     "text": [
      "Socket exception: An existing connection was forcibly closed by the remote host (10054)\n",
      "Socket exception: An existing connection was forcibly closed by the remote host (10054)\n"
     ]
    }
   ],
   "source": [
    "send_cmd(conn,'show aps')"
   ]
  },
  {
   "cell_type": "code",
   "execution_count": null,
   "metadata": {},
   "outputs": [],
   "source": [
    "import paramiko\n",
    "import re\n",
    "import time\n",
    "import csv\n",
    "class accessfunctions(object):\n",
    "    def __init__(self,ip,username,password):\n",
    "        self.ip = ip\n",
    "        self.username = username\n",
    "        self.password = password\n",
    "        self.prehandle = ''\n",
    "        self.handle = ''\n",
    "    def ssh_connect(self):\n",
    "        self.prehandle = paramiko.SSHClient()\n",
    "        self.prehandle.set_missing_host_key_policy(paramiko.AutoAddPolicy())\n",
    "        self.prehandle.connect(self.ip,username = self.username,password = self.password)\n",
    "        self.handle = self.prehandle.invoke_shell()\n",
    "        self.handle.recv(1000)\n",
    "    def sendcmd(self,cmd):\n",
    "        cmd += '\\n'\n",
    "        self.handle.send(cmd)\n",
    "        time.sleep(2)\n",
    "        output = self.handle.recv(65500)\n",
    "        return output\n",
    "\n",
    "    def ssh_close(self):\n",
    "        self.prehandle.close()\n",
    "iap = accessfunctions('10.17.179.56','admin','admin')\n",
    "iap.ssh_connect()\n",
    "#op = iap.sendcmd('show version')\n",
    "#print(op)\n",
    "op = iap.sendcmd('show aps')\n",
    "#print(op)\n",
    "op = str(op).strip()\n",
    "pattern = r'\\d+\\.\\d+\\.\\d+\\.\\d+'\n",
    "reo = re.compile(pattern)\n",
    "aps = reo.findall(op)\n",
    "#print(aps)\n",
    "iap.ssh_close()\n",
    "\n",
    "def conn_aps(aps,*cmds):\n",
    "    ap_out= {}\n",
    "    oplist =[]\n",
    "    for ap in aps:\n",
    "        ap_conn = accessfunctions(ap,'admin','admin')\n",
    "        ap_conn.ssh_connect()\n",
    "        for cmd in cmds:\n",
    "            cmd_op = str(ap_conn.sendcmd(cmd))\n",
    "            print(cmd)\n",
    "            oplist.append(cmd_op)\n",
    "        ap_out[ap]=oplist\n",
    "        ap_conn.ssh_close()\n",
    "    return (ap_out)    \n",
    "\n",
    "print('HI:',aps)\n",
    "temp = '_'.join('_'.join(time.ctime().split()).split(':'))\n",
    "cpu_filename = 'cpufile_'+temp+'.csv'\n",
    "memory_filename= 'memoryfile_'+temp+'.csv'\n",
    "print(filename)\n",
    "\n",
    "#op = conn_aps(aps,'show cpu','show memory')\n",
    "#print(op)\n",
    "while True:\n",
    "    print (\"\\n\\033[6;31mPress CTRL+C to exit all the sessions\\n\\033[39m\")\n",
    "    print (\"\\n\")\n",
    "    op = conn_aps(aps,'show cpu','show memory')\n",
    "    with open(cpu_filename,'a',newline = '') as fp:\n",
    "        writer = csv.writer(fp)\n",
    "        writer.writerow(['APIP','user','nice','systemidle','io','irq','softirq'])\n",
    "        for ap in aps:\n",
    "            op1 = re.findall(r'\\d+%',op[ap][0])\n",
    "            op1.insert(0,ap)\n",
    "            writer.writerow(op1)\n",
    "ap_conn.ssh_close()        \n",
    " "
   ]
  },
  {
   "cell_type": "code",
   "execution_count": 106,
   "metadata": {},
   "outputs": [
    {
     "data": {
      "text/plain": [
       "['0%', '0%', '2%', '98%', '0%', '0%', '0%']"
      ]
     },
     "execution_count": 106,
     "metadata": {},
     "output_type": "execute_result"
    }
   ],
   "source": [
    "mac = '''b'show cpu\\r\\n total: user   0% nice   0% system   2% idle  98% io   0% irq   0% softirq   0%\\r\\n6c:f3:7f:cf:c6:9c# '''\n",
    "pattern = r'\\d+%'\n",
    "reo = re.compile(pattern)\n",
    "match = reo.findall(mac)\n",
    "match"
   ]
  },
  {
   "cell_type": "code",
   "execution_count": 98,
   "metadata": {},
   "outputs": [
    {
     "data": {
      "text/plain": [
       "'abc'"
      ]
     },
     "execution_count": 98,
     "metadata": {},
     "output_type": "execute_result"
    }
   ],
   "source": [
    "dict = {'1': ['abc','def']}\n",
    "dict['1'][0]"
   ]
  },
  {
   "cell_type": "code",
   "execution_count": 66,
   "metadata": {},
   "outputs": [
    {
     "data": {
      "text/plain": [
       "'C:\\\\Users\\\\ssamarthi\\\\AnacondaProjects\\\\SAHIL_TUTORIALS'"
      ]
     },
     "execution_count": 66,
     "metadata": {},
     "output_type": "execute_result"
    }
   ],
   "source": [
    "pwd"
   ]
  },
  {
   "cell_type": "code",
   "execution_count": null,
   "metadata": {},
   "outputs": [],
   "source": [
    "'_'.join('_'.join(time.ctime().split()).split(':'))"
   ]
  },
  {
   "cell_type": "code",
   "execution_count": 117,
   "metadata": {},
   "outputs": [
    {
     "data": {
      "text/plain": [
       "b'show cpu\\r\\n total: user   0% nice   0% system   2% idle  98% io   0% irq   0% softirq   0%\\r\\n6c:f3:7f:cf:c6:9c# '"
      ]
     },
     "execution_count": 117,
     "metadata": {},
     "output_type": "execute_result"
    },
    {
     "name": "stderr",
     "output_type": "stream",
     "text": [
      "Socket exception: An existing connection was forcibly closed by the remote host (10054)\n"
     ]
    }
   ],
   "source": [
    "dct = {'AP': [b'show cpu\\r\\n total: user   0% nice   0% system   2% idle  98% io   0% irq   0% softirq   0%\\r\\n6c:f3:7f:cf:c6:9c# ', b'show memory\\r\\nMemTotal:         515060 kB\\r\\nMemFree:          360304 kB\\r\\nBuffers:               0 kB\\r\\nCached:            32276 kB\\r\\nSwapCached:            0 kB\\r\\nActive:            76956 kB\\r\\nInactive:          24204 kB\\r\\nActive(anon):      68884 kB\\r\\nInactive(anon):       16 kB\\r\\nActive(file):       8072 kB\\r\\nInactive(file):    24188 kB\\r\\nUnevictable:           0 kB\\r\\nMlocked:               0 kB\\r\\nSwapTotal:             0 kB\\r\\nSwapFree:              0 kB\\r\\nDirty:                 0 kB\\r\\nWriteback:             0 kB\\r\\nAnonPages:         68900 kB\\r\\nMapped:            12044 kB\\r\\nShmem:                16 kB\\r\\nSlab:              20440 kB\\r\\nSReclaimable:       1128 kB\\r\\nSUnreclaim:        19312 kB\\r\\nKernelStack:         528 kB\\r\\nPageTables:          548 kB\\r\\nNFS_Unstable:          0 kB\\r\\nBounce:                0 kB\\r\\nWritebackTmp:          0 kB\\r\\nCommitLimit:      257528 kB\\r\\nCommitted_AS:      92644 kB\\r\\nVmallocTotal:     474976 kB\\r\\nVmallocUsed:       48792 kB\\r\\nVmallocChunk:     381644 kB\\r\\n6c:f3:7f:cf:c6:9c# '], '10.17.179.58': [b'show cpu\\r\\n total: user   0% nice   1% system   3% idle  90% io   0% irq   1% softirq   6%\\r\\nb4:5d:50:c5:65:e4# ', b'show memory\\r\\nMemTotal:         481920 kB\\r\\nMemFree:          252596 kB\\r\\nBuffers:               0 kB\\r\\nCached:            30608 kB\\r\\nSwapCached:            0 kB\\r\\nActive:            82544 kB\\r\\nInactive:          21800 kB\\r\\nActive(anon):      73740 kB\\r\\nInactive(anon):       16 kB\\r\\nActive(file):       8804 kB\\r\\nInactive(file):    21784 kB\\r\\nUnevictable:           0 kB\\r\\nMlocked:               0 kB\\r\\nHighTotal:             0 kB\\r\\nHighFree:              0 kB\\r\\nLowTotal:         481920 kB\\r\\nLowFree:          252596 kB\\r\\nSwapTotal:             0 kB\\r\\nSwapFree:              0 kB\\r\\nDirty:                 0 kB\\r\\nWriteback:             0 kB\\r\\nAnonPages:         73704 kB\\r\\nMapped:            11384 kB\\r\\nShmem:                16 kB\\r\\nSlab:              73380 kB\\r\\nSReclaimable:       3008 kB\\r\\nSUnreclaim:        70372 kB\\r\\nKernelStack:        2912 kB\\r\\nPageTables:         1000 kB\\r\\nNFS_Unstable:          0 kB\\r\\nBounce:                0 kB\\r\\nWritebackTmp:          0 kB\\r\\nCommitLimit:      240960 kB\\r\\nCommitted_AS:     107096 kB\\r\\nVmallocTotal:     524288 kB\\r\\nVmallocUsed:       47428 kB\\r\\nVmallocChunk:     350204 kB\\r\\nb4:5d:50:c5:65:e4# ']}\n",
    "tmp = dct['AP'][0]\n",
    "tmp\n",
    "#cpu = re.findall(r'\\d+\\%', tmp)\n"
   ]
  },
  {
   "cell_type": "code",
   "execution_count": null,
   "metadata": {
    "collapsed": true
   },
   "outputs": [],
   "source": [
    "text"
   ]
  }
 ],
 "metadata": {
  "kernelspec": {
   "display_name": "Python 3",
   "language": "python",
   "name": "python3"
  },
  "language_info": {
   "codemirror_mode": {
    "name": "ipython",
    "version": 3
   },
   "file_extension": ".py",
   "mimetype": "text/x-python",
   "name": "python",
   "nbconvert_exporter": "python",
   "pygments_lexer": "ipython3",
   "version": "3.6.1"
  }
 },
 "nbformat": 4,
 "nbformat_minor": 2
}
