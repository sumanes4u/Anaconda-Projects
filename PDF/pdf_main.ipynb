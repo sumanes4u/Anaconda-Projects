{
 "cells": [
  {
   "cell_type": "code",
   "execution_count": 2,
   "metadata": {},
   "outputs": [
    {
     "data": {
      "text/plain": [
       "'/Users/aws/Downloads/book1-exercises-master/chp11/practice_files'"
      ]
     },
     "execution_count": 2,
     "metadata": {},
     "output_type": "execute_result"
    }
   ],
   "source": [
    "pwd"
   ]
  },
  {
   "cell_type": "code",
   "execution_count": 3,
   "metadata": {
    "collapsed": true
   },
   "outputs": [],
   "source": [
    "import os"
   ]
  },
  {
   "cell_type": "code",
   "execution_count": 5,
   "metadata": {
    "collapsed": true
   },
   "outputs": [],
   "source": [
    "from PyPDF2 import PdfFileReader"
   ]
  },
  {
   "cell_type": "code",
   "execution_count": 6,
   "metadata": {
    "collapsed": true
   },
   "outputs": [],
   "source": [
    "path = \"/Users/aws/Downloads/book1-exercises-master/chp11/practice_files\""
   ]
  },
  {
   "cell_type": "code",
   "execution_count": 7,
   "metadata": {
    "collapsed": true
   },
   "outputs": [],
   "source": [
    "input_file_name = os.path.join(path,\"Pride and Prejudice.pdf\")"
   ]
  },
  {
   "cell_type": "code",
   "execution_count": 8,
   "metadata": {
    "collapsed": true
   },
   "outputs": [],
   "source": [
    "input_file = PdfFileReader(open(input_file_name,\"rb\"))"
   ]
  },
  {
   "cell_type": "code",
   "execution_count": 9,
   "metadata": {},
   "outputs": [
    {
     "name": "stdout",
     "output_type": "stream",
     "text": [
      "Number of pages: 234\n"
     ]
    }
   ],
   "source": [
    "print(\"Number of pages:\", input_file.getNumPages())"
   ]
  },
  {
   "cell_type": "code",
   "execution_count": 10,
   "metadata": {},
   "outputs": [
    {
     "name": "stdout",
     "output_type": "stream",
     "text": [
      "Title: Pride and Prejudice, by Jane Austen\n"
     ]
    }
   ],
   "source": [
    "print(\"Title:\", input_file.getDocumentInfo().title)"
   ]
  },
  {
   "cell_type": "code",
   "execution_count": 11,
   "metadata": {},
   "outputs": [
    {
     "name": "stdout",
     "output_type": "stream",
     "text": [
      "Title: {'/Title': 'Pride and Prejudice, by Jane Austen', '/Author': 'Chuck', '/Creator': 'Microsoft® Office Word 2007', '/CreationDate': 'D:20110812174208', '/ModDate': 'D:20110812174208', '/Producer': 'Microsoft® Office Word 2007'}\n"
     ]
    }
   ],
   "source": [
    "print(\"Title:\", input_file.getDocumentInfo())"
   ]
  },
  {
   "cell_type": "code",
   "execution_count": 14,
   "metadata": {},
   "outputs": [
    {
     "name": "stdout",
     "output_type": "stream",
     "text": [
      "\"Do you not want to know who has taken it?\" cried his wife impatiently. \n",
      " \n",
      "\"\n",
      "You\n",
      " \n",
      "want to tell me, and I have no obje\n",
      "ction to hearing it.\" \n",
      " \n",
      "This was invitation enough. \n",
      " \n",
      "\"Why, my dear, you must know, Mrs. Long says that Netherfield is taken by a young \n",
      "man of large fortune from the north of England; that he came down on Monday in a chaise \n",
      "and four to see the place, and was\n",
      " \n",
      "so much delighted with it, that he agreed with Mr. Morris \n",
      "immediately; that he is to take possession before Michaelmas, and some of his servants are \n",
      "to be in the house by the end of next week.\" \n",
      " \n",
      "\"What is his name?\" \n",
      " \n",
      "\"Bingley.\" \n",
      " \n",
      "\"Is he married or single?\" \n",
      " \n",
      "\"Oh! Single, my dear, to be sure! A single man of large fortune; four or five thousand a \n",
      "year. What a fine thing for our girls!\" \n",
      " \n",
      "\"How so? How can it affect them?\" \n",
      " \n",
      "\"My dear Mr. Bennet,\" replied his wife, \"how can you be so tiresome! You must know \n",
      "that I \n",
      "am thinking of his marrying one of them.\" \n",
      " \n",
      "\"Is that his design in settling here?\" \n",
      " \n",
      "\"Design! Nonsense, how can you talk so! But it is very likely that he \n",
      "may\n",
      " \n",
      "fall in love \n",
      "with one of them, and therefore you must visit him as soon as he comes.\" \n",
      " \n",
      "\"I see no oc\n",
      "casion for that. You and the girls may go, or you may send them by \n",
      "themselves, which perhaps will be still better, for as you are as handsome as any of them, \n",
      "Mr. Bingley may like you the best of the party.\" \n",
      " \n",
      "\"My dear, you flatter me. I certainly \n",
      "have\n",
      " \n",
      "had m\n",
      "y share of beauty, but I do not pretend to \n",
      "be anything extraordinary now. When a woman has five grown\n",
      "-\n",
      "up daughters, she ought to \n",
      "give over thinking of her own beauty.\" \n",
      " \n",
      "\"In such cases, a woman has not often much beauty to think of.\" \n",
      " \n",
      "\"But, my dear, you must indeed go and see Mr. Bingley when he comes into the \n",
      "neighbourhood.\" \n",
      " \n",
      "\"It is more than I engage for, I assure you.\" \n",
      " \n",
      "\"But consider your daughters. Only think what an establishment it would be for one of \n",
      "them. Sir William and Lady Lu\n",
      "cas are determined to go, merely on that account, for in \n",
      "general, you know, they visit no newcomers. Indeed you must go, for it will be impossible \n",
      "for \n",
      "us\n",
      " \n",
      "to visit him if you do not.\" \n",
      " \n",
      "\n"
     ]
    }
   ],
   "source": [
    "print(input_file.getPage(2).extractText())"
   ]
  },
  {
   "cell_type": "code",
   "execution_count": 17,
   "metadata": {
    "collapsed": true
   },
   "outputs": [],
   "source": [
    "output_file_name = os.path.join(path,\"Output/Pride and Prejudice.txt\")"
   ]
  },
  {
   "cell_type": "code",
   "execution_count": 18,
   "metadata": {
    "collapsed": true
   },
   "outputs": [],
   "source": [
    "output_file = open(output_file_name,\"w\")"
   ]
  },
  {
   "cell_type": "code",
   "execution_count": 19,
   "metadata": {
    "collapsed": true
   },
   "outputs": [],
   "source": [
    "title = input_file.getDocumentInfo().title\n",
    "total_pages = input_file.getNumPages()"
   ]
  },
  {
   "cell_type": "code",
   "execution_count": 20,
   "metadata": {},
   "outputs": [
    {
     "data": {
      "text/plain": [
       "36"
      ]
     },
     "execution_count": 20,
     "metadata": {},
     "output_type": "execute_result"
    }
   ],
   "source": [
    "output_file.write(title + \"\\n\")"
   ]
  },
  {
   "cell_type": "code",
   "execution_count": 21,
   "metadata": {},
   "outputs": [
    {
     "data": {
      "text/plain": [
       "22"
      ]
     },
     "execution_count": 21,
     "metadata": {},
     "output_type": "execute_result"
    }
   ],
   "source": [
    "output_file.write(\"Number of pages: {}\\n\\n\".format(total_pages))"
   ]
  },
  {
   "cell_type": "code",
   "execution_count": 22,
   "metadata": {
    "collapsed": true
   },
   "outputs": [],
   "source": [
    "for page_num in range(0,total_pages):\n",
    "    text = input_file.getPage(page_num).extractText()\n",
    "    text = text.replace(\" \", \"\\n\")\n",
    "    output_file.write(text)"
   ]
  },
  {
   "cell_type": "code",
   "execution_count": 23,
   "metadata": {
    "collapsed": true
   },
   "outputs": [],
   "source": [
    "output_file.close()"
   ]
  },
  {
   "cell_type": "code",
   "execution_count": 24,
   "metadata": {
    "collapsed": true
   },
   "outputs": [],
   "source": [
    "# Convert into a new pdf file"
   ]
  },
  {
   "cell_type": "code",
   "execution_count": 25,
   "metadata": {
    "collapsed": true
   },
   "outputs": [],
   "source": [
    "import os\n",
    "from PyPDF2 import PdfFileReader, PdfFileWriter\n",
    "\n",
    "path = \"/Users/aws/Downloads/book1-exercises-master/chp11/practice_files\"\n",
    "\n",
    "input_file_name = os.path.join(path,\"Pride and Prejudice.pdf\")\n",
    "\n",
    "input_file = PdfFileReader(open(input_file_name,\"rb\"))\n",
    "\n",
    "output_PDF = PdfFileWriter()\n",
    "\n",
    "for page_num in range(1,4):\n",
    "    output_PDF.addPage(input_file.getPage(page_num))\n",
    "    \n",
    "output_file_name = os.path.join(path,\"Output/portion.pdf\")\n",
    "output_file = open(output_file_name,\"wb\")\n",
    "output_PDF.write(output_file)\n",
    "output_file.close()"
   ]
  },
  {
   "cell_type": "code",
   "execution_count": 26,
   "metadata": {
    "collapsed": true
   },
   "outputs": [],
   "source": [
    "# modify"
   ]
  },
  {
   "cell_type": "code",
   "execution_count": 27,
   "metadata": {
    "collapsed": true
   },
   "outputs": [],
   "source": [
    "import os\n",
    "from PyPDF2 import PdfFileReader, PdfFileWriter\n",
    "\n",
    "path = \"/Users/aws/Downloads/book1-exercises-master/chp11/practice_files\"\n",
    "\n",
    "input_file_name = os.path.join(path,\"ugly.pdf\")\n",
    "\n",
    "input_file = PdfFileReader(open(input_file_name,\"rb\"))\n",
    "\n",
    "output_PDF = PdfFileWriter()\n",
    "\n",
    "for page_num in range(0, input_file.getNumPages()):\n",
    "    page = input_file.getPage(page_num)\n",
    "    if page_num % 2 == 0:\n",
    "        page.rotateClockwise(90)\n",
    "    output_PDF.addPage(page)\n",
    "    \n",
    "output_file_name = os.path.join(path,\"Output/The Conformed Duckling.pdf\")\n",
    "output_file = open(output_file_name,\"wb\")\n",
    "output_PDF.write(output_file)\n",
    "output_file.close()"
   ]
  },
  {
   "cell_type": "code",
   "execution_count": 28,
   "metadata": {},
   "outputs": [
    {
     "ename": "ModuleNotFoundError",
     "evalue": "No module named 'reportlab'",
     "output_type": "error",
     "traceback": [
      "\u001b[0;31m---------------------------------------------------------------------------\u001b[0m",
      "\u001b[0;31mModuleNotFoundError\u001b[0m                       Traceback (most recent call last)",
      "\u001b[0;32m<ipython-input-28-8730fe6e3795>\u001b[0m in \u001b[0;36m<module>\u001b[0;34m()\u001b[0m\n\u001b[0;32m----> 1\u001b[0;31m \u001b[0;32mimport\u001b[0m \u001b[0mreportlab\u001b[0m\u001b[0;34m\u001b[0m\u001b[0m\n\u001b[0m",
      "\u001b[0;31mModuleNotFoundError\u001b[0m: No module named 'reportlab'"
     ]
    }
   ],
   "source": [
    "import reportlab"
   ]
  },
  {
   "cell_type": "code",
   "execution_count": 29,
   "metadata": {},
   "outputs": [
    {
     "ename": "ModuleNotFoundError",
     "evalue": "No module named 'reportlab'",
     "output_type": "error",
     "traceback": [
      "\u001b[0;31m---------------------------------------------------------------------------\u001b[0m",
      "\u001b[0;31mModuleNotFoundError\u001b[0m                       Traceback (most recent call last)",
      "\u001b[0;32m<ipython-input-29-025a780e7b2a>\u001b[0m in \u001b[0;36m<module>\u001b[0;34m()\u001b[0m\n\u001b[0;32m----> 1\u001b[0;31m \u001b[0;32mfrom\u001b[0m \u001b[0mreportlab\u001b[0m\u001b[0;34m.\u001b[0m\u001b[0mpdfgen\u001b[0m \u001b[0;32mimport\u001b[0m \u001b[0mcanvas\u001b[0m\u001b[0;34m\u001b[0m\u001b[0m\n\u001b[0m\u001b[1;32m      2\u001b[0m \u001b[0mc\u001b[0m \u001b[0;34m=\u001b[0m \u001b[0mcanvas\u001b[0m\u001b[0;34m.\u001b[0m\u001b[0mCanvas\u001b[0m\u001b[0;34m(\u001b[0m\u001b[0;34m\"hello.pdf\"\u001b[0m\u001b[0;34m)\u001b[0m\u001b[0;34m\u001b[0m\u001b[0m\n\u001b[1;32m      3\u001b[0m \u001b[0mc\u001b[0m\u001b[0;34m.\u001b[0m\u001b[0mdrawString\u001b[0m\u001b[0;34m(\u001b[0m\u001b[0;36m100\u001b[0m\u001b[0;34m,\u001b[0m\u001b[0;36m100\u001b[0m\u001b[0;34m,\u001b[0m\u001b[0;34m\"Hello World\"\u001b[0m\u001b[0;34m)\u001b[0m\u001b[0;34m\u001b[0m\u001b[0m\n\u001b[1;32m      4\u001b[0m \u001b[0mc\u001b[0m\u001b[0;34m.\u001b[0m\u001b[0msave\u001b[0m\u001b[0;34m(\u001b[0m\u001b[0;34m)\u001b[0m\u001b[0;34m\u001b[0m\u001b[0m\n",
      "\u001b[0;31mModuleNotFoundError\u001b[0m: No module named 'reportlab'"
     ]
    }
   ],
   "source": [
    "from reportlab.pdfgen import canvas\n",
    "c = canvas.Canvas(\"hello.pdf\")\n",
    "c.drawString(100,100,\"Hello World\")\n",
    "c.save()"
   ]
  },
  {
   "cell_type": "code",
   "execution_count": null,
   "metadata": {
    "collapsed": true
   },
   "outputs": [],
   "source": []
  }
 ],
 "metadata": {
  "kernelspec": {
   "display_name": "Python 3",
   "language": "python",
   "name": "python3"
  },
  "language_info": {
   "codemirror_mode": {
    "name": "ipython",
    "version": 3
   },
   "file_extension": ".py",
   "mimetype": "text/x-python",
   "name": "python",
   "nbconvert_exporter": "python",
   "pygments_lexer": "ipython3",
   "version": "3.6.1"
  }
 },
 "nbformat": 4,
 "nbformat_minor": 2
}
