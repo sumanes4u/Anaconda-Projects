{
 "cells": [
  {
   "cell_type": "code",
   "execution_count": 1,
   "metadata": {
    "collapsed": true
   },
   "outputs": [],
   "source": [
    "import paramiko"
   ]
  },
  {
   "cell_type": "code",
   "execution_count": 2,
   "metadata": {},
   "outputs": [
    {
     "name": "stdout",
     "output_type": "stream",
     "text": [
      "Hi Sashi \n"
     ]
    }
   ],
   "source": [
    "print (\"Hi Sashi \")"
   ]
  },
  {
   "cell_type": "code",
   "execution_count": 3,
   "metadata": {
    "collapsed": true
   },
   "outputs": [],
   "source": [
    "a = \"Dinesh\""
   ]
  },
  {
   "cell_type": "code",
   "execution_count": 10,
   "metadata": {},
   "outputs": [
    {
     "name": "stdout",
     "output_type": "stream",
     "text": [
      "Hi Sashi from:Dinesh \n"
     ]
    }
   ],
   "source": [
    "print(\"Hi Sashi from:{DD} \".format(DD=a))"
   ]
  },
  {
   "cell_type": "code",
   "execution_count": 12,
   "metadata": {},
   "outputs": [
    {
     "name": "stdout",
     "output_type": "stream",
     "text": [
      "1\n",
      "3\n",
      "22\n",
      "23\n",
      "show aps\n",
      "\n",
      "24\n",
      "25\n",
      "26\n",
      "4\n",
      "b'r any kind of troubleshooting session.\\r\\n\\r\\n70:3a:0e:ce:57:5c# show aps\\r\\n\\r\\r\\n1 Access Point\\r\\n--------------\\r\\nName               IP Address     Mode    Spectrum  Clients  Type         IPv6 Address  Mesh Role  Zone  Serial #    radio0 Channel  radio0 Power (dB)  radio0 Utilization (%)  radio0 Noise Floor (dBm)  radio1 Channel  radio1 Power (dB)  radio1 Utilization (%)  radio1 Noise Floor (dBm)  Need Antenna Config  From Port  Config Id  Config Csum  Ext SSID Active  Age           Link Local IP Address  \\r\\n----               ----------     ----    --------  -------  ----         ------------  ---------  ----  --------    --------------  -----------------  ----------------------  ------------------------  --------------  -----------------  ----------------------  ------------------------  -------------------  ---------  ---------  -----------  ---------------  ---           ---------------------  \\r\\n70:3a:0e:ce:57:5c  10.15.14.253*  access  disable   0        335(indoor)  --            N/A        -     CNC6J0Y113  56E             27                 7(good)                 -89(good)                 6               24                 60(ok)                  -83(ok)                   No                   none       2          725          enable           7d:0h:4m:24s  --                     \\r\\n70:3a:0e:ce:57:5c# '\n"
     ]
    },
    {
     "name": "stderr",
     "output_type": "stream",
     "text": [
      "Socket exception: An existing connection was forcibly closed by the remote host (10054)\n",
      "Socket exception: An existing connection was forcibly closed by the remote host (10054)\n"
     ]
    }
   ],
   "source": [
    "import paramiko\n",
    "import time\n",
    "class sshConnect():\n",
    "\n",
    "    def Connect(self,ip,usrnm,passwd):\n",
    "        prehandle = paramiko.SSHClient()\n",
    "        prehandle.set_missing_host_key_policy(paramiko.AutoAddPolicy())\n",
    "        prehandle.connect(ip,username = usrnm,password = passwd)\n",
    "        handle = prehandle.invoke_shell()\n",
    "        handle.recv(100)\n",
    "        print(\"1\")\n",
    "        return handle\n",
    "    def send_cmd(self,handle,cmd):\n",
    "        print (\"22\")\n",
    "        cmd +='\\n'\n",
    "        print (\"23\")\n",
    "        print (cmd)\n",
    "        handle.send(cmd)\n",
    "        print (\"24\")\n",
    "        time.sleep(2)\n",
    "        print (\"25\")\n",
    "        output = handle.recv(10000)\n",
    "        print (\"26\")\n",
    "        return output\n",
    "        print (\"27\")\n",
    "conn = sshConnect()\n",
    "Conn = conn.Connect('10.15.14.253','admin','admin')\n",
    "time.sleep(5)\n",
    "print (\"3\")\n",
    "OP = conn.send_cmd(Conn,'show aps')\n",
    "print (\"4\")\n",
    "print (OP)"
   ]
  },
  {
   "cell_type": "code",
   "execution_count": null,
   "metadata": {
    "collapsed": true
   },
   "outputs": [],
   "source": []
  }
 ],
 "metadata": {
  "kernelspec": {
   "display_name": "Python 3",
   "language": "python",
   "name": "python3"
  },
  "language_info": {
   "codemirror_mode": {
    "name": "ipython",
    "version": 3
   },
   "file_extension": ".py",
   "mimetype": "text/x-python",
   "name": "python",
   "nbconvert_exporter": "python",
   "pygments_lexer": "ipython3",
   "version": "3.6.1"
  }
 },
 "nbformat": 4,
 "nbformat_minor": 2
}
