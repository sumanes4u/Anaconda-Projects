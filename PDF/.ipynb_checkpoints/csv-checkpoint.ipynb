{
 "cells": [
  {
   "cell_type": "code",
   "execution_count": 1,
   "metadata": {
    "collapsed": true
   },
   "outputs": [],
   "source": [
    "import csv # csv is a kind of excel. "
   ]
  },
  {
   "cell_type": "code",
   "execution_count": 3,
   "metadata": {},
   "outputs": [
    {
     "name": "stdout",
     "output_type": "stream",
     "text": [
      "[['ItemID', 'Name', 'Description', 'Owner', 'Borrower', 'DateLent', 'DateReturned'], ['1', 'LawnMower', 'Small Hover mower', 'Fred', 'Joe', '4/1/2012', '4/26/2012'], ['2', 'LawnMower', 'Ride-on mower', 'Mike', 'Anne', '9/5/2012', '1/5/2013'], ['3', 'Bike', 'BMX bike', 'Joe', 'Rob', '7/3/2013', '7/22/2013'], ['4', 'Drill', 'Heavy duty hammer', 'Rob', 'Fred', '11/19/2013', '11/29/2013'], ['5', 'Scarifier', 'Quality, stainless steel', 'Anne', 'Mike', '12/5/2013', ''], ['6', 'Sprinkler', 'Cheap but effective', 'Fred', '', '', '']]\n"
     ]
    }
   ],
   "source": [
    "with open('toolhire.csv') as th:\n",
    "    toolreader = csv.reader(th)\n",
    "    print (list(toolreader))"
   ]
  },
  {
   "cell_type": "code",
   "execution_count": 4,
   "metadata": {
    "collapsed": true
   },
   "outputs": [],
   "source": [
    "items = [['1', 'LawnMower', 'Small Hover mower', 'Fred', 'Joe', '4/1/2012', '4/26/2012'],\n",
    "         ['2', 'LawnMower', 'Ride-on mower', 'Mike', 'Anne', '9/5/2012', '1/5/2013'], \n",
    "         ['3', 'Bike', 'BMX bike', 'Joe', 'Rob', '7/3/2013', '7/22/2013'], \n",
    "         ['4', 'Drill', 'Heavy duty hammer', 'Rob', 'Fred', '11/19/2013', '11/29/2013']]"
   ]
  },
  {
   "cell_type": "code",
   "execution_count": 5,
   "metadata": {},
   "outputs": [
    {
     "data": {
      "text/plain": [
       "[['1',\n",
       "  'LawnMower',\n",
       "  'Small Hover mower',\n",
       "  'Fred',\n",
       "  'Joe',\n",
       "  '4/1/2012',\n",
       "  '4/26/2012'],\n",
       " ['2', 'LawnMower', 'Ride-on mower', 'Mike', 'Anne', '9/5/2012', '1/5/2013'],\n",
       " ['3', 'Bike', 'BMX bike', 'Joe', 'Rob', '7/3/2013', '7/22/2013'],\n",
       " ['4',\n",
       "  'Drill',\n",
       "  'Heavy duty hammer',\n",
       "  'Rob',\n",
       "  'Fred',\n",
       "  '11/19/2013',\n",
       "  '11/29/2013']]"
      ]
     },
     "execution_count": 5,
     "metadata": {},
     "output_type": "execute_result"
    }
   ],
   "source": [
    "items"
   ]
  },
  {
   "cell_type": "code",
   "execution_count": 8,
   "metadata": {
    "collapsed": true
   },
   "outputs": [],
   "source": [
    "with open('example.csv','w',newline='') as tooldata:\n",
    "    toolwriter = csv.writer(tooldata)\n",
    "    for item in items:\n",
    "        toolwriter.writerow(item)"
   ]
  },
  {
   "cell_type": "code",
   "execution_count": 10,
   "metadata": {
    "collapsed": true
   },
   "outputs": [],
   "source": [
    "# Try to above thing in terminal"
   ]
  },
  {
   "cell_type": "code",
   "execution_count": 11,
   "metadata": {
    "collapsed": true
   },
   "outputs": [],
   "source": [
    "# 2 : "
   ]
  },
  {
   "cell_type": "code",
   "execution_count": 12,
   "metadata": {
    "collapsed": true
   },
   "outputs": [],
   "source": [
    "from datetime import datetime"
   ]
  },
  {
   "cell_type": "code",
   "execution_count": 13,
   "metadata": {
    "collapsed": true
   },
   "outputs": [],
   "source": [
    "def convertDate(item):\n",
    "...     theDate = item[-1]\n",
    "...     dateObj = datetime.strptime(theDate,'%Y-%m-%d')\n",
    "...     dateStr = datetime.strftime(dateObj,'%m/%d/%Y')\n",
    "...     item[-1] = dateStr\n",
    "...     return item"
   ]
  },
  {
   "cell_type": "markdown",
   "metadata": {},
   "source": [
    "# Create a file with the following content : \n",
    "\n",
    "1,Lawnmower,Small Hover mower,Fred,$150,Excellent,2012-01-05\n",
    "2,Lawnmower,Ride-on mower,Mike,$370,Fair,2012-04-01\n",
    "3,Bike,BMX bike,Joe,$200,Good,2013-03-22\n",
    "4,Drill,Heavy duty hammer,Rob,$100,Good,2013-10-28\n",
    "5,Scarifier,\"Quality, stainless steel\",Anne,$200,2013-09-14\n",
    "6,Sprinkler,Cheap but effective,Fred,$80,2014-01-06\n"
   ]
  },
  {
   "cell_type": "code",
   "execution_count": 14,
   "metadata": {
    "collapsed": true
   },
   "outputs": [],
   "source": [
    "with open('tooldesc.csv') as td:\n",
    "...     rdr = csv.reader(td)\n",
    "...     items = list(rdr)"
   ]
  },
  {
   "cell_type": "code",
   "execution_count": 15,
   "metadata": {
    "collapsed": true
   },
   "outputs": [],
   "source": [
    "items = [convertDate(item) for item in items]"
   ]
  },
  {
   "cell_type": "code",
   "execution_count": 17,
   "metadata": {
    "collapsed": true
   },
   "outputs": [],
   "source": [
    "with open('tooldesc2.csv', 'w', newline='') as td:\n",
    "...     wrt = csv.writer(td)\n",
    "...     for item in items:\n",
    "...        wrt.writerow(item)"
   ]
  },
  {
   "cell_type": "code",
   "execution_count": 18,
   "metadata": {
    "collapsed": true
   },
   "outputs": [],
   "source": [
    "# The above command will create a tooldesc2.csv file"
   ]
  },
  {
   "cell_type": "code",
   "execution_count": 19,
   "metadata": {
    "collapsed": true
   },
   "outputs": [],
   "source": [
    "# Adding a field"
   ]
  },
  {
   "cell_type": "code",
   "execution_count": 20,
   "metadata": {
    "collapsed": true
   },
   "outputs": [],
   "source": [
    "fields = ['ItemID','Name','Description','Owner','Price','Condition','DateRegistered']"
   ]
  },
  {
   "cell_type": "code",
   "execution_count": 21,
   "metadata": {
    "collapsed": true
   },
   "outputs": [],
   "source": [
    "with open ('tooldesc2.csv') as td_in:\n",
    "...     rdr = csv.DictReader(td_in,fieldnames = fields)\n",
    "...     items = [item for item in rdr]"
   ]
  },
  {
   "cell_type": "code",
   "execution_count": 23,
   "metadata": {
    "collapsed": true
   },
   "outputs": [],
   "source": [
    "with open('tooldesc3.csv', 'w', newline='') as td_out:\n",
    "...     wrt = csv.DictWriter(td_out, fieldnames=fields)\n",
    "...     wrt.writeheader()\n",
    "...     wrt.writerows(items)"
   ]
  },
  {
   "cell_type": "code",
   "execution_count": null,
   "metadata": {
    "collapsed": true
   },
   "outputs": [],
   "source": []
  }
 ],
 "metadata": {
  "kernelspec": {
   "display_name": "Python 3",
   "language": "python",
   "name": "python3"
  },
  "language_info": {
   "codemirror_mode": {
    "name": "ipython",
    "version": 3
   },
   "file_extension": ".py",
   "mimetype": "text/x-python",
   "name": "python",
   "nbconvert_exporter": "python",
   "pygments_lexer": "ipython3",
   "version": "3.6.1"
  }
 },
 "nbformat": 4,
 "nbformat_minor": 2
}
