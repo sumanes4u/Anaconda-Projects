{
 "cells": [
  {
   "cell_type": "code",
   "execution_count": 9,
   "metadata": {},
   "outputs": [
    {
     "name": "stdout",
     "output_type": "stream",
     "text": [
      "Enter text with '@' at the end\n",
      "hi\n",
      "@\n",
      "File exists\n",
      "sumansumansanvith\n",
      "\n",
      "archana\n",
      "\n",
      "maha\n",
      "\n",
      "maha\n",
      "\n",
      "baby\n",
      "\n",
      "hi\n",
      "\n"
     ]
    }
   ],
   "source": [
    "import os,sys\n",
    "with open('samplefile','a+') as fh:\n",
    "    print('Enter text with \\'@\\' at the end')\n",
    "    str = ''\n",
    "    while str != '@': \n",
    "        str = input('')\n",
    "        if (str != '@'):\n",
    "            fh.write(str+'\\n')\n",
    "if os.path.isfile('samplefile'):\n",
    "    print('File exists')\n",
    "else:\n",
    "    print('File doesnot exists')\n",
    "    sys.exit()\n",
    "with open('samplefile','r') as fh:\n",
    "    for line in fh:\n",
    "        print(line)"
   ]
  },
  {
   "cell_type": "code",
   "execution_count": 13,
   "metadata": {},
   "outputs": [
    {
     "name": "stdout",
     "output_type": "stream",
     "text": [
      "ENter text with '@' at the end\n",
      "suman\n",
      "sanvith\n",
      "@\n"
     ]
    }
   ],
   "source": [
    "with open('samplefile','w') as f:\n",
    "    print('ENter text with \\'@\\' at the end')\n",
    "    str = ''\n",
    "    while str != '@':\n",
    "        str = input('')\n",
    "        if (str != '@'):\n",
    "            f.write(str+'\\n')              "
   ]
  },
  {
   "cell_type": "code",
   "execution_count": 21,
   "metadata": {},
   "outputs": [
    {
     "name": "stdout",
     "output_type": "stream",
     "text": [
      "Enter file name:samplefile\n",
      "File existing\n",
      "2 14 2\n"
     ]
    }
   ],
   "source": [
    "flname = input('Enter file name:')\n",
    "if os.path.isfile(flname):\n",
    "    print('File existing')\n",
    "else:\n",
    "    print('File not present')\n",
    "    sys.exit()\n",
    "cl = cw = cc = 0\n",
    "with open(flname,'r') as fh:\n",
    "    for line in fh:\n",
    "        word =line.split()\n",
    "        cl += 1\n",
    "        cc += len(line)\n",
    "        cw += len(word)\n",
    "print(cl,cc,cw)        "
   ]
  },
  {
   "cell_type": "code",
   "execution_count": 90,
   "metadata": {},
   "outputs": [
    {
     "name": "stdout",
     "output_type": "stream",
     "text": [
      "['iap-master# show aps', '', '2 Access Points', '---------------', 'Name               IP Address      Mode    Spectrum  Clients  Type         IPv6 Address  Mesh Role  Zone  Serial #    radio0 Channel  radio0 Power (dB)  radio0 Utilization (%)  radio0 Noise Floor (dBm)  radio1 Channel  radio1 Power (dB)  radio1 Utilization (%)  radio1 Noise Floor (dBm)  Need Antenna Config  From Port  Config Id  Config Csum  Ext SSID Active  Age            Link Local IP Address', '----               ----------      ----    --------  -------  ----         ------------  ---------  ----  --------    --------------  -----------------  ----------------------  ------------------------  --------------  -----------------  ----------------------  ------------------------  -------------------  ---------  ---------  -----------  ---------------  ---            ---------------------', 'iap-master         10.17.177.231*  access  disable   0        325(indoor)  2015:1::b     N/A        -     CNBGHN73JN  165             18                 13(good)                -94(good)                 -               -                  -                       -                         No                   none       1          24906        enable           14d:6h:2m:1s   fe80::f25c:19ff:fecb:2f6a', '18:64:72:c8:1f:ec  10.17.177.251   access  disable   0        225(indoor)  2015:1::3     N/A        -     CT0026617   165             18                 13(good)                -96(good)                 -               -                  -                       -                         No                   none       1          24906        enable           14d:6h:1m:48s  fe80::1a64:72ff:fec8:1fec', '']\n",
      "'NoneType' object has no attribute 'group'\n",
      "'NoneType' object has no attribute 'group'\n",
      "'NoneType' object has no attribute 'group'\n",
      "['iap-master# ', '2 ', 'Name ', '---- ', 'iap-master ', '18:64:72:c8:1f:ec ']\n"
     ]
    }
   ],
   "source": [
    "import re\n",
    "text = '''iap-master# show aps\n",
    "\n",
    "2 Access Points\n",
    "---------------\n",
    "Name               IP Address      Mode    Spectrum  Clients  Type         IPv6 Address  Mesh Role  Zone  Serial #    radio0 Channel  radio0 Power (dB)  radio0 Utilization (%)  radio0 Noise Floor (dBm)  radio1 Channel  radio1 Power (dB)  radio1 Utilization (%)  radio1 Noise Floor (dBm)  Need Antenna Config  From Port  Config Id  Config Csum  Ext SSID Active  Age            Link Local IP Address\n",
    "----               ----------      ----    --------  -------  ----         ------------  ---------  ----  --------    --------------  -----------------  ----------------------  ------------------------  --------------  -----------------  ----------------------  ------------------------  -------------------  ---------  ---------  -----------  ---------------  ---            ---------------------\n",
    "iap-master         10.17.177.231*  access  disable   0        325(indoor)  2015:1::b     N/A        -     CNBGHN73JN  165             18                 13(good)                -94(good)                 -               -                  -                       -                         No                   none       1          24906        enable           14d:6h:2m:1s   fe80::f25c:19ff:fecb:2f6a\n",
    "18:64:72:c8:1f:ec  10.17.177.251   access  disable   0        225(indoor)  2015:1::3     N/A        -     CT0026617   165             18                 13(good)                -96(good)                 -               -                  -                       -                         No                   none       1          24906        enable           14d:6h:1m:48s  fe80::1a64:72ff:fec8:1fec\n",
    "'''\n",
    "text = text.split('\\n')\n",
    "print(text)\n",
    "pattern = r'^.+?\\s'\n",
    "matchlist = []\n",
    "for line in text:\n",
    "    try:    \n",
    "        match = re.search(pattern,line,re.IGNORECASE)\n",
    "        matchlist.append(match.group())    \n",
    "    except Exception as e:\n",
    "        print(e)\n",
    "        pass    \n",
    "#mat = match.group()\n",
    "ip= '192.168.20.3'\n",
    "print (matchlist)"
   ]
  },
  {
   "cell_type": "code",
   "execution_count": 55,
   "metadata": {},
   "outputs": [
    {
     "data": {
      "text/plain": [
       "str"
      ]
     },
     "execution_count": 55,
     "metadata": {},
     "output_type": "execute_result"
    }
   ],
   "source": [
    "type(mat)"
   ]
  },
  {
   "cell_type": "code",
   "execution_count": 91,
   "metadata": {},
   "outputs": [
    {
     "name": "stdout",
     "output_type": "stream",
     "text": [
      "[5]\n"
     ]
    }
   ],
   "source": [
    "apmac = [1,2,3,4,5]\n",
    "print(apmac[4:])"
   ]
  },
  {
   "cell_type": "code",
   "execution_count": 92,
   "metadata": {},
   "outputs": [
    {
     "data": {
      "text/plain": [
       "[1, 2, 3, 4, 5]"
      ]
     },
     "execution_count": 92,
     "metadata": {},
     "output_type": "execute_result"
    }
   ],
   "source": [
    "apmac"
   ]
  },
  {
   "cell_type": "code",
   "execution_count": 100,
   "metadata": {},
   "outputs": [
    {
     "data": {
      "text/plain": [
       "[4, 5]"
      ]
     },
     "execution_count": 100,
     "metadata": {},
     "output_type": "execute_result"
    }
   ],
   "source": [
    "apmac[-2:]"
   ]
  },
  {
   "cell_type": "code",
   "execution_count": 114,
   "metadata": {},
   "outputs": [
    {
     "name": "stdout",
     "output_type": "stream",
     "text": [
      "'NoneType' object has no attribute 'group'\n",
      "'NoneType' object has no attribute 'group'\n",
      "'NoneType' object has no attribute 'group'\n",
      "['iap-master# ', '2 ', 'Name ', '---- ', 'iap-master ', '18:64:72:c8:1f:ec ']\n"
     ]
    }
   ],
   "source": [
    "import re\n",
    "text = '''iap-master# show aps\n",
    "\n",
    "2 Access Points\n",
    "---------------\n",
    "Name               IP Address      Mode    Spectrum  Clients  Type         IPv6 Address  Mesh Role  Zone  Serial #    radio0 Channel  radio0 Power (dB)  radio0 Utilization (%)  radio0 Noise Floor (dBm)  radio1 Channel  radio1 Power (dB)  radio1 Utilization (%)  radio1 Noise Floor (dBm)  Need Antenna Config  From Port  Config Id  Config Csum  Ext SSID Active  Age            Link Local IP Address\n",
    "----               ----------      ----    --------  -------  ----         ------------  ---------  ----  --------    --------------  -----------------  ----------------------  ------------------------  --------------  -----------------  ----------------------  ------------------------  -------------------  ---------  ---------  -----------  ---------------  ---            ---------------------\n",
    "iap-master         10.17.177.231*  access  disable   0        325(indoor)  2015:1::b     N/A        -     CNBGHN73JN  165             18                 13(good)                -94(good)                 -               -                  -                       -                         No                   none       1          24906        enable           14d:6h:2m:1s   fe80::f25c:19ff:fecb:2f6a\n",
    "18:64:72:c8:1f:ec  10.17.177.251   access  disable   0        225(indoor)  2015:1::3     N/A        -     CT0026617   165             18                 13(good)                -96(good)                 -               -                  -                       -                         No                   none       1          24906        enable           14d:6h:1m:48s  fe80::1a64:72ff:fec8:1fec\n",
    "'''\n",
    "text = text.split('\\n')\n",
    "pattern = r'^.+?\\s'\n",
    "reo = re.compile(pattern,re.IGNORECASE)\n",
    "matchlist = []\n",
    "for line in text:\n",
    "    try:\n",
    "        op = reo.search(line)\n",
    "        matchlist.append(op.group())\n",
    "    except Exception as e:\n",
    "        print(e)\n",
    "print(matchlist)    \n",
    "    "
   ]
  },
  {
   "cell_type": "code",
   "execution_count": 116,
   "metadata": {},
   "outputs": [
    {
     "data": {
      "text/plain": [
       "['iap-master ', '18:64:72:c8:1f:ec ']"
      ]
     },
     "execution_count": 116,
     "metadata": {},
     "output_type": "execute_result"
    }
   ],
   "source": [
    "matchlist[-2:]"
   ]
  },
  {
   "cell_type": "code",
   "execution_count": 120,
   "metadata": {},
   "outputs": [
    {
     "name": "stdout",
     "output_type": "stream",
     "text": [
      "array('i', [1, 2, 3, 4])\n"
     ]
    }
   ],
   "source": [
    "from array import *\n",
    "arry1 = array('i',[1,2,3,4])\n",
    "print(arry1)"
   ]
  },
  {
   "cell_type": "code",
   "execution_count": 118,
   "metadata": {},
   "outputs": [
    {
     "data": {
      "text/plain": [
       "array.array"
      ]
     },
     "execution_count": 118,
     "metadata": {},
     "output_type": "execute_result"
    }
   ],
   "source": [
    "type(arry1)"
   ]
  },
  {
   "cell_type": "code",
   "execution_count": 125,
   "metadata": {
    "collapsed": true
   },
   "outputs": [],
   "source": [
    "arry2= array('d',[1.2,3.4,5.6,7.8])"
   ]
  },
  {
   "cell_type": "code",
   "execution_count": 126,
   "metadata": {},
   "outputs": [
    {
     "name": "stdout",
     "output_type": "stream",
     "text": [
      "array('d', [1.2, 3.4, 5.6, 7.8])\n"
     ]
    }
   ],
   "source": [
    "print(arry2)"
   ]
  },
  {
   "cell_type": "code",
   "execution_count": 127,
   "metadata": {},
   "outputs": [
    {
     "name": "stdout",
     "output_type": "stream",
     "text": [
      "1.2\n",
      "3.4\n",
      "5.6\n",
      "7.8\n"
     ]
    }
   ],
   "source": [
    "for elm in arry2:\n",
    "    print(elm)"
   ]
  },
  {
   "cell_type": "code",
   "execution_count": 131,
   "metadata": {},
   "outputs": [],
   "source": [
    "arry3=array('u',['a','b','c'])"
   ]
  },
  {
   "cell_type": "code",
   "execution_count": 132,
   "metadata": {},
   "outputs": [
    {
     "name": "stdout",
     "output_type": "stream",
     "text": [
      "a\n",
      "b\n",
      "c\n"
     ]
    }
   ],
   "source": [
    "for elm in arry3:\n",
    "    print(elm)"
   ]
  },
  {
   "cell_type": "code",
   "execution_count": 135,
   "metadata": {
    "collapsed": true
   },
   "outputs": [],
   "source": [
    "arry4=array(arry1.typecode,(i*3 for i in arry1))"
   ]
  },
  {
   "cell_type": "code",
   "execution_count": 136,
   "metadata": {},
   "outputs": [
    {
     "data": {
      "text/plain": [
       "array('i', [3, 6, 9, 12])"
      ]
     },
     "execution_count": 136,
     "metadata": {},
     "output_type": "execute_result"
    }
   ],
   "source": [
    "arry4"
   ]
  },
  {
   "cell_type": "code",
   "execution_count": 137,
   "metadata": {
    "collapsed": true
   },
   "outputs": [],
   "source": [
    "arry5=array('i',[5,6,7,8,9])\n"
   ]
  },
  {
   "cell_type": "code",
   "execution_count": 142,
   "metadata": {},
   "outputs": [
    {
     "name": "stdout",
     "output_type": "stream",
     "text": [
      "5 6 7 8 9 "
     ]
    }
   ],
   "source": [
    "n=len(arry5)\n",
    "for i in range(n):\n",
    "    print(arry5[i],end=' ')"
   ]
  },
  {
   "cell_type": "code",
   "execution_count": 144,
   "metadata": {},
   "outputs": [
    {
     "name": "stdout",
     "output_type": "stream",
     "text": [
      "5\n",
      "2\n",
      "3\n",
      "4\n"
     ]
    }
   ],
   "source": [
    "lst = [5,2,3,4]\n",
    "for i in range(len(lst)):\n",
    "    print(lst[i])"
   ]
  },
  {
   "cell_type": "code",
   "execution_count": 146,
   "metadata": {},
   "outputs": [
    {
     "name": "stdout",
     "output_type": "stream",
     "text": [
      "s\n",
      "u\n",
      "m\n",
      "a\n",
      "n\n"
     ]
    }
   ],
   "source": [
    "arry5=array('u',['s','u','m','a','n'])\n",
    "for i in range(len(arry5)):\n",
    "    print(arry5[i],end='\\n')"
   ]
  },
  {
   "cell_type": "code",
   "execution_count": 148,
   "metadata": {},
   "outputs": [
    {
     "name": "stdout",
     "output_type": "stream",
     "text": [
      "4.0 3.0 5.0 8.0 4.0 "
     ]
    }
   ],
   "source": [
    "from array import *\n",
    "arry6 = array('d',[4,3,5,8,4])\n",
    "i = 0\n",
    "n = len(arry6)\n",
    "while i<n:\n",
    "    print(arry6[i],end=' ')\n",
    "    i += 1"
   ]
  },
  {
   "cell_type": "code",
   "execution_count": 161,
   "metadata": {},
   "outputs": [
    {
     "name": "stdout",
     "output_type": "stream",
     "text": [
      "Original Array: array('i', [4, 5, 3, 4, 5])\n",
      "Appended Array: array('i', [4, 5, 3, 4, 5, 7])\n",
      "Inserted Array array('i', [4, 8, 5, 3, 4, 5, 7])\n",
      "Popped up array: array('i', [4, 8, 5, 3, 4, 5])\n",
      "Sliced Array array('i', [8, 5, 3])\n",
      "[4, 8, 5, 3, 4, 5]\n"
     ]
    }
   ],
   "source": [
    "arry7=array('i',[4,5,3,4,5])\n",
    "print('Original Array:',arry7)\n",
    "\n",
    "arry7.append(7)\n",
    "print('Appended Array:',arry7)\n",
    "\n",
    "arry7.insert(1,8)\n",
    "print('Inserted Array',arry7)\n",
    "\n",
    "arry7.pop()\n",
    "print('Popped up array:',arry7)\n",
    "\n",
    "print('Sliced Array',arry7[1:4])\n",
    "\n",
    "lst1 = arry7.tolist()\n",
    "print(lst1)"
   ]
  },
  {
   "cell_type": "code",
   "execution_count": 167,
   "metadata": {},
   "outputs": [
    {
     "name": "stdout",
     "output_type": "stream",
     "text": [
      "Enter number of marks:10 20 30\n",
      "['10', '20', '30']\n",
      "[10, 20, 30]\n",
      "Total marks:60\n",
      "Percentage:20\n"
     ]
    }
   ],
   "source": [
    "str = input('Enter number of marks:').split(' ')\n",
    "print(str)\n",
    "marks = [int(num) for num in str]\n",
    "print(marks)\n",
    "sum = 0\n",
    "for i in marks:\n",
    "    sum += i\n",
    "print('Total marks:%d'%sum)   \n",
    "percentage = sum/len(marks)\n",
    "print('Percentage:%d'%percentage)"
   ]
  },
  {
   "cell_type": "code",
   "execution_count": 175,
   "metadata": {},
   "outputs": [
    {
     "name": "stdout",
     "output_type": "stream",
     "text": [
      "Enter number of elements:3\n",
      "Enter element:010\n",
      "Enter element:130\n",
      "Enter element:25\n",
      "array('i', [5, 10, 30])\n"
     ]
    }
   ],
   "source": [
    "#bubble sort algorithm\n",
    "x = array('i',[])#Empty array has taken\n",
    "print('Enter number of elements:',end='')\n",
    "n = int(input())\n",
    "for i in range(n):\n",
    "    num = int(input('Enter element:%d'%i))\n",
    "    x.append(num)\n",
    "flag = False\n",
    "for i in range(n-1):\n",
    "    for j in range(n-1-i):\n",
    "        if x[j]>x[j+1]:\n",
    "            t = x[j]\n",
    "            x[j] = x[j+1]\n",
    "            x[j+1] = t\n",
    "            flag = True\n",
    "    if flag == False:\n",
    "        print('Already in order')\n",
    "    else:\n",
    "        flag == False\n",
    "print(x)        \n",
    "        \n",
    "            \n",
    "    "
   ]
  },
  {
   "cell_type": "code",
   "execution_count": 179,
   "metadata": {},
   "outputs": [
    {
     "data": {
      "text/plain": [
       "matrix([[1, 2, 3],\n",
       "        [4, 5, 6]])"
      ]
     },
     "execution_count": 179,
     "metadata": {},
     "output_type": "execute_result"
    }
   ],
   "source": [
    "from numpy import *\n",
    "a = matrix('1,2,3;4,5,6')\n",
    "a"
   ]
  },
  {
   "cell_type": "code",
   "execution_count": 180,
   "metadata": {
    "collapsed": true
   },
   "outputs": [],
   "source": [
    "a = matrix([[4,5,6],[0,1,2]])"
   ]
  },
  {
   "cell_type": "code",
   "execution_count": 181,
   "metadata": {},
   "outputs": [
    {
     "data": {
      "text/plain": [
       "matrix([[4, 5, 6],\n",
       "        [0, 1, 2]])"
      ]
     },
     "execution_count": 181,
     "metadata": {},
     "output_type": "execute_result"
    }
   ],
   "source": [
    "a"
   ]
  },
  {
   "cell_type": "code",
   "execution_count": 186,
   "metadata": {},
   "outputs": [
    {
     "name": "stdout",
     "output_type": "stream",
     "text": [
      "Enter row and col:2 3\n",
      "Enter elements of matrix1 2 3 4 5 6\n"
     ]
    },
    {
     "ename": "TypeError",
     "evalue": "reshape() missing 1 required positional argument: 'newshape'",
     "output_type": "error",
     "traceback": [
      "\u001b[1;31m---------------------------------------------------------------------------\u001b[0m",
      "\u001b[1;31mTypeError\u001b[0m                                 Traceback (most recent call last)",
      "\u001b[1;32m<ipython-input-186-bd937a162cc4>\u001b[0m in \u001b[0;36m<module>\u001b[1;34m()\u001b[0m\n\u001b[0;32m      1\u001b[0m \u001b[0mr\u001b[0m\u001b[1;33m,\u001b[0m\u001b[0mc\u001b[0m\u001b[1;33m=\u001b[0m\u001b[1;33m[\u001b[0m\u001b[0mint\u001b[0m\u001b[1;33m(\u001b[0m\u001b[0mnum\u001b[0m\u001b[1;33m)\u001b[0m \u001b[1;32mfor\u001b[0m \u001b[0mnum\u001b[0m \u001b[1;32min\u001b[0m \u001b[0minput\u001b[0m\u001b[1;33m(\u001b[0m\u001b[1;34m'Enter row and col:'\u001b[0m\u001b[1;33m)\u001b[0m\u001b[1;33m.\u001b[0m\u001b[0msplit\u001b[0m\u001b[1;33m(\u001b[0m\u001b[1;33m)\u001b[0m\u001b[1;33m]\u001b[0m\u001b[1;33m\u001b[0m\u001b[0m\n\u001b[0;32m      2\u001b[0m \u001b[0mstr\u001b[0m \u001b[1;33m=\u001b[0m \u001b[0minput\u001b[0m\u001b[1;33m(\u001b[0m\u001b[1;34m'Enter elements of matrix'\u001b[0m\u001b[1;33m)\u001b[0m\u001b[1;33m\u001b[0m\u001b[0m\n\u001b[1;32m----> 3\u001b[1;33m \u001b[0mx\u001b[0m \u001b[1;33m=\u001b[0m \u001b[0mmatrix\u001b[0m\u001b[1;33m(\u001b[0m\u001b[0mreshape\u001b[0m\u001b[1;33m(\u001b[0m\u001b[0mstr\u001b[0m\u001b[1;33m)\u001b[0m\u001b[1;33m,\u001b[0m\u001b[1;33m(\u001b[0m\u001b[0mr\u001b[0m\u001b[1;33m,\u001b[0m\u001b[0mc\u001b[0m\u001b[1;33m)\u001b[0m\u001b[1;33m)\u001b[0m\u001b[1;33m\u001b[0m\u001b[0m\n\u001b[0m\u001b[0;32m      4\u001b[0m \u001b[0mprint\u001b[0m\u001b[1;33m(\u001b[0m\u001b[0mx\u001b[0m\u001b[1;33m)\u001b[0m\u001b[1;33m\u001b[0m\u001b[0m\n",
      "\u001b[1;31mTypeError\u001b[0m: reshape() missing 1 required positional argument: 'newshape'"
     ]
    }
   ],
   "source": [
    "r,c=[int(num) for num in input('Enter row and col:').split()]\n",
    "str = input('Enter elements of matrix')\n",
    "x = matrix(reshape(str),(r,c))\n",
    "print(x)"
   ]
  },
  {
   "cell_type": "code",
   "execution_count": 191,
   "metadata": {},
   "outputs": [
    {
     "ename": "TypeError",
     "evalue": "unsupported operand type(s) for -: 'str' and 'int'",
     "output_type": "error",
     "traceback": [
      "\u001b[1;31m---------------------------------------------------------------------------\u001b[0m",
      "\u001b[1;31mTypeError\u001b[0m                                 Traceback (most recent call last)",
      "\u001b[1;32m<ipython-input-191-b5b123c4cdb9>\u001b[0m in \u001b[0;36m<module>\u001b[1;34m()\u001b[0m\n\u001b[0;32m      1\u001b[0m \u001b[0mstr\u001b[0m \u001b[1;33m=\u001b[0m \u001b[1;34m'1 2 3 4 5 6'\u001b[0m\u001b[1;33m\u001b[0m\u001b[0m\n\u001b[1;32m----> 2\u001b[1;33m \u001b[0mx\u001b[0m \u001b[1;33m=\u001b[0m \u001b[1;33m(\u001b[0m\u001b[0marange\u001b[0m\u001b[1;33m(\u001b[0m\u001b[0mstr\u001b[0m\u001b[1;33m)\u001b[0m\u001b[1;33m,\u001b[0m\u001b[0mreshape\u001b[0m\u001b[1;33m(\u001b[0m\u001b[1;36m2\u001b[0m\u001b[1;33m,\u001b[0m\u001b[1;36m3\u001b[0m\u001b[1;33m)\u001b[0m\u001b[1;33m)\u001b[0m\u001b[1;33m\u001b[0m\u001b[0m\n\u001b[0m",
      "\u001b[1;31mTypeError\u001b[0m: unsupported operand type(s) for -: 'str' and 'int'"
     ]
    }
   ],
   "source": [
    "str = '1 2 3 4 5 6'\n",
    "x = (arange(str),reshape(2,3))"
   ]
  },
  {
   "cell_type": "code",
   "execution_count": 192,
   "metadata": {},
   "outputs": [
    {
     "data": {
      "text/plain": [
       "matrix([[1, 2, 3],\n",
       "        [4, 5, 6]])"
      ]
     },
     "execution_count": 192,
     "metadata": {},
     "output_type": "execute_result"
    }
   ],
   "source": [
    "from numpy import *\n",
    "m1 = matrix([[1,2,3],[4,5,6]])\n",
    "m1"
   ]
  },
  {
   "cell_type": "code",
   "execution_count": 225,
   "metadata": {},
   "outputs": [
    {
     "data": {
      "text/plain": [
       "matrix([[1, 2, 3],\n",
       "        [4, 5, 6]])"
      ]
     },
     "execution_count": 225,
     "metadata": {},
     "output_type": "execute_result"
    }
   ],
   "source": [
    "from numpy import *\n",
    "m2 = matrix('1,2,3; 4,5,6')\n",
    "m2"
   ]
  },
  {
   "cell_type": "code",
   "execution_count": 199,
   "metadata": {},
   "outputs": [
    {
     "data": {
      "text/plain": [
       "matrix([[1, 2, 3],\n",
       "        [4, 5, 6]])"
      ]
     },
     "execution_count": 199,
     "metadata": {},
     "output_type": "execute_result"
    }
   ],
   "source": [
    "m3 = matrix(arange(1,7).reshape(2,3))\n",
    "m3"
   ]
  },
  {
   "cell_type": "code",
   "execution_count": 198,
   "metadata": {},
   "outputs": [
    {
     "data": {
      "text/plain": [
       "array([6, 7, 8, 9])"
      ]
     },
     "execution_count": 198,
     "metadata": {},
     "output_type": "execute_result"
    }
   ],
   "source": [
    "m4 = arange(6,10)\n",
    "m4"
   ]
  },
  {
   "cell_type": "code",
   "execution_count": 200,
   "metadata": {},
   "outputs": [
    {
     "data": {
      "text/plain": [
       "array([ 6, 10, 10,  9])"
      ]
     },
     "execution_count": 200,
     "metadata": {},
     "output_type": "execute_result"
    }
   ],
   "source": [
    "m4[1:3]= 10\n",
    "m4"
   ]
  },
  {
   "cell_type": "code",
   "execution_count": 212,
   "metadata": {},
   "outputs": [
    {
     "data": {
      "text/plain": [
       "array([1, 2, 3, 4, 5])"
      ]
     },
     "execution_count": 212,
     "metadata": {},
     "output_type": "execute_result"
    }
   ],
   "source": [
    "#broadcasting\n",
    "m5 = arange(1,6)\n",
    "m5"
   ]
  },
  {
   "cell_type": "code",
   "execution_count": 214,
   "metadata": {},
   "outputs": [
    {
     "data": {
      "text/plain": [
       "array([10, 10, 10, 10, 10])"
      ]
     },
     "execution_count": 214,
     "metadata": {},
     "output_type": "execute_result"
    }
   ],
   "source": [
    "m5[0:5] = 10\n",
    "m5"
   ]
  },
  {
   "cell_type": "code",
   "execution_count": 228,
   "metadata": {},
   "outputs": [
    {
     "data": {
      "text/plain": [
       "matrix([[0, 1],\n",
       "        [2, 3],\n",
       "        [4, 5]])"
      ]
     },
     "execution_count": 228,
     "metadata": {},
     "output_type": "execute_result"
    }
   ],
   "source": [
    "m6 = matrix(arange(6).reshape(3,2))\n",
    "m6"
   ]
  },
  {
   "cell_type": "code",
   "execution_count": 226,
   "metadata": {},
   "outputs": [
    {
     "data": {
      "text/plain": [
       "matrix([[1, 2],\n",
       "        [3, 4],\n",
       "        [5, 6]])"
      ]
     },
     "execution_count": 226,
     "metadata": {},
     "output_type": "execute_result"
    }
   ],
   "source": [
    "str = '1 2 3 4 5 6'\n",
    "m7 = reshape(matrix(str),(3,2))\n",
    "m7"
   ]
  },
  {
   "cell_type": "code",
   "execution_count": 234,
   "metadata": {},
   "outputs": [
    {
     "name": "stdout",
     "output_type": "stream",
     "text": [
      "Enter 1st matrix row and column2 3\n",
      "Enter 2nd matrix row and column3 2\n",
      "Enter elements of 1st matrix1 2 3 4 5 6\n",
      "Enter elements of 2nd matrix1 2 3 4 5 6\n"
     ]
    },
    {
     "data": {
      "text/plain": [
       "matrix([[22, 28],\n",
       "        [49, 64]])"
      ]
     },
     "execution_count": 234,
     "metadata": {},
     "output_type": "execute_result"
    }
   ],
   "source": [
    "#Multiplication of two matrix\n",
    "r1,c1 = [int(num) for num in input('Enter 1st matrix row and column').split()]\n",
    "r2,c2 = [int(num) for num in input('Enter 2nd matrix row and column').split()]\n",
    "\n",
    "str1 = input('Enter elements of 1st matrix')\n",
    "str2 = input('Enter elements of 2nd matrix')\n",
    "import sys\n",
    "if c1 != r2:\n",
    "    print('Not able to multiply')\n",
    "    sys.exit()\n",
    "m1 = reshape(matrix(str1),(r1,c1))\n",
    "m2 = reshape(matrix(str2),(r2,c2))\n",
    "m3 = m1 * m2\n",
    "m3"
   ]
  },
  {
   "cell_type": "markdown",
   "metadata": {},
   "source": [
    "print ('suman')"
   ]
  },
  {
   "cell_type": "code",
   "execution_count": 288,
   "metadata": {},
   "outputs": [
    {
     "data": {
      "text/plain": [
       "3"
      ]
     },
     "execution_count": 288,
     "metadata": {},
     "output_type": "execute_result"
    }
   ],
   "source": [
    "from numpy import *\n",
    "random.randint(4)"
   ]
  },
  {
   "cell_type": "code",
   "execution_count": 291,
   "metadata": {},
   "outputs": [
    {
     "data": {
      "text/plain": [
       "matrix([[22, 28],\n",
       "        [49, 64]])"
      ]
     },
     "execution_count": 291,
     "metadata": {},
     "output_type": "execute_result"
    }
   ],
   "source": [
    "m3"
   ]
  },
  {
   "cell_type": "code",
   "execution_count": 301,
   "metadata": {},
   "outputs": [
    {
     "data": {
      "text/plain": [
       "matrix([[22, 49],\n",
       "        [28, 64]])"
      ]
     },
     "execution_count": 301,
     "metadata": {},
     "output_type": "execute_result"
    }
   ],
   "source": [
    "m3.getT()"
   ]
  },
  {
   "cell_type": "code",
   "execution_count": 302,
   "metadata": {},
   "outputs": [
    {
     "data": {
      "text/plain": [
       "22"
      ]
     },
     "execution_count": 302,
     "metadata": {},
     "output_type": "execute_result"
    }
   ],
   "source": [
    "m3.min()"
   ]
  },
  {
   "cell_type": "code",
   "execution_count": 303,
   "metadata": {},
   "outputs": [
    {
     "data": {
      "text/plain": [
       "64"
      ]
     },
     "execution_count": 303,
     "metadata": {},
     "output_type": "execute_result"
    }
   ],
   "source": [
    "m3.max()"
   ]
  },
  {
   "cell_type": "code",
   "execution_count": 307,
   "metadata": {},
   "outputs": [
    {
     "data": {
      "text/plain": [
       "array([0, 1, 2, 3, 4, 5, 6, 7, 8, 9])"
      ]
     },
     "execution_count": 307,
     "metadata": {},
     "output_type": "execute_result"
    }
   ],
   "source": [
    "m1 = arange(10)\n",
    "m1"
   ]
  },
  {
   "cell_type": "code",
   "execution_count": 311,
   "metadata": {},
   "outputs": [
    {
     "data": {
      "text/plain": [
       "matrix([[0, 1, 2, 3, 4],\n",
       "        [5, 6, 7, 8, 9]])"
      ]
     },
     "execution_count": 311,
     "metadata": {},
     "output_type": "execute_result"
    }
   ],
   "source": [
    "m2 = reshape(matrix(m1),(2,5))\n",
    "m2          "
   ]
  },
  {
   "cell_type": "code",
   "execution_count": 309,
   "metadata": {},
   "outputs": [
    {
     "data": {
      "text/plain": [
       "matrix([[0, 1, 2, 3, 4],\n",
       "        [5, 6, 7, 8, 9]])"
      ]
     },
     "execution_count": 309,
     "metadata": {},
     "output_type": "execute_result"
    }
   ],
   "source": [
    "m3 = matrix(arange(10).reshape(2,5))\n",
    "m3"
   ]
  },
  {
   "cell_type": "code",
   "execution_count": 313,
   "metadata": {},
   "outputs": [
    {
     "data": {
      "text/plain": [
       "array('i', [1, 2, 3, 4, 5])"
      ]
     },
     "execution_count": 313,
     "metadata": {},
     "output_type": "execute_result"
    }
   ],
   "source": [
    "#Copying one array form another\n",
    "from array import *\n",
    "arry1 = array('i',[1,2,3,4,5])\n",
    "arry1"
   ]
  },
  {
   "cell_type": "code",
   "execution_count": 316,
   "metadata": {},
   "outputs": [
    {
     "data": {
      "text/plain": [
       "array('i', [3, 6, 9, 12, 15])"
      ]
     },
     "execution_count": 316,
     "metadata": {},
     "output_type": "execute_result"
    }
   ],
   "source": [
    "arry2 = array(arry1.typecode,(i*3 for i in arry1))\n",
    "arry2"
   ]
  },
  {
   "cell_type": "code",
   "execution_count": 324,
   "metadata": {},
   "outputs": [
    {
     "data": {
      "text/plain": [
       "array('i', [4, 7, 10, 13, 16])"
      ]
     },
     "execution_count": 324,
     "metadata": {},
     "output_type": "execute_result"
    }
   ],
   "source": [
    "arry3 = array(arry2.typecode,(i+1 for i in arry2))\n",
    "arry3"
   ]
  },
  {
   "cell_type": "code",
   "execution_count": 325,
   "metadata": {},
   "outputs": [
    {
     "data": {
      "text/plain": [
       "matrix([[1, 2, 3],\n",
       "        [4, 5, 6]])"
      ]
     },
     "execution_count": 325,
     "metadata": {},
     "output_type": "execute_result"
    }
   ],
   "source": [
    "from numpy import *\n",
    "m1 = matrix([[1,2,3],[4,5,6]])\n",
    "m1"
   ]
  },
  {
   "cell_type": "code",
   "execution_count": 326,
   "metadata": {},
   "outputs": [
    {
     "name": "stdout",
     "output_type": "stream",
     "text": [
      "[[1 2 3]]\n",
      "[[4 5 6]]\n"
     ]
    }
   ],
   "source": [
    "for i in m1:\n",
    "    print (i)"
   ]
  },
  {
   "cell_type": "code",
   "execution_count": 327,
   "metadata": {},
   "outputs": [
    {
     "data": {
      "text/plain": [
       "matrix([[1, 2, 3],\n",
       "        [4, 5, 6]])"
      ]
     },
     "execution_count": 327,
     "metadata": {},
     "output_type": "execute_result"
    }
   ],
   "source": [
    "m2 = matrix('1,2,3;4,5,6')\n",
    "m2"
   ]
  },
  {
   "cell_type": "code",
   "execution_count": 329,
   "metadata": {},
   "outputs": [
    {
     "data": {
      "text/plain": [
       "matrix([[0, 1, 2, 3, 4],\n",
       "        [5, 6, 7, 8, 9]])"
      ]
     },
     "execution_count": 329,
     "metadata": {},
     "output_type": "execute_result"
    }
   ],
   "source": [
    "m3=matrix(arange(10).reshape(2,5))\n",
    "m3"
   ]
  },
  {
   "cell_type": "code",
   "execution_count": 339,
   "metadata": {},
   "outputs": [
    {
     "data": {
      "text/plain": [
       "matrix([[0, 1, 2],\n",
       "        [3, 4, 5]])"
      ]
     },
     "execution_count": 339,
     "metadata": {},
     "output_type": "execute_result"
    }
   ],
   "source": [
    "from numpy import *\n",
    "str = '1,2,3,4,5,6'\n",
    "m4 = reshape(matrix(arange(6)),(2,3))\n",
    "m4"
   ]
  },
  {
   "cell_type": "code",
   "execution_count": 343,
   "metadata": {},
   "outputs": [
    {
     "data": {
      "text/plain": [
       "array('i', [0, 1, 2, 3, 4])"
      ]
     },
     "execution_count": 343,
     "metadata": {},
     "output_type": "execute_result"
    }
   ],
   "source": [
    "from numpy import *\n",
    "from array import *\n",
    "a1 = array('i',arange(5))\n",
    "a1"
   ]
  },
  {
   "cell_type": "code",
   "execution_count": 345,
   "metadata": {},
   "outputs": [
    {
     "data": {
      "text/plain": [
       "array('i', [2, 3, 4, 5, 6])"
      ]
     },
     "execution_count": 345,
     "metadata": {},
     "output_type": "execute_result"
    }
   ],
   "source": [
    "from numpy import *\n",
    "from array import *\n",
    "a2 = array(arry1.typecode,(i+1 for i in arry1))\n",
    "a2"
   ]
  },
  {
   "cell_type": "code",
   "execution_count": 348,
   "metadata": {},
   "outputs": [
    {
     "data": {
      "text/plain": [
       "matrix([[0, 1, 2, 3, 4],\n",
       "        [5, 6, 7, 8, 9]])"
      ]
     },
     "execution_count": 348,
     "metadata": {},
     "output_type": "execute_result"
    }
   ],
   "source": [
    "from numpy import *\n",
    "m1 = matrix(arange(10).reshape(2,5))\n",
    "m1"
   ]
  },
  {
   "cell_type": "code",
   "execution_count": 349,
   "metadata": {},
   "outputs": [
    {
     "data": {
      "text/plain": [
       "matrix([[0, 1, 2, 3, 4],\n",
       "        [5, 6, 7, 8, 9]])"
      ]
     },
     "execution_count": 349,
     "metadata": {},
     "output_type": "execute_result"
    }
   ],
   "source": [
    "from numpy import *\n",
    "m2 = reshape(matrix(arange(10)),(2,5))\n",
    "m2"
   ]
  },
  {
   "cell_type": "code",
   "execution_count": 357,
   "metadata": {},
   "outputs": [
    {
     "data": {
      "text/plain": [
       "matrix([[1, 2, 3],\n",
       "        [4, 5, 6]])"
      ]
     },
     "execution_count": 357,
     "metadata": {},
     "output_type": "execute_result"
    }
   ],
   "source": [
    "from numpy import *\n",
    "#from array import *\n",
    "str = array([1,2,3,4,5,6])\n",
    "m1 = matrix(str.reshape(2,3))\n",
    "m1"
   ]
  },
  {
   "cell_type": "code",
   "execution_count": 354,
   "metadata": {},
   "outputs": [
    {
     "data": {
      "text/plain": [
       "array([0, 1, 2, 3, 4, 5, 6, 7, 8, 9])"
      ]
     },
     "execution_count": 354,
     "metadata": {},
     "output_type": "execute_result"
    }
   ],
   "source": [
    "a1 = arange(10)\n",
    "a1"
   ]
  },
  {
   "cell_type": "code",
   "execution_count": 358,
   "metadata": {},
   "outputs": [
    {
     "data": {
      "text/plain": [
       "numpy.ndarray"
      ]
     },
     "execution_count": 358,
     "metadata": {},
     "output_type": "execute_result"
    }
   ],
   "source": [
    "type(str)"
   ]
  },
  {
   "cell_type": "code",
   "execution_count": 359,
   "metadata": {},
   "outputs": [
    {
     "data": {
      "text/plain": [
       "matrix([[1, 2, 3],\n",
       "        [4, 5, 6]])"
      ]
     },
     "execution_count": 359,
     "metadata": {},
     "output_type": "execute_result"
    }
   ],
   "source": [
    "from numpy import *\n",
    "str = array([1,2,3,4,5,6])\n",
    "m1 = matrix(str.reshape(2,3))\n",
    "m1"
   ]
  },
  {
   "cell_type": "code",
   "execution_count": 363,
   "metadata": {},
   "outputs": [
    {
     "data": {
      "text/plain": [
       "matrix([[1, 2, 3],\n",
       "        [4, 4, 6]])"
      ]
     },
     "execution_count": 363,
     "metadata": {},
     "output_type": "execute_result"
    }
   ],
   "source": [
    "from numpy import *\n",
    "str = '1,2,3,4,4,6'\n",
    "m2= reshape(matrix(str),(2,3))\n",
    "m2"
   ]
  },
  {
   "cell_type": "code",
   "execution_count": 365,
   "metadata": {},
   "outputs": [
    {
     "data": {
      "text/plain": [
       "array.array"
      ]
     },
     "execution_count": 365,
     "metadata": {},
     "output_type": "execute_result"
    }
   ],
   "source": [
    "from array import *\n",
    "arry1 = array('i',[1,2,3,4,5,6])\n",
    "type(arry1)"
   ]
  },
  {
   "cell_type": "code",
   "execution_count": 366,
   "metadata": {},
   "outputs": [
    {
     "data": {
      "text/plain": [
       "numpy.ndarray"
      ]
     },
     "execution_count": 366,
     "metadata": {},
     "output_type": "execute_result"
    }
   ],
   "source": [
    "from numpy import *\n",
    "arry2 = array([1,2,3,4,5,6])\n",
    "type(arry2)"
   ]
  },
  {
   "cell_type": "code",
   "execution_count": 369,
   "metadata": {},
   "outputs": [
    {
     "data": {
      "text/plain": [
       "matrix([[0, 1, 2, 3, 4],\n",
       "        [5, 6, 7, 8, 9]])"
      ]
     },
     "execution_count": 369,
     "metadata": {},
     "output_type": "execute_result"
    }
   ],
   "source": [
    "from numpy import *\n",
    "m1 = matrix(arange(10).reshape(2,5))\n",
    "m1"
   ]
  },
  {
   "cell_type": "code",
   "execution_count": 375,
   "metadata": {},
   "outputs": [
    {
     "data": {
      "text/plain": [
       "matrix([[1, 2, 3],\n",
       "        [4, 5, 6]])"
      ]
     },
     "execution_count": 375,
     "metadata": {},
     "output_type": "execute_result"
    }
   ],
   "source": [
    "str = '1,2,3,4,5,6'\n",
    "m2 = reshape(matrix(str),(2,3))\n",
    "m2"
   ]
  },
  {
   "cell_type": "code",
   "execution_count": 387,
   "metadata": {},
   "outputs": [
    {
     "ename": "TypeError",
     "evalue": "array() argument 1 must be a unicode character, not list",
     "output_type": "error",
     "traceback": [
      "\u001b[1;31m---------------------------------------------------------------------------\u001b[0m",
      "\u001b[1;31mTypeError\u001b[0m                                 Traceback (most recent call last)",
      "\u001b[1;32m<ipython-input-387-14988009eab1>\u001b[0m in \u001b[0;36m<module>\u001b[1;34m()\u001b[0m\n\u001b[0;32m      3\u001b[0m \u001b[1;32mfrom\u001b[0m \u001b[0mnumpy\u001b[0m \u001b[1;32mimport\u001b[0m \u001b[1;33m*\u001b[0m\u001b[1;33m\u001b[0m\u001b[0m\n\u001b[0;32m      4\u001b[0m \u001b[1;32mfrom\u001b[0m \u001b[0marray\u001b[0m \u001b[1;32mimport\u001b[0m \u001b[1;33m*\u001b[0m\u001b[1;33m\u001b[0m\u001b[0m\n\u001b[1;32m----> 5\u001b[1;33m \u001b[0mmarks\u001b[0m \u001b[1;33m=\u001b[0m \u001b[0marray\u001b[0m\u001b[1;33m(\u001b[0m\u001b[1;33m[\u001b[0m\u001b[1;36m1\u001b[0m\u001b[1;33m,\u001b[0m\u001b[1;36m2\u001b[0m\u001b[1;33m,\u001b[0m\u001b[1;36m3\u001b[0m\u001b[1;33m]\u001b[0m\u001b[1;33m)\u001b[0m\u001b[1;33m\u001b[0m\u001b[0m\n\u001b[0m",
      "\u001b[1;31mTypeError\u001b[0m: array() argument 1 must be a unicode character, not list"
     ]
    }
   ],
   "source": [
    "#Single dimensional array\n",
    "#Multi dimensional array\n",
    "from numpy import *\n",
    "from array import *\n",
    "marks = array([1,2,3])"
   ]
  },
  {
   "cell_type": "code",
   "execution_count": 389,
   "metadata": {},
   "outputs": [
    {
     "ename": "TypeError",
     "evalue": "data type not understood",
     "output_type": "error",
     "traceback": [
      "\u001b[1;31m---------------------------------------------------------------------------\u001b[0m",
      "\u001b[1;31mTypeError\u001b[0m                                 Traceback (most recent call last)",
      "\u001b[1;32m<ipython-input-389-bf4612675e60>\u001b[0m in \u001b[0;36m<module>\u001b[1;34m()\u001b[0m\n\u001b[0;32m      1\u001b[0m \u001b[1;32mfrom\u001b[0m \u001b[0mnumpy\u001b[0m \u001b[1;32mimport\u001b[0m \u001b[1;33m*\u001b[0m\u001b[1;33m\u001b[0m\u001b[0m\n\u001b[0;32m      2\u001b[0m marks = array([1,2,3],\n\u001b[1;32m----> 3\u001b[1;33m               [4,5,6])\n\u001b[0m",
      "\u001b[1;31mTypeError\u001b[0m: data type not understood"
     ]
    }
   ],
   "source": [
    "from numpy import *\n",
    "marks = array([1,2,3],\n",
    "              [4,5,6])"
   ]
  },
  {
   "cell_type": "code",
   "execution_count": 400,
   "metadata": {},
   "outputs": [
    {
     "name": "stdout",
     "output_type": "stream",
     "text": [
      "Enter number of elemants:3\n",
      "Enter elemant:10\n",
      "Enter elemant:20\n",
      "Enter elemant:30\n",
      "Original array: array('i', [10, 20, 30])\n",
      "Enter element to search:40\n",
      "Not found in the array\n",
      "Not found in the array\n",
      "Not found in the array\n"
     ]
    }
   ],
   "source": [
    "from array import *\n",
    "x = array('i',[])\n",
    "num = input('Enter number of elemants:')\n",
    "num = int(num)\n",
    "\n",
    "for i in range(num):\n",
    "    elm = int(input('Enter elemant:'))\n",
    "    x.append(elm)\n",
    "print ('Original array:',x)\n",
    "\n",
    "elm1 = int(input('Enter element to search:'))\n",
    "flag = False\n",
    "ln = len(x)\n",
    "for i in range(ln):\n",
    "    if elm1 == x[i]:\n",
    "        print ('Found at position:',i+1)\n",
    "        flag = True\n",
    "    if flag == False:\n",
    "        print ('Not found in the array')  "
   ]
  },
  {
   "cell_type": "code",
   "execution_count": 402,
   "metadata": {},
   "outputs": [
    {
     "data": {
      "text/plain": [
       "array([  0. ,   2.5,   5. ,   7.5,  10. ])"
      ]
     },
     "execution_count": 402,
     "metadata": {},
     "output_type": "execute_result"
    }
   ],
   "source": [
    "from numpy import *\n",
    "a = linspace(0,10,5)\n",
    "a"
   ]
  },
  {
   "cell_type": "code",
   "execution_count": 405,
   "metadata": {},
   "outputs": [
    {
     "data": {
      "text/plain": [
       "array([  1.00000000e+01,   1.00000000e+02,   1.00000000e+03,\n",
       "         1.00000000e+04,   1.00000000e+05])"
      ]
     },
     "execution_count": 405,
     "metadata": {},
     "output_type": "execute_result"
    }
   ],
   "source": [
    "b = logspace(1,5,5)\n",
    "b"
   ]
  },
  {
   "cell_type": "code",
   "execution_count": 407,
   "metadata": {},
   "outputs": [
    {
     "data": {
      "text/plain": [
       "array([  1.  ,   3.25,   5.5 ,   7.75,  10.  ])"
      ]
     },
     "execution_count": 407,
     "metadata": {},
     "output_type": "execute_result"
    }
   ],
   "source": [
    "from numpy import *\n",
    "l1 = linspace(1,10,5)\n",
    "l1"
   ]
  },
  {
   "cell_type": "code",
   "execution_count": 408,
   "metadata": {},
   "outputs": [
    {
     "data": {
      "text/plain": [
       "array([  1.00000000e+01,   1.00000000e+02,   1.00000000e+03,\n",
       "         1.00000000e+04,   1.00000000e+05])"
      ]
     },
     "execution_count": 408,
     "metadata": {},
     "output_type": "execute_result"
    }
   ],
   "source": [
    "l2 = logspace(1,5,5)\n",
    "l2"
   ]
  },
  {
   "cell_type": "code",
   "execution_count": 411,
   "metadata": {},
   "outputs": [
    {
     "data": {
      "text/plain": [
       "array([2, 4, 6, 8])"
      ]
     },
     "execution_count": 411,
     "metadata": {},
     "output_type": "execute_result"
    }
   ],
   "source": [
    "from numpy import *\n",
    "a = arange(2,10,2)\n",
    "a"
   ]
  },
  {
   "cell_type": "code",
   "execution_count": 415,
   "metadata": {},
   "outputs": [
    {
     "name": "stdout",
     "output_type": "stream",
     "text": [
      "1 3 5 7 9 11 13 15 17 19 "
     ]
    }
   ],
   "source": [
    "#Odd numbers in single step\n",
    "a = arange(1,20,2)\n",
    "for i in a:  \n",
    "    print (i,end=' ')"
   ]
  },
  {
   "cell_type": "code",
   "execution_count": 418,
   "metadata": {},
   "outputs": [
    {
     "name": "stdout",
     "output_type": "stream",
     "text": [
      "2 4 6 8 "
     ]
    }
   ],
   "source": [
    "#Even numbers in single step\n",
    "from numpy import *\n",
    "e = arange(2,10,2)\n",
    "i = 0\n",
    "while i<len(e):\n",
    "    print(e[i],end= ' ')\n",
    "    i += 1"
   ]
  },
  {
   "cell_type": "code",
   "execution_count": 459,
   "metadata": {},
   "outputs": [],
   "source": [
    "class duck(object):\n",
    "    def talk(self):\n",
    "        print ('Quack...Quack!!!!')\n",
    "        \n",
    "class dog(object):\n",
    "    def bark(self):\n",
    "        print('Bow..Bow..!!!')\n",
    "    @staticmethod\n",
    "    def method(obj):\n",
    "        if hasattr(obj,'talk'):\n",
    "            obj.talk()\n",
    "        if hasattr(obj,'bark'):\n",
    "            obj.bark()"
   ]
  },
  {
   "cell_type": "code",
   "execution_count": 460,
   "metadata": {},
   "outputs": [],
   "source": [
    "d = duck()"
   ]
  },
  {
   "cell_type": "code",
   "execution_count": 461,
   "metadata": {},
   "outputs": [
    {
     "name": "stdout",
     "output_type": "stream",
     "text": [
      "Quack...Quack!!!!\n"
     ]
    }
   ],
   "source": [
    "method(d)"
   ]
  },
  {
   "cell_type": "code",
   "execution_count": 462,
   "metadata": {},
   "outputs": [],
   "source": [
    "d1 = dog()"
   ]
  },
  {
   "cell_type": "code",
   "execution_count": 463,
   "metadata": {},
   "outputs": [
    {
     "name": "stdout",
     "output_type": "stream",
     "text": [
      "Bow..Bow..!!!\n"
     ]
    }
   ],
   "source": [
    "method(d1)"
   ]
  },
  {
   "cell_type": "code",
   "execution_count": 471,
   "metadata": {
    "collapsed": true
   },
   "outputs": [],
   "source": [
    "class man:\n",
    "    def talking(self):\n",
    "        print('ho ...How  r u!!!!')\n",
    "class cat():\n",
    "    def talk(self):\n",
    "        print ('Meooo...Meoo!!!!!')\n",
    "   \n",
    "def methd(obj):\n",
    "    if hasattr(obj,'talking'):\n",
    "        obj.talking()\n",
    "    if hasattr(obj,'talk'):\n",
    "        obj.talk()"
   ]
  },
  {
   "cell_type": "code",
   "execution_count": 487,
   "metadata": {},
   "outputs": [
    {
     "data": {
      "text/plain": [
       "True"
      ]
     },
     "execution_count": 487,
     "metadata": {},
     "output_type": "execute_result"
    }
   ],
   "source": [
    "m = man()\n",
    "c = cat()\n",
    "isinstance(c,cat)"
   ]
  },
  {
   "cell_type": "code",
   "execution_count": 473,
   "metadata": {},
   "outputs": [
    {
     "name": "stdout",
     "output_type": "stream",
     "text": [
      "ho ...How  r u!!!!\n"
     ]
    }
   ],
   "source": [
    "methd(m)"
   ]
  },
  {
   "cell_type": "code",
   "execution_count": 474,
   "metadata": {},
   "outputs": [
    {
     "name": "stdout",
     "output_type": "stream",
     "text": [
      "Meooo...Meoo!!!!!\n"
     ]
    }
   ],
   "source": [
    "methd(c)"
   ]
  },
  {
   "cell_type": "code",
   "execution_count": 479,
   "metadata": {
    "collapsed": true
   },
   "outputs": [],
   "source": [
    "#even numbers\n",
    "a = list(range(1,10))"
   ]
  },
  {
   "cell_type": "code",
   "execution_count": 481,
   "metadata": {},
   "outputs": [
    {
     "name": "stdout",
     "output_type": "stream",
     "text": [
      "2\n",
      "4\n",
      "6\n",
      "8\n"
     ]
    }
   ],
   "source": [
    "for i in a:\n",
    "    if i%2 == 0:\n",
    "        print (i)"
   ]
  },
  {
   "cell_type": "code",
   "execution_count": 484,
   "metadata": {},
   "outputs": [
    {
     "name": "stdout",
     "output_type": "stream",
     "text": [
      "1\n",
      "3\n",
      "5\n",
      "7\n",
      "9\n"
     ]
    }
   ],
   "source": [
    "i = 0\n",
    "while i<len(a):\n",
    "    if a[i]%2 != 0:\n",
    "        print (a[i])\n",
    "    i += 1    \n",
    "    "
   ]
  },
  {
   "cell_type": "code",
   "execution_count": null,
   "metadata": {
    "collapsed": true
   },
   "outputs": [],
   "source": [
    "print ('suman')"
   ]
  },
  {
   "cell_type": "code",
   "execution_count": 485,
   "metadata": {},
   "outputs": [
    {
     "data": {
      "text/plain": [
       "array([1, 3, 5, 7, 9])"
      ]
     },
     "execution_count": 485,
     "metadata": {},
     "output_type": "execute_result"
    }
   ],
   "source": [
    "#odd \n",
    "a = arange(1,10,2)\n",
    "a"
   ]
  },
  {
   "cell_type": "code",
   "execution_count": 486,
   "metadata": {},
   "outputs": [
    {
     "data": {
      "text/plain": [
       "array([2, 4, 6, 8])"
      ]
     },
     "execution_count": 486,
     "metadata": {},
     "output_type": "execute_result"
    }
   ],
   "source": [
    "#even\n",
    "b = arange(2,10,2)\n",
    "b"
   ]
  },
  {
   "cell_type": "code",
   "execution_count": 488,
   "metadata": {
    "collapsed": true
   },
   "outputs": [],
   "source": [
    "b = b.tolist()"
   ]
  },
  {
   "cell_type": "code",
   "execution_count": 489,
   "metadata": {},
   "outputs": [
    {
     "data": {
      "text/plain": [
       "[2, 4, 6, 8]"
      ]
     },
     "execution_count": 489,
     "metadata": {},
     "output_type": "execute_result"
    }
   ],
   "source": [
    "b"
   ]
  },
  {
   "cell_type": "code",
   "execution_count": 492,
   "metadata": {
    "collapsed": true
   },
   "outputs": [],
   "source": [
    "a = list(range(1,10,2))"
   ]
  },
  {
   "cell_type": "code",
   "execution_count": 493,
   "metadata": {},
   "outputs": [
    {
     "data": {
      "text/plain": [
       "[1, 3, 5, 7, 9]"
      ]
     },
     "execution_count": 493,
     "metadata": {},
     "output_type": "execute_result"
    }
   ],
   "source": [
    "a"
   ]
  },
  {
   "cell_type": "code",
   "execution_count": 494,
   "metadata": {},
   "outputs": [
    {
     "data": {
      "text/plain": [
       "[1, 3, 5, 7, 9]"
      ]
     },
     "execution_count": 494,
     "metadata": {},
     "output_type": "execute_result"
    }
   ],
   "source": [
    "#Odd\n",
    "o = list(range(1,10,2))\n",
    "o"
   ]
  },
  {
   "cell_type": "code",
   "execution_count": 495,
   "metadata": {},
   "outputs": [
    {
     "data": {
      "text/plain": [
       "[2, 4, 6, 8]"
      ]
     },
     "execution_count": 495,
     "metadata": {},
     "output_type": "execute_result"
    }
   ],
   "source": [
    "#even\n",
    "e = list(range(2,10,2))\n",
    "e"
   ]
  },
  {
   "cell_type": "code",
   "execution_count": 496,
   "metadata": {},
   "outputs": [
    {
     "data": {
      "text/plain": [
       "array([1, 3, 5, 7, 9])"
      ]
     },
     "execution_count": 496,
     "metadata": {},
     "output_type": "execute_result"
    }
   ],
   "source": [
    "from numpy import *\n",
    "a = arange(1,10,2)\n",
    "a"
   ]
  },
  {
   "cell_type": "code",
   "execution_count": 497,
   "metadata": {},
   "outputs": [
    {
     "data": {
      "text/plain": [
       "array([2, 4, 6, 8])"
      ]
     },
     "execution_count": 497,
     "metadata": {},
     "output_type": "execute_result"
    }
   ],
   "source": [
    "from numpy import *\n",
    "b = arange(2,10,2)\n",
    "b"
   ]
  },
  {
   "cell_type": "code",
   "execution_count": 498,
   "metadata": {},
   "outputs": [
    {
     "data": {
      "text/plain": [
       "array([0, 0, 0, 0, 0])"
      ]
     },
     "execution_count": 498,
     "metadata": {},
     "output_type": "execute_result"
    }
   ],
   "source": [
    "from numpy import *\n",
    "a = zeros(5,int)\n",
    "a"
   ]
  },
  {
   "cell_type": "code",
   "execution_count": 499,
   "metadata": {},
   "outputs": [
    {
     "data": {
      "text/plain": [
       "array([ 1.,  1.,  1.,  1.,  1.,  1.,  1.])"
      ]
     },
     "execution_count": 499,
     "metadata": {},
     "output_type": "execute_result"
    }
   ],
   "source": [
    "b = ones(7,float)\n",
    "b"
   ]
  },
  {
   "cell_type": "code",
   "execution_count": 500,
   "metadata": {},
   "outputs": [
    {
     "data": {
      "text/plain": [
       "array([1, 2, 3, 4])"
      ]
     },
     "execution_count": 500,
     "metadata": {},
     "output_type": "execute_result"
    }
   ],
   "source": [
    "a = array([1,2,3,4])\n",
    "a"
   ]
  },
  {
   "cell_type": "code",
   "execution_count": 501,
   "metadata": {},
   "outputs": [
    {
     "name": "stdout",
     "output_type": "stream",
     "text": [
      "Adding 5 for array [6 7 8 9]\n"
     ]
    }
   ],
   "source": [
    "print('Adding 5 for array',a+5)"
   ]
  },
  {
   "cell_type": "code",
   "execution_count": 503,
   "metadata": {},
   "outputs": [
    {
     "name": "stdout",
     "output_type": "stream",
     "text": [
      "[1, 2, 3, 4, 5, 6, 7]\n"
     ]
    }
   ],
   "source": [
    "lst = [1,2,3,4]\n",
    "lst1 = [5,6,7]\n",
    "print (lst+lst1)"
   ]
  },
  {
   "cell_type": "code",
   "execution_count": 504,
   "metadata": {},
   "outputs": [
    {
     "name": "stdout",
     "output_type": "stream",
     "text": [
      "Atleast one is TRUE\n"
     ]
    }
   ],
   "source": [
    "a1 = array([1,2,3,4])\n",
    "a2 = array([1,3,2,4])\n",
    "\n",
    "if (any(a1>a2)):\n",
    "    print ('Atleast one is TRUE')\n",
    "if(all(a1>a2)):\n",
    "    print ('All are TRUE')\n",
    "    "
   ]
  },
  {
   "cell_type": "code",
   "execution_count": null,
   "metadata": {
    "collapsed": true
   },
   "outputs": [],
   "source": []
  }
 ],
 "metadata": {
  "kernelspec": {
   "display_name": "Python 3",
   "language": "python",
   "name": "python3"
  },
  "language_info": {
   "codemirror_mode": {
    "name": "ipython",
    "version": 3
   },
   "file_extension": ".py",
   "mimetype": "text/x-python",
   "name": "python",
   "nbconvert_exporter": "python",
   "pygments_lexer": "ipython3",
   "version": "3.6.1"
  }
 },
 "nbformat": 4,
 "nbformat_minor": 2
}
