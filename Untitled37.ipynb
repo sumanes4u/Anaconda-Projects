{
 "cells": [
  {
   "cell_type": "code",
   "execution_count": 63,
   "metadata": {},
   "outputs": [
    {
     "name": "stdout",
     "output_type": "stream",
     "text": [
      "['10.16.25.252', '10.16.25.229', '10.16.25.242', '10.16.25.222', '10.16.25.233', '10.16.25.213', '10.16.25.193', '10.16.25.246', '10.16.25.228', '10.16.25.223', '10.16.25.215', '10.16.25.227', '10.16.25.214', '10.16.25.191', '10.16.25.210', '10.16.25.232', '10.16.25.190', '10.16.25.209', '10.16.25.244', '10.16.25.196', '10.16.25.220', '10.16.25.249', '10.16.25.203', '10.16.25.188', '10.16.25.197', '10.16.25.218', '10.16.25.225', '10.16.25.248', '10.16.25.219', '10.16.25.254', '10.16.25.241', '10.16.25.194', '10.16.25.251', '10.16.25.243', '10.16.25.226', '10.16.25.212', '10.16.25.245', '10.16.25.236', '10.16.25.231', '10.16.25.224', '10.16.25.208', '10.16.25.253', '10.16.25.192', '10.16.25.237', '10.16.25.235']\n"
     ]
    }
   ],
   "source": [
    "import re\n",
    "text = '''345_GF_0/0/2&9_25.252# show aps\n",
    "\n",
    "45 Access Points\n",
    "----------------\n",
    "Name                             IP Address     Mode    Spectrum  Clients  Type          IPv6 Address  Mesh Role  Zone  Serial #    radio0 Channel  radio0 Power (dB)  radio0 Utilization (%)  radio0 Noise Floor (dBm)  radio1 Channel  radio1 Power (dB)  radio1 Utilization (%)  radio1 Noise Floor (dBm)  Need Antenna Config  From Port  Config Id  Config Csum  Ext SSID Active  Age            Link Local IP Address\n",
    "----                             ----------     ----    --------  -------  ----          ------------  ---------  ----  --------    --------------  -----------------  ----------------------  ------------------------  --------------  -----------------  ----------------------  ------------------------  -------------------  ---------  ---------  -----------  ---------------  ---            ---------------------\n",
    "345_GF_0/0/2&9_25.252            10.16.25.252*  access  disable   0        345(indoor)   --            N/A        -     CNDBK5106P  108             18                 8(good)                 -95(good)                 -               -                  -                       -                         No                   none       1          56195        enable           1d:0h:59m:18s  --\n",
    "365_UP_0/0/13_25.229             10.16.25.229   access  disable   0        365(outdoor)  --            N/A        -     CNCRJSW0DK  112             18                 36(good)                -96(good)                 -               -                  -                       -                         No                   none       1          56195        enable           1d:0h:59m:0s   --\n",
    "275_GF_0/0/26_25.242             10.16.25.242   access  disable   0        275(outdoor)  --            N/A        -     CL0015799   100             18                 14(good)                -95(good)                 -               -                  -                       -                         No                   none       1          56195        enable           1d:0h:58m:59s  --\n",
    "367_UP_0/0/15_25.222             10.16.25.222   access  disable   0        367(outdoor)  --            N/A        -     CNCLJSX007  108             18                 21(good)                -96(good)                 -               -                  -                       -                         No                   none       1          56195        enable           1d:0h:58m:58s  --\n",
    "305_GF_0/0/12_25.233             10.16.25.233   access  disable   0        305(indoor)   --            N/A        -     CNCFJSS18P  100             18                 8(good)                 -96(good)                 -               -                  -                       -                         No                   none       1          56195        enable           1d:0h:58m:57s  --\n",
    "225_DOWN_0/0/3_150_7007          10.16.25.213   access  disable   1        225(indoor)   --            N/A        -     BX0000649   112             18                 47(good)                -95(good)                 -               -                  -                       -                         No                   none       1          56195        enable           1d:0h:58m:55s  --\n",
    "214_VW_0/0/32_25.193             10.16.25.193   access  disable   0        214(indoor)   --            N/A        VW    CK0001423   100             24                 11(good)                -96(good)                 -               -                  -                       -                         Yes                  none       1          56195        enable           1d:0h:58m:53s  --\n",
    "207_GF_0/0/15_25.246             10.16.25.246   access  disable   0        207(indoor)   --            N/A        -     CNCHJST0BF  100             18                 9(good)                 -98(good)                 -               -                  -                       -                         No                   none       1          56195        enable           1d:0h:58m:53s  --\n",
    "365_UP_0/0/14_25.228             10.16.25.228   access  disable   0        365(outdoor)  --            N/A        -     CNCRJSW0M3  112             18                 39(good)                -96(good)                 -               -                  -                       -                         No                   none       1          56195        enable           1d:0h:58m:53s  --\n",
    "367_UP_0/0/10_25.223             10.16.25.223   access  disable   0        367(outdoor)  --            N/A        RFZ1  CNCLJSX01T  112             18                 54(ok)                  -96(good)                 -               -                  -                       -                         No                   none       1          56195        enable           1d:0h:58m:52s  --\n",
    "214_DOWN_0/0/22_150_7001         10.16.25.215   access  disable   0        214(indoor)   --            N/A        -     CK0001490   108             18                 8(good)                 -96(good)                 -               -                  -                       -                         Yes                  none       1          56195        enable           1d:0h:58m:50s  --\n",
    "367_UP_0/0/5_25.227              10.16.25.227   access  disable   0        367(outdoor)  --            N/A        -     CNCLJSX013  100             18                 77(poor)                -95(good)                 -               -                  -                       -                         No                   none       1          56195        enable           1d:0h:58m:49s  --\n",
    "225_Down_0/0/7_25.214            10.16.25.214   access  disable   0        225(indoor)   --            N/A        -     CT0150354   100             18                 51(ok)                  -96(good)                 -               -                  -                       -                         No                   none       1          56195        enable           1d:0h:58m:48s  --\n",
    "228_VW_0/0/33_25.191             10.16.25.191   access  disable   0        228(indoor)   --            N/A        VW    DM0002622   140             27                 49(good)                -96(good)                 -               -                  -                       -                         Yes                  none       1          56195        enable           1d:0h:58m:48s  --\n",
    "225_Down_0/0/8_150_7010          10.16.25.210   access  disable   0        225(indoor)   --            N/A        -     CT0026911   104             18                 12(good)                -96(good)                 -               -                  -                       -                         No                   none       1          56195        enable           1d:0h:58m:46s  --\n",
    "303H_GF_0/0/16_25.232            10.16.25.232   access  disable   0        303H(indoor)  --            N/A        -     CNC7K2R05Q  104             18                 10(good)                -94(good)                 -               -                  -                       -                         No                   none       1          56195        enable           1d:0h:58m:43s  --\n",
    "315_DOWN_0/0/16_25.190_miniCage  10.16.25.190   access  disable   0        315(indoor)   --            N/A        -     CNC2J0T6CG  104             27                 2(good)                 -96(good)                 -               -                  -                       -                         No                   none       1          56195        enable           1d:0h:58m:42s  --\n",
    "225_DOWN_0/0/4_25.209            10.16.25.209   access  disable   1        225(indoor)   --            N/A        -     BX0000692   100             18                 77(poor)                -96(good)                 -               -                  -                       -                         No                   none       1          56195        enable           1d:0h:58m:41s  --\n",
    "367_GF_0/0/20_25.244             10.16.25.244   access  disable   0        367(outdoor)  --            N/A        -     CNCLJSX06D  100             18                 8(good)                 -96(good)                 -               -                  -                       -                         No                   none       1          56195        enable           1d:0h:58m:40s  --\n",
    "303_GF_0/0/25_25.196             10.16.25.196   access  disable   0        303(indoor)   --            N/A        -     CNF0K9T047  100             18                 8(good)                 -95(good)                 -               -                  -                       -                         No                   none       1          56195        enable           1d:0h:58m:39s  --\n",
    "365_UP_0/0/7_25.220              10.16.25.220   access  disable   1        365(outdoor)  --            N/A        -     CNCRJSW0GN  112             18                 43(good)                -96(good)                 -               -                  -                       -                         No                   none       1          56195        enable           1d:0h:58m:39s  --\n",
    "367_GF_0/0/19_25.249             10.16.25.249   access  disable   0        367(outdoor)  --            N/A        -     CNCLJSX029  108             18                 8(good)                 -95(good)                 -               -                  -                       -                         No                   none       1          56195        enable           1d:0h:58m:38s  --\n",
    "214_UP_0/0/22_25.203             10.16.25.203   access  disable   0        214(indoor)   --            N/A        -     CK0000621   112             18                 17(good)                -96(good)                 -               -                  -                       -                         Yes                  none       1          56195        enable           1d:0h:58m:35s  --\n",
    "203R_GF_0/0/17_25.188            10.16.25.188   access  disable   0        203R(indoor)  --            N/A        -     CNDJK2T02H  112             17                 5(good)                 -98(good)                 -               -                  -                       -                         No                   none       1          56195        enable           1d:0h:58m:35s  --\n",
    "335_DOWN_0/15_150_7015_miniCage  10.16.25.197   access  disable   0        335(indoor)   --            N/A        -     CNBHJ0Y0C7  112             25                 1(good)                 -93(good)                 -               -                  -                       -                         No                   none       1          56195        enable           1d:0h:58m:31s  --\n",
    "225_DOWN_0/0/1_150_7011          10.16.25.218   access  disable   0        225(indoor)   --            N/A        -     CT0152861   108             18                 5(good)                 -96(good)                 -               -                  -                       -                         No                   none       1          56195        enable           1d:0h:58m:31s  --\n",
    "365_UP_0/0/18_25.225             10.16.25.225   access  disable   0        365(outdoor)  --            N/A        -     CNCRJSW0M6  108             18                 38(good)                -96(good)                 -               -                  -                       -                         No                   none       1          56195        enable           1d:0h:58m:31s  --\n",
    "335_GF_0/0/1_100_7001            10.16.25.248   access  disable   2        335(indoor)   --            N/A        -     CNBHJ0Y0C9  108             18                 7(good)                 -94(good)                 -               -                  -                       -                         No                   none       1          56195        enable           1d:0h:58m:28s  --\n",
    "365_UP_0/0/12_25.219             10.16.25.219   access  disable   0        365(outdoor)  --            N/A        -     CNCLJSW01P  104             18                 37(good)                -94(good)                 -               -                  -                       -                         No                   none       1          56195        enable           1d:0h:58m:28s  --\n",
    "224_GF_0/0/4_100_7004            10.16.25.254   access  disable   0        225(indoor)   --            N/A        -     BX0000636   100             18                 9(good)                 -96(good)                 -               -                  -                       -                         No                   none       1          56195        enable           1d:0h:58m:27s  --\n",
    "324_GF_0/0/5&6_25.241            10.16.25.241   access  disable   0        324(indoor)   --            N/A        -     CNC0HN50KJ  104             18                 2(good)                 -95(good)                 -               -                  -                       -                         Yes                  none       1          56195        enable           1d:0h:58m:12s  --\n",
    "344_VW_0/0/30_25.194             10.16.25.194   access  disable   0        344(indoor)   --            N/A        VW    CNDZK5007F  140             18                 63(ok)                  -97(good)                 -               -                  -                       -                         Yes                  none       1          56195        enable           1d:0h:58m:10s  --\n",
    "207_GF_0/0/13_25.251             10.16.25.251   access  disable   0        207(indoor)   --            N/A        -     DX0000273   100             18                 8(good)                 -98(good)                 -               -                  -                       -                         No                   none       1          56195        enable           1d:0h:58m:4s   --\n",
    "345_GF_0/0/24_25.243             10.16.25.243   access  disable   0        345(indoor)   --            N/A        -     CNDSK5101C  112             18                 7(good)                 -95(good)                 -               -                  -                       -                         No                   none       1          56195        enable           1d:0h:58m:1s   --\n",
    "365_UP_0/0/9_25.226              10.16.25.226   access  disable   0        365(outdoor)  --            N/A        -     CNCRJSW0LV  112             18                 44(good)                -95(good)                 -               -                  -                       -                         No                   none       1          56195        enable           1d:0h:57m:58s  --\n",
    "225_DOWN_0/0/9_150_7006          10.16.25.212   access  disable   0        225(indoor)   --            N/A        -     BX0055388   112             18                 47(good)                -96(good)                 -               -                  -                       -                         No                   none       1          56195        enable           1d:0h:57m:57s  --\n",
    "314_GF_0/0/11_25.245             10.16.25.245   access  disable   0        314(indoor)   --            N/A        -     CNBMJ0R131  112             18                 4(good)                 -95(good)                 -               -                  -                       -                         Yes                  none       1          56195        enable           1d:0h:57m:56s  --\n",
    "365_Up_0/0/19_25.236             10.16.25.236   access  disable   0        365(outdoor)  --            N/A        -     CNCLJSW058  108             18                 23(good)                -96(good)                 -               -                  -                       -                         No                   none       1          56195        enable           1d:0h:57m:56s  --\n",
    "315_GF_0/0/10_25.231             10.16.25.231   access  disable   0        315(indoor)   --            N/A        -     CNC2J0T67M  108             18                 7(good)                 -94(good)                 -               -                  -                       -                         No                   none       1          56195        enable           1d:0h:57m:55s  --\n",
    "365_UP_0/0/17_25.224             10.16.25.224   access  disable   0        365(outdoor)  --            N/A        -     CNCRJSW0NZ  108             18                 15(good)                -96(good)                 -               -                  -                       -                         No                   none       1          56195        enable           1d:0h:57m:55s  --\n",
    "225_DOWN_0/0/6_150_7009          10.16.25.208   access  disable   0        225(indoor)   --            N/A        -     BX0000641   104             18                 3(good)                 -96(good)                 -               -                  -                       -                         No                   none       1          56195        enable           1d:0h:57m:52s  --\n",
    "214_GF_0/0/7_100_7007            10.16.25.253   access  disable   0        214(indoor)   --            N/A        -     CK0000652   112             18                 5(good)                 -96(good)                 -               -                  -                       -                         Yes                  none       1          56195        enable           1d:0h:56m:47s  --\n",
    "324_VW_0/0/34_25.192             10.16.25.192   access  disable   0        324(indoor)   --            N/A        VW    CNBCHN501Y  140             18                 60(ok)                  -95(good)                 -               -                  -                       -                         Yes                  none       1          56195        enable           1d:0h:56m:23s  --\n",
    "314_VW_0/0/35_25.237             10.16.25.237   access  disable   0        314(indoor)   --            N/A        VW    CNBMJ0R1BP  140             27                 55(ok)                  -96(good)                 -               -                  -                       -                         Yes                  none       1          56195        enable           23h:7m:59s     --\n",
    "365_UP_0/0/16_25.235             10.16.25.235   access  disable   0        365(outdoor)  --            N/A        -     CNCRJSW0NS  112             18                 54(ok)                  -96(good)                 -               -                  -                       -                         No                   none       1          56195        enable           2h:11m:7s      --\n",
    "345_GF_0/0/2&9_25.252#\n",
    "'''\n",
    "#pattern = r'\\w+:\\w+:\\w+:\\w+:\\w+:\\w+'\n",
    "pattern = r'\\d{1,3}\\.\\d{1,3}\\.\\d{1,3}\\.\\d{1,3}'\n",
    "#pattern = r'([0-9a-fA-F]{2}[:-]){5}([0-9a-fA-F]{2})'\n",
    "match1 = re.findall(pattern,text)\n",
    "print (match1)\n"
   ]
  },
  {
   "cell_type": "code",
   "execution_count": 26,
   "metadata": {},
   "outputs": [
    {
     "name": "stdout",
     "output_type": "stream",
     "text": [
      "['192.', '168.', '1.', '2', '1', '23']\n"
     ]
    }
   ],
   "source": [
    "ip = '192.168.1.2 I am suman 1 23'\n",
    "pattern = r'\\d{1,3}\\.?'\n",
    "match = re.findall(pattern,ip)\n",
    "print (match)"
   ]
  },
  {
   "cell_type": "code",
   "execution_count": 64,
   "metadata": {},
   "outputs": [
    {
     "name": "stdout",
     "output_type": "stream",
     "text": [
      "['10.16.25.252', '10.16.25.241', '10.16.25.245', '10.16.25.214', '10.16.25.212', '10.16.25.190', '10.16.25.215', '10.16.25.237', '10.16.25.213', '10.16.25.232', '10.16.25.209', '10.16.25.254', '10.16.25.194', '10.16.25.248', '10.16.25.242', '10.16.25.203', '10.16.25.192', '10.16.25.218', '10.16.25.196', '10.16.25.253', '10.16.25.251', '10.16.25.197', '10.16.25.246', '10.16.25.231', '10.16.25.188', '10.16.25.193', '10.16.25.191', '10.16.25.210', '10.16.25.208', '10.16.25.224', '10.16.25.244', '10.16.25.220', '10.16.25.228', '10.16.25.223', '10.16.25.225', '10.16.25.219', '10.16.25.222', '10.16.25.227', '10.16.25.229', '10.16.25.226', '10.16.25.236', '10.16.25.243', '10.16.25.233', '10.16.25.249']\n"
     ]
    }
   ],
   "source": [
    "text = '''345_GF_0/0/2&9_25.252# show aps\n",
    "\n",
    "44 Access Points\n",
    "----------------\n",
    "Name                             IP Address     Mode    Spectrum  Clients  Type          IPv6 Address  Mesh Role  Zone  Serial #    radio0 Channel  radio0 Power (dB)  radio0 Utilization (%)  radio0 Noise Floor (dBm)  radio1 Channel  radio1 Power (dB)  radio1 Utilization (%)  radio1 Noise Floor (dBm)  Need Antenna Config  From Port  Config Id  Config Csum  Ext SSID Active  Age     Link Local IP Address\n",
    "----                             ----------     ----    --------  -------  ----          ------------  ---------  ----  --------    --------------  -----------------  ----------------------  ------------------------  --------------  -----------------  ----------------------  ------------------------  -------------------  ---------  ---------  -----------  ---------------  ---     ---------------------\n",
    "345_GF_0/0/2&9_25.252            10.16.25.252*  access  disable   1        345(indoor)   --            N/A        -     CNDBK5106P  104             18                 9(good)                 -96(good)                 -               -                  -                       -                         No                   none       0          56195        enable           6m:47s  --\n",
    "324_GF_0/0/5&6_25.241            10.16.25.241   access  disable   0        324(indoor)   --            N/A        -     CNC0HN50KJ  104             18                 7(good)                 -95(good)                 -               -                  -                       -                         Yes                  none       0          56195        enable           6m:30s  --\n",
    "314_GF_0/0/11_25.245             10.16.25.245   access  disable   0        314(indoor)   --            N/A        -     CNBMJ0R131  108             18                 5(good)                 -96(good)                 -               -                  -                       -                         Yes                  none       0          56195        enable           6m:29s  --\n",
    "225_Down_0/0/7_25.214            10.16.25.214   access  disable   0        225(indoor)   --            N/A        -     CT0150354   112             18                 9(good)                 -96(good)                 -               -                  -                       -                         No                   none       0          56195        enable           6m:25s  --\n",
    "225_DOWN_0/0/9_150_7006          10.16.25.212   access  disable   1        225(indoor)   --            N/A        -     BX0055388   100             18                 17(good)                -96(good)                 -               -                  -                       -                         No                   none       0          56195        enable           6m:22s  --\n",
    "315_DOWN_0/0/16_25.190_miniCage  10.16.25.190   access  disable   0        315(indoor)   --            N/A        -     CNC2J0T6CG  104             21                 1(good)                 -96(good)                 -               -                  -                       -                         No                   none       0          56195        enable           6m:21s  --\n",
    "214_DOWN_0/0/22_150_7001         10.16.25.215   access  disable   0        214(indoor)   --            N/A        -     CK0001490   108             18                 6(good)                 -96(good)                 -               -                  -                       -                         Yes                  none       0          56195        enable           6m:21s  --\n",
    "314_VW_0/0/35_25.237             10.16.25.237   access  disable   0        314(indoor)   --            N/A        VW    CNBMJ0R1BP  140             5                  33(good)                -96(good)                 -               -                  -                       -                         Yes                  none       0          56195        enable           6m:21s  --\n",
    "225_DOWN_0/0/3_150_7007          10.16.25.213   access  disable   0        225(indoor)   --            N/A        -     BX0000649   100             18                 17(good)                -96(good)                 -               -                  -                       -                         No                   none       0          56195        enable           6m:20s  --\n",
    "303H_GF_0/0/16_25.232            10.16.25.232   access  disable   0        303H(indoor)  --            N/A        -     CNC7K2R05Q  104             18                 19(good)                -89(good)                 -               -                  -                       -                         No                   none       0          56195        enable           6m:20s  --\n",
    "225_DOWN_0/0/4_25.209            10.16.25.209   access  disable   1        225(indoor)   --            N/A        -     BX0000692   108             18                 10(good)                -96(good)                 -               -                  -                       -                         No                   none       0          56195        enable           6m:20s  --\n",
    "224_GF_0/0/4_100_7004            10.16.25.254   access  disable   0        225(indoor)   --            N/A        -     BX0000636   112             18                 8(good)                 -91(good)                 -               -                  -                       -                         No                   none       0          56195        enable           6m:20s  --\n",
    "344_VW_0/0/30_25.194             10.16.25.194   access  disable   0        344(indoor)   --            N/A        VW    CNDZK5007F  140             6                  41(good)                -93(good)                 -               -                  -                       -                         Yes                  none       0          56195        enable           6m:19s  --\n",
    "335_GF_0/0/1_100_7001            10.16.25.248   access  disable   0        335(indoor)   --            N/A        -     CNBHJ0Y0C9  104             18                 7(good)                 -93(good)                 -               -                  -                       -                         No                   none       0          56195        enable           6m:18s  --\n",
    "275_GF_0/0/26_25.242             10.16.25.242   access  disable   0        275(outdoor)  --            N/A        -     CL0015799   108             18                 11(good)                -96(good)                 -               -                  -                       -                         No                   none       0          56195        enable           6m:17s  --\n",
    "214_UP_0/0/22_25.203             10.16.25.203   access  disable   0        214(indoor)   --            N/A        -     CK0000621   112             18                 7(good)                 -96(good)                 -               -                  -                       -                         Yes                  none       0          56195        enable           6m:15s  --\n",
    "324_VW_0/0/34_25.192             10.16.25.192   access  disable   0        324(indoor)   --            N/A        VW    CNBCHN501Y  140             4                  39(good)                -95(good)                 -               -                  -                       -                         Yes                  none       0          56195        enable           6m:13s  --\n",
    "225_DOWN_0/0/1_150_7011          10.16.25.218   access  disable   0        225(indoor)   --            N/A        -     CT0152861   104             18                 9(good)                 -96(good)                 -               -                  -                       -                         No                   none       0          56195        enable           6m:10s  --\n",
    "303_GF_0/0/25_25.196             10.16.25.196   access  disable   0        303(indoor)   --            N/A        -     CNF0K9T047  108             18                 12(good)                -95(good)                 -               -                  -                       -                         No                   none       0          56195        enable           6m:10s  --\n",
    "214_GF_0/0/7_100_7007            10.16.25.253   access  disable   0        214(indoor)   --            N/A        -     CK0000652   100             18                 3(good)                 -96(good)                 -               -                  -                       -                         Yes                  none       0          56195        enable           6m:6s   --\n",
    "207_GF_0/0/13_25.251             10.16.25.251   access  disable   0        207(indoor)   --            N/A        -     DX0000273   104             18                 8(good)                 -98(good)                 -               -                  -                       -                         No                   none       0          56195        enable           6m:5s   --\n",
    "335_DOWN_0/15_150_7015_miniCage  10.16.25.197   access  disable   0        335(indoor)   --            N/A        -     CNBHJ0Y0C7  108             18                 1(good)                 -93(good)                 -               -                  -                       -                         No                   none       0          56195        enable           6m:4s   --\n",
    "207_GF_0/0/15_25.246             10.16.25.246   access  disable   0        207(indoor)   --            N/A        -     CNCHJST0BF  112             18                 5(good)                 -98(good)                 -               -                  -                       -                         No                   none       0          56195        enable           5m:59s  --\n",
    "315_GF_0/0/10_25.231             10.16.25.231   access  disable   0        315(indoor)   --            N/A        -     CNC2J0T67M  100             18                 8(good)                 -94(good)                 -               -                  -                       -                         No                   none       0          56195        enable           5m:58s  --\n",
    "203R_GF_0/0/17_25.188            10.16.25.188   access  disable   0        203R(indoor)  --            N/A        -     CNDJK2T02H  104             17                 8(good)                 -98(good)                 -               -                  -                       -                         No                   none       0          56195        enable           5m:44s  --\n",
    "214_VW_0/0/32_25.193             10.16.25.193   access  disable   0        214(indoor)   --            N/A        VW    CK0001423   100             4                  14(good)                -96(good)                 -               -                  -                       -                         Yes                  none       0          56195        enable           5m:35s  --\n",
    "228_VW_0/0/33_25.191             10.16.25.191   access  disable   0        228(indoor)   --            N/A        VW    DM0002622   140             0                  40(good)                -96(good)                 -               -                  -                       -                         Yes                  none       0          56195        enable           5m:31s  --\n",
    "225_Down_0/0/8_150_7010          10.16.25.210   access  disable   0        225(indoor)   --            N/A        -     CT0026911   100             18                 16(good)                -96(good)                 -               -                  -                       -                         No                   none       0          56195        enable           5m:24s  --\n",
    "225_DOWN_0/0/6_150_7009          10.16.25.208   access  disable   0        225(indoor)   --            N/A        -     BX0000641   112             18                 10(good)                -96(good)                 -               -                  -                       -                         No                   none       0          56195        enable           5m:6s   --\n",
    "365_UP_0/0/17_25.224             10.16.25.224   access  disable   0        365(outdoor)  --            N/A        -     CNCRJSW0NZ  104             18                 8(good)                 -96(good)                 -               -                  -                       -                         No                   none       0          56195        enable           4m:49s  --\n",
    "367_GF_0/0/20_25.244             10.16.25.244   access  disable   0        367(outdoor)  --            N/A        -     CNCLJSX06D  108             18                 13(good)                -96(good)                 -               -                  -                       -                         No                   none       0          56195        enable           4m:48s  --\n",
    "365_UP_0/0/7_25.220              10.16.25.220   access  disable   0        365(outdoor)  --            N/A        -     CNCRJSW0GN  112             18                 9(good)                 -96(good)                 -               -                  -                       -                         No                   none       0          56195        enable           4m:46s  --\n",
    "365_UP_0/0/14_25.228             10.16.25.228   access  disable   0        365(outdoor)  --            N/A        -     CNCRJSW0M3  100             18                 17(good)                -96(good)                 -               -                  -                       -                         No                   none       0          56195        enable           4m:46s  --\n",
    "367_UP_0/0/10_25.223             10.16.25.223   access  disable   0        367(outdoor)  --            N/A        RFZ1  CNCLJSX01T  104             18                 9(good)                 -96(good)                 -               -                  -                       -                         No                   none       0          56195        enable           4m:45s  --\n",
    "365_UP_0/0/18_25.225             10.16.25.225   access  disable   0        365(outdoor)  --            N/A        -     CNCRJSW0M6  108             18                 25(good)                -96(good)                 -               -                  -                       -                         No                   none       0          56195        enable           4m:44s  --\n",
    "365_UP_0/0/12_25.219             10.16.25.219   access  disable   0        365(outdoor)  --            N/A        -     CNCLJSW01P  112             18                 8(good)                 -96(good)                 -               -                  -                       -                         No                   none       0          56195        enable           4m:43s  --\n",
    "367_UP_0/0/15_25.222             10.16.25.222   access  disable   0        367(outdoor)  --            N/A        -     CNCLJSX007  100             18                 15(good)                -96(good)                 -               -                  -                       -                         No                   none       0          56195        enable           4m:43s  --\n",
    "367_UP_0/0/5_25.227              10.16.25.227   access  disable   0        367(outdoor)  --            N/A        -     CNCLJSX013  104             18                 8(good)                 -96(good)                 -               -                  -                       -                         No                   none       0          56195        enable           4m:42s  --\n",
    "365_UP_0/0/13_25.229             10.16.25.229   access  disable   0        365(outdoor)  --            N/A        -     CNCRJSW0DK  108             18                 10(good)                -96(good)                 -               -                  -                       -                         No                   none       0          56195        enable           4m:41s  --\n",
    "365_UP_0/0/9_25.226              10.16.25.226   access  disable   0        365(outdoor)  --            N/A        -     CNCRJSW0LV  112             18                 9(good)                 -96(good)                 -               -                  -                       -                         No                   none       0          56195        enable           4m:41s  --\n",
    "365_Up_0/0/19_25.236             10.16.25.236   access  disable   0        365(outdoor)  --            N/A        -     CNCLJSW058  100             18                 22(good)                -96(good)                 -               -                  -                       -                         No                   none       0          56195        enable           4m:39s  --\n",
    "345_GF_0/0/24_25.243             10.16.25.243   access  disable   0        345(indoor)   --            N/A        -     CNDSK5101C  104             18                 10(good)                -95(good)                 -               -                  -                       -                         No                   none       0          56195        enable           4m:35s  --\n",
    "305_GF_0/0/12_25.233             10.16.25.233   access  disable   0        305(indoor)   --            N/A        -     CNCFJSS18P  108             18                 12(good)                -96(good)                 -               -                  -                       -                         No                   none       0          56195        enable           4m:31s  --\n",
    "367_GF_0/0/19_25.249             10.16.25.249   access  disable   0        367(outdoor)  --            N/A        -     CNCLJSX029  112             18                 8(good)                 -95(good)                 -               -                  -                       -                         No                   none       0          56195        enable           4m:22s  --\n",
    "'''\n",
    "pattern = r'\\d{1,3}\\.\\d{1,3}\\.\\d{1,3}\\.\\d{1,3}'\n",
    "match2 = re.findall(pattern,text)\n",
    "print (match2)\n"
   ]
  },
  {
   "cell_type": "code",
   "execution_count": 53,
   "metadata": {},
   "outputs": [
    {
     "name": "stdout",
     "output_type": "stream",
     "text": [
      "No of AP Macs and No of APS are Equal\n"
     ]
    }
   ],
   "source": [
    "no_of_aps = 10\n",
    "no_of_macs = 10\n",
    "if no_of_aps == no_of_macs:\n",
    "#        conn.send(imageupgrade)\n",
    "#        conn.send('\\n'*2)\n",
    "         print (\"No of AP Macs and No of APS are Equal\")\n"
   ]
  },
  {
   "cell_type": "code",
   "execution_count": 78,
   "metadata": {},
   "outputs": [
    {
     "data": {
      "text/plain": [
       "'upgrade-image2 Aries@tftp://10.17.150.14/ArubaInstant_Aries_8.3.0.0_64152;Centaurus@tftp://10.17.150.14/ArubaInstant_Centaurus_8.3.0.0_64152;Hercules@tftp://10.17.150.14/ArubaInstant_Hercules_8.3.0.0_64152;Draco@tftp://10.17.150.14/ArubaInstant_Draco_8.3.0.0_64152;Ursa@tftp://10.17.150.14/ArubaInstant_Ursa_8.3.0.0_64152;Vela@tftp://10.17.150.14/ArubaInstant_Vela_8.3.0.0_64152;Lupus@tftp://10.17.150.14/ArubaInstant_Lupus_8.3.0.0_64152'"
      ]
     },
     "execution_count": 78,
     "metadata": {},
     "output_type": "execute_result"
    }
   ],
   "source": [
    "text = 'upgrade-image2 Aries@tftp://10.17.150.14/ArubaInstant_Aries_8.3.0.0_64152;Centaurus@tftp://10.17.150.14/ArubaInstant_Centaurus_8.3.0.0_64152;Hercules@tftp://10.17.150.14/ArubaInstant_Hercules_8.3.0.0_64152;Draco@tftp://10.17.150.14/ArubaInstant_Draco_8.3.0.0_64152;Ursa@tftp://10.17.150.14/ArubaInstant_Ursa_8.3.0.0_64152;Vela@tftp://10.17.150.14/ArubaInstant_Vela_8.3.0.0_64152;Lupus@tftp://10.17.150.14/ArubaInstant_Lupus_8.3.0.0_64152'\n",
    "text = re.sub('10.16.59.72','10.17.150.14',text)\n",
    "text\n"
   ]
  },
  {
   "cell_type": "code",
   "execution_count": 65,
   "metadata": {},
   "outputs": [
    {
     "data": {
      "text/plain": [
       "['10.16.25.252',\n",
       " '10.16.25.229',\n",
       " '10.16.25.242',\n",
       " '10.16.25.222',\n",
       " '10.16.25.233',\n",
       " '10.16.25.213',\n",
       " '10.16.25.193',\n",
       " '10.16.25.246',\n",
       " '10.16.25.228',\n",
       " '10.16.25.223',\n",
       " '10.16.25.215',\n",
       " '10.16.25.227',\n",
       " '10.16.25.214',\n",
       " '10.16.25.191',\n",
       " '10.16.25.210',\n",
       " '10.16.25.232',\n",
       " '10.16.25.190',\n",
       " '10.16.25.209',\n",
       " '10.16.25.244',\n",
       " '10.16.25.196',\n",
       " '10.16.25.220',\n",
       " '10.16.25.249',\n",
       " '10.16.25.203',\n",
       " '10.16.25.188',\n",
       " '10.16.25.197',\n",
       " '10.16.25.218',\n",
       " '10.16.25.225',\n",
       " '10.16.25.248',\n",
       " '10.16.25.219',\n",
       " '10.16.25.254',\n",
       " '10.16.25.241',\n",
       " '10.16.25.194',\n",
       " '10.16.25.251',\n",
       " '10.16.25.243',\n",
       " '10.16.25.226',\n",
       " '10.16.25.212',\n",
       " '10.16.25.245',\n",
       " '10.16.25.236',\n",
       " '10.16.25.231',\n",
       " '10.16.25.224',\n",
       " '10.16.25.208',\n",
       " '10.16.25.253',\n",
       " '10.16.25.192',\n",
       " '10.16.25.237',\n",
       " '10.16.25.235']"
      ]
     },
     "execution_count": 65,
     "metadata": {},
     "output_type": "execute_result"
    }
   ],
   "source": [
    "match1"
   ]
  },
  {
   "cell_type": "code",
   "execution_count": 70,
   "metadata": {},
   "outputs": [],
   "source": [
    "a = [x for x in match1 if x not in match2]"
   ]
  },
  {
   "cell_type": "code",
   "execution_count": 71,
   "metadata": {},
   "outputs": [
    {
     "data": {
      "text/plain": [
       "['10.16.25.235']"
      ]
     },
     "execution_count": 71,
     "metadata": {},
     "output_type": "execute_result"
    }
   ],
   "source": [
    "a"
   ]
  },
  {
   "cell_type": "code",
   "execution_count": 111,
   "metadata": {},
   "outputs": [
    {
     "name": "stdout",
     "output_type": "stream",
     "text": [
      "<192.168.21.253 40:E3:D6:C3:E3:1E>\n"
     ]
    }
   ],
   "source": [
    "#text = 'Mar 29 11:23:43 10.17.150.13 Mar 29 05:53:52 2018 192.168.21.253 cli[4293]: <341004> <WARN> <192.168.21.253 40:E3:D6:C3:E3:1E>  cli_dpimgr_stop: dpimgr pid= 7582 is reset now'\n",
    "text = 'Mar 29 12:24:01 10.17.150.23 Mar 29 06:54:07 2018 192.168.21.253 <192.168.21.253 40:E3:D6:C3:E3:1E> awc[4290]: wsc lib: client sees server close len = 2'\n",
    "#pattern = r'(?P<month>\\b[a-zA-Z]{3}\\b) (?P<date>[\\d]{1,2}) (?P<timestamp>\\b[\\d:]+\\b) (?P<misc>(\\d{1,3}\\.?){3,4} [a-zA-Z]{3} [\\d]{1,2} [\\d:]+ [\\d]{4} (\\d{1,3}\\.?){3,4}) (?P<error>[a-zA-Z]+\\[[\\d]+\\]:) (?P<msg>.+)'\n",
    "#pattern = r'(?P<month>\\b[a-zA-Z]{3}\\b) (?P<date>[\\d]{1,2}) (?P<timestamp>\\b[\\d:]+\\b) (?P<misc>(\\d{1,3}\\.?){3,4} [a-zA-Z]{3} [\\d]{1,2} [\\d:]+ [\\d]{4} (\\d{1,3}\\.?){3,4}) (?P<error>[a-zA-Z]+\\[[\\d]+\\]:) (?P<msg>\\<\\d+\\> \\<\\S+\\>) (?P<ipmac>\\<.+\\>) (?P<remaining>.+)'\n",
    "pattern = r'(?P<ipmac>\\<\\d{1,3}\\.\\d{1,3}\\.\\d{1,3}\\.\\d{1,3} (\\w{2}:\\w{2}:\\w{2}:\\w{2}:\\w{2}:\\w{2})\\>) (?P<remaining>.+)'\n",
    "match = re.search(pattern,text)\n",
    "#print (match.group('remaining'))\n",
    "#print (match.group('ipmac'))\n",
    "print(match.group('ipmac'))"
   ]
  },
  {
   "cell_type": "code",
   "execution_count": 106,
   "metadata": {},
   "outputs": [
    {
     "name": "stdout",
     "output_type": "stream",
     "text": [
      "8\n"
     ]
    }
   ],
   "source": [
    "dct = {'<192.168.21.247 38:17:C3:C8:02:44>': [' AM 38:17:c3:00:24:40: ARM Channel Interference Trigger new 1-304 old 11-618 new_rra 1/6 TCI 23 Dyn Free ch idx 123\\r', ' AM 38:17:c3:00:24:40: ARM Channel Interference Trigger new 11-389 old 1-543 new_rra 11/6 TCI 22 Dyn Free ch idx 108\\r', ' AM 38:17:c3:00:24:40: ARM Channel Interference Trigger new 6-248 old 11-579 new_rra 6/6 TCI 22 Dyn Free ch idx 115\\r', ' AM 38:17:c3:00:24:40: ARM Channel Interference Trigger new 1-249 old 6-585 new_rra 1/6 TCI 25 Dyn Free ch idx 117\\r', ' AM 38:17:c3:00:24:40: ARM Channel Interference Trigger new 11-297 old 1-638 new_rra 11/6 TCI 21 Dyn Free ch idx 127\\r', ' AM 38:17:c3:00:24:40: ARM Channel Interference Trigger new 1-196 old 11-724 new_rra 1/6 TCI 19 Dyn Free ch idx 144\\r', ' AM 38:17:c3:00:24:40: ARM Channel Interference Trigger new 6-251 old 1-502 new_rra 6/6 TCI 20 Dyn Free ch idx 100\\r', ' AM 38:17:c3:00:24:40: ARM Channel Interference Trigger new 11-370 old 6-487 new_rra 11/6 TCI 22 Dyn Free ch idx 97\\r'], '<192.168.21.253 40:E3:D6:C3:E3:1E>': [' launching dpimgr now with agent 255 - dpimgr with DPI flag - 3b\\r', ' cli_dpimgr_stop: pid= 7582 \\r', ' cli_dpimgr_stop: dpimgr pid= 7582 is reset now\\r', ' cli_dpimgr_launch: called with cmd dpimgr returns pid status 11763 \\r', ' CLI to PAPI port 8516 communication code 1\\r', ' AM 40:e3:d6:be:31:e0: ARM Channel Interference Trigger new 11-82 old 1-689 new_rra 11/6 TCI 22 Dyn Free ch idx 137\\r', ' AM 40:e3:d6:be:31:e0: ARM Channel Interference Trigger new 6-254 old 11-567 new_rra 6/6 TCI 25 Dyn Free ch idx 113\\r', ' AM 40:e3:d6:be:31:e0: ARM Channel Interference Trigger new 1-360 old 6-540 new_rra 1/6 TCI 27 Dyn Free ch idx 108\\r', ' AM 40:e3:d6:be:31:e0: ARM Channel Interference Trigger new 11-253 old 1-677 new_rra 11/6 TCI 26 Dyn Free ch idx 135\\r', ' AM 40:e3:d6:be:31:e0: ARM Channel Interference Trigger new 6-258 old 11-519 new_rra 6/6 TCI 23 Dyn Free ch idx 103\\r', ' AM 40:e3:d6:be:31:f0: ARM Channel Interference Trigger new 165-0 old 132-295 new_rra 165/6 TCI 10 Dyn Free ch idx 59\\r', ' AM 40:e3:d6:be:31:e0: ARM Channel Interference Trigger new 11-372 old 6-652 new_rra 11/6 TCI 32 Dyn Free ch idx 130\\r', ' AM 40:e3:d6:be:31:f0: ARM - increasing power cov-index 6/0 tx-power 6 new_rra 165/7\\r', ' AM 40:e3:d6:be:31:e0: ARM Channel Interference Trigger new 6-314 old 11-523 new_rra 6/6 TCI 27 Dyn Free ch idx 104\\r', ' AM 40:e3:d6:be:31:f0: ARM Channel Interference Trigger new 157-6 old 165-99 new_rra 157/7 TCI 10 Dyn Free ch idx 25\\r', ' recv_sta_online: receive station msg, mac-c4:d9:87:03:2b:fe bssid-40:e3:d6:be:31:e1 essid-Suman-Swarm2-Cl2-123.\\r', ' recv_sta_online,1247: add client c4:d9:87:03:2b:fe, client count 1.\\r', ' recv_stm_sta_update: receive station msg, mac-c4:d9:87:03:2b:fe bssid-40:e3:d6:be:31:e1 essid-Suman-Swarm2-Cl2-123.\\r', ' clarity: Warning! airwave server is empty, or central is not ready.\\r', ' recv_sta_ageout_offline: receive station msg, mac-c4:d9:87:03:2b:fe bssid-40:e3:d6:be:31:e1 essid-Suman-Swarm2-Cl2-123.\\r', ' recv_sta_move_req,2690: del client c4:d9:87:03:2b:fe, client count 0.\\r', ' clarity: Warning! airwave server is empty, or central is not ready.\\r', ' AM 40:e3:d6:be:31:f0: ARM - increasing power cov-index 7/0 tx-power 7 new_rra 157/8\\r'], '<192.168.21.250 B4:5D:50:C4:27:D8>': [' AM b4:5d:50:c2:7d:80: ARM Channel Interference Trigger new 6-275 old 11-810 new_rra 6/6 TCI 27 Dyn Free ch idx 162\\r', ' AM b4:5d:50:c2:7d:80: ARM Channel Interference Trigger new 1-330 old 6-714 new_rra 1/6 TCI 29 Dyn Free ch idx 142\\r', ' AM b4:5d:50:c2:7d:80: ARM Channel Interference Trigger new 6-526 old 1-707 new_rra 6/6 TCI 33 Dyn Free ch idx 141\\r', ' AM b4:5d:50:c2:7d:80: ARM Channel Interference Trigger new 11-440 old 6-769 new_rra 11/6 TCI 30 Dyn Free ch idx 153\\r', ' AM b4:5d:50:c2:7d:80: ARM Channel Interference Trigger new 1-392 old 11-875 new_rra 1/6 TCI 31 Dyn Free ch idx 175\\r', ' AM b4:5d:50:c2:7d:80: ARM Channel Interference Trigger new 6-400 old 1-682 new_rra 6/6 TCI 25 Dyn Free ch idx 136\\r', '|ids-ap| AP(b4:5d:50:c2:7d:80): Rogue AP: An AP classified an access point(BSSID 84:d4:7e:50:11:e0 and SSID test-mem on CHANNEL 6) as rogue because it matched the MAC (00:0b:86:d3:3c:00) with IP (192.168.21.1).\\r', ' AM b4:5d:50:c2:7d:80: ARM Channel Interference Trigger new 11-437 old 6-595 new_rra 11/6 TCI 28 Dyn Free ch idx 119\\r', ' AM b4:5d:50:c2:7d:80: ARM Channel Interference Trigger new 1-393 old 11-781 new_rra 1/6 TCI 28 Dyn Free ch idx 156\\r', ' AM b4:5d:50:c2:7d:80: ARM Channel Interference Trigger new 6-450 old 1-639 new_rra 6/6 TCI 30 Dyn Free ch idx 127\\r'], '<192.168.21.246 9C:1C:12:C0:1E:8E>': ['|ids-ap| AP(9c:1c:12:81:e8:e0): Cleared Rogue AP: An AP that previously classified an access point (BSSID 84:d4:7e:50:11:e0 and SSID test-mem on CHANNEL 6) as rogue, no longer considers it rogue or it was removed from the network.\\r', ' AM 9c:1c:12:81:e8:e0: ARM Channel Interference Trigger new 1-232 old 6-356 new_rra 1/6 TCI 21 Dyn Free ch idx 71\\r', ' Process /aruba/bin/radiusd-term [pid 29206] died: got signal SIGTERM\\r', ' Restarted process /aruba/bin/radiusd-term, new pid 29291\\r', ' Process /aruba/bin/radiusd-term [pid 29368] died: got signal SIGTERM\\r', ' Restarted process /aruba/bin/radiusd-term, new pid 29439\\r', ' AM 9c:1c:12:81:e8:e0: ARM Channel Interference Trigger new 11-93 old 1-392 new_rra 11/6 TCI 18 Dyn Free ch idx 78\\r'], '<192.168.21.252 A8:BD:27:CF:EE:F2>': [' AM a8:bd:27:7e:ef:20: ARM Channel Interference Trigger new 1-292 old 6-664 new_rra 1/6 TCI 24 Dyn Free ch idx 132\\r', ' AM a8:bd:27:7e:ef:20: ARM Channel Interference Trigger new 11-300 old 1-670 new_rra 11/6 TCI 27 Dyn Free ch idx 134\\r', ' AM a8:bd:27:7e:ef:20: ARM Channel Quality Threshold Trigger Current Channel 11 new_rra 6/6\\r', ' AM a8:bd:27:7e:ef:20: ARM Channel Interference Trigger new 1-363 old 6-717 new_rra 1/6 TCI 25 Dyn Free ch idx 143\\r', ' recv_sta_online: receive station msg, mac-c8:f7:33:a4:5a:2e bssid-a8:bd:27:7e:ef:31 essid-Suman-Swarm2-Cl2-123.\\r', ' recv_sta_online,1247: add client c8:f7:33:a4:5a:2e, client count 1.\\r', ' recv_stm_sta_update: receive station msg, mac-c8:f7:33:a4:5a:2e bssid-a8:bd:27:7e:ef:31 essid-Suman-Swarm2-Cl2-123.\\r', ' clarity: Warning! airwave server is empty, or central is not ready.\\r', ' AM a8:bd:27:7e:ef:20: ARM Channel Interference Trigger new 11-317 old 1-598 new_rra 11/6 TCI 19 Dyn Free ch idx 119\\r', ' AM a8:bd:27:7e:ef:20: ARM Channel Quality Threshold Trigger Current Channel 11 new_rra 6/6\\r', ' AM a8:bd:27:7e:ef:20: ARM Channel Interference Trigger new 1-320 old 6-626 new_rra 1/6 TCI 24 Dyn Free ch idx 125\\r', ' recv_sta_online: receive station msg, mac-b4:b6:76:42:5a:9f bssid-a8:bd:27:7e:ef:31 essid-Suman-Swarm2-Cl2-123.\\r', ' recv_sta_online,1247: add client b4:b6:76:42:5a:9f, client count 2.\\r', ' recv_stm_sta_update: receive station msg, mac-b4:b6:76:42:5a:9f bssid-a8:bd:27:7e:ef:31 essid-Suman-Swarm2-Cl2-123.\\r', ' clarity: Warning! airwave server is empty, or central is not ready.\\r', ' recv_sta_offline: receive station msg, mac-c8:f7:33:a4:5a:2e bssid-a8:bd:27:7e:ef:31 essid-Suman-Swarm2-Cl2-123.\\r', ' recv_sta_online: receive station msg, mac-c8:f7:33:a4:5a:2e bssid-a8:bd:27:7e:ef:31 essid-Suman-Swarm2-Cl2-123.\\r', ' recv_stm_sta_update: receive station msg, mac-c8:f7:33:a4:5a:2e bssid-a8:bd:27:7e:ef:31 essid-Suman-Swarm2-Cl2-123.\\r', ' clarity: Warning! airwave server is empty, or central is not ready.\\r', ' recv_sta_offline: receive station msg, mac-c8:f7:33:a4:5a:2e bssid-a8:bd:27:7e:ef:31 essid-Suman-Swarm2-Cl2-123.\\r', ' recv_sta_online: receive station msg, mac-c8:f7:33:a4:5a:2e bssid-a8:bd:27:7e:ef:31 essid-Suman-Swarm2-Cl2-123.\\r', ' recv_stm_sta_update: receive station msg, mac-c8:f7:33:a4:5a:2e bssid-a8:bd:27:7e:ef:31 essid-Suman-Swarm2-Cl2-123.\\r', ' clarity: Warning! airwave server is empty, or central is not ready.\\r', ' recv_sta_ageout_offline: receive station msg, mac-b4:b6:76:42:5a:9f bssid-a8:bd:27:7e:ef:31 essid-Suman-Swarm2-Cl2-123.\\r', ' recv_sta_move_req,2690: del client b4:b6:76:42:5a:9f, client count 1.\\r', ' clarity: Warning! airwave server is empty, or central is not ready.\\r', ' AM a8:bd:27:7e:ef:20: ARM Channel Interference Trigger new 11-201 old 1-552 new_rra 11/6 TCI 20 Dyn Free ch idx 110\\r', ' recv_sta_online: receive station msg, mac-c4:d9:87:03:2b:fe bssid-a8:bd:27:7e:ef:31 essid-Suman-Swarm2-Cl2-123.\\r', ' recv_sta_online,1247: add client c4:d9:87:03:2b:fe, client count 2.\\r', ' recv_stm_sta_update: receive station msg, mac-c4:d9:87:03:2b:fe bssid-a8:bd:27:7e:ef:31 essid-Suman-Swarm2-Cl2-123.\\r', ' clarity: Warning! airwave server is empty, or central is not ready.\\r', ' AM a8:bd:27:7e:ef:20: ARM Channel Quality Threshold Trigger Current Channel 11 new_rra 1/6\\r', ' AM a8:bd:27:7e:ef:20: ARM Channel Interference Trigger new 11-159 old 1-659 new_rra 11/6 TCI 21 Dyn Free ch idx 131\\r'], '<192.168.21.244 24:DE:C6:CF:63:1C>': [' AM 24:de:c6:76:31:c0: ARM Channel Interference Trigger new 11-227 old 1-343 new_rra 11/6 TCI 24 Dyn Free ch idx 68\\r', ' AM 24:de:c6:76:31:c0: ARM Channel Interference Trigger new 1-219 old 11-406 new_rra 1/6 TCI 24 Dyn Free ch idx 81\\r', ' AM 24:de:c6:76:31:c0: ARM Channel Interference Trigger new 6-253 old 1-372 new_rra 6/6 TCI 24 Dyn Free ch idx 74\\r', ' AM 24:de:c6:76:31:c0: ARM Channel Interference Trigger new 11-240 old 6-323 new_rra 11/6 TCI 21 Dyn Free ch idx 64\\r', ' AM 24:de:c6:76:31:c0: ARM Channel Interference Trigger new 1-230 old 11-450 new_rra 1/6 TCI 24 Dyn Free ch idx 90\\r', ' AM 24:de:c6:76:31:c0: ARM Channel Interference Trigger new 6-241 old 1-348 new_rra 6/6 TCI 25 Dyn Free ch idx 69\\r', '|ids-ap| AP(24:de:c6:76:31:c0): Rogue AP: An AP classified an access point(BSSID 84:d4:7e:50:11:e0 and SSID test-mem on CHANNEL 6) as rogue because it matched the MAC (00:0b:86:d3:3c:00) with IP (192.168.21.1).\\r', ' AM 24:de:c6:76:31:c0: ARM Channel Interference Trigger new 1-224 old 6-324 new_rra 1/6 TCI 21 Dyn Free ch idx 64\\r'], '<192.168.21.248 C8:B5:AD:C3:AF:8A>': [' VC add delta configuration id 2 to msg CLI_EXECUTE_CONFIG_COMMAND.\\r', ' VC record new delta configuration entry. cfg_id 2 current 2 top 1 len 46 port 15200 flags 1 seq 0\\r', ' The DRT version is not newer than current DRT table\\r', ' Check sum mismatch for AP-192.168.21.249, slave 33690 vs master 59781, error_cnt 1, recover_sent 0.\\r', ' Check sum mismatch for AP-192.168.21.252, slave 33690 vs master 59781, error_cnt 1, recover_sent 0.\\r', ' Check sum mismatch for AP-192.168.21.250, slave 33690 vs master 59781, error_cnt 1, recover_sent 0.\\r', ' Check sum mismatch for AP-192.168.21.244, slave 33690 vs master 59781, error_cnt 1, recover_sent 0.\\r', ' Check sum mismatch for AP-192.168.21.254, slave 33690 vs master 59781, error_cnt 1, recover_sent 0.\\r', ' Check sum mismatch for AP-192.168.21.246, slave 33690 vs master 59781, error_cnt 1, recover_sent 0.\\r', ' Check sum mismatch for AP-192.168.21.251, slave 33690 vs master 59781, error_cnt 1, recover_sent 0.\\r', ' Check sum mismatch for AP-192.168.21.247, slave 33690 vs master 59781, error_cnt 1, recover_sent 0.\\r', ' The DRT version is not newer than current DRT table\\r', ' AM c8:b5:ad:ba:f8:a0: ARM Channel Quality Threshold Trigger Current Channel 1 new_rra 11/6\\r', ' The DRT version is not newer than current DRT table\\r', ' The DRT version is not newer than current DRT table\\r', ' The DRT version is not newer than current DRT table\\r', ' The DRT version is not newer than current DRT table\\r', ' AM c8:b5:ad:ba:f8:a0: ARM Channel Quality Threshold Trigger Current Channel 11 new_rra 6/6\\r', ' The DRT version is not newer than current DRT table\\r', ' The DRT version is not newer than current DRT table\\r', ' The DRT version is not newer than current DRT table\\r', ' recv_sta_update: receive station msg, mac-c4:d9:87:03:2b:fe bssid-38:17:c3:ff:fa:f1 essid-Suman-Swarm2-Cl2-123.\\r', ' The DRT version is not newer than current DRT table\\r', ' AM c8:b5:ad:ba:f8:a0: ARM Channel Quality Threshold Trigger Current Channel 6 new_rra 1/6\\r', ' The DRT version is not newer than current DRT table\\r', ' The DRT version is not newer than current DRT table\\r', ' The DRT version is not newer than current DRT table\\r', ' The DRT version is not newer than current DRT table\\r', ' The DRT version is not newer than current DRT table\\r', ' AM c8:b5:ad:ba:f8:a0: ARM Channel Quality Threshold Trigger Current Channel 1 new_rra 11/6\\r', ' The DRT version is not newer than current DRT table\\r', ' The DRT version is not newer than current DRT table\\r', ' The DRT version is not newer than current DRT table\\r', ' The DRT version is not newer than current DRT table\\r', ' AM c8:b5:ad:ba:f8:a0: ARM Channel Quality Threshold Trigger Current Channel 11 new_rra 6/6\\r', ' The DRT version is not newer than current DRT table\\r', ' Aruba Central retry fail, transfer to local mode.\\r', ' IAP mgmt mode is changed from athena-mgmt to local-mgmt\\r', ' The DRT version is not newer than current DRT table\\r', ' athena_redirect launch websocket connecting...\\r', ' The DRT version is not newer than current DRT table\\r', ' The DRT version is not newer than current DRT table\\r', ' AM c8:b5:ad:ba:f8:a0: ARM Channel Quality Threshold Trigger Current Channel 6 new_rra 1/6\\r', ' The DRT version is not newer than current DRT table\\r', ' The DRT version is not newer than current DRT table\\r', ' The DRT version is not newer than current DRT table\\r', ' The DRT version is not newer than current DRT table\\r', ' AM c8:b5:ad:ba:f8:a0: ARM Channel Quality Threshold Trigger Current Channel 1 new_rra 11/6\\r', ' The DRT version is not newer than current DRT table\\r', ' The DRT version is not newer than current DRT table\\r', ' The DRT version is not newer than current DRT table\\r', ' recv_sta_update: receive station msg, mac-c8:f7:33:a4:5a:2e bssid-b4:5d:50:d5:ad:51 essid-Suman-Swarm2-Cl2-123.\\r', ' recv_sta_update: receive station msg, mac-c8:f7:33:a4:5a:2e bssid-b4:5d:50:d5:ad:51 essid-Suman-Swarm2-Cl2-123.\\r', ' The DRT version is not newer than current DRT table\\r', ' AM c8:b5:ad:ba:f8:a0: ARM Channel Quality Threshold Trigger Current Channel 11 new_rra 6/6\\r', ' AM c8:b5:ad:ba:f8:a0: ARM Channel Quality Threshold Trigger Current Channel 6 new_rra 11/6\\r', ' AM c8:b5:ad:ba:f8:a0: ARM Channel Quality Threshold Trigger Current Channel 11 new_rra 1/6\\r', ' recv_sta_update: receive station msg, mac-c8:f7:33:a4:5a:2e bssid-a8:bd:27:7e:ef:31 essid-Suman-Swarm2-Cl2-123.\\r', ' Aruba Central retry fail, transfer to local mode.\\r', ' athena_redirect launch websocket connecting...\\r', ' AM c8:b5:ad:ba:f8:a0: ARM Channel Quality Threshold Trigger Current Channel 1 new_rra 11/6\\r', ' AM c8:b5:ad:ba:f8:a0: ARM Channel Quality Threshold Trigger Current Channel 11 new_rra 6/6\\r', ' AM c8:b5:ad:ba:f8:a0: ARM Channel Quality Threshold Trigger Current Channel 6 new_rra 11/6\\r', ' AM c8:b5:ad:ba:f8:a0: ARM Channel Quality Threshold Trigger Current Channel 11 new_rra 1/6\\r', ' AM c8:b5:ad:ba:f8:a0: ARM Channel Quality Threshold Trigger Current Channel 1 new_rra 6/6\\r', ' AM c8:b5:ad:ba:f8:a0: ARM Channel Quality Threshold Trigger Current Channel 6 new_rra 11/6\\r', ' Aruba Central retry fail, transfer to local mode.\\r', ' IAP mgmt mode is changed from athena-mgmt to local-mgmt\\r', ' athena_redirect launch websocket connecting...\\r', ' AM c8:b5:ad:ba:f8:a0: ARM Noise Threshold Trigger Current Channel 11 new_rra 1/6\\r', ' recv_sta_update: receive station msg, mac-b4:b6:76:42:5a:9f bssid-a8:bd:27:7e:ef:31 essid-Suman-Swarm2-Cl2-123.\\r', ' recv_sta_update: receive station msg, mac-c8:f7:33:a4:5a:2e bssid-a8:bd:27:7e:ef:31 essid-Suman-Swarm2-Cl2-123.\\r', ' AM c8:b5:ad:ba:f8:a0: ARM Channel Quality Threshold Trigger Current Channel 1 new_rra 11/6\\r', ' Execute command-debug pkt reset.\\r', ' Execute command-debug pkt type icmp.\\r', ' recv_sta_update: receive station msg, mac-c8:f7:33:a4:5a:2e bssid-a8:bd:27:7e:ef:31 essid-Suman-Swarm2-Cl2-123.\\r', ' Execute command-debug pkt match mac c8:f7:33:a4:5a:2e.\\r', ' Execute command-debug pkt dump.\\r', ' AM c8:b5:ad:ba:f8:a0: ARM Channel Quality Threshold Trigger Current Channel 11 new_rra 6/6\\r', ' recv_sta_update: receive station msg, mac-00:50:b6:0d:c5:a0 bssid-b4:5d:50:c5:5a:d5 essid-__wired__eth1.\\r', ' recv_sta_update,1737: add client 00:50:b6:0d:c5:a0, client count 1.\\r', ' recv_sta_update: receive station msg, mac-b4:b6:76:42:5a:9f bssid-b4:5d:50:d5:ad:51 essid-Suman-Swarm2-Cl2-123.\\r', ' recv_sta_update: receive station msg, mac-b4:b6:76:42:5a:9f bssid-b4:5d:50:d5:ad:51 essid-Suman-Swarm2-Cl2-123.\\r', ' recv_sta_update: receive station msg, mac-b4:b6:76:42:5a:9f bssid-b4:5d:50:d5:ad:51 essid-Suman-Swarm2-Cl2-123.\\r', ' recv_sta_update: receive station msg, mac-b4:b6:76:42:5a:9f bssid-b4:5d:50:d5:ad:51 essid-Suman-Swarm2-Cl2-123.\\r', ' AM c8:b5:ad:ba:f8:a0: ARM Channel Quality Threshold Trigger Current Channel 6 new_rra 1/6\\r', ' recv_sta_update: receive station msg, mac-c4:d9:87:03:2b:fe bssid-b4:5d:50:d5:ad:51 essid-Suman-Swarm2-Cl2-123.\\r', ' AM c8:b5:ad:ba:f8:a0: ARM Channel Quality Threshold Trigger Current Channel 1 new_rra 6/6\\r', ' recv_sta_acct_update: receive station msg, mac-00:50:b6:0d:c5:a0 bssid-b4:5d:50:c5:5a:d5 essid-__wired__eth1.\\r', ' Aruba Central retry fail, transfer to local mode.\\r', ' IAP mgmt mode is changed from athena-mgmt to local-mgmt\\r', ' athena_redirect launch websocket connecting...\\r', ' AM c8:b5:ad:ba:f8:a0: ARM Channel Quality Threshold Trigger Current Channel 6 new_rra 1/6\\r', ' AM c8:b5:ad:ba:f8:a0: ARM Channel Quality Threshold Trigger Current Channel 1 new_rra 11/6\\r', ' AM c8:b5:ad:ba:f8:a0: ARM Channel Quality Threshold Trigger Current Channel 11 new_rra 1/6\\r', ' recv_sta_update: receive station msg, mac-c4:d9:87:03:2b:fe bssid-40:e3:d6:be:31:e1 essid-Suman-Swarm2-Cl2-123.\\r', ' recv_sta_update: receive station msg, mac-c4:d9:87:03:2b:fe bssid-a8:bd:27:7e:ef:31 essid-Suman-Swarm2-Cl2-123.\\r', ' AM c8:b5:ad:ba:f8:a0: ARM Channel Quality Threshold Trigger Current Channel 1 new_rra 11/6\\r', ' AM c8:b5:ad:ba:f8:a0: ARM Channel Quality Threshold Trigger Current Channel 11 new_rra 6/6\\r', ' AM c8:b5:ad:ba:f8:a0: ARM Channel Quality Threshold Trigger Current Channel 6 new_rra 11/6\\r', ' Aruba Central retry fail, transfer to local mode.\\r', ' IAP mgmt mode is changed from athena-mgmt to local-mgmt\\r', ' athena_redirect launch websocket connecting...\\r', ' AM c8:b5:ad:ba:f8:a0: ARM Channel Quality Threshold Trigger Current Channel 11 new_rra 6/6\\r', ' swarm_timer_handler,12963: del client 00:50:b6:0d:c5:a0, client count 0.\\r', ' recv_sta_update: receive station msg, mac-b4:b6:76:42:5a:9f bssid-38:17:c3:ff:fa:f1 essid-Suman-Swarm2-Cl2-123.\\r', ' recv_sta_update: receive station msg, mac-b4:b6:76:42:5a:9f bssid-38:17:c3:ff:fa:f1 essid-Suman-Swarm2-Cl2-123.\\r', ' recv_sta_update: receive station msg, mac-b4:b6:76:42:5a:9f bssid-38:17:c3:ff:fa:f1 essid-Suman-Swarm2-Cl2-123.\\r', ' AM c8:b5:ad:ba:f8:a0: ARM Channel Quality Threshold Trigger Current Channel 6 new_rra 11/6\\r'], '<192.168.21.251 18:64:72:C6:3E:6C>': [' AM 18:64:72:e3:e6:c0: ARM Channel Interference Trigger new 1-110 old 11-254 new_rra 1/6 TCI 18 Dyn Free ch idx 50\\r', ' AM 18:64:72:e3:e6:c0: ARM Channel Interference Trigger new 11-140 old 1-189 new_rra 11/6 TCI 17 Dyn Free ch idx 37\\r', ' AM 18:64:72:e3:e6:c0: ARM Channel Interference Trigger new 6-125 old 11-202 new_rra 6/6 TCI 18 Dyn Free ch idx 40\\r'], '<192.168.21.249 38:17:C3:C7:FF:AE>': [' recv_sta_ageout_offline: receive station msg, mac-c8:f7:33:a4:5a:2e bssid-38:17:c3:ff:fa:f1 essid-Suman-Swarm2-Cl2-123.\\r', ' recv_sta_move_req,2690: del client c8:f7:33:a4:5a:2e, client count 2.\\r', ' clarity: Warning! airwave server is empty, or central is not ready.\\r', ' AM 38:17:c3:ff:fa:e0: ARM Channel Interference Trigger new 11-302 old 6-762 new_rra 11/6 TCI 27 Dyn Free ch idx 152\\r', '|ids-ap| AP(38:17:c3:ff:fa:e0): Cleared Rogue AP: An AP that previously classified an access point (BSSID 84:d4:7e:50:11:e0 and SSID test-mem on CHANNEL 11) as rogue, no longer considers it rogue or it was removed from the network.\\r', ' Process /aruba/bin/radiusd-term [pid 26063] died: got signal SIGTERM\\r', ' Restarted process /aruba/bin/radiusd-term, new pid 26081\\r', ' AM 38:17:c3:ff:fa:e0: ARM Channel Quality Threshold Trigger Current Channel 11 new_rra 1/6\\r', ' AM 38:17:c3:ff:fa:e0: ARM Channel Interference Trigger new 11-328 old 1-619 new_rra 11/6 TCI 22 Dyn Free ch idx 123\\r', ' recv_sta_ageout_offline: receive station msg, mac-b4:b6:76:42:5a:9f bssid-38:17:c3:ff:fa:f1 essid-Suman-Swarm2-Cl2-123.\\r', ' recv_sta_move_req,2690: del client b4:b6:76:42:5a:9f, client count 1.\\r', ' clarity: Warning! airwave server is empty, or central is not ready.\\r', ' AM 38:17:c3:ff:fa:e0: ARM Channel Quality Threshold Trigger Current Channel 11 new_rra 1/6\\r', ' recv_sta_ageout_offline: receive station msg, mac-c4:d9:87:03:2b:fe bssid-38:17:c3:ff:fa:f1 essid-Suman-Swarm2-Cl2-123.\\r', ' recv_sta_move_req,2690: del client c4:d9:87:03:2b:fe, client count 0.\\r', ' clarity: Warning! airwave server is empty, or central is not ready.\\r', ' AM 38:17:c3:ff:fa:f0: ARM Channel Interference Trigger new 140-46 old 153-125 new_rra 140/9 TCI 10 Dyn Free ch idx 25\\r', ' AM 38:17:c3:ff:fa:f0: ARM Channel 140 Physical_Error_Rate 0 MAC_Error_Rate 86 Frame_Retry_Rate 0 arm_error_rate_threshold 70 arm_error_rate_wait_time 90\\r', ' AM 38:17:c3:ff:fa:f0: ARM Error Threshold Trigger Current Channel 140 new_rra 165/9\\r', ' recv_sta_online: receive station msg, mac-b4:b6:76:42:5a:9f bssid-38:17:c3:ff:fa:f1 essid-Suman-Swarm2-Cl2-123.\\r', ' recv_sta_online,1247: add client b4:b6:76:42:5a:9f, client count 1.\\r', ' recv_stm_sta_update: receive station msg, mac-b4:b6:76:42:5a:9f bssid-38:17:c3:ff:fa:f1 essid-Suman-Swarm2-Cl2-123.\\r', ' clarity: Warning! airwave server is empty, or central is not ready.\\r'], '<192.168.21.254 B4:5D:50:C5:5A:D4>': [' AM b4:5d:50:d5:ad:40: ARM Channel Interference Trigger new 1-395 old 11-1041 new_rra 1/6 TCI 29 Dyn Free ch idx 208\\r', ' recv_sta_online: receive station msg, mac-c8:f7:33:a4:5a:2e bssid-b4:5d:50:d5:ad:51 essid-Suman-Swarm2-Cl2-123.\\r', ' recv_sta_online,1247: add client c8:f7:33:a4:5a:2e, client count 2.\\r', ' recv_stm_sta_update: receive station msg, mac-c8:f7:33:a4:5a:2e bssid-b4:5d:50:d5:ad:51 essid-Suman-Swarm2-Cl2-123.\\r', ' clarity: Warning! airwave server is empty, or central is not ready.\\r', ' recv_sta_ageout_offline: receive station msg, mac-c8:f7:33:a4:5a:2e bssid-b4:5d:50:d5:ad:51 essid-Suman-Swarm2-Cl2-123.\\r', ' recv_sta_move_req,2690: del client c8:f7:33:a4:5a:2e, client count 1.\\r', ' clarity: Warning! airwave server is empty, or central is not ready.\\r', ' AM b4:5d:50:d5:ad:40: ARM Channel Interference Trigger new 11-609 old 1-802 new_rra 11/6 TCI 26 Dyn Free ch idx 160\\r', ' AM b4:5d:50:d5:ad:40: ARM Channel Quality Threshold Trigger Current Channel 11 new_rra 6/6\\r', ' recv_sta_online: receive station msg, mac-00:50:b6:0d:c5:a0 bssid-b4:5d:50:c5:5a:d5 essid-__wired__eth1.\\r', ' recv_sta_online,1247: add client 00:50:b6:0d:c5:a0, client count 1.\\r', ' recv_stm_sta_update: receive station msg, mac-00:50:b6:0d:c5:a0 bssid-b4:5d:50:c5:5a:d5 essid-__wired__eth1.\\r', '|ids-ap| AP(b4:5d:50:d5:ad:40): Rogue AP: An AP classified an access point(BSSID 84:d4:7e:50:11:e0 and SSID test-mem on CHANNEL 6) as rogue because it matched the MAC (00:0b:86:d3:3c:00) with IP (192.168.21.1).\\r', ' recv_sta_online: receive station msg, mac-b4:b6:76:42:5a:9f bssid-b4:5d:50:d5:ad:51 essid-Suman-Swarm2-Cl2-123.\\r', ' recv_sta_online,1247: add client b4:b6:76:42:5a:9f, client count 2.\\r', ' recv_stm_sta_update: receive station msg, mac-b4:b6:76:42:5a:9f bssid-b4:5d:50:d5:ad:51 essid-Suman-Swarm2-Cl2-123.\\r', ' clarity: Warning! airwave server is empty, or central is not ready.\\r', ' recv_sta_online: receive station msg, mac-c4:d9:87:03:2b:fe bssid-b4:5d:50:d5:ad:51 essid-Suman-Swarm2-Cl2-123.\\r', ' recv_sta_online,1247: add client c4:d9:87:03:2b:fe, client count 3.\\r', ' recv_stm_sta_update: receive station msg, mac-c4:d9:87:03:2b:fe bssid-b4:5d:50:d5:ad:51 essid-Suman-Swarm2-Cl2-123.\\r', ' AM b4:5d:50:d5:ad:40: ARM Channel Interference Trigger new 1-393 old 6-539 new_rra 1/6 TCI 27 Dyn Free ch idx 107\\r', ' clarity: Warning! airwave server is empty, or central is not ready.\\r', ' recv_sta_ageout_offline: receive station msg, mac-00:50:b6:0d:c5:a0 bssid-b4:5d:50:c5:5a:d5 essid-__wired__eth1.\\r', ' clarity: Warning! airwave server is empty, or central is not ready.\\r', ' swarm_timer_handler,12963: del client 00:50:b6:0d:c5:a0, client count 0.\\r', ' disconnect_user: send disconnect user, AP ip: 192.168.21.254, client ip 172.20.100.239.\\r', ' AM b4:5d:50:d5:ad:50: ARM - decreasing power cov-index 25/0 tx-power 9 new_rra 165/7\\r', ' recv_sta_ageout_offline: receive station msg, mac-c4:d9:87:03:2b:fe bssid-b4:5d:50:d5:ad:51 essid-Suman-Swarm2-Cl2-123.\\r', ' recv_sta_move_req,2690: del client c4:d9:87:03:2b:fe, client count 2.\\r', ' clarity: Warning! airwave server is empty, or central is not ready.\\r', ' AM b4:5d:50:d5:ad:50: ARM - increasing power cov-index 7/0 tx-power 7 new_rra 165/8\\r', ' AM b4:5d:50:d5:ad:50: ARM - decreasing power cov-index 21/0 tx-power 8 new_rra 165/6\\r', ' recv_sta_ageout_offline: receive station msg, mac-b4:b6:76:42:5a:9f bssid-b4:5d:50:d5:ad:51 essid-Suman-Swarm2-Cl2-123.\\r', ' recv_sta_move_req,2690: del client b4:b6:76:42:5a:9f, client count 1.\\r', ' clarity: Warning! airwave server is empty, or central is not ready.\\r']}\n",
    "print (len(dct['<192.168.21.247 38:17:C3:C8:02:44>']))"
   ]
  },
  {
   "cell_type": "code",
   "execution_count": 138,
   "metadata": {},
   "outputs": [
    {
     "data": {
      "text/plain": [
       "['8.3.0.0', '65432_1234']"
      ]
     },
     "execution_count": 138,
     "metadata": {},
     "output_type": "execute_result"
    }
   ],
   "source": [
    "buildnumber = '8.3.0.0_65432_1234'\n",
    "build= buildnumber.split('_',1)\n",
    "build\n"
   ]
  },
  {
   "cell_type": "code",
   "execution_count": 144,
   "metadata": {},
   "outputs": [
    {
     "data": {
      "text/plain": [
       "'8.3.0.0'"
      ]
     },
     "execution_count": 144,
     "metadata": {},
     "output_type": "execute_result"
    }
   ],
   "source": [
    "buildnumber = '8.3.0.0_65432'\n",
    "build,version = buildnumber.rsplit('_',1)\n",
    "build\n"
   ]
  },
  {
   "cell_type": "code",
   "execution_count": 139,
   "metadata": {},
   "outputs": [
    {
     "data": {
      "text/plain": [
       "['abc', 'bde']"
      ]
     },
     "execution_count": 139,
     "metadata": {},
     "output_type": "execute_result"
    }
   ],
   "source": [
    "\"abc\\nbde\\n\".splitlines()"
   ]
  },
  {
   "cell_type": "code",
   "execution_count": 150,
   "metadata": {},
   "outputs": [
    {
     "data": {
      "text/plain": [
       "'65432'"
      ]
     },
     "execution_count": 150,
     "metadata": {},
     "output_type": "execute_result"
    }
   ],
   "source": [
    "match = re.search(version,buildnumber)\n",
    "match.group()\n"
   ]
  },
  {
   "cell_type": "code",
   "execution_count": null,
   "metadata": {
    "collapsed": true
   },
   "outputs": [],
   "source": []
  }
 ],
 "metadata": {
  "kernelspec": {
   "display_name": "Python 3",
   "language": "python",
   "name": "python3"
  },
  "language_info": {
   "codemirror_mode": {
    "name": "ipython",
    "version": 3
   },
   "file_extension": ".py",
   "mimetype": "text/x-python",
   "name": "python",
   "nbconvert_exporter": "python",
   "pygments_lexer": "ipython3",
   "version": "3.6.1"
  }
 },
 "nbformat": 4,
 "nbformat_minor": 2
}
