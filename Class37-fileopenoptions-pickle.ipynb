{
 "cells": [
  {
   "cell_type": "code",
   "execution_count": 1,
   "metadata": {
    "collapsed": true
   },
   "outputs": [],
   "source": [
    "# Types of Files in Python\n",
    "\n",
    "# Text File\n",
    "# Binary File"
   ]
  },
  {
   "cell_type": "code",
   "execution_count": null,
   "metadata": {
    "collapsed": true
   },
   "outputs": [],
   "source": [
    "# opening a file\n",
    "\n",
    "file_handler = open('filename','open mode',\"buffering\")"
   ]
  },
  {
   "cell_type": "code",
   "execution_count": null,
   "metadata": {
    "collapsed": true
   },
   "outputs": [],
   "source": [
    "# different types of mode\n",
    "\n",
    "w = write\n",
    "r = read\n",
    "a = append, if the file does not exist, then it will create a new file. \n",
    "w+ = write and read data of a file. The previous data in the file will be deleted. \n",
    "r+ = read and write data into a file. The previous data in the file will not be deleted.\n",
    "a+ = To append and read data of a file. The file pointer will be at the end of the file if the file exists.\n",
    "If the file does not exist, it creates a new file for reading and writing.\n",
    "x = to open the file in exclussive creation mode. "
   ]
  },
  {
   "cell_type": "code",
   "execution_count": 5,
   "metadata": {
    "collapsed": true
   },
   "outputs": [],
   "source": [
    "# open a file\n",
    "f = open('myfile.txt',\"w\")\n",
    "\n",
    "# Write something over the file\n",
    "f.write('I am good')\n",
    "\n",
    "# close a file\n",
    "f.close()"
   ]
  },
  {
   "cell_type": "code",
   "execution_count": 14,
   "metadata": {
    "collapsed": true
   },
   "outputs": [],
   "source": [
    "f3 = open('myfile3.txt')"
   ]
  },
  {
   "cell_type": "code",
   "execution_count": 15,
   "metadata": {
    "collapsed": true
   },
   "outputs": [],
   "source": [
    "f3.close()"
   ]
  },
  {
   "cell_type": "code",
   "execution_count": 16,
   "metadata": {},
   "outputs": [
    {
     "name": "stdout",
     "output_type": "stream",
     "text": [
      "Enter text: \n",
      "hi how are you?\n"
     ]
    },
    {
     "data": {
      "text/plain": [
       "<function TextIOWrapper.close>"
      ]
     },
     "execution_count": 16,
     "metadata": {},
     "output_type": "execute_result"
    }
   ],
   "source": [
    "f1 = open('myfile.txt',\"w\")\n",
    "\n",
    "str = input('Enter text: \\n')\n",
    "\n",
    "f1.write(str)\n",
    "\n",
    "f1.close"
   ]
  },
  {
   "cell_type": "code",
   "execution_count": 19,
   "metadata": {},
   "outputs": [
    {
     "name": "stdout",
     "output_type": "stream",
     "text": [
      "hey I am not here\n",
      "\n"
     ]
    }
   ],
   "source": [
    "f1 = open('myfile.txt',\"r\")\n",
    "\n",
    "str = f1.read()\n",
    "\n",
    "# display\n",
    "\n",
    "print (str)\n",
    "\n",
    "f1.close()"
   ]
  },
  {
   "cell_type": "code",
   "execution_count": 11,
   "metadata": {},
   "outputs": [
    {
     "name": "stdout",
     "output_type": "stream",
     "text": [
      "Enter text (@ at the end): \n",
      "one\n",
      "two\n",
      "three\n",
      "@\n"
     ]
    }
   ],
   "source": [
    "f = open('myfile.txt', 'w')\n",
    "\n",
    "print ('Enter text (@ at the end): ')\n",
    "\n",
    "while str != '@':\n",
    "    str = input()\n",
    "    if (str !='@'):\n",
    "        f.write(str + \"\\n\")\n",
    "        \n",
    "f.close()"
   ]
  },
  {
   "cell_type": "code",
   "execution_count": 3,
   "metadata": {},
   "outputs": [
    {
     "ename": "ValueError",
     "evalue": "I/O operation on closed file.",
     "output_type": "error",
     "traceback": [
      "\u001b[1;31m---------------------------------------------------------------------------\u001b[0m",
      "\u001b[1;31mValueError\u001b[0m                                Traceback (most recent call last)",
      "\u001b[1;32m<ipython-input-3-c70b10935e78>\u001b[0m in \u001b[0;36m<module>\u001b[1;34m()\u001b[0m\n\u001b[1;32m----> 1\u001b[1;33m \u001b[0mf\u001b[0m\u001b[1;33m.\u001b[0m\u001b[0mread\u001b[0m\u001b[1;33m(\u001b[0m\u001b[1;33m)\u001b[0m\u001b[1;33m\u001b[0m\u001b[0m\n\u001b[0m\u001b[0;32m      2\u001b[0m \u001b[1;33m\u001b[0m\u001b[0m\n\u001b[0;32m      3\u001b[0m \u001b[1;31m#This is my file line\u001b[0m\u001b[1;33m\u001b[0m\u001b[1;33m\u001b[0m\u001b[0m\n\u001b[0;32m      4\u001b[0m \u001b[1;31m#This is line two\u001b[0m\u001b[1;33m\u001b[0m\u001b[1;33m\u001b[0m\u001b[0m\n",
      "\u001b[1;31mValueError\u001b[0m: I/O operation on closed file."
     ]
    }
   ],
   "source": [
    "f.read()\n",
    "\n",
    "#This is my file line \n",
    "#This is line two"
   ]
  },
  {
   "cell_type": "code",
   "execution_count": null,
   "metadata": {
    "collapsed": true
   },
   "outputs": [],
   "source": [
    "f.readlines()\n",
    "\n",
    "['This is my file line.\\n', 'This is line two.\\n']"
   ]
  },
  {
   "cell_type": "code",
   "execution_count": null,
   "metadata": {
    "collapsed": true
   },
   "outputs": [],
   "source": [
    "f.read().splitlines()"
   ]
  },
  {
   "cell_type": "code",
   "execution_count": null,
   "metadata": {
    "collapsed": true
   },
   "outputs": [],
   "source": [
    "['This is my file line.', 'This is line two.']"
   ]
  },
  {
   "cell_type": "code",
   "execution_count": 12,
   "metadata": {},
   "outputs": [
    {
     "name": "stdout",
     "output_type": "stream",
     "text": [
      "The file contens are: \n",
      "one\n",
      "two\n",
      "three\n",
      "\n"
     ]
    }
   ],
   "source": [
    "f = open('myfile.txt','r')\n",
    "\n",
    "print ('The file contens are: ')\n",
    "\n",
    "str = f.read() # 1\n",
    "\n",
    "print (str)\n",
    "\n",
    "f.close()"
   ]
  },
  {
   "cell_type": "code",
   "execution_count": 14,
   "metadata": {},
   "outputs": [
    {
     "name": "stdout",
     "output_type": "stream",
     "text": [
      "The file contens are: \n",
      "['one\\n', 'two\\n', 'three\\n']\n"
     ]
    }
   ],
   "source": [
    "f = open('myfile.txt','r')\n",
    "\n",
    "print ('The file contens are: ')\n",
    "\n",
    "str = f.readlines() # 2 \n",
    "\n",
    "print (str)\n",
    "\n",
    "f.close()"
   ]
  },
  {
   "cell_type": "code",
   "execution_count": 26,
   "metadata": {},
   "outputs": [
    {
     "name": "stdout",
     "output_type": "stream",
     "text": [
      "The file contens are: \n",
      "['This is my file line one.', 'This is my file line two']\n"
     ]
    }
   ],
   "source": [
    "f = open('myfile.txt','r')\n",
    "\n",
    "print ('The file contens are: ')\n",
    "\n",
    "str = f.read().splitlines()# 2 \n",
    "\n",
    "print (str)\n",
    "\n",
    "f.close()"
   ]
  },
  {
   "cell_type": "code",
   "execution_count": 27,
   "metadata": {
    "collapsed": true
   },
   "outputs": [],
   "source": [
    "f = open('myfile.txt','r')"
   ]
  },
  {
   "cell_type": "code",
   "execution_count": 28,
   "metadata": {
    "collapsed": true
   },
   "outputs": [],
   "source": [
    "f.close()"
   ]
  },
  {
   "cell_type": "code",
   "execution_count": null,
   "metadata": {
    "collapsed": true
   },
   "outputs": [],
   "source": [
    "# f.seek(offset,fromwhere)\n",
    "# offset represent, how many bytes to move. fromwhere - represent from which position to move. \n",
    "\n",
    "f.seek(10,0)\n",
    "\n",
    "o , represent from the beginning of the file, 1 represent from the current position in the file, \n",
    "and 2 rep end of the file."
   ]
  },
  {
   "cell_type": "code",
   "execution_count": 33,
   "metadata": {},
   "outputs": [
    {
     "name": "stdout",
     "output_type": "stream",
     "text": [
      "Enter text (@ at the end): \n",
      "This is line number two\n",
      "@\n",
      "The file contens are : \n",
      "This line i added.\n",
      "This line is added.\n",
      "This is line number two\n",
      "\n"
     ]
    }
   ],
   "source": [
    "f = open('myfile.txt', 'a+')\n",
    "\n",
    "print ('Enter text (@ at the end): ')\n",
    "\n",
    "while str != '@':\n",
    "    str = input()\n",
    "    if (str !='@'):\n",
    "        f.write(str + \"\\n\")\n",
    "        \n",
    "f.seek(0,0)\n",
    "\n",
    "print ('The file contens are : ')\n",
    "\n",
    "str = f.read()\n",
    "print (str)\n",
    "f.close()"
   ]
  },
  {
   "cell_type": "code",
   "execution_count": 30,
   "metadata": {
    "collapsed": true
   },
   "outputs": [],
   "source": [
    "f.close()"
   ]
  },
  {
   "cell_type": "code",
   "execution_count": 40,
   "metadata": {},
   "outputs": [
    {
     "name": "stdout",
     "output_type": "stream",
     "text": [
      "This line i added.\n",
      "This line is added.\n",
      "This is line number two\n",
      "\n"
     ]
    }
   ],
   "source": [
    "f = open('myfile.txt', 'a+')\n",
    "\n",
    "f.seek(0,0)\n",
    "\n",
    "str = f.read()\n",
    "print (str)\n",
    "f.close()\n"
   ]
  },
  {
   "cell_type": "code",
   "execution_count": 45,
   "metadata": {},
   "outputs": [
    {
     "name": "stdout",
     "output_type": "stream",
     "text": [
      "line i added.\n",
      "This line is added.\n",
      "This is line number two\n",
      "\n"
     ]
    }
   ],
   "source": [
    "f = open('myfile.txt', 'a+')\n",
    "\n",
    "f.seek(5,0)\n",
    "\n",
    "str = f.read()\n",
    "print (str)\n",
    "f.close()"
   ]
  },
  {
   "cell_type": "code",
   "execution_count": 46,
   "metadata": {
    "collapsed": true
   },
   "outputs": [],
   "source": [
    "import os"
   ]
  },
  {
   "cell_type": "code",
   "execution_count": 47,
   "metadata": {
    "collapsed": true
   },
   "outputs": [],
   "source": [
    "# where a file exists or not. "
   ]
  },
  {
   "cell_type": "code",
   "execution_count": null,
   "metadata": {
    "collapsed": true
   },
   "outputs": [],
   "source": [
    "if os.path.isfile(fname):\n",
    "    f = open(fname, 'r')\n",
    "else:\n",
    "    print(fname + 'does not exist')\n",
    "    sys.exit() # terminate the program"
   ]
  },
  {
   "cell_type": "code",
   "execution_count": 50,
   "metadata": {},
   "outputs": [
    {
     "name": "stdout",
     "output_type": "stream",
     "text": [
      "Enter filenname: asdfasdf\n",
      "asdfasdf does not exist\n"
     ]
    },
    {
     "ename": "SystemExit",
     "evalue": "",
     "output_type": "error",
     "traceback": [
      "An exception has occurred, use %tb to see the full traceback.\n",
      "\u001b[0;31mSystemExit\u001b[0m\n"
     ]
    },
    {
     "name": "stderr",
     "output_type": "stream",
     "text": [
      "/Users/aws/anaconda/lib/python3.6/site-packages/IPython/core/interactiveshell.py:2889: UserWarning: To exit: use 'exit', 'quit', or Ctrl-D.\n",
      "  warn(\"To exit: use 'exit', 'quit', or Ctrl-D.\", stacklevel=1)\n"
     ]
    }
   ],
   "source": [
    "import os,sys\n",
    "\n",
    "fname = input('Enter filenname: ')\n",
    "\n",
    "if os.path.isfile(fname):\n",
    "    f = open(fname, 'r')\n",
    "else:\n",
    "    print(fname + ' does not exist')\n",
    "    sys.exit() # terminate the program\n",
    "    \n",
    "# read strings from the file\n",
    "print ('The file contents are : ')\n",
    "\n",
    "str = f.read()\n",
    "print (str)\n",
    "\n",
    "f.close()"
   ]
  },
  {
   "cell_type": "code",
   "execution_count": null,
   "metadata": {
    "collapsed": true
   },
   "outputs": [],
   "source": [
    "for line in f:\n",
    "    print (line)"
   ]
  },
  {
   "cell_type": "code",
   "execution_count": null,
   "metadata": {
    "collapsed": true
   },
   "outputs": [],
   "source": [
    "for line in f:\n",
    "    print (line)\n",
    "    words = line.split()\n",
    "    print (words)"
   ]
  },
  {
   "cell_type": "code",
   "execution_count": null,
   "metadata": {
    "collapsed": true
   },
   "outputs": [],
   "source": [
    "for line in f:\n",
    "    print (line)\n",
    "    words = line.split()\n",
    "    print (words)\n",
    "    c1 += 1 \n",
    "    cw += len(words)\n",
    "    cc += len(line)"
   ]
  },
  {
   "cell_type": "code",
   "execution_count": 51,
   "metadata": {},
   "outputs": [
    {
     "name": "stdout",
     "output_type": "stream",
     "text": [
      "Enter filename: myfile.txt\n",
      "No of lines:  3\n",
      "No of words:  13\n",
      "No of characters:  63\n"
     ]
    }
   ],
   "source": [
    "import os,sys\n",
    "fname = input('Enter filename: ')\n",
    "\n",
    "if os.path.isfile(fname):\n",
    "    f = open(fname, 'r')\n",
    "else:\n",
    "    print (fname = ' does not exist')\n",
    "    sys.exit()\n",
    "\n",
    "# counters\n",
    "cl = cw = cc = 0\n",
    "\n",
    "for line in f:\n",
    "    words = line.split()\n",
    "    cl += 1\n",
    "    cw += len(words)\n",
    "    cc += len(line)\n",
    "    \n",
    "print ('No of lines: ', cl)\n",
    "print ('No of words: ', cw)\n",
    "print ('No of characters: ',cc )\n",
    "\n",
    "f.close()"
   ]
  },
  {
   "cell_type": "code",
   "execution_count": 52,
   "metadata": {
    "collapsed": true
   },
   "outputs": [],
   "source": [
    "# Working with Binary files. "
   ]
  },
  {
   "cell_type": "code",
   "execution_count": 53,
   "metadata": {
    "collapsed": true
   },
   "outputs": [],
   "source": [
    "f1 = open('cat.jpeg', 'rb')\n",
    "f2 = open('new.jpeg','wb')\n",
    "\n",
    "bytes = f1.read()\n",
    "f2.write(bytes)\n",
    "\n",
    "f1.close()\n",
    "f2.close()"
   ]
  },
  {
   "cell_type": "code",
   "execution_count": 54,
   "metadata": {},
   "outputs": [
    {
     "data": {
      "text/plain": [
       "'/Users/aws'"
      ]
     },
     "execution_count": 54,
     "metadata": {},
     "output_type": "execute_result"
    }
   ],
   "source": [
    "pwd"
   ]
  },
  {
   "cell_type": "code",
   "execution_count": null,
   "metadata": {
    "collapsed": true
   },
   "outputs": [],
   "source": [
    "f1 = open('c:\\\\asdf\\\\asdfas\\\\cat.jpeg')"
   ]
  },
  {
   "cell_type": "code",
   "execution_count": 61,
   "metadata": {
    "collapsed": true
   },
   "outputs": [],
   "source": [
    "# with \n",
    "# with open('filename','openmode') as fileobject\n",
    "\n",
    "with open('sample.txt','a') as f : \n",
    "    f.write('I am a another learner\\n')\n",
    "    f.write('I am a another python learner\\n')"
   ]
  },
  {
   "cell_type": "code",
   "execution_count": 63,
   "metadata": {},
   "outputs": [
    {
     "name": "stdout",
     "output_type": "stream",
     "text": [
      "I am a another learner\n",
      "\n",
      "I am a another python learner\n",
      "\n",
      "I am a another learner\n",
      "\n",
      "I am a another python learner\n",
      "\n",
      "I am a another learner\n",
      "\n",
      "I am a another python learner\n",
      "\n",
      "I am a another learner\n",
      "\n",
      "I am a another python learner\n",
      "\n"
     ]
    }
   ],
   "source": [
    "with open('sample.txt','r') as f : \n",
    "    for line in f:\n",
    "        print (line)"
   ]
  },
  {
   "cell_type": "code",
   "execution_count": 64,
   "metadata": {
    "collapsed": true
   },
   "outputs": [],
   "source": [
    "# pickle"
   ]
  },
  {
   "cell_type": "code",
   "execution_count": 70,
   "metadata": {
    "collapsed": true
   },
   "outputs": [],
   "source": [
    "class Emp:\n",
    "    def __init__(self,id,name,sal):\n",
    "        self.id = id\n",
    "        self.name = name\n",
    "        self.sal = sal\n",
    "        \n",
    "    def display(self):\n",
    "        print (\"{:5d} {:20s} {:10.2f}\".format(self.id,self.name,self.sal))"
   ]
  },
  {
   "cell_type": "code",
   "execution_count": 71,
   "metadata": {
    "collapsed": true
   },
   "outputs": [],
   "source": [
    "raj = Emp(33,'Raj',5000)"
   ]
  },
  {
   "cell_type": "code",
   "execution_count": 72,
   "metadata": {},
   "outputs": [
    {
     "name": "stdout",
     "output_type": "stream",
     "text": [
      "   33 Raj                     5000.00\n"
     ]
    }
   ],
   "source": [
    "raj.display()"
   ]
  },
  {
   "cell_type": "code",
   "execution_count": 73,
   "metadata": {
    "collapsed": true
   },
   "outputs": [],
   "source": [
    "# serialization\n",
    "\n",
    "# converting a class object into a byte of stream so that it can be stored in a file. "
   ]
  },
  {
   "cell_type": "code",
   "execution_count": null,
   "metadata": {
    "collapsed": true
   },
   "outputs": [],
   "source": [
    "# pickle.dump(object,file)\n",
    "\n",
    "# object = pickle.load(file)"
   ]
  },
  {
   "cell_type": "code",
   "execution_count": 74,
   "metadata": {
    "collapsed": true
   },
   "outputs": [],
   "source": [
    "import pickle"
   ]
  },
  {
   "cell_type": "code",
   "execution_count": 76,
   "metadata": {},
   "outputs": [
    {
     "ename": "TypeError",
     "evalue": "file must have a 'write' attribute",
     "output_type": "error",
     "traceback": [
      "\u001b[0;31m---------------------------------------------------------------------------\u001b[0m",
      "\u001b[0;31mTypeError\u001b[0m                                 Traceback (most recent call last)",
      "\u001b[0;32m<ipython-input-76-f6eb59994fac>\u001b[0m in \u001b[0;36m<module>\u001b[0;34m()\u001b[0m\n\u001b[0;32m----> 1\u001b[0;31m \u001b[0mpickle\u001b[0m\u001b[0;34m.\u001b[0m\u001b[0mdump\u001b[0m\u001b[0;34m(\u001b[0m\u001b[0mraj\u001b[0m\u001b[0;34m,\u001b[0m\u001b[0;34m'fileraj'\u001b[0m\u001b[0;34m)\u001b[0m\u001b[0;34m\u001b[0m\u001b[0m\n\u001b[0m",
      "\u001b[0;31mTypeError\u001b[0m: file must have a 'write' attribute"
     ]
    }
   ],
   "source": [
    "pickle.dump(raj,'fileraj')"
   ]
  },
  {
   "cell_type": "code",
   "execution_count": 79,
   "metadata": {
    "collapsed": true
   },
   "outputs": [],
   "source": [
    "import pickle\n",
    "\n",
    "a = ['test value','test value 2','test value 3']\n",
    "a\n",
    "['test value','test value 2','test value 3']\n",
    "\n",
    "file_Name = \"testfile\"\n",
    "# open the file for writing\n",
    "fileObject = open(file_Name,'wb') \n",
    "\n",
    "# this writes the object a to the\n",
    "# file named 'testfile'\n",
    "pickle.dump(a,fileObject)   \n",
    "\n",
    "# here we close the fileObject\n",
    "fileObject.close()\n"
   ]
  },
  {
   "cell_type": "code",
   "execution_count": 2,
   "metadata": {},
   "outputs": [
    {
     "name": "stdout",
     "output_type": "stream",
     "text": [
      "suman\n",
      "sanvith\n",
      "archana\n",
      "@\n"
     ]
    }
   ],
   "source": [
    "with open('tmpfile','w') as f:\n",
    "    str = ''\n",
    "    while str != '@':\n",
    "        str = input('')\n",
    "        if str != '@':\n",
    "            f.write(str+'\\n')\n",
    "        else:\n",
    "            break    "
   ]
  },
  {
   "cell_type": "code",
   "execution_count": 9,
   "metadata": {},
   "outputs": [
    {
     "name": "stdout",
     "output_type": "stream",
     "text": [
      "Enter number of elements3\n",
      "Enter element:10\n",
      "Enter element:20\n",
      "Enter element:30\n",
      "array('i', [10, 20, 30])\n"
     ]
    }
   ],
   "source": [
    "#bubble sort algorithm\n",
    "from array import *\n",
    "arry1 = array('i',[])\n",
    "\n",
    "num = int(input('Enter number of elements'))\n",
    "for i in list(range(num)):\n",
    "    elm = int(input('Enter element:'))\n",
    "    arry1.append(elm)\n",
    "print (arry1)  \n",
    "ln = len(arry1)\n",
    "print ('Array length is:{length}'.format(length=ln))\n",
    "for i in list(range(ln)):"
   ]
  },
  {
   "cell_type": "code",
   "execution_count": 5,
   "metadata": {},
   "outputs": [],
   "source": [
    "arry1.append(10)"
   ]
  },
  {
   "cell_type": "code",
   "execution_count": 6,
   "metadata": {
    "collapsed": true
   },
   "outputs": [],
   "source": [
    "arry1.append(20)"
   ]
  },
  {
   "cell_type": "code",
   "execution_count": 7,
   "metadata": {},
   "outputs": [
    {
     "data": {
      "text/plain": [
       "array('i', [10, 20])"
      ]
     },
     "execution_count": 7,
     "metadata": {},
     "output_type": "execute_result"
    }
   ],
   "source": [
    "arry1"
   ]
  },
  {
   "cell_type": "code",
   "execution_count": null,
   "metadata": {
    "collapsed": true
   },
   "outputs": [],
   "source": []
  }
 ],
 "metadata": {
  "kernelspec": {
   "display_name": "Python 3",
   "language": "python",
   "name": "python3"
  },
  "language_info": {
   "codemirror_mode": {
    "name": "ipython",
    "version": 3
   },
   "file_extension": ".py",
   "mimetype": "text/x-python",
   "name": "python",
   "nbconvert_exporter": "python",
   "pygments_lexer": "ipython3",
   "version": "3.6.4"
  }
 },
 "nbformat": 4,
 "nbformat_minor": 2
}
