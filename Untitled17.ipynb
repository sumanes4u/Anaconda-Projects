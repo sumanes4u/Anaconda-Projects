{
 "cells": [
  {
   "cell_type": "code",
   "execution_count": 203,
   "metadata": {},
   "outputs": [
    {
     "name": "stdout",
     "output_type": "stream",
     "text": [
      "HI: ['10.17.179.56', '10.17.179.58']\n",
      "cpufile_Sun_Dec_3_05_08_54_2017.csv\n",
      "show cpu\n",
      "show memory\n",
      "show cpu\n",
      "show memory\n",
      "b'show cpu\\r\\n total: user   0% nice   0% system   1% idle  98% io   0% irq   0% softirq   0%\\r\\n6c:f3:7f:cf:c6:9c# '\n",
      "b'show cpu\\r\\n total: user   0% nice   0% system   1% idle  98% io   0% irq   0% softirq   0%\\r\\n6c:f3:7f:cf:c6:9c# '\n"
     ]
    },
    {
     "ename": "AuthenticationException",
     "evalue": "Authentication timeout.",
     "output_type": "error",
     "traceback": [
      "\u001b[1;31m---------------------------------------------------------------------------\u001b[0m",
      "\u001b[1;31mAuthenticationException\u001b[0m                   Traceback (most recent call last)",
      "\u001b[1;32m<ipython-input-203-0c3d170623bc>\u001b[0m in \u001b[0;36m<module>\u001b[1;34m()\u001b[0m\n\u001b[0;32m     61\u001b[0m \u001b[1;31m#print(op)\u001b[0m\u001b[1;33m\u001b[0m\u001b[1;33m\u001b[0m\u001b[0m\n\u001b[0;32m     62\u001b[0m \u001b[1;32mwhile\u001b[0m \u001b[1;32mTrue\u001b[0m\u001b[1;33m:\u001b[0m\u001b[1;33m\u001b[0m\u001b[0m\n\u001b[1;32m---> 63\u001b[1;33m     \u001b[0mop\u001b[0m \u001b[1;33m=\u001b[0m \u001b[0mconn_aps\u001b[0m\u001b[1;33m(\u001b[0m\u001b[0maps\u001b[0m\u001b[1;33m,\u001b[0m\u001b[1;34m'show cpu'\u001b[0m\u001b[1;33m,\u001b[0m\u001b[1;34m'show memory'\u001b[0m\u001b[1;33m)\u001b[0m\u001b[1;33m\u001b[0m\u001b[0m\n\u001b[0m\u001b[0;32m     64\u001b[0m     \u001b[1;32mwith\u001b[0m \u001b[0mopen\u001b[0m\u001b[1;33m(\u001b[0m\u001b[0mcpu_filename\u001b[0m\u001b[1;33m,\u001b[0m\u001b[1;34m'a'\u001b[0m\u001b[1;33m,\u001b[0m\u001b[0mnewline\u001b[0m \u001b[1;33m=\u001b[0m \u001b[1;34m''\u001b[0m\u001b[1;33m)\u001b[0m \u001b[1;32mas\u001b[0m \u001b[0mfp\u001b[0m\u001b[1;33m:\u001b[0m\u001b[1;33m\u001b[0m\u001b[0m\n\u001b[0;32m     65\u001b[0m         \u001b[0mwriter\u001b[0m \u001b[1;33m=\u001b[0m \u001b[0mcsv\u001b[0m\u001b[1;33m.\u001b[0m\u001b[0mwriter\u001b[0m\u001b[1;33m(\u001b[0m\u001b[0mfp\u001b[0m\u001b[1;33m)\u001b[0m\u001b[1;33m\u001b[0m\u001b[0m\n",
      "\u001b[1;32m<ipython-input-203-0c3d170623bc>\u001b[0m in \u001b[0;36mconn_aps\u001b[1;34m(aps, *cmds)\u001b[0m\n\u001b[0;32m     43\u001b[0m     \u001b[1;32mfor\u001b[0m \u001b[0map\u001b[0m \u001b[1;32min\u001b[0m \u001b[0maps\u001b[0m\u001b[1;33m:\u001b[0m\u001b[1;33m\u001b[0m\u001b[0m\n\u001b[0;32m     44\u001b[0m         \u001b[0map_conn\u001b[0m \u001b[1;33m=\u001b[0m \u001b[0maccessfunctions\u001b[0m\u001b[1;33m(\u001b[0m\u001b[0map\u001b[0m\u001b[1;33m,\u001b[0m\u001b[1;34m'admin'\u001b[0m\u001b[1;33m,\u001b[0m\u001b[1;34m'admin'\u001b[0m\u001b[1;33m)\u001b[0m\u001b[1;33m\u001b[0m\u001b[0m\n\u001b[1;32m---> 45\u001b[1;33m         \u001b[0map_conn\u001b[0m\u001b[1;33m.\u001b[0m\u001b[0mssh_connect\u001b[0m\u001b[1;33m(\u001b[0m\u001b[1;33m)\u001b[0m\u001b[1;33m\u001b[0m\u001b[0m\n\u001b[0m\u001b[0;32m     46\u001b[0m         \u001b[1;32mfor\u001b[0m \u001b[0mcmd\u001b[0m \u001b[1;32min\u001b[0m \u001b[0mcmds\u001b[0m\u001b[1;33m:\u001b[0m\u001b[1;33m\u001b[0m\u001b[0m\n\u001b[0;32m     47\u001b[0m             \u001b[0mcmd_op\u001b[0m \u001b[1;33m=\u001b[0m \u001b[0mstr\u001b[0m\u001b[1;33m(\u001b[0m\u001b[0map_conn\u001b[0m\u001b[1;33m.\u001b[0m\u001b[0msendcmd\u001b[0m\u001b[1;33m(\u001b[0m\u001b[0mcmd\u001b[0m\u001b[1;33m)\u001b[0m\u001b[1;33m)\u001b[0m\u001b[1;33m\u001b[0m\u001b[0m\n",
      "\u001b[1;32m<ipython-input-203-0c3d170623bc>\u001b[0m in \u001b[0;36mssh_connect\u001b[1;34m(self)\u001b[0m\n\u001b[0;32m     13\u001b[0m         \u001b[0mself\u001b[0m\u001b[1;33m.\u001b[0m\u001b[0mprehandle\u001b[0m \u001b[1;33m=\u001b[0m \u001b[0mparamiko\u001b[0m\u001b[1;33m.\u001b[0m\u001b[0mSSHClient\u001b[0m\u001b[1;33m(\u001b[0m\u001b[1;33m)\u001b[0m\u001b[1;33m\u001b[0m\u001b[0m\n\u001b[0;32m     14\u001b[0m         \u001b[0mself\u001b[0m\u001b[1;33m.\u001b[0m\u001b[0mprehandle\u001b[0m\u001b[1;33m.\u001b[0m\u001b[0mset_missing_host_key_policy\u001b[0m\u001b[1;33m(\u001b[0m\u001b[0mparamiko\u001b[0m\u001b[1;33m.\u001b[0m\u001b[0mAutoAddPolicy\u001b[0m\u001b[1;33m(\u001b[0m\u001b[1;33m)\u001b[0m\u001b[1;33m)\u001b[0m\u001b[1;33m\u001b[0m\u001b[0m\n\u001b[1;32m---> 15\u001b[1;33m         \u001b[0mself\u001b[0m\u001b[1;33m.\u001b[0m\u001b[0mprehandle\u001b[0m\u001b[1;33m.\u001b[0m\u001b[0mconnect\u001b[0m\u001b[1;33m(\u001b[0m\u001b[0mself\u001b[0m\u001b[1;33m.\u001b[0m\u001b[0mip\u001b[0m\u001b[1;33m,\u001b[0m\u001b[0musername\u001b[0m \u001b[1;33m=\u001b[0m \u001b[0mself\u001b[0m\u001b[1;33m.\u001b[0m\u001b[0musername\u001b[0m\u001b[1;33m,\u001b[0m\u001b[0mpassword\u001b[0m \u001b[1;33m=\u001b[0m \u001b[0mself\u001b[0m\u001b[1;33m.\u001b[0m\u001b[0mpassword\u001b[0m\u001b[1;33m,\u001b[0m\u001b[0mlook_for_keys\u001b[0m \u001b[1;33m=\u001b[0m \u001b[1;32mFalse\u001b[0m\u001b[1;33m,\u001b[0m \u001b[0mallow_agent\u001b[0m \u001b[1;33m=\u001b[0m \u001b[1;32mFalse\u001b[0m\u001b[1;33m)\u001b[0m\u001b[1;33m\u001b[0m\u001b[0m\n\u001b[0m\u001b[0;32m     16\u001b[0m         \u001b[0mself\u001b[0m\u001b[1;33m.\u001b[0m\u001b[0mhandle\u001b[0m \u001b[1;33m=\u001b[0m \u001b[0mself\u001b[0m\u001b[1;33m.\u001b[0m\u001b[0mprehandle\u001b[0m\u001b[1;33m.\u001b[0m\u001b[0minvoke_shell\u001b[0m\u001b[1;33m(\u001b[0m\u001b[1;33m)\u001b[0m\u001b[1;33m\u001b[0m\u001b[0m\n\u001b[0;32m     17\u001b[0m         \u001b[0mself\u001b[0m\u001b[1;33m.\u001b[0m\u001b[0mhandle\u001b[0m\u001b[1;33m.\u001b[0m\u001b[0mrecv\u001b[0m\u001b[1;33m(\u001b[0m\u001b[1;36m1000\u001b[0m\u001b[1;33m)\u001b[0m\u001b[1;33m\u001b[0m\u001b[0m\n",
      "\u001b[1;32mC:\\Users\\ssamarthi\\AppData\\Local\\Continuum\\Anaconda3\\lib\\site-packages\\paramiko\\client.py\u001b[0m in \u001b[0;36mconnect\u001b[1;34m(self, hostname, port, username, password, pkey, key_filename, timeout, allow_agent, look_for_keys, compress, sock, gss_auth, gss_kex, gss_deleg_creds, gss_host, banner_timeout, auth_timeout, gss_trust_dns)\u001b[0m\n\u001b[0;32m    414\u001b[0m         self._auth(\n\u001b[0;32m    415\u001b[0m             \u001b[0musername\u001b[0m\u001b[1;33m,\u001b[0m \u001b[0mpassword\u001b[0m\u001b[1;33m,\u001b[0m \u001b[0mpkey\u001b[0m\u001b[1;33m,\u001b[0m \u001b[0mkey_filenames\u001b[0m\u001b[1;33m,\u001b[0m \u001b[0mallow_agent\u001b[0m\u001b[1;33m,\u001b[0m\u001b[1;33m\u001b[0m\u001b[0m\n\u001b[1;32m--> 416\u001b[1;33m             \u001b[0mlook_for_keys\u001b[0m\u001b[1;33m,\u001b[0m \u001b[0mgss_auth\u001b[0m\u001b[1;33m,\u001b[0m \u001b[0mgss_kex\u001b[0m\u001b[1;33m,\u001b[0m \u001b[0mgss_deleg_creds\u001b[0m\u001b[1;33m,\u001b[0m \u001b[0mt\u001b[0m\u001b[1;33m.\u001b[0m\u001b[0mgss_host\u001b[0m\u001b[1;33m,\u001b[0m\u001b[1;33m\u001b[0m\u001b[0m\n\u001b[0m\u001b[0;32m    417\u001b[0m         )\n\u001b[0;32m    418\u001b[0m \u001b[1;33m\u001b[0m\u001b[0m\n",
      "\u001b[1;32mC:\\Users\\ssamarthi\\AppData\\Local\\Continuum\\Anaconda3\\lib\\site-packages\\paramiko\\client.py\u001b[0m in \u001b[0;36m_auth\u001b[1;34m(self, username, password, pkey, key_filenames, allow_agent, look_for_keys, gss_auth, gss_kex, gss_deleg_creds, gss_host)\u001b[0m\n\u001b[0;32m    699\u001b[0m         \u001b[1;31m# if we got an auth-failed exception earlier, re-raise it\u001b[0m\u001b[1;33m\u001b[0m\u001b[1;33m\u001b[0m\u001b[0m\n\u001b[0;32m    700\u001b[0m         \u001b[1;32mif\u001b[0m \u001b[0msaved_exception\u001b[0m \u001b[1;32mis\u001b[0m \u001b[1;32mnot\u001b[0m \u001b[1;32mNone\u001b[0m\u001b[1;33m:\u001b[0m\u001b[1;33m\u001b[0m\u001b[0m\n\u001b[1;32m--> 701\u001b[1;33m             \u001b[1;32mraise\u001b[0m \u001b[0msaved_exception\u001b[0m\u001b[1;33m\u001b[0m\u001b[0m\n\u001b[0m\u001b[0;32m    702\u001b[0m         \u001b[1;32mraise\u001b[0m \u001b[0mSSHException\u001b[0m\u001b[1;33m(\u001b[0m\u001b[1;34m'No authentication methods available'\u001b[0m\u001b[1;33m)\u001b[0m\u001b[1;33m\u001b[0m\u001b[0m\n\u001b[0;32m    703\u001b[0m \u001b[1;33m\u001b[0m\u001b[0m\n",
      "\u001b[1;32mC:\\Users\\ssamarthi\\AppData\\Local\\Continuum\\Anaconda3\\lib\\site-packages\\paramiko\\client.py\u001b[0m in \u001b[0;36m_auth\u001b[1;34m(self, username, password, pkey, key_filenames, allow_agent, look_for_keys, gss_auth, gss_kex, gss_deleg_creds, gss_host)\u001b[0m\n\u001b[0;32m    686\u001b[0m         \u001b[1;32mif\u001b[0m \u001b[0mpassword\u001b[0m \u001b[1;32mis\u001b[0m \u001b[1;32mnot\u001b[0m \u001b[1;32mNone\u001b[0m\u001b[1;33m:\u001b[0m\u001b[1;33m\u001b[0m\u001b[0m\n\u001b[0;32m    687\u001b[0m             \u001b[1;32mtry\u001b[0m\u001b[1;33m:\u001b[0m\u001b[1;33m\u001b[0m\u001b[0m\n\u001b[1;32m--> 688\u001b[1;33m                 \u001b[0mself\u001b[0m\u001b[1;33m.\u001b[0m\u001b[0m_transport\u001b[0m\u001b[1;33m.\u001b[0m\u001b[0mauth_password\u001b[0m\u001b[1;33m(\u001b[0m\u001b[0musername\u001b[0m\u001b[1;33m,\u001b[0m \u001b[0mpassword\u001b[0m\u001b[1;33m)\u001b[0m\u001b[1;33m\u001b[0m\u001b[0m\n\u001b[0m\u001b[0;32m    689\u001b[0m                 \u001b[1;32mreturn\u001b[0m\u001b[1;33m\u001b[0m\u001b[0m\n\u001b[0;32m    690\u001b[0m             \u001b[1;32mexcept\u001b[0m \u001b[0mSSHException\u001b[0m \u001b[1;32mas\u001b[0m \u001b[0me\u001b[0m\u001b[1;33m:\u001b[0m\u001b[1;33m\u001b[0m\u001b[0m\n",
      "\u001b[1;32mC:\\Users\\ssamarthi\\AppData\\Local\\Continuum\\Anaconda3\\lib\\site-packages\\paramiko\\transport.py\u001b[0m in \u001b[0;36mauth_password\u001b[1;34m(self, username, password, event, fallback)\u001b[0m\n\u001b[0;32m   1376\u001b[0m             \u001b[1;32mreturn\u001b[0m \u001b[1;33m[\u001b[0m\u001b[1;33m]\u001b[0m\u001b[1;33m\u001b[0m\u001b[0m\n\u001b[0;32m   1377\u001b[0m         \u001b[1;32mtry\u001b[0m\u001b[1;33m:\u001b[0m\u001b[1;33m\u001b[0m\u001b[0m\n\u001b[1;32m-> 1378\u001b[1;33m             \u001b[1;32mreturn\u001b[0m \u001b[0mself\u001b[0m\u001b[1;33m.\u001b[0m\u001b[0mauth_handler\u001b[0m\u001b[1;33m.\u001b[0m\u001b[0mwait_for_response\u001b[0m\u001b[1;33m(\u001b[0m\u001b[0mmy_event\u001b[0m\u001b[1;33m)\u001b[0m\u001b[1;33m\u001b[0m\u001b[0m\n\u001b[0m\u001b[0;32m   1379\u001b[0m         \u001b[1;32mexcept\u001b[0m \u001b[0mBadAuthenticationType\u001b[0m \u001b[1;32mas\u001b[0m \u001b[0me\u001b[0m\u001b[1;33m:\u001b[0m\u001b[1;33m\u001b[0m\u001b[0m\n\u001b[0;32m   1380\u001b[0m             \u001b[1;31m# if password auth isn't allowed, but keyboard-interactive *is*,\u001b[0m\u001b[1;33m\u001b[0m\u001b[1;33m\u001b[0m\u001b[0m\n",
      "\u001b[1;32mC:\\Users\\ssamarthi\\AppData\\Local\\Continuum\\Anaconda3\\lib\\site-packages\\paramiko\\auth_handler.py\u001b[0m in \u001b[0;36mwait_for_response\u001b[1;34m(self, event)\u001b[0m\n\u001b[0;32m    211\u001b[0m                 \u001b[1;32mbreak\u001b[0m\u001b[1;33m\u001b[0m\u001b[0m\n\u001b[0;32m    212\u001b[0m             \u001b[1;32mif\u001b[0m \u001b[0mmax_ts\u001b[0m \u001b[1;32mis\u001b[0m \u001b[1;32mnot\u001b[0m \u001b[1;32mNone\u001b[0m \u001b[1;32mand\u001b[0m \u001b[0mmax_ts\u001b[0m \u001b[1;33m<=\u001b[0m \u001b[0mtime\u001b[0m\u001b[1;33m.\u001b[0m\u001b[0mtime\u001b[0m\u001b[1;33m(\u001b[0m\u001b[1;33m)\u001b[0m\u001b[1;33m:\u001b[0m\u001b[1;33m\u001b[0m\u001b[0m\n\u001b[1;32m--> 213\u001b[1;33m                 \u001b[1;32mraise\u001b[0m \u001b[0mAuthenticationException\u001b[0m\u001b[1;33m(\u001b[0m\u001b[1;34m'Authentication timeout.'\u001b[0m\u001b[1;33m)\u001b[0m\u001b[1;33m\u001b[0m\u001b[0m\n\u001b[0m\u001b[0;32m    214\u001b[0m \u001b[1;33m\u001b[0m\u001b[0m\n\u001b[0;32m    215\u001b[0m         \u001b[1;32mif\u001b[0m \u001b[1;32mnot\u001b[0m \u001b[0mself\u001b[0m\u001b[1;33m.\u001b[0m\u001b[0mis_authenticated\u001b[0m\u001b[1;33m(\u001b[0m\u001b[1;33m)\u001b[0m\u001b[1;33m:\u001b[0m\u001b[1;33m\u001b[0m\u001b[0m\n",
      "\u001b[1;31mAuthenticationException\u001b[0m: Authentication timeout."
     ]
    }
   ],
   "source": [
    "import paramiko\n",
    "import re\n",
    "import time\n",
    "import csv\n",
    "class accessfunctions(object):\n",
    "    def __init__(self,ip,username,password):\n",
    "        self.ip = ip\n",
    "        self.username = username\n",
    "        self.password = password\n",
    "        self.prehandle = ''\n",
    "        self.handle = ''\n",
    "    def ssh_connect(self):\n",
    "        self.prehandle = paramiko.SSHClient()\n",
    "        self.prehandle.set_missing_host_key_policy(paramiko.AutoAddPolicy())\n",
    "        self.prehandle.connect(self.ip,username = self.username,password = self.password,look_for_keys = False, allow_agent = False)\n",
    "        self.handle = self.prehandle.invoke_shell()\n",
    "        self.handle.recv(1000)\n",
    "    def sendcmd(self,cmd):\n",
    "        cmd += '\\n'\n",
    "        self.handle.send(cmd)\n",
    "        time.sleep(2)\n",
    "        output = self.handle.recv(65500)\n",
    "        return output\n",
    "\n",
    "    def ssh_close(self):\n",
    "        self.prehandle.close()\n",
    "iap = accessfunctions('10.17.179.56','admin','admin')\n",
    "iap.ssh_connect()\n",
    "#op = iap.sendcmd('show version')\n",
    "#print(op)\n",
    "op = iap.sendcmd('show aps')\n",
    "#print(op)\n",
    "op = str(op).strip()\n",
    "pattern = r'\\d+\\.\\d+\\.\\d+\\.\\d+'\n",
    "reo = re.compile(pattern)\n",
    "aps = reo.findall(op)\n",
    "#print(aps)\n",
    "iap.ssh_close()\n",
    "\n",
    "def conn_aps(aps,*cmds):\n",
    "    ap_out= {}\n",
    "    oplist =[]\n",
    "    for ap in aps:\n",
    "        ap_conn = accessfunctions(ap,'admin','admin')\n",
    "        ap_conn.ssh_connect()\n",
    "        for cmd in cmds:\n",
    "            cmd_op = str(ap_conn.sendcmd(cmd))\n",
    "            print(cmd)\n",
    "            oplist.append(cmd_op)\n",
    "        ap_out[ap]=oplist\n",
    "        ap_conn.ssh_close()\n",
    "    return (ap_out)    \n",
    "\n",
    "print('HI:',aps)\n",
    "temp = '_'.join('_'.join(time.ctime().split()).split(':'))\n",
    "cpu_filename = 'cpufile_'+temp+'.csv'\n",
    "memory_filename= 'memoryfile_'+temp+'.csv'\n",
    "print(cpu_filename)\n",
    "\n",
    "#op = conn_aps(aps,'show cpu','show memory')\n",
    "#print(op)\n",
    "while True:\n",
    "    op = conn_aps(aps,'show cpu','show memory')\n",
    "    with open(cpu_filename,'a',newline = '') as fp:\n",
    "        writer = csv.writer(fp)\n",
    "        writer.writerow(['APIP','user','nice','systemidle','io','irq','softirq'])\n",
    "        for ap in aps:\n",
    "            print (op[ap][0])\n",
    "            op1 = re.findall(r'\\d+%',op[ap][0])\n",
    "            op1.insert(0,ap)\n",
    "            writer.writerow(op1)\n",
    "ap_conn.ssh_close()        \n",
    "print (\"\\n\\033[6;31mPress CTRL+C to exit all the sessions\\n\\033[39m\")\n",
    "print (\"\\n\")\n",
    "        "
   ]
  },
  {
   "cell_type": "code",
   "execution_count": 217,
   "metadata": {},
   "outputs": [
    {
     "name": "stdout",
     "output_type": "stream",
     "text": [
      "cpufile_Sun_Dec_3_05_26_02_2017.csv\n",
      "\n",
      "\n",
      "\n"
     ]
    }
   ],
   "source": [
    "text = '''-rw-r--r-- 1 root root 114 Dec  3 05:27 cpufile_Sun_Dec_3_05_26_02_2017.csv'''\n",
    "pattern = r'cpufile.*'\n",
    "match = re.search(pattern,text)\n",
    "print(match.group(),end='\\n'*4)\n"
   ]
  },
  {
   "cell_type": "code",
   "execution_count": 202,
   "metadata": {},
   "outputs": [
    {
     "data": {
      "text/plain": [
       "['C:\\\\Users\\\\ssamarthi\\\\AppData\\\\Local\\\\Continuum\\\\Anaconda3\\\\lib\\\\ntpath.py',\n",
       " '',\n",
       " 'C:\\\\Users\\\\ssamarthi\\\\AppData\\\\Local\\\\Continuum\\\\Anaconda3\\\\python36.zip',\n",
       " 'C:\\\\Users\\\\ssamarthi\\\\AppData\\\\Local\\\\Continuum\\\\Anaconda3\\\\DLLs',\n",
       " 'C:\\\\Users\\\\ssamarthi\\\\AppData\\\\Local\\\\Continuum\\\\Anaconda3\\\\lib',\n",
       " 'C:\\\\Users\\\\ssamarthi\\\\AppData\\\\Local\\\\Continuum\\\\Anaconda3',\n",
       " 'C:\\\\Users\\\\ssamarthi\\\\AppData\\\\Local\\\\Continuum\\\\Anaconda3\\\\lib\\\\site-packages',\n",
       " 'C:\\\\Users\\\\ssamarthi\\\\AppData\\\\Local\\\\Continuum\\\\Anaconda3\\\\lib\\\\site-packages\\\\Sphinx-1.5.6-py3.6.egg',\n",
       " 'C:\\\\Users\\\\ssamarthi\\\\AppData\\\\Local\\\\Continuum\\\\Anaconda3\\\\lib\\\\site-packages\\\\win32',\n",
       " 'C:\\\\Users\\\\ssamarthi\\\\AppData\\\\Local\\\\Continuum\\\\Anaconda3\\\\lib\\\\site-packages\\\\win32\\\\lib',\n",
       " 'C:\\\\Users\\\\ssamarthi\\\\AppData\\\\Local\\\\Continuum\\\\Anaconda3\\\\lib\\\\site-packages\\\\Pythonwin',\n",
       " 'C:\\\\Users\\\\ssamarthi\\\\AppData\\\\Local\\\\Continuum\\\\Anaconda3\\\\lib\\\\site-packages\\\\setuptools-27.2.0-py3.6.egg',\n",
       " 'C:\\\\Users\\\\ssamarthi\\\\AppData\\\\Local\\\\Continuum\\\\Anaconda3\\\\lib\\\\site-packages\\\\IPython\\\\extensions',\n",
       " 'C:\\\\Users\\\\ssamarthi\\\\.ipython']"
      ]
     },
     "execution_count": 202,
     "metadata": {},
     "output_type": "execute_result"
    }
   ],
   "source": []
  },
  {
   "cell_type": "code",
   "execution_count": 209,
   "metadata": {},
   "outputs": [
    {
     "ename": "SyntaxError",
     "evalue": "invalid syntax (<ipython-input-209-656b686bdb67>, line 2)",
     "output_type": "error",
     "traceback": [
      "\u001b[1;36m  File \u001b[1;32m\"<ipython-input-209-656b686bdb67>\"\u001b[1;36m, line \u001b[1;32m2\u001b[0m\n\u001b[1;33m    aname = 'cpufile'+.*\u001b[0m\n\u001b[1;37m                      ^\u001b[0m\n\u001b[1;31mSyntaxError\u001b[0m\u001b[1;31m:\u001b[0m invalid syntax\n"
     ]
    }
   ],
   "source": [
    "filename = 'cpufile_Sun_Dec_3_05_19_57_2017.csv'\n",
    "aname = 'cpufile'+.*\n",
    "print (aname)"
   ]
  },
  {
   "cell_type": "code",
   "execution_count": null,
   "metadata": {
    "collapsed": true
   },
   "outputs": [],
   "source": []
  }
 ],
 "metadata": {
  "kernelspec": {
   "display_name": "Python 3",
   "language": "python",
   "name": "python3"
  },
  "language_info": {
   "codemirror_mode": {
    "name": "ipython",
    "version": 3
   },
   "file_extension": ".py",
   "mimetype": "text/x-python",
   "name": "python",
   "nbconvert_exporter": "python",
   "pygments_lexer": "ipython3",
   "version": "3.6.1"
  }
 },
 "nbformat": 4,
 "nbformat_minor": 2
}
