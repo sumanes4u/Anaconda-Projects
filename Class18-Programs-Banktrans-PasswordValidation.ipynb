{
 "cells": [
  {
   "cell_type": "code",
   "execution_count": 2,
   "metadata": {},
   "outputs": [
    {
     "name": "stdout",
     "output_type": "stream",
     "text": [
      "1,2,3,4\n",
      "['1', '2', '3', '4']\n",
      "('1', '2', '3', '4')\n"
     ]
    }
   ],
   "source": [
    "#1 convert input into output1 and output2\n",
    "\n",
    "# input : 1,2,3,4\n",
    "\n",
    "# output1 : [1,2,3,4]\n",
    "# output2 : (1,2,3,4)\n",
    "\n",
    "values = input()\n",
    "l = values.split(\",\")\n",
    "t = tuple(l)\n",
    "print (l)\n",
    "print (t)"
   ]
  },
  {
   "cell_type": "code",
   "execution_count": 10,
   "metadata": {},
   "outputs": [
    {
     "data": {
      "text/plain": [
       "['hello', 'how', 'are', 'you']"
      ]
     },
     "execution_count": 10,
     "metadata": {},
     "output_type": "execute_result"
    }
   ],
   "source": [
    "test = 'hello how are you'\n",
    "l = test.split(\" \")\n",
    "l"
   ]
  },
  {
   "cell_type": "code",
   "execution_count": 13,
   "metadata": {},
   "outputs": [
    {
     "data": {
      "text/plain": [
       "'10'"
      ]
     },
     "execution_count": 13,
     "metadata": {},
     "output_type": "execute_result"
    }
   ],
   "source": [
    "#2. \n",
    "\n",
    "a = \"1:10,20,55,30,40\"\n",
    "# How do I get 10\n",
    "\n",
    "a.split(\":\")[1].split(\",\")[0]"
   ]
  },
  {
   "cell_type": "code",
   "execution_count": 21,
   "metadata": {},
   "outputs": [
    {
     "data": {
      "text/plain": [
       "'987654321'"
      ]
     },
     "execution_count": 21,
     "metadata": {},
     "output_type": "execute_result"
    }
   ],
   "source": [
    "#3. \n",
    "\n",
    "a = '123456789'\n",
    "\n",
    "# How to reverse it. \n",
    "\n",
    "#a[start:end:step]\n",
    "#a[0:5:3]\n",
    "\n",
    "a[::-1]\n",
    "#a[::1]"
   ]
  },
  {
   "cell_type": "code",
   "execution_count": 22,
   "metadata": {
    "collapsed": true
   },
   "outputs": [],
   "source": [
    "# positive index : 0 1 2 3 4 5 6 7\n",
    "\n",
    "# Negative index :          -3 -2  -1"
   ]
  },
  {
   "cell_type": "code",
   "execution_count": 27,
   "metadata": {},
   "outputs": [
    {
     "name": "stdout",
     "output_type": "stream",
     "text": [
      "D 500\n",
      "500\n",
      "W 100\n",
      "400\n",
      "\n"
     ]
    }
   ],
   "source": [
    "#4 \n",
    "\n",
    "# Write a program that computes the net amount of a bank account based on transaction logs. \n",
    "\n",
    "#D 100\n",
    "#W 50\n",
    "\n",
    "netAmount = 0 \n",
    "\n",
    "while True: # it will keep on asking you as long as you're going to provide an input\n",
    "    s = input()\n",
    "    if not s:\n",
    "        break\n",
    "    values = s.split() # capturing the input values\n",
    "    operation = values[0] # one \n",
    "    amount = int(values[1]) # two\n",
    "    if operation == 'D':\n",
    "        netAmount += amount\n",
    "    elif operation == 'W':\n",
    "        netAmount -= amount\n",
    "    else:\n",
    "        pass\n",
    "    print (netAmount)\n",
    "    "
   ]
  },
  {
   "cell_type": "code",
   "execution_count": 28,
   "metadata": {
    "collapsed": true
   },
   "outputs": [],
   "source": [
    "#5 \n",
    "\n",
    "#You need to validate user passsword complexity. \n",
    "\n",
    "#1. At least 1 letter between [a-z]\n",
    "#2. 1 upper case letter\n",
    "#3. 1 number\n",
    "#4. 1 character ( $#@)\n",
    "#5. min length : 6\n",
    "#6. max length : 12\n",
    "#7. should not have space\n",
    "                \n",
    "# input a list of passwords, and accept only those which matches your complexity criteria\n",
    "                \n",
    "\n"
   ]
  },
  {
   "cell_type": "code",
   "execution_count": null,
   "metadata": {},
   "outputs": [],
   "source": [
    "import re\n",
    "value = []\n",
    "items = [x for x in input().split(',')] # list comprehension \n",
    "\n",
    "for p in items:\n",
    "    if len(p) < 6 or len(p) > 12:\n",
    "        continue\n",
    "    else:\n",
    "        pass\n",
    "    if not re.search(\"[a-z]\",p): # abcdefghij.....z\n",
    "        continue\n",
    "    elif not re.search(\"[A-Z]\",p): # ABCDEF\n",
    "        continue\n",
    "    elif not re.search(\"[0-9]\",p): # 012345689\n",
    "        continue\n",
    "    elif not re.search(\"[$#@]\",p): # $#@\n",
    "        continue\n",
    "    elif re.search(\"\\s\",p): \" \"\n",
    "        continue\n",
    "    else:\n",
    "        pass\n",
    "    value.append(p)\n",
    "print (\",\".join(value))"
   ]
  },
  {
   "cell_type": "code",
   "execution_count": null,
   "metadata": {
    "collapsed": true
   },
   "outputs": [],
   "source": []
  }
 ],
 "metadata": {
  "kernelspec": {
   "display_name": "Python 3",
   "language": "python",
   "name": "python3"
  },
  "language_info": {
   "codemirror_mode": {
    "name": "ipython",
    "version": 3
   },
   "file_extension": ".py",
   "mimetype": "text/x-python",
   "name": "python",
   "nbconvert_exporter": "python",
   "pygments_lexer": "ipython3",
   "version": "3.6.1"
  }
 },
 "nbformat": 4,
 "nbformat_minor": 2
}
