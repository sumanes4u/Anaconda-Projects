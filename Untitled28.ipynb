{
 "cells": [
  {
   "cell_type": "code",
   "execution_count": 2,
   "metadata": {},
   "outputs": [],
   "source": [
    "class Car(object):\n",
    "    def __init__(self,model,manifacturer,year):\n",
    "        self.model = model\n",
    "        self.manifacturer = manifacturer\n",
    "        self.year = year\n",
    "        self.odometer = 0\n",
    "        \n",
    "    def get_descriptive(self):\n",
    "         long_desc = self.model + \"\" + self.manifacturer + \"\" + str(self.year)\n",
    "         return long_desc.title()\n",
    "        \n",
    "    def read_odometer(self):\n",
    "         print ('This car has'+ str(self.odometer)+ 'Miles on it.')\n",
    "         \n",
    "    def update_odometer(self,milage):\n",
    "         if milage >= self.odometer:\n",
    "             self.odometer = milage\n",
    "         else:\n",
    "             print('You cannot role back odometer with lesser value')\n",
    "             \n",
    "    def increment_odometer(self,miles):\n",
    "         self.odometer += miles   \n"
   ]
  },
  {
   "cell_type": "code",
   "execution_count": 14,
   "metadata": {
    "collapsed": true
   },
   "outputs": [],
   "source": [
    "class Battery():\n",
    "    def __init__(self,battery_size = 60):\n",
    "        self.battery_size = battery_size\n",
    "        \n",
    "    def describe_battery(self):\n",
    "        print ('This battery has'+ str(self.battery_size) + '-kw of battery')\n",
    "        \n",
    "    def get_range(self):\n",
    "        if self.battery_size == 60:\n",
    "            range = 100\n",
    "        elif self.battery_size == 85:\n",
    "            range = 150\n",
    "        message =  'The car can go approximately'+ str(range)\n",
    "        message += 'Miles on full charge'\n",
    "        print(message)\n",
    "        \n",
    "    def upgrade_battery(self):\n",
    "        if self.battery_size == 60:\n",
    "            self.battery_size = 85\n",
    "        else:\n",
    "            print('Battery is already upgraded')\n"
   ]
  },
  {
   "cell_type": "code",
   "execution_count": 15,
   "metadata": {
    "collapsed": true
   },
   "outputs": [],
   "source": [
    "class ElectricCar(Car):\n",
    "    def __init__(self,manifacturer,model,year):\n",
    "        super().__init__(manifacturer,model,year)\n",
    "        self.battery = Battery()"
   ]
  },
  {
   "cell_type": "code",
   "execution_count": 16,
   "metadata": {
    "collapsed": true
   },
   "outputs": [],
   "source": [
    "Tesla = ElectricCar('tesla','XUV',2017)"
   ]
  },
  {
   "cell_type": "code",
   "execution_count": 17,
   "metadata": {},
   "outputs": [
    {
     "data": {
      "text/plain": [
       "60"
      ]
     },
     "execution_count": 17,
     "metadata": {},
     "output_type": "execute_result"
    }
   ],
   "source": [
    "Tesla.battery.battery_size"
   ]
  },
  {
   "cell_type": "code",
   "execution_count": 18,
   "metadata": {},
   "outputs": [
    {
     "name": "stdout",
     "output_type": "stream",
     "text": [
      "This battery has60-kw of battery\n"
     ]
    }
   ],
   "source": [
    "Tesla.battery.describe_battery()"
   ]
  },
  {
   "cell_type": "code",
   "execution_count": 19,
   "metadata": {},
   "outputs": [
    {
     "name": "stdout",
     "output_type": "stream",
     "text": [
      "The car can go approximately100Miles on full charge\n"
     ]
    }
   ],
   "source": [
    "Tesla.battery.get_range()"
   ]
  },
  {
   "cell_type": "code",
   "execution_count": 20,
   "metadata": {
    "collapsed": true
   },
   "outputs": [],
   "source": [
    "Tesla.battery.upgrade_battery()"
   ]
  },
  {
   "cell_type": "code",
   "execution_count": 21,
   "metadata": {},
   "outputs": [
    {
     "data": {
      "text/plain": [
       "85"
      ]
     },
     "execution_count": 21,
     "metadata": {},
     "output_type": "execute_result"
    }
   ],
   "source": [
    "Tesla.battery.battery_size"
   ]
  },
  {
   "cell_type": "code",
   "execution_count": 22,
   "metadata": {},
   "outputs": [
    {
     "name": "stdout",
     "output_type": "stream",
     "text": [
      "This battery has85-kw of battery\n"
     ]
    }
   ],
   "source": [
    "Tesla.battery.describe_battery()"
   ]
  },
  {
   "cell_type": "code",
   "execution_count": 23,
   "metadata": {},
   "outputs": [
    {
     "name": "stdout",
     "output_type": "stream",
     "text": [
      "Battery is already upgraded\n"
     ]
    }
   ],
   "source": [
    "Tesla.battery.upgrade_battery()"
   ]
  },
  {
   "cell_type": "code",
   "execution_count": null,
   "metadata": {
    "collapsed": true
   },
   "outputs": [],
   "source": []
  }
 ],
 "metadata": {
  "kernelspec": {
   "display_name": "Python 3",
   "language": "python",
   "name": "python3"
  },
  "language_info": {
   "codemirror_mode": {
    "name": "ipython",
    "version": 3
   },
   "file_extension": ".py",
   "mimetype": "text/x-python",
   "name": "python",
   "nbconvert_exporter": "python",
   "pygments_lexer": "ipython3",
   "version": "3.6.1"
  }
 },
 "nbformat": 4,
 "nbformat_minor": 2
}
