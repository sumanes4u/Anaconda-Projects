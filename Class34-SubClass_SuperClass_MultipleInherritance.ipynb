{
 "cells": [
  {
   "cell_type": "code",
   "execution_count": 1,
   "metadata": {
    "collapsed": true
   },
   "outputs": [],
   "source": [
    "# The super() method"
   ]
  },
  {
   "cell_type": "code",
   "execution_count": null,
   "metadata": {
    "collapsed": true
   },
   "outputs": [],
   "source": [
    "# __init__()\n",
    "super()__init__()\n",
    "super()__init__(arguments)\n",
    "super().method() # call super class method"
   ]
  },
  {
   "cell_type": "code",
   "execution_count": null,
   "metadata": {
    "collapsed": true
   },
   "outputs": [],
   "source": [
    "# we're defining into a sub class ie child class\n",
    "def __init__(self,property1=0,property=0):\n",
    "    super().__init__(property) # send property value to super class \n",
    "    \n",
    "    # constructor\n",
    "    self.property1 = property1 # store proerty1 value into sub class"
   ]
  },
  {
   "cell_type": "code",
   "execution_count": null,
   "metadata": {
    "collapsed": true
   },
   "outputs": [],
   "source": [
    "s = Son(2000000,8000000)"
   ]
  },
  {
   "cell_type": "code",
   "execution_count": 2,
   "metadata": {
    "collapsed": true
   },
   "outputs": [],
   "source": [
    "def func1(arg1=0,arg2=1):\n",
    "    print (arg1)\n",
    "    print (arg2)"
   ]
  },
  {
   "cell_type": "code",
   "execution_count": 4,
   "metadata": {},
   "outputs": [
    {
     "name": "stdout",
     "output_type": "stream",
     "text": [
      "2\n",
      "4\n"
     ]
    }
   ],
   "source": [
    "func1(2,4)"
   ]
  },
  {
   "cell_type": "code",
   "execution_count": 13,
   "metadata": {},
   "outputs": [],
   "source": [
    "class Father():  \n",
    "    def __init__(self,name,age):\n",
    "        self.name = name # means that we're storing the value in this class\n",
    "        print (name)\n",
    "        \n",
    "    def test():\n",
    "        print (self.name) # utilization"
   ]
  },
  {
   "cell_type": "code",
   "execution_count": 22,
   "metadata": {},
   "outputs": [],
   "source": [
    "class Father():\n",
    "    def __init__(self,property=0):\n",
    "        self.property = property\n",
    "        \n",
    "    def display_property(self):\n",
    "        print (\"Father's property= \", self.property)\n",
    "        \n",
    "class Son(Father):\n",
    "    def __init__(self,property1=0, property=0):\n",
    "        super().__init__(property)\n",
    "        self.property1 = property1\n",
    "        \n",
    "    def display_property(self):\n",
    "        print ('Total property of child= ', self.property1 + self.property)\n",
    "    "
   ]
  },
  {
   "cell_type": "code",
   "execution_count": 23,
   "metadata": {
    "collapsed": true
   },
   "outputs": [],
   "source": [
    "s = Son(200000,800000)"
   ]
  },
  {
   "cell_type": "code",
   "execution_count": 24,
   "metadata": {},
   "outputs": [
    {
     "name": "stdout",
     "output_type": "stream",
     "text": [
      "Total property of child=  1000000\n"
     ]
    }
   ],
   "source": [
    "s.display_property()"
   ]
  },
  {
   "cell_type": "code",
   "execution_count": 30,
   "metadata": {},
   "outputs": [
    {
     "name": "stdout",
     "output_type": "stream",
     "text": [
      "Enter two arguments: 10 5\n",
      "Area of square=  100.0\n",
      "Area of rectange=  50.0\n"
     ]
    }
   ],
   "source": [
    "# \n",
    "class Square:\n",
    "    def __init__(self,x):\n",
    "        self.x = x\n",
    "        \n",
    "    def area(self):\n",
    "        print ('Area of square= ', self.x * self.x)\n",
    "        \n",
    "class Rectangle(Square):\n",
    "        def __init__(self,x,y):\n",
    "            super().__init__(x) # we're calling super class init method and passing the argument as x. \n",
    "            self.y = y\n",
    "            \n",
    "        def area(self):\n",
    "            super().area() # important \n",
    "            print ('Area of rectange= ', self.x * self.y)\n",
    "            \n",
    "a, b = [float(x) for x in input(\"Enter two arguments: \").split()] # list comprehension\n",
    "r = Rectangle(a,b)\n",
    "r.area()"
   ]
  },
  {
   "cell_type": "code",
   "execution_count": 31,
   "metadata": {
    "collapsed": true
   },
   "outputs": [],
   "source": [
    "x = 5"
   ]
  },
  {
   "cell_type": "code",
   "execution_count": 32,
   "metadata": {},
   "outputs": [
    {
     "data": {
      "text/plain": [
       "5"
      ]
     },
     "execution_count": 32,
     "metadata": {},
     "output_type": "execute_result"
    }
   ],
   "source": [
    "x"
   ]
  },
  {
   "cell_type": "code",
   "execution_count": 34,
   "metadata": {},
   "outputs": [
    {
     "data": {
      "text/plain": [
       "int"
      ]
     },
     "execution_count": 34,
     "metadata": {},
     "output_type": "execute_result"
    }
   ],
   "source": [
    "type(x)"
   ]
  },
  {
   "cell_type": "code",
   "execution_count": 35,
   "metadata": {
    "collapsed": true
   },
   "outputs": [],
   "source": [
    "f = float(x)"
   ]
  },
  {
   "cell_type": "code",
   "execution_count": 36,
   "metadata": {},
   "outputs": [
    {
     "data": {
      "text/plain": [
       "5.0"
      ]
     },
     "execution_count": 36,
     "metadata": {},
     "output_type": "execute_result"
    }
   ],
   "source": [
    "f"
   ]
  },
  {
   "cell_type": "code",
   "execution_count": null,
   "metadata": {
    "collapsed": true
   },
   "outputs": [],
   "source": [
    "# Types inheritance \n",
    "\n",
    "- Father       --       Son\n",
    "- Mother       --"
   ]
  },
  {
   "cell_type": "code",
   "execution_count": 42,
   "metadata": {},
   "outputs": [],
   "source": [
    "class Father():\n",
    "    def height(self):\n",
    "        print (\"Height is 6.0 foot\")\n",
    "        \n",
    "class Mother():\n",
    "    def color(self):\n",
    "        print ('Color is White')\n",
    "    \n",
    "class Child(Father,Mother): # Multiple Inheritance \n",
    "    pass"
   ]
  },
  {
   "cell_type": "code",
   "execution_count": 39,
   "metadata": {
    "collapsed": true
   },
   "outputs": [],
   "source": [
    "c = Child()\n"
   ]
  },
  {
   "cell_type": "code",
   "execution_count": 40,
   "metadata": {},
   "outputs": [
    {
     "name": "stdout",
     "output_type": "stream",
     "text": [
      "Color is White\n"
     ]
    }
   ],
   "source": [
    "c.color()"
   ]
  },
  {
   "cell_type": "code",
   "execution_count": 41,
   "metadata": {},
   "outputs": [
    {
     "name": "stdout",
     "output_type": "stream",
     "text": [
      "Height is 6.0 foot\n"
     ]
    }
   ],
   "source": [
    "c.height()"
   ]
  },
  {
   "cell_type": "code",
   "execution_count": 43,
   "metadata": {
    "collapsed": true
   },
   "outputs": [],
   "source": [
    "# problem with multiple inheritance"
   ]
  },
  {
   "cell_type": "code",
   "execution_count": 46,
   "metadata": {
    "collapsed": true
   },
   "outputs": [],
   "source": [
    "# Type 1 \n",
    "class A(object):\n",
    "    def __init__(self):\n",
    "        self.a = 'a'\n",
    "        print (self.a)\n",
    "        \n",
    "class B(object):\n",
    "    def __init__(self):\n",
    "        self.b = 'b'\n",
    "        print (self.b)\n",
    "        \n",
    "class C(A,B):\n",
    "    def __init__(self):\n",
    "        self.c = 'c'\n",
    "        print (self.c) # this c get printed. \n",
    "        super().__init__() #"
   ]
  },
  {
   "cell_type": "code",
   "execution_count": 45,
   "metadata": {},
   "outputs": [
    {
     "name": "stdout",
     "output_type": "stream",
     "text": [
      "c\n",
      "a\n"
     ]
    }
   ],
   "source": [
    "o = C()"
   ]
  },
  {
   "cell_type": "code",
   "execution_count": 47,
   "metadata": {
    "collapsed": true
   },
   "outputs": [],
   "source": [
    "# Type 2\n",
    "class A(object):\n",
    "    pass\n",
    "        \n",
    "class B(object):\n",
    "    def __init__(self):\n",
    "        self.b = 'b'\n",
    "        print (self.b)\n",
    "        \n",
    "class C(A,B):\n",
    "    def __init__(self):\n",
    "        self.c = 'c'\n",
    "        print (self.c) # this c get printed. \n",
    "        super().__init__() #"
   ]
  },
  {
   "cell_type": "code",
   "execution_count": 48,
   "metadata": {},
   "outputs": [
    {
     "name": "stdout",
     "output_type": "stream",
     "text": [
      "c\n",
      "b\n"
     ]
    }
   ],
   "source": [
    "o2 = C()"
   ]
  },
  {
   "cell_type": "code",
   "execution_count": 49,
   "metadata": {
    "collapsed": true
   },
   "outputs": [],
   "source": [
    "# Type 3\n",
    "class A(object):\n",
    "    def __init__(self):\n",
    "        self.a = 'a'\n",
    "        print (self.a)\n",
    "        \n",
    "class B(object):\n",
    "    def __init__(self):\n",
    "        self.b = 'b'\n",
    "        print (self.b)\n",
    "        \n",
    "class C(B,A):\n",
    "    def __init__(self):\n",
    "        self.c = 'c'\n",
    "        print (self.c) # this c get printed. \n",
    "        super().__init__() #"
   ]
  },
  {
   "cell_type": "code",
   "execution_count": 50,
   "metadata": {},
   "outputs": [
    {
     "name": "stdout",
     "output_type": "stream",
     "text": [
      "c\n",
      "b\n"
     ]
    }
   ],
   "source": [
    "o3 = C()"
   ]
  },
  {
   "cell_type": "code",
   "execution_count": 51,
   "metadata": {
    "collapsed": true
   },
   "outputs": [],
   "source": [
    "# Type 4 \n",
    "\n",
    "class A(object):\n",
    "    def __init__(self):\n",
    "        self.a = 'a'\n",
    "        print (self.a)\n",
    "        super().__init__()\n",
    "        \n",
    "class B(object):\n",
    "    def __init__(self):\n",
    "        self.b = 'b'\n",
    "        print (self.b)\n",
    "        super().__init__()\n",
    "        \n",
    "class C(A,B):\n",
    "    def __init__(self):\n",
    "        self.c = 'c'\n",
    "        print (self.c) # this c get printed. \n",
    "        super().__init__() #"
   ]
  },
  {
   "cell_type": "code",
   "execution_count": 52,
   "metadata": {},
   "outputs": [
    {
     "name": "stdout",
     "output_type": "stream",
     "text": [
      "c\n",
      "a\n",
      "b\n"
     ]
    }
   ],
   "source": [
    "o4 = C()"
   ]
  },
  {
   "cell_type": "code",
   "execution_count": 53,
   "metadata": {
    "collapsed": true
   },
   "outputs": [],
   "source": [
    "# MRO - Method resolution order "
   ]
  },
  {
   "cell_type": "code",
   "execution_count": null,
   "metadata": {
    "collapsed": true
   },
   "outputs": [],
   "source": []
  },
  {
   "cell_type": "code",
   "execution_count": 54,
   "metadata": {
    "collapsed": true
   },
   "outputs": [],
   "source": [
    "class A(object):\n",
    "    def method(self):\n",
    "        print ('A class method')\n",
    "        super().method()\n",
    "class B(object):\n",
    "    def method(self):\n",
    "        print ('B class method')\n",
    "        super().method()\n",
    "class C(object):\n",
    "    def method(self):\n",
    "        print ('C class method')\n",
    "class X(A,B):\n",
    "    def method(self):\n",
    "        print ('X class method')\n",
    "        super().method()\n",
    "class Y(B,C):\n",
    "    def method(self):\n",
    "        print ('Y class method')\n",
    "        super().method()\n",
    "class P(X,Y,C):\n",
    "    def method(self):\n",
    "        print ('P class method')\n",
    "        super().method()"
   ]
  },
  {
   "cell_type": "code",
   "execution_count": 55,
   "metadata": {
    "collapsed": true
   },
   "outputs": [],
   "source": [
    "p = P()"
   ]
  },
  {
   "cell_type": "code",
   "execution_count": 56,
   "metadata": {},
   "outputs": [
    {
     "name": "stdout",
     "output_type": "stream",
     "text": [
      "P class method\n",
      "X class method\n",
      "A class method\n",
      "Y class method\n",
      "B class method\n",
      "C class method\n"
     ]
    }
   ],
   "source": [
    "p.method()"
   ]
  },
  {
   "cell_type": "code",
   "execution_count": 57,
   "metadata": {},
   "outputs": [
    {
     "data": {
      "text/plain": [
       "[__main__.P,\n",
       " __main__.X,\n",
       " __main__.A,\n",
       " __main__.Y,\n",
       " __main__.B,\n",
       " __main__.C,\n",
       " object]"
      ]
     },
     "execution_count": 57,
     "metadata": {},
     "output_type": "execute_result"
    }
   ],
   "source": [
    "P.mro()"
   ]
  },
  {
   "cell_type": "code",
   "execution_count": null,
   "metadata": {
    "collapsed": true
   },
   "outputs": [],
   "source": [
    "# Polymorphism"
   ]
  }
 ],
 "metadata": {
  "kernelspec": {
   "display_name": "Python 3",
   "language": "python",
   "name": "python3"
  },
  "language_info": {
   "codemirror_mode": {
    "name": "ipython",
    "version": 3
   },
   "file_extension": ".py",
   "mimetype": "text/x-python",
   "name": "python",
   "nbconvert_exporter": "python",
   "pygments_lexer": "ipython3",
   "version": "3.6.1"
  }
 },
 "nbformat": 4,
 "nbformat_minor": 2
}
