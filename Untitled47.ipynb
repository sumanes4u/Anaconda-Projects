{
 "cells": [
  {
   "cell_type": "code",
   "execution_count": 11,
   "metadata": {},
   "outputs": [
    {
     "name": "stdout",
     "output_type": "stream",
     "text": [
      "Enter text with \"@\" as the last char\n",
      "one\n",
      "two\n",
      "@\n"
     ]
    }
   ],
   "source": [
    "fh = open('new_file.txt','w')\n",
    "print ('Enter text with \"@\" as the last char')\n",
    "str1 = ''\n",
    "while (str1 != '@'):\n",
    "    str1 = input()\n",
    "    if (str1 != '@'):\n",
    "        fh.write(str1 + '\\n')\n",
    "fh.close()"
   ]
  },
  {
   "cell_type": "code",
   "execution_count": 12,
   "metadata": {},
   "outputs": [
    {
     "name": "stdout",
     "output_type": "stream",
     "text": [
      "one\n",
      "two\n",
      "\n"
     ]
    }
   ],
   "source": [
    "fh1 = open('new_file.txt','r')\n",
    "str2 = fh1.read()\n",
    "print(str2)"
   ]
  },
  {
   "cell_type": "code",
   "execution_count": 13,
   "metadata": {},
   "outputs": [
    {
     "name": "stdout",
     "output_type": "stream",
     "text": [
      "['one\\n', 'two\\n']\n"
     ]
    }
   ],
   "source": [
    "fh2 = open('new_file.txt','r')\n",
    "str3 = fh2.readlines()\n",
    "print(str3)"
   ]
  },
  {
   "cell_type": "code",
   "execution_count": 26,
   "metadata": {},
   "outputs": [
    {
     "ename": "ValueError",
     "evalue": "cannot switch from automatic field numbering to manual field specification",
     "output_type": "error",
     "traceback": [
      "\u001b[1;31m---------------------------------------------------------------------------\u001b[0m",
      "\u001b[1;31mValueError\u001b[0m                                Traceback (most recent call last)",
      "\u001b[1;32m<ipython-input-26-e408bd63f649>\u001b[0m in \u001b[0;36m<module>\u001b[1;34m()\u001b[0m\n\u001b[0;32m      2\u001b[0m \u001b[0mid1\u001b[0m \u001b[1;33m=\u001b[0m \u001b[1;36m7821\u001b[0m\u001b[1;33m\u001b[0m\u001b[0m\n\u001b[0;32m      3\u001b[0m \u001b[0msal\u001b[0m \u001b[1;33m=\u001b[0m \u001b[1;36m5000\u001b[0m\u001b[1;33m\u001b[0m\u001b[0m\n\u001b[1;32m----> 4\u001b[1;33m \u001b[0mprint\u001b[0m \u001b[1;33m(\u001b[0m\u001b[1;34m\"{:5s} {:10d} {10.2f}\"\u001b[0m\u001b[1;33m.\u001b[0m\u001b[0mformat\u001b[0m\u001b[1;33m(\u001b[0m\u001b[0mname\u001b[0m\u001b[1;33m,\u001b[0m\u001b[0mid1\u001b[0m\u001b[1;33m,\u001b[0m\u001b[0msal\u001b[0m\u001b[1;33m)\u001b[0m\u001b[1;33m)\u001b[0m\u001b[1;33m\u001b[0m\u001b[0m\n\u001b[0m",
      "\u001b[1;31mValueError\u001b[0m: cannot switch from automatic field numbering to manual field specification"
     ]
    }
   ],
   "source": [
    "name= 'suman'\n",
    "id1 = 7821\n",
    "sal = 5000\n",
    "print (\"{:5s} {:10d} {10.2f}\".format(name,id1,sal))"
   ]
  },
  {
   "cell_type": "code",
   "execution_count": 34,
   "metadata": {},
   "outputs": [
    {
     "name": "stdout",
     "output_type": "stream",
     "text": [
      "Enter the file name:temp-try.txt\n",
      "Line Count: 231\n",
      "Word Count: 192\n",
      "Char Count: 231\n"
     ]
    }
   ],
   "source": [
    "import os,sys\n",
    "fname = input('Enter the file name:')\n",
    "if (os.path.isfile(fname)):\n",
    "    fh = open(fname,'r')\n",
    "else:\n",
    "    print ('Entered file name doesnot exists:')\n",
    "    sys.exit()\n",
    "lines = fh.read()\n",
    "lc = wc = cc = 0\n",
    "for line in lines:\n",
    "    words = line.split()\n",
    "    lc += 1\n",
    "    wc += len(words)\n",
    "    cc += len(line)\n",
    "print ('Line Count:',lc)    \n",
    "print ('Word Count:',wc)\n",
    "print ('Char Count:',cc)"
   ]
  },
  {
   "cell_type": "code",
   "execution_count": 30,
   "metadata": {},
   "outputs": [
    {
     "data": {
      "text/plain": [
       "'C:\\\\Users\\\\ssamarthi\\\\AnacondaProjects\\\\SAHIL_TUTORIALS'"
      ]
     },
     "execution_count": 30,
     "metadata": {},
     "output_type": "execute_result"
    }
   ],
   "source": [
    "pwd"
   ]
  },
  {
   "cell_type": "code",
   "execution_count": 31,
   "metadata": {},
   "outputs": [
    {
     "data": {
      "text/plain": [
       "True"
      ]
     },
     "execution_count": 31,
     "metadata": {},
     "output_type": "execute_result"
    }
   ],
   "source": [
    "os.path.isfile('temp-try.txt')"
   ]
  },
  {
   "cell_type": "code",
   "execution_count": null,
   "metadata": {},
   "outputs": [],
   "source": []
  }
 ],
 "metadata": {
  "kernelspec": {
   "display_name": "Python 3",
   "language": "python",
   "name": "python3"
  },
  "language_info": {
   "codemirror_mode": {
    "name": "ipython",
    "version": 3
   },
   "file_extension": ".py",
   "mimetype": "text/x-python",
   "name": "python",
   "nbconvert_exporter": "python",
   "pygments_lexer": "ipython3",
   "version": "3.6.4"
  }
 },
 "nbformat": 4,
 "nbformat_minor": 2
}
