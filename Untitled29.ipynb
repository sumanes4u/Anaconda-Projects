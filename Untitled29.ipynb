{
 "cells": [
  {
   "cell_type": "code",
   "execution_count": 1,
   "metadata": {
    "collapsed": true
   },
   "outputs": [],
   "source": [
    "class Teacher:\n",
    "    def setid(self,id): # setter\n",
    "        self.id = id\n",
    "        \n",
    "    def getid(self): # getter\n",
    "        return self.id\n",
    "    \n",
    "    def setname(self,name): # setter\n",
    "        self.name = name\n",
    "        \n",
    "    def getname(self): # getter\n",
    "        return self.name\n",
    "    \n",
    "    def setaddress(self,address): # setter\n",
    "        self.address = address\n",
    "        \n",
    "    def getaddress(self): # getter\n",
    "        return self.address\n",
    "    \n",
    "    def setsalary(self,salary): # setter\n",
    "        self.salary = salary\n",
    "        \n",
    "    def getsalary(self): # getter\n",
    "        return self.salary\n",
    "        \n",
    "\n",
    "\n",
    "# In[10]:\n",
    "\n",
    "t = Teacher() # create an object t"
   ]
  },
  {
   "cell_type": "code",
   "execution_count": 2,
   "metadata": {
    "collapsed": true
   },
   "outputs": [],
   "source": [
    "t.setid(10)"
   ]
  },
  {
   "cell_type": "code",
   "execution_count": 3,
   "metadata": {},
   "outputs": [
    {
     "data": {
      "text/plain": [
       "10"
      ]
     },
     "execution_count": 3,
     "metadata": {},
     "output_type": "execute_result"
    }
   ],
   "source": [
    "t.getid()"
   ]
  },
  {
   "cell_type": "code",
   "execution_count": 5,
   "metadata": {},
   "outputs": [
    {
     "data": {
      "text/plain": [
       "12"
      ]
     },
     "execution_count": 5,
     "metadata": {},
     "output_type": "execute_result"
    }
   ],
   "source": [
    "l1 = [10,2]\n",
    "sum(l1)"
   ]
  },
  {
   "cell_type": "code",
   "execution_count": 11,
   "metadata": {},
   "outputs": [
    {
     "name": "stdout",
     "output_type": "stream",
     "text": [
      "Enter marks10 20 30\n",
      "[10, 20, 30]\n",
      "Total marks: 60\n",
      "20.0\n"
     ]
    }
   ],
   "source": [
    "marks = input('Enter marks').split(' ')\n",
    "marks = [int(num) for num in marks]\n",
    "print(marks)\n",
    "sum = 0\n",
    "for x in marks:\n",
    "    sum += x\n",
    "print ('Total marks:',sum)\n",
    "\n",
    "n = len(marks)\n",
    "avg = sum/n\n",
    "print (avg)"
   ]
  },
  {
   "cell_type": "code",
   "execution_count": 12,
   "metadata": {},
   "outputs": [
    {
     "name": "stdout",
     "output_type": "stream",
     "text": [
      "1 2 3 4\n"
     ]
    }
   ],
   "source": [
    "val = [x for x in input().split()]"
   ]
  },
  {
   "cell_type": "code",
   "execution_count": 13,
   "metadata": {},
   "outputs": [
    {
     "data": {
      "text/plain": [
       "['1', '2', '3', '4']"
      ]
     },
     "execution_count": 13,
     "metadata": {},
     "output_type": "execute_result"
    }
   ],
   "source": [
    "val"
   ]
  },
  {
   "cell_type": "code",
   "execution_count": 14,
   "metadata": {},
   "outputs": [
    {
     "data": {
      "text/plain": [
       "' upgrade-image2 Aries@tftp://10.17.150.76/ArubaInstant_Aries_6.5.1.5-4.3.1.7_62349;Centaurus@tftp://10.17.150.76/ArubaInstant_Centaurus_6.5.1.5-4.3.1.7_62349;Hercules@tftp://10.17.150.76/ArubaInstant_Hercules_6.5.1.5-4.3.1.7_62349;Lupus@tftp://10.17.150.76/ArubaInstant_Lupus_6.5.1.5-4.3.1.7_62349;Pegasus@tftp://10.17.150.76/ArubaInstant_Pegasus_6.5.1.5-4.3.1.7_62349;Ursa@tftp://10.17.150.76/ArubaInstant_Ursa_6.5.1.5-4.3.1.7_62349;Vela@tftp://10.17.150.76/ArubaInstant_Vela_6.5.1.5-4.3.1.7_62349;Taurus@tftp://10.17.150.76/ArubaInstant_Taurus_6.5.1.5-4.3.1.7_62349'"
      ]
     },
     "execution_count": 14,
     "metadata": {},
     "output_type": "execute_result"
    }
   ],
   "source": [
    "import re\n",
    "text = ' upgrade-image2 Aries@tftp://10.17.150.14/ArubaInstant_Aries_6.5.1.5-4.3.1.7_62349;Centaurus@tftp://10.17.150.14/ArubaInstant_Centaurus_6.5.1.5-4.3.1.7_62349;Hercules@tftp://10.17.150.14/ArubaInstant_Hercules_6.5.1.5-4.3.1.7_62349;Lupus@tftp://10.17.150.14/ArubaInstant_Lupus_6.5.1.5-4.3.1.7_62349;Pegasus@tftp://10.17.150.14/ArubaInstant_Pegasus_6.5.1.5-4.3.1.7_62349;Ursa@tftp://10.17.150.14/ArubaInstant_Ursa_6.5.1.5-4.3.1.7_62349;Vela@tftp://10.17.150.14/ArubaInstant_Vela_6.5.1.5-4.3.1.7_62349;Taurus@tftp://10.17.150.14/ArubaInstant_Taurus_6.5.1.5-4.3.1.7_62349'\n",
    "op = re.sub(r'10.17.150.14','10.17.150.76',text)\n",
    "op"
   ]
  },
  {
   "cell_type": "code",
   "execution_count": 15,
   "metadata": {},
   "outputs": [
    {
     "ename": "AttributeError",
     "evalue": "module 'string' has no attribute 'replace'",
     "output_type": "error",
     "traceback": [
      "\u001b[1;31m---------------------------------------------------------------------------\u001b[0m",
      "\u001b[1;31mAttributeError\u001b[0m                            Traceback (most recent call last)",
      "\u001b[1;32m<ipython-input-15-45614637be7c>\u001b[0m in \u001b[0;36m<module>\u001b[1;34m()\u001b[0m\n\u001b[0;32m      1\u001b[0m \u001b[1;32mimport\u001b[0m \u001b[0mstring\u001b[0m\u001b[1;33m\u001b[0m\u001b[0m\n\u001b[0;32m      2\u001b[0m \u001b[0mtxt\u001b[0m \u001b[1;33m=\u001b[0m \u001b[1;34m'upgrade-image2 Aries@tftp://10.17.150.14/ArubaInstant_Aries_6.5.1.5-4.3.1.7_62349;Centaurus@tftp://10.17.150.14/ArubaInstant_Centaurus_6.5.1.5-4.3.1.7_62349;Hercules@tftp://10.17.150.14/ArubaInstant_Hercules_6.5.1.5-4.3.1.7_62349;Lupus@tftp://10.17.150.14/ArubaInstant_Lupus_6.5.1.5-4.3.1.7_62349;Pegasus@tftp://10.17.150.14/ArubaInstant_Pegasus_6.5.1.5-4.3.1.7_62349;Ursa@tftp://10.17.150.14/ArubaInstant_Ursa_6.5.1.5-4.3.1.7_62349;Vela@tftp://10.17.150.14/ArubaInstant_Vela_6.5.1.5-4.3.1.7_62349;Taurus@tftp://10.17.150.14/ArubaInstant_Taurus_6.5.1.5-4.3.1.7_62349'\u001b[0m\u001b[1;33m\u001b[0m\u001b[0m\n\u001b[1;32m----> 3\u001b[1;33m \u001b[0mntxt\u001b[0m \u001b[1;33m=\u001b[0m \u001b[0mstring\u001b[0m\u001b[1;33m.\u001b[0m\u001b[0mreplace\u001b[0m\u001b[1;33m(\u001b[0m\u001b[0mtxt\u001b[0m\u001b[1;33m,\u001b[0m\u001b[1;34m'10.17.150.14'\u001b[0m\u001b[1;33m,\u001b[0m\u001b[1;34m'10.17.150.76'\u001b[0m\u001b[1;33m)\u001b[0m\u001b[1;33m\u001b[0m\u001b[0m\n\u001b[0m\u001b[0;32m      4\u001b[0m \u001b[0mntxt\u001b[0m\u001b[1;33m\u001b[0m\u001b[0m\n",
      "\u001b[1;31mAttributeError\u001b[0m: module 'string' has no attribute 'replace'"
     ]
    }
   ],
   "source": [
    "import string\n",
    "txt = 'upgrade-image2 Aries@tftp://10.17.150.14/ArubaInstant_Aries_6.5.1.5-4.3.1.7_62349;Centaurus@tftp://10.17.150.14/ArubaInstant_Centaurus_6.5.1.5-4.3.1.7_62349;Hercules@tftp://10.17.150.14/ArubaInstant_Hercules_6.5.1.5-4.3.1.7_62349;Lupus@tftp://10.17.150.14/ArubaInstant_Lupus_6.5.1.5-4.3.1.7_62349;Pegasus@tftp://10.17.150.14/ArubaInstant_Pegasus_6.5.1.5-4.3.1.7_62349;Ursa@tftp://10.17.150.14/ArubaInstant_Ursa_6.5.1.5-4.3.1.7_62349;Vela@tftp://10.17.150.14/ArubaInstant_Vela_6.5.1.5-4.3.1.7_62349;Taurus@tftp://10.17.150.14/ArubaInstant_Taurus_6.5.1.5-4.3.1.7_62349'\n",
    "ntxt = string.replace(txt,'10.17.150.14','10.17.150.76')\n",
    "ntxt"
   ]
  },
  {
   "cell_type": "code",
   "execution_count": 66,
   "metadata": {},
   "outputs": [
    {
     "name": "stdout",
     "output_type": "stream",
     "text": [
      "> <ipython-input-66-9ae3960a5e15>(8)exampledisp()\n",
      "-> return \"the name of the person is {} and number is {}\".format(self.name,self.number)\n",
      "ERROR! Session/line number was not unique in database. History logging moved to new session 285\n",
      "(Pdb) n\n",
      "--Return--\n",
      "> <ipython-input-66-9ae3960a5e15>(8)exampledisp()->'the name of ...number is 100'\n",
      "-> return \"the name of the person is {} and number is {}\".format(self.name,self.number)\n",
      "(Pdb) e\n",
      "*** NameError: name 'e' is not defined\n",
      "(Pdb) exit\n"
     ]
    },
    {
     "ename": "BdbQuit",
     "evalue": "",
     "output_type": "error",
     "traceback": [
      "\u001b[1;31m---------------------------------------------------------------------------\u001b[0m",
      "\u001b[1;31mBdbQuit\u001b[0m                                   Traceback (most recent call last)",
      "\u001b[1;32m<ipython-input-66-9ae3960a5e15>\u001b[0m in \u001b[0;36m<module>\u001b[1;34m()\u001b[0m\n\u001b[0;32m     10\u001b[0m \u001b[1;32mif\u001b[0m \u001b[0m__name__\u001b[0m \u001b[1;33m==\u001b[0m \u001b[1;34m'__main__'\u001b[0m\u001b[1;33m:\u001b[0m\u001b[1;33m\u001b[0m\u001b[0m\n\u001b[0;32m     11\u001b[0m     \u001b[0mexample\u001b[0m \u001b[1;33m=\u001b[0m \u001b[0mExampleClass\u001b[0m\u001b[1;33m(\u001b[0m\u001b[1;34m'suman'\u001b[0m\u001b[1;33m,\u001b[0m\u001b[1;36m100\u001b[0m\u001b[1;33m)\u001b[0m\u001b[1;33m\u001b[0m\u001b[0m\n\u001b[1;32m---> 12\u001b[1;33m     \u001b[0mexample\u001b[0m\u001b[1;33m.\u001b[0m\u001b[0mexampledisp\u001b[0m\u001b[1;33m(\u001b[0m\u001b[1;33m)\u001b[0m\u001b[1;33m\u001b[0m\u001b[0m\n\u001b[0m",
      "\u001b[1;32m<ipython-input-66-9ae3960a5e15>\u001b[0m in \u001b[0;36mexampledisp\u001b[1;34m(self)\u001b[0m\n\u001b[0;32m      6\u001b[0m     \u001b[1;32mdef\u001b[0m \u001b[0mexampledisp\u001b[0m\u001b[1;33m(\u001b[0m\u001b[0mself\u001b[0m\u001b[1;33m)\u001b[0m\u001b[1;33m:\u001b[0m\u001b[1;33m\u001b[0m\u001b[0m\n\u001b[0;32m      7\u001b[0m         \u001b[0mpdb\u001b[0m\u001b[1;33m.\u001b[0m\u001b[0mset_trace\u001b[0m\u001b[1;33m(\u001b[0m\u001b[1;33m)\u001b[0m\u001b[1;33m\u001b[0m\u001b[0m\n\u001b[1;32m----> 8\u001b[1;33m         \u001b[1;32mreturn\u001b[0m \u001b[1;34m\"the name of the person is {} and number is {}\"\u001b[0m\u001b[1;33m.\u001b[0m\u001b[0mformat\u001b[0m\u001b[1;33m(\u001b[0m\u001b[0mself\u001b[0m\u001b[1;33m.\u001b[0m\u001b[0mname\u001b[0m\u001b[1;33m,\u001b[0m\u001b[0mself\u001b[0m\u001b[1;33m.\u001b[0m\u001b[0mnumber\u001b[0m\u001b[1;33m)\u001b[0m\u001b[1;33m\u001b[0m\u001b[0m\n\u001b[0m\u001b[0;32m      9\u001b[0m \u001b[1;31m#example = ExampleClass('suman',100)\u001b[0m\u001b[1;33m\u001b[0m\u001b[1;33m\u001b[0m\u001b[0m\n\u001b[0;32m     10\u001b[0m \u001b[1;32mif\u001b[0m \u001b[0m__name__\u001b[0m \u001b[1;33m==\u001b[0m \u001b[1;34m'__main__'\u001b[0m\u001b[1;33m:\u001b[0m\u001b[1;33m\u001b[0m\u001b[0m\n",
      "\u001b[1;32mC:\\Users\\ssamarthi\\AppData\\Local\\Continuum\\Anaconda3\\lib\\bdb.py\u001b[0m in \u001b[0;36mtrace_dispatch\u001b[1;34m(self, frame, event, arg)\u001b[0m\n\u001b[0;32m     50\u001b[0m             \u001b[1;32mreturn\u001b[0m \u001b[0mself\u001b[0m\u001b[1;33m.\u001b[0m\u001b[0mdispatch_call\u001b[0m\u001b[1;33m(\u001b[0m\u001b[0mframe\u001b[0m\u001b[1;33m,\u001b[0m \u001b[0marg\u001b[0m\u001b[1;33m)\u001b[0m\u001b[1;33m\u001b[0m\u001b[0m\n\u001b[0;32m     51\u001b[0m         \u001b[1;32mif\u001b[0m \u001b[0mevent\u001b[0m \u001b[1;33m==\u001b[0m \u001b[1;34m'return'\u001b[0m\u001b[1;33m:\u001b[0m\u001b[1;33m\u001b[0m\u001b[0m\n\u001b[1;32m---> 52\u001b[1;33m             \u001b[1;32mreturn\u001b[0m \u001b[0mself\u001b[0m\u001b[1;33m.\u001b[0m\u001b[0mdispatch_return\u001b[0m\u001b[1;33m(\u001b[0m\u001b[0mframe\u001b[0m\u001b[1;33m,\u001b[0m \u001b[0marg\u001b[0m\u001b[1;33m)\u001b[0m\u001b[1;33m\u001b[0m\u001b[0m\n\u001b[0m\u001b[0;32m     53\u001b[0m         \u001b[1;32mif\u001b[0m \u001b[0mevent\u001b[0m \u001b[1;33m==\u001b[0m \u001b[1;34m'exception'\u001b[0m\u001b[1;33m:\u001b[0m\u001b[1;33m\u001b[0m\u001b[0m\n\u001b[0;32m     54\u001b[0m             \u001b[1;32mreturn\u001b[0m \u001b[0mself\u001b[0m\u001b[1;33m.\u001b[0m\u001b[0mdispatch_exception\u001b[0m\u001b[1;33m(\u001b[0m\u001b[0mframe\u001b[0m\u001b[1;33m,\u001b[0m \u001b[0marg\u001b[0m\u001b[1;33m)\u001b[0m\u001b[1;33m\u001b[0m\u001b[0m\n",
      "\u001b[1;32mC:\\Users\\ssamarthi\\AppData\\Local\\Continuum\\Anaconda3\\lib\\bdb.py\u001b[0m in \u001b[0;36mdispatch_return\u001b[1;34m(self, frame, arg)\u001b[0m\n\u001b[0;32m     94\u001b[0m             \u001b[1;32mfinally\u001b[0m\u001b[1;33m:\u001b[0m\u001b[1;33m\u001b[0m\u001b[0m\n\u001b[0;32m     95\u001b[0m                 \u001b[0mself\u001b[0m\u001b[1;33m.\u001b[0m\u001b[0mframe_returning\u001b[0m \u001b[1;33m=\u001b[0m \u001b[1;32mNone\u001b[0m\u001b[1;33m\u001b[0m\u001b[0m\n\u001b[1;32m---> 96\u001b[1;33m             \u001b[1;32mif\u001b[0m \u001b[0mself\u001b[0m\u001b[1;33m.\u001b[0m\u001b[0mquitting\u001b[0m\u001b[1;33m:\u001b[0m \u001b[1;32mraise\u001b[0m \u001b[0mBdbQuit\u001b[0m\u001b[1;33m\u001b[0m\u001b[0m\n\u001b[0m\u001b[0;32m     97\u001b[0m             \u001b[1;31m# The user issued a 'next' or 'until' command.\u001b[0m\u001b[1;33m\u001b[0m\u001b[1;33m\u001b[0m\u001b[0m\n\u001b[0;32m     98\u001b[0m             \u001b[1;32mif\u001b[0m \u001b[0mself\u001b[0m\u001b[1;33m.\u001b[0m\u001b[0mstopframe\u001b[0m \u001b[1;32mis\u001b[0m \u001b[0mframe\u001b[0m \u001b[1;32mand\u001b[0m \u001b[0mself\u001b[0m\u001b[1;33m.\u001b[0m\u001b[0mstoplineno\u001b[0m \u001b[1;33m!=\u001b[0m \u001b[1;33m-\u001b[0m\u001b[1;36m1\u001b[0m\u001b[1;33m:\u001b[0m\u001b[1;33m\u001b[0m\u001b[0m\n",
      "\u001b[1;31mBdbQuit\u001b[0m: "
     ]
    }
   ],
   "source": [
    "import pdb\n",
    "class ExampleClass(object):\n",
    "    def __init__(self,name,number):\n",
    "        self.name = name\n",
    "        self.number = number\n",
    "    def exampledisp(self):\n",
    "        pdb.set_trace()\n",
    "        return \"the name of the person is {} and number is {}\".format(self.name,self.number)    \n",
    "#example = ExampleClass('suman',100)    \n",
    "if __name__ == '__main__':\n",
    "    example = ExampleClass('suman',100)\n",
    "    example.exampledisp()        "
   ]
  },
  {
   "cell_type": "code",
   "execution_count": 53,
   "metadata": {},
   "outputs": [],
   "source": [
    "import pdb"
   ]
  },
  {
   "cell_type": "code",
   "execution_count": null,
   "metadata": {
    "collapsed": true
   },
   "outputs": [],
   "source": []
  }
 ],
 "metadata": {
  "kernelspec": {
   "display_name": "Python 3",
   "language": "python",
   "name": "python3"
  },
  "language_info": {
   "codemirror_mode": {
    "name": "ipython",
    "version": 3
   },
   "file_extension": ".py",
   "mimetype": "text/x-python",
   "name": "python",
   "nbconvert_exporter": "python",
   "pygments_lexer": "ipython3",
   "version": "3.6.1"
  }
 },
 "nbformat": 4,
 "nbformat_minor": 2
}
