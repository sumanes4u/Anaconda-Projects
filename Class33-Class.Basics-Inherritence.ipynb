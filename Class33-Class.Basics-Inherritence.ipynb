{
 "cells": [
  {
   "cell_type": "code",
   "execution_count": 3,
   "metadata": {},
   "outputs": [
    {
     "name": "stdout",
     "output_type": "stream",
     "text": [
      "Dog...\n"
     ]
    }
   ],
   "source": [
    "# desing \n",
    "\n",
    "class Pet():\n",
    "    print ('Dog...')\n",
    "    name = 'Tommy'\n"
   ]
  },
  {
   "cell_type": "code",
   "execution_count": 4,
   "metadata": {
    "collapsed": true
   },
   "outputs": [],
   "source": [
    "object = Pet()"
   ]
  },
  {
   "cell_type": "code",
   "execution_count": 5,
   "metadata": {},
   "outputs": [
    {
     "data": {
      "text/plain": [
       "'Tommy'"
      ]
     },
     "execution_count": 5,
     "metadata": {},
     "output_type": "execute_result"
    }
   ],
   "source": [
    "object.name"
   ]
  },
  {
   "cell_type": "code",
   "execution_count": 6,
   "metadata": {
    "collapsed": true
   },
   "outputs": [],
   "source": [
    "# Inheritance and Polymorphism"
   ]
  },
  {
   "cell_type": "code",
   "execution_count": 9,
   "metadata": {
    "collapsed": true
   },
   "outputs": [],
   "source": [
    "class Teacher:\n",
    "    def setid(self,id): # setter\n",
    "        self.id = id\n",
    "        \n",
    "    def getid(self): # getter\n",
    "        return self.id\n",
    "    \n",
    "    def setname(self,name): # setter\n",
    "        self.name = name\n",
    "        \n",
    "    def getname(self): # getter\n",
    "        return self.name\n",
    "    \n",
    "    def setaddress(self,address): # setter\n",
    "        self.address = address\n",
    "        \n",
    "    def getaddress(self): # getter\n",
    "        return self.address\n",
    "    \n",
    "    def setsalary(self,salary): # setter\n",
    "        self.salary = salary\n",
    "        \n",
    "    def getsalary(self): # getter\n",
    "        return self.salary\n",
    "        "
   ]
  },
  {
   "cell_type": "code",
   "execution_count": 10,
   "metadata": {
    "collapsed": true
   },
   "outputs": [],
   "source": [
    "t = Teacher() # create an object t"
   ]
  },
  {
   "cell_type": "code",
   "execution_count": 12,
   "metadata": {
    "collapsed": true
   },
   "outputs": [],
   "source": [
    "t.setid(10)"
   ]
  },
  {
   "cell_type": "code",
   "execution_count": 13,
   "metadata": {
    "collapsed": true
   },
   "outputs": [],
   "source": [
    "t.setname('Anuj')"
   ]
  },
  {
   "cell_type": "code",
   "execution_count": 14,
   "metadata": {
    "collapsed": true
   },
   "outputs": [],
   "source": [
    "t.setaddress('111, Marine Drive, Florida - 18507')"
   ]
  },
  {
   "cell_type": "code",
   "execution_count": 15,
   "metadata": {
    "collapsed": true
   },
   "outputs": [],
   "source": [
    "t.setsalary(15000)"
   ]
  },
  {
   "cell_type": "code",
   "execution_count": 16,
   "metadata": {},
   "outputs": [
    {
     "name": "stdout",
     "output_type": "stream",
     "text": [
      "id=  10\n",
      "name=  Anuj\n",
      "address=  111, Marine Drive, Florida - 18507\n",
      "salary=  15000\n"
     ]
    }
   ],
   "source": [
    "print ('id= ', t.getid())\n",
    "print ('name= ', t.getname())\n",
    "print ('address= ', t.getaddress())\n",
    "print ('salary= ', t.getsalary())"
   ]
  },
  {
   "cell_type": "code",
   "execution_count": 17,
   "metadata": {
    "collapsed": true
   },
   "outputs": [],
   "source": [
    "t2 = Teacher() # creating an object t2"
   ]
  },
  {
   "cell_type": "code",
   "execution_count": 20,
   "metadata": {},
   "outputs": [
    {
     "name": "stdout",
     "output_type": "stream",
     "text": [
      "id=  15\n",
      "name=  Yuvi\n",
      "address=  111, Marine Drive, Florida - 18507\n",
      "salary=  16000\n"
     ]
    }
   ],
   "source": [
    "print ('id= ', t2.getid())\n",
    "print ('name= ', t2.getname())\n",
    "print ('address= ', t2.getaddress())\n",
    "print ('salary= ', t2.getsalary())"
   ]
  },
  {
   "cell_type": "code",
   "execution_count": 19,
   "metadata": {
    "collapsed": true
   },
   "outputs": [],
   "source": [
    "t2.setid(15)\n",
    "t2.setname('Yuvi')\n",
    "t2.setaddress('111, Marine Drive, Florida - 18507')\n",
    "t2.setsalary(16000)"
   ]
  },
  {
   "cell_type": "code",
   "execution_count": 21,
   "metadata": {
    "collapsed": true
   },
   "outputs": [],
   "source": [
    "class Student:\n",
    "    def setid(self,id): # setter\n",
    "        self.id = id\n",
    "        \n",
    "    def getid(self): # getter\n",
    "        return self.id\n",
    "    \n",
    "    def setname(self,name): # setter\n",
    "        self.name = name\n",
    "        \n",
    "    def getname(self): # getter\n",
    "        return self.name\n",
    "    \n",
    "    def setaddress(self,address): # setter\n",
    "        self.address = address\n",
    "        \n",
    "    def getaddress(self): # getter\n",
    "        return self.address\n",
    "    \n",
    "    def setmarks(self,marks): # setter\n",
    "        self.marks = marks\n",
    "        \n",
    "    def getmarks(self): # getter\n",
    "        return self.marks"
   ]
  },
  {
   "cell_type": "code",
   "execution_count": 22,
   "metadata": {
    "collapsed": true
   },
   "outputs": [],
   "source": [
    "s = Student()"
   ]
  },
  {
   "cell_type": "code",
   "execution_count": 23,
   "metadata": {
    "collapsed": true
   },
   "outputs": [],
   "source": [
    "s.setid(15)\n",
    "s.setname('Ashir')\n",
    "s.setaddress('111, Marine Drive, Florida - 18507')\n",
    "s.setmarks(900)"
   ]
  },
  {
   "cell_type": "code",
   "execution_count": 24,
   "metadata": {},
   "outputs": [
    {
     "name": "stdout",
     "output_type": "stream",
     "text": [
      "id=  15\n",
      "name=  Ashir\n",
      "address=  111, Marine Drive, Florida - 18507\n",
      "marks=  900\n"
     ]
    }
   ],
   "source": [
    "print ('id= ', s.getid())\n",
    "print ('name= ', s.getname())\n",
    "print ('address= ', s.getaddress())\n",
    "print ('marks= ', s.getmarks())"
   ]
  },
  {
   "cell_type": "code",
   "execution_count": 25,
   "metadata": {},
   "outputs": [
    {
     "data": {
      "text/plain": [
       "'/Users/aws'"
      ]
     },
     "execution_count": 25,
     "metadata": {},
     "output_type": "execute_result"
    }
   ],
   "source": [
    "pwd\n"
   ]
  },
  {
   "cell_type": "code",
   "execution_count": 52,
   "metadata": {
    "collapsed": true
   },
   "outputs": [],
   "source": [
    "from teacher import Teacher\n",
    "\n",
    "class Student2(Teacher):\n",
    "    def setmarks(self,marks):\n",
    "        self.marks = marks\n",
    "        \n",
    "    def getmarks(self):\n",
    "        return self.marks\n",
    "    \n",
    "    def setsalary(self,salary,bonus):\n",
    "        self.salary = salary\n",
    "        Teacher.salary = salary\n",
    "        self.bonus = bonus\n",
    "        \n",
    "    def getsalary(self):\n",
    "        return self.salary    "
   ]
  },
  {
   "cell_type": "code",
   "execution_count": 54,
   "metadata": {
    "collapsed": true
   },
   "outputs": [],
   "source": [
    "s2 = Student2()"
   ]
  },
  {
   "cell_type": "code",
   "execution_count": 39,
   "metadata": {
    "collapsed": true
   },
   "outputs": [],
   "source": [
    "s2.setmarks(900)"
   ]
  },
  {
   "cell_type": "code",
   "execution_count": 40,
   "metadata": {},
   "outputs": [
    {
     "data": {
      "text/plain": [
       "900"
      ]
     },
     "execution_count": 40,
     "metadata": {},
     "output_type": "execute_result"
    }
   ],
   "source": [
    "s2.getmarks()"
   ]
  },
  {
   "cell_type": "code",
   "execution_count": 56,
   "metadata": {
    "collapsed": true
   },
   "outputs": [],
   "source": [
    "s2.setsalary(5000,100)"
   ]
  },
  {
   "cell_type": "code",
   "execution_count": 41,
   "metadata": {
    "collapsed": true
   },
   "outputs": [],
   "source": [
    "class Teacher2:\n",
    "    # constructor\n",
    "    def __init__(self,id,name,address,salary):\n",
    "        self.id = id\n",
    "        self.name = name\n",
    "        self.address = address\n",
    "        self.salary = salary\n",
    "    \n",
    "    def setid(self,id): # setter\n",
    "        self.id = id\n",
    "        \n",
    "    def getid(self): # getter\n",
    "        return self.id\n",
    "    \n",
    "    def setname(self,name): # setter\n",
    "        self.name = name\n",
    "        \n",
    "    def getname(self): # getter\n",
    "        return self.name\n",
    "    \n",
    "    def setaddress(self,address): # setter\n",
    "        self.address = address\n",
    "        \n",
    "    def getaddress(self): # getter\n",
    "        return self.address\n",
    "    \n",
    "    def setsalary(self,salary): # setter\n",
    "        self.salary = salary\n",
    "        \n",
    "    def getsalary(self): # getter\n",
    "        return self.salary"
   ]
  },
  {
   "cell_type": "code",
   "execution_count": 43,
   "metadata": {
    "collapsed": true
   },
   "outputs": [],
   "source": [
    "t2 = Teacher2(50,'Suman','xyz street',25000)"
   ]
  },
  {
   "cell_type": "code",
   "execution_count": 44,
   "metadata": {},
   "outputs": [
    {
     "name": "stdout",
     "output_type": "stream",
     "text": [
      "id=  50\n",
      "name=  Suman\n",
      "address=  xyz street\n",
      "salary=  25000\n"
     ]
    }
   ],
   "source": [
    "print ('id= ', t2.getid())\n",
    "print ('name= ', t2.getname())\n",
    "print ('address= ', t2.getaddress())\n",
    "print ('salary= ', t2.getsalary())"
   ]
  },
  {
   "cell_type": "code",
   "execution_count": 20,
   "metadata": {},
   "outputs": [],
   "source": [
    "class Bar():\n",
    "    def __init__(self,id,name):\n",
    "        self.id = id\n",
    "        self.name = name\n",
    "\n",
    "class Foo(Bar):\n",
    "    def __init__(self,id,name):\n",
    "        super(Foo,self).__init__(id,name)\n",
    "        self.baz = 5\n",
    "        "
   ]
  },
  {
   "cell_type": "code",
   "execution_count": 21,
   "metadata": {},
   "outputs": [],
   "source": [
    "a = Foo(100,'suman')"
   ]
  },
  {
   "cell_type": "code",
   "execution_count": 22,
   "metadata": {},
   "outputs": [
    {
     "data": {
      "text/plain": [
       "100"
      ]
     },
     "execution_count": 22,
     "metadata": {},
     "output_type": "execute_result"
    }
   ],
   "source": [
    "a.id"
   ]
  },
  {
   "cell_type": "code",
   "execution_count": 70,
   "metadata": {
    "collapsed": true
   },
   "outputs": [],
   "source": [
    "# Overriding Super Class Constructors and Methods or attribute"
   ]
  },
  {
   "cell_type": "code",
   "execution_count": 61,
   "metadata": {
    "collapsed": true
   },
   "outputs": [],
   "source": [
    "class Father:\n",
    "    def __init__(self):\n",
    "        self.property = 800000\n",
    "        \n",
    "    def display_property(self):\n",
    "        print (\"Father's property= \", self.property)\n",
    "        \n",
    "class Son(Father):\n",
    "    pass"
   ]
  },
  {
   "cell_type": "code",
   "execution_count": 62,
   "metadata": {
    "collapsed": true
   },
   "outputs": [],
   "source": [
    "s = Son()"
   ]
  },
  {
   "cell_type": "code",
   "execution_count": 63,
   "metadata": {},
   "outputs": [
    {
     "name": "stdout",
     "output_type": "stream",
     "text": [
      "Father's property=  800000\n"
     ]
    }
   ],
   "source": [
    "s.display_property()"
   ]
  },
  {
   "cell_type": "code",
   "execution_count": 64,
   "metadata": {
    "collapsed": true
   },
   "outputs": [],
   "source": [
    "class Father:\n",
    "    def __init__(self):\n",
    "        self.property = 800000\n",
    "        \n",
    "    def display_property(self):\n",
    "        print (\"Father's property= \", self.property)\n",
    "        \n",
    "class Son(Father):\n",
    "    def __init__(self):\n",
    "        self.property = 200000\n",
    "        \n",
    "    def display_property(self):\n",
    "        print (\"Child's property= \", self.property)"
   ]
  },
  {
   "cell_type": "code",
   "execution_count": 65,
   "metadata": {
    "collapsed": true
   },
   "outputs": [],
   "source": [
    "s2 = Son()"
   ]
  },
  {
   "cell_type": "code",
   "execution_count": 66,
   "metadata": {},
   "outputs": [
    {
     "name": "stdout",
     "output_type": "stream",
     "text": [
      "Child's property=  200000\n"
     ]
    }
   ],
   "source": [
    "s2.display_property()"
   ]
  },
  {
   "cell_type": "code",
   "execution_count": 67,
   "metadata": {
    "collapsed": true
   },
   "outputs": [],
   "source": [
    "class Father2:\n",
    "    def __init__(self):\n",
    "        self.property = 800000\n",
    "        \n",
    "    def display_property(self):\n",
    "        print (\"Father's property= \", self.property)\n",
    "        \n",
    "class Son2(Father2):\n",
    "    def __init__(self):\n",
    "        self.property = 200000\n"
   ]
  },
  {
   "cell_type": "code",
   "execution_count": 68,
   "metadata": {
    "collapsed": true
   },
   "outputs": [],
   "source": [
    "s3 = Son2()"
   ]
  },
  {
   "cell_type": "code",
   "execution_count": 69,
   "metadata": {},
   "outputs": [
    {
     "name": "stdout",
     "output_type": "stream",
     "text": [
      "Father's property=  200000\n"
     ]
    }
   ],
   "source": [
    "s3.display_property()"
   ]
  },
  {
   "cell_type": "code",
   "execution_count": 71,
   "metadata": {
    "collapsed": true
   },
   "outputs": [],
   "source": [
    "# The super method \n",
    "# Multiple inheritance \n",
    "\n",
    "# Polymorphism"
   ]
  },
  {
   "cell_type": "code",
   "execution_count": null,
   "metadata": {
    "collapsed": true
   },
   "outputs": [],
   "source": []
  }
 ],
 "metadata": {
  "kernelspec": {
   "display_name": "Python 3",
   "language": "python",
   "name": "python3"
  },
  "language_info": {
   "codemirror_mode": {
    "name": "ipython",
    "version": 3
   },
   "file_extension": ".py",
   "mimetype": "text/x-python",
   "name": "python",
   "nbconvert_exporter": "python",
   "pygments_lexer": "ipython3",
   "version": "3.6.1"
  }
 },
 "nbformat": 4,
 "nbformat_minor": 2
}
