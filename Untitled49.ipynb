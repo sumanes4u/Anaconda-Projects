{
 "cells": [
  {
   "cell_type": "code",
   "execution_count": 4,
   "metadata": {},
   "outputs": [
    {
     "name": "stdout",
     "output_type": "stream",
     "text": [
      "ENter a +ve number0\n",
      "Entered not +ve\n"
     ]
    }
   ],
   "source": [
    "try:\n",
    "    num = int(input('ENter a +ve number'))\n",
    "    if num <= 0:\n",
    "        raise ValueError('Entered not +ve')\n",
    "        \n",
    "    else:\n",
    "        print('ENtered +ve number')\n",
    "except ValueError as e:\n",
    "    print (e)\n",
    "    "
   ]
  },
  {
   "cell_type": "code",
   "execution_count": 18,
   "metadata": {},
   "outputs": [
    {
     "data": {
      "text/plain": [
       "3"
      ]
     },
     "execution_count": 18,
     "metadata": {},
     "output_type": "execute_result"
    }
   ],
   "source": [
    "import random\n",
    "lst = [1,2,3,4]\n",
    "ran = random.choice(lst)\n",
    "ran"
   ]
  },
  {
   "cell_type": "code",
   "execution_count": 23,
   "metadata": {},
   "outputs": [
    {
     "name": "stdout",
     "output_type": "stream",
     "text": [
      "5\n",
      "78\n"
     ]
    }
   ],
   "source": [
    "for x in range(1,3):\n",
    "    print (random.randint(1,100))"
   ]
  },
  {
   "cell_type": "code",
   "execution_count": 24,
   "metadata": {},
   "outputs": [
    {
     "name": "stdout",
     "output_type": "stream",
     "text": [
      "Enter a naumesuman\n",
      "Invalid Name\n",
      "Enter a naumearun\n",
      "Correct name entered:\n"
     ]
    }
   ],
   "source": [
    "while True:\n",
    "    try:\n",
    "        names = ['arun','kiran','ramu']\n",
    "        name = input('Enter a naume')\n",
    "        \n",
    "        if name in names:\n",
    "            print ('Correct name entered:')\n",
    "            break\n",
    "        else:\n",
    "            raise Exception('Invalid Name')\n",
    "    except Exception as e:\n",
    "        print (e)\n",
    "    "
   ]
  },
  {
   "cell_type": "code",
   "execution_count": 27,
   "metadata": {},
   "outputs": [
    {
     "ename": "ModuleNotFoundError",
     "evalue": "No module named 'selenium'",
     "output_type": "error",
     "traceback": [
      "\u001b[1;31m---------------------------------------------------------------------------\u001b[0m",
      "\u001b[1;31mModuleNotFoundError\u001b[0m                       Traceback (most recent call last)",
      "\u001b[1;32m<ipython-input-27-8658ec3ce1af>\u001b[0m in \u001b[0;36m<module>\u001b[1;34m()\u001b[0m\n\u001b[1;32m----> 1\u001b[1;33m \u001b[1;32mfrom\u001b[0m \u001b[0mselenium\u001b[0m \u001b[1;32mimport\u001b[0m \u001b[0mselenium\u001b[0m\u001b[1;33m\u001b[0m\u001b[0m\n\u001b[0m",
      "\u001b[1;31mModuleNotFoundError\u001b[0m: No module named 'selenium'"
     ]
    }
   ],
   "source": [
    "from selenium import selenium"
   ]
  },
  {
   "cell_type": "code",
   "execution_count": null,
   "metadata": {},
   "outputs": [],
   "source": [
    "class customer(object):\n",
    "    def __init__(self,name):\n",
    "        self.name = name\n",
    "    def set_balance(self,balance = 0):\n",
    "        self.balance = balance\n",
    "    def withdraw(self,amount):\n",
    "        self.amount = amount\n",
    "        if self.amount > self.balance:\n",
    "            raise RuntimError('Entered amount is more than balance')\n",
    "        self.balance -= self.amount\n",
    "        return self.balance\n",
    "    def deposite(self,amount1):\n",
    "        self.amount1 = amount1\n",
    "        self.balance += self.amount1\n",
    "        return self.amount1\n",
    "            \n",
    "        \n",
    "        "
   ]
  },
  {
   "cell_type": "code",
   "execution_count": null,
   "metadata": {},
   "outputs": [],
   "source": [
    "a = 10\n",
    "a"
   ]
  },
  {
   "cell_type": "code",
   "execution_count": null,
   "metadata": {},
   "outputs": [],
   "source": []
  }
 ],
 "metadata": {
  "kernelspec": {
   "display_name": "Python 3",
   "language": "python",
   "name": "python3"
  },
  "language_info": {
   "codemirror_mode": {
    "name": "ipython",
    "version": 3
   },
   "file_extension": ".py",
   "mimetype": "text/x-python",
   "name": "python",
   "nbconvert_exporter": "python",
   "pygments_lexer": "ipython3",
   "version": "3.6.4"
  }
 },
 "nbformat": 4,
 "nbformat_minor": 2
}
