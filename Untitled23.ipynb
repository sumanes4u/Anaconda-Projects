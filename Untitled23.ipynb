{
 "cells": [
  {
   "cell_type": "code",
   "execution_count": 1,
   "metadata": {},
   "outputs": [
    {
     "data": {
      "text/plain": [
       "'C:\\\\Users\\\\ssamarthi\\\\AnacondaProjects\\\\SAHIL_TUTORIALS'"
      ]
     },
     "execution_count": 1,
     "metadata": {},
     "output_type": "execute_result"
    }
   ],
   "source": [
    "pwd"
   ]
  },
  {
   "cell_type": "code",
   "execution_count": 23,
   "metadata": {},
   "outputs": [
    {
     "name": "stdout",
     "output_type": "stream",
     "text": [
      "Enter Text:suman\n"
     ]
    }
   ],
   "source": [
    "with open('dumpfile','w') as f:\n",
    "    str = input('Enter Text:')\n",
    "    f.write(str)"
   ]
  },
  {
   "cell_type": "code",
   "execution_count": 24,
   "metadata": {},
   "outputs": [
    {
     "name": "stdout",
     "output_type": "stream",
     "text": [
      "suman\n"
     ]
    }
   ],
   "source": [
    "with open('dumpfile','r') as f1:\n",
    "    str = f1.read()\n",
    "    print(str) \n"
   ]
  },
  {
   "cell_type": "code",
   "execution_count": 32,
   "metadata": {},
   "outputs": [
    {
     "name": "stdout",
     "output_type": "stream",
     "text": [
      "Enter a text other than '@' in the input\n",
      "suman\n",
      "sanvith\n",
      "@\n"
     ]
    }
   ],
   "source": [
    "with open('dumpfile','w') as f:\n",
    "    print('Enter a text other than \\'@\\' in the input')\n",
    "    while str != '@':\n",
    "        str = input('')\n",
    "        if (str != '@'):\n",
    "            f.write(str+'\\n')\n",
    "            "
   ]
  },
  {
   "cell_type": "code",
   "execution_count": 33,
   "metadata": {},
   "outputs": [
    {
     "name": "stdout",
     "output_type": "stream",
     "text": [
      "suman\n",
      "sanvith\n",
      "\n"
     ]
    }
   ],
   "source": [
    "with open('dumpfile','r') as f:\n",
    "    str = f.read()\n",
    "    print(str)"
   ]
  },
  {
   "cell_type": "code",
   "execution_count": 45,
   "metadata": {},
   "outputs": [
    {
     "name": "stdout",
     "output_type": "stream",
     "text": [
      "Enter text with '@' at the end\n",
      "suman\n",
      "sanvith\n",
      "@\n",
      "14\n",
      "suman\n",
      "sanvith\n",
      "\n"
     ]
    }
   ],
   "source": [
    "with open('dumpfile','w') as f1:\n",
    "    print('Enter text with \\'@\\' at the end')\n",
    "    abc =''\n",
    "    while abc != '@':\n",
    "        abc = input('')\n",
    "        if (abc != '@'):\n",
    "            f1.write(abc+'\\n')\n",
    "with open('dumpfile','r') as f2:\n",
    "    str = f2.read()\n",
    "    print(len(str))\n",
    "    print(str)"
   ]
  },
  {
   "cell_type": "code",
   "execution_count": 44,
   "metadata": {},
   "outputs": [
    {
     "data": {
      "text/plain": [
       "4"
      ]
     },
     "execution_count": 44,
     "metadata": {},
     "output_type": "execute_result"
    }
   ],
   "source": [
    "str = [1,2,3,4]\n",
    "len(str)"
   ]
  },
  {
   "cell_type": "code",
   "execution_count": 57,
   "metadata": {},
   "outputs": [
    {
     "name": "stdout",
     "output_type": "stream",
     "text": [
      "Enter text with '@' at the end:\n",
      "suman\n",
      "@\n",
      "uman\n",
      "suman\n",
      "suman\n",
      "\n"
     ]
    }
   ],
   "source": [
    "with open('dummyfile','a+') as f3:\n",
    "    print('Enter text with \\'@\\' at the end:')\n",
    "    str = ''\n",
    "    while str != '@':\n",
    "        str = input('')\n",
    "        if (str != '@'):\n",
    "            f3.write(str+'\\n')\n",
    "    f3.seek(1,0)\n",
    "    str = f3.read()\n",
    "    print(str)"
   ]
  },
  {
   "cell_type": "code",
   "execution_count": 65,
   "metadata": {},
   "outputs": [
    {
     "name": "stdout",
     "output_type": "stream",
     "text": [
      "Enter text with '@' at the end\n",
      "suman\n",
      "@\n"
     ]
    },
    {
     "ename": "UnsupportedOperation",
     "evalue": "not readable",
     "output_type": "error",
     "traceback": [
      "\u001b[1;31m---------------------------------------------------------------------------\u001b[0m",
      "\u001b[1;31mUnsupportedOperation\u001b[0m                      Traceback (most recent call last)",
      "\u001b[1;32m<ipython-input-65-667ad480c260>\u001b[0m in \u001b[0;36m<module>\u001b[1;34m()\u001b[0m\n\u001b[0;32m      6\u001b[0m         \u001b[1;32mif\u001b[0m \u001b[1;33m(\u001b[0m\u001b[0mstr\u001b[0m \u001b[1;33m!=\u001b[0m \u001b[1;34m'@'\u001b[0m\u001b[1;33m)\u001b[0m\u001b[1;33m:\u001b[0m\u001b[1;33m\u001b[0m\u001b[0m\n\u001b[0;32m      7\u001b[0m             \u001b[0mfh\u001b[0m\u001b[1;33m.\u001b[0m\u001b[0mwrite\u001b[0m\u001b[1;33m(\u001b[0m\u001b[0mstr\u001b[0m\u001b[1;33m)\u001b[0m\u001b[1;33m\u001b[0m\u001b[0m\n\u001b[1;32m----> 8\u001b[1;33m     \u001b[0mstr\u001b[0m \u001b[1;33m=\u001b[0m \u001b[0mfh\u001b[0m\u001b[1;33m.\u001b[0m\u001b[0mread\u001b[0m\u001b[1;33m(\u001b[0m\u001b[1;33m)\u001b[0m\u001b[1;33m\u001b[0m\u001b[0m\n\u001b[0m\u001b[0;32m      9\u001b[0m     \u001b[0mprint\u001b[0m\u001b[1;33m(\u001b[0m\u001b[0mstr\u001b[0m\u001b[1;33m)\u001b[0m\u001b[1;33m\u001b[0m\u001b[0m\n",
      "\u001b[1;31mUnsupportedOperation\u001b[0m: not readable"
     ]
    }
   ],
   "source": [
    "with open('dumyfile1','w') as fh:\n",
    "    print('Enter text with \\'@\\' at the end')\n",
    "    str = ''\n",
    "    while str !='@':\n",
    "        str = input('')\n",
    "        if (str != '@'):\n",
    "            fh.write(str)\n",
    "    str = fh.read()\n",
    "    print(str)"
   ]
  },
  {
   "cell_type": "code",
   "execution_count": 64,
   "metadata": {
    "collapsed": true
   },
   "outputs": [],
   "source": [
    "fh.close()"
   ]
  },
  {
   "cell_type": "code",
   "execution_count": null,
   "metadata": {
    "collapsed": true
   },
   "outputs": [],
   "source": []
  }
 ],
 "metadata": {
  "kernelspec": {
   "display_name": "Python 3",
   "language": "python",
   "name": "python3"
  },
  "language_info": {
   "codemirror_mode": {
    "name": "ipython",
    "version": 3
   },
   "file_extension": ".py",
   "mimetype": "text/x-python",
   "name": "python",
   "nbconvert_exporter": "python",
   "pygments_lexer": "ipython3",
   "version": "3.6.1"
  }
 },
 "nbformat": 4,
 "nbformat_minor": 2
}
